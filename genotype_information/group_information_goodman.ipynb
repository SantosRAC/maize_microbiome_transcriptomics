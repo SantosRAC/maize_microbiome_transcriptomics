{
 "cells": [
  {
   "cell_type": "markdown",
   "metadata": {},
   "source": [
    "# Information about maize inbred genotypes\n",
    "\n",
    "I found two important references:\n",
    "\n",
    "* [Romay et al. 2013](https://link.springer.com/article/10.1186/gb-2013-14-6-r55)\n",
    "* [The original Goodman study](https://onlinelibrary.wiley.com/doi/full/10.1111/j.1365-313X.2005.02591.x)"
   ]
  },
  {
   "cell_type": "markdown",
   "metadata": {},
   "source": [
    "Importing the Romay supplementary table:"
   ]
  },
  {
   "cell_type": "code",
   "execution_count": 7,
   "metadata": {},
   "outputs": [
    {
     "data": {
      "text/html": [
       "<div>\n",
       "<style scoped>\n",
       "    .dataframe tbody tr th:only-of-type {\n",
       "        vertical-align: middle;\n",
       "    }\n",
       "\n",
       "    .dataframe tbody tr th {\n",
       "        vertical-align: top;\n",
       "    }\n",
       "\n",
       "    .dataframe thead th {\n",
       "        text-align: right;\n",
       "    }\n",
       "</style>\n",
       "<table border=\"1\" class=\"dataframe\">\n",
       "  <thead>\n",
       "    <tr style=\"text-align: right;\">\n",
       "      <th></th>\n",
       "      <th>Accesion N</th>\n",
       "      <th>N GBS samples</th>\n",
       "      <th>N Plants</th>\n",
       "      <th>Avg. IBS</th>\n",
       "      <th>% missing</th>\n",
       "      <th>Breeding program</th>\n",
       "      <th>Pop structure</th>\n",
       "    </tr>\n",
       "    <tr>\n",
       "      <th>Inbred line</th>\n",
       "      <th></th>\n",
       "      <th></th>\n",
       "      <th></th>\n",
       "      <th></th>\n",
       "      <th></th>\n",
       "      <th></th>\n",
       "      <th></th>\n",
       "    </tr>\n",
       "  </thead>\n",
       "  <tbody>\n",
       "    <tr>\n",
       "      <th>42</th>\n",
       "      <td>PI233312</td>\n",
       "      <td>1</td>\n",
       "      <td>1</td>\n",
       "      <td>NaN</td>\n",
       "      <td>0.47</td>\n",
       "      <td>Other</td>\n",
       "      <td>sweet corn</td>\n",
       "    </tr>\n",
       "    <tr>\n",
       "      <th>66</th>\n",
       "      <td>Ames26770</td>\n",
       "      <td>1</td>\n",
       "      <td>1</td>\n",
       "      <td>NaN</td>\n",
       "      <td>0.56</td>\n",
       "      <td>Other</td>\n",
       "      <td>unclassified</td>\n",
       "    </tr>\n",
       "    <tr>\n",
       "      <th>90</th>\n",
       "      <td>NSL30903</td>\n",
       "      <td>1</td>\n",
       "      <td>1</td>\n",
       "      <td>NaN</td>\n",
       "      <td>0.52</td>\n",
       "      <td>Other</td>\n",
       "      <td>unclassified</td>\n",
       "    </tr>\n",
       "    <tr>\n",
       "      <th>176</th>\n",
       "      <td>PI233313</td>\n",
       "      <td>1</td>\n",
       "      <td>1</td>\n",
       "      <td>NaN</td>\n",
       "      <td>0.67</td>\n",
       "      <td>Other</td>\n",
       "      <td>sweet corn</td>\n",
       "    </tr>\n",
       "    <tr>\n",
       "      <th>207</th>\n",
       "      <td>PI601005</td>\n",
       "      <td>2</td>\n",
       "      <td>2</td>\n",
       "      <td>0.996</td>\n",
       "      <td>0.50</td>\n",
       "      <td>ExPVP</td>\n",
       "      <td>non-stiff stalk</td>\n",
       "    </tr>\n",
       "  </tbody>\n",
       "</table>\n",
       "</div>"
      ],
      "text/plain": [
       "            Accesion N  N GBS samples  N Plants  Avg. IBS  % missing  \\\n",
       "Inbred line                                                            \n",
       "42            PI233312              1         1       NaN       0.47   \n",
       "66           Ames26770              1         1       NaN       0.56   \n",
       "90            NSL30903              1         1       NaN       0.52   \n",
       "176           PI233313              1         1       NaN       0.67   \n",
       "207           PI601005              2         2     0.996       0.50   \n",
       "\n",
       "            Breeding program    Pop structure  \n",
       "Inbred line                                    \n",
       "42                     Other       sweet corn  \n",
       "66                     Other     unclassified  \n",
       "90                     Other     unclassified  \n",
       "176                    Other       sweet corn  \n",
       "207                    ExPVP  non-stiff stalk  "
      ]
     },
     "execution_count": 7,
     "metadata": {},
     "output_type": "execute_result"
    }
   ],
   "source": [
    "import pandas as pd\n",
    "\n",
    "genotype_info_romay_df = pd.read_csv(\"/home/rsantos/Repositories/maize_microbiome_transcriptomics/genoytype_information/gb-2013-14-6-r55-S1.csv\", sep='\\t')\n",
    "\n",
    "genotype_info_romay_df.set_index('Inbred line', inplace=True)\n",
    "genotype_info_romay_df.head()"
   ]
  },
  {
   "cell_type": "code",
   "execution_count": null,
   "metadata": {},
   "outputs": [],
   "source": []
  }
 ],
 "metadata": {
  "kernelspec": {
   "display_name": ".venv",
   "language": "python",
   "name": "python3"
  },
  "language_info": {
   "codemirror_mode": {
    "name": "ipython",
    "version": 3
   },
   "file_extension": ".py",
   "mimetype": "text/x-python",
   "name": "python",
   "nbconvert_exporter": "python",
   "pygments_lexer": "ipython3",
   "version": "3.10.12"
  }
 },
 "nbformat": 4,
 "nbformat_minor": 2
}
