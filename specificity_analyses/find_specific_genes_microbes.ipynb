{
 "cells": [
  {
   "cell_type": "markdown",
   "metadata": {},
   "source": [
    "# Idenfiying genes, microbes, and gene-microbial correlations specific to certain groups of genotypes\n"
   ]
  },
  {
   "cell_type": "markdown",
   "metadata": {},
   "source": [
    "Filtering steps (low abundance and low expression, or low variance genes/OTUs) were described in another notebook.\n",
    "Here, I (RACS) use all filtered matrices for running correlations for each group of maize genotypes."
   ]
  },
  {
   "cell_type": "markdown",
   "metadata": {},
   "source": [
    "Importing the within sample (RPKM, TPM, CPM) and between sample (TMM, UQ, CTF, CUF) normalization matrices for day and night:"
   ]
  },
  {
   "cell_type": "code",
   "execution_count": 5,
   "metadata": {},
   "outputs": [],
   "source": [
    "import pandas as pd\n",
    "\n",
    "# Importing within sample normalized data after filtering\n",
    "#kremling_expression_v5_day_tpm_filtered_cv_filtered = pd.read_csv('/home/santosrac/Repositories/maize_microbiome_transcriptomics/rnaseq_kremling2018/quantification/kremling_expression_v5_day_tpm_filtered_cv_filtered.tsv',\n",
    "kremling_expression_v5_day_tpm_filtered_cv_filtered = pd.read_csv('/home/rsantos/Repositories/maize_microbiome_transcriptomics/rnaseq_kremling2018/quantification/kremling_expression_v5_day_tpm_filtered_cv_filtered.tsv',\n",
    "                            sep='\\t')\n",
    "kremling_expression_v5_day_tpm_filtered_cv_filtered.set_index('Name', inplace=True)\n",
    "#kremling_expression_v5_night_tpm_filtered_cv_filtered = pd.read_csv('/home/santosrac/Repositories/maize_microbiome_transcriptomics/rnaseq_kremling2018/quantification/kremling_expression_v5_night_tpm_filtered_cv_filtered.tsv',\n",
    "kremling_expression_v5_night_tpm_filtered_cv_filtered = pd.read_csv('/home/rsantos/Repositories/maize_microbiome_transcriptomics/rnaseq_kremling2018/quantification/kremling_expression_v5_night_tpm_filtered_cv_filtered.tsv',\n",
    "                            sep='\\t')\n",
    "kremling_expression_v5_night_tpm_filtered_cv_filtered.set_index('Name', inplace=True)\n",
    "#kremling_expression_v5_day_rpkm_filtered_cv_filtered = pd.read_csv('/home/santosrac/Repositories/maize_microbiome_transcriptomics/rnaseq_kremling2018/quantification/kremling_expression_v5_day_rpkm_filtered_cv_filtered.tsv',\n",
    "kremling_expression_v5_day_rpkm_filtered_cv_filtered = pd.read_csv('/home/rsantos/Repositories/maize_microbiome_transcriptomics/rnaseq_kremling2018/quantification/kremling_expression_v5_day_rpkm_filtered_cv_filtered.tsv',\n",
    "                            sep='\\t')\n",
    "kremling_expression_v5_day_rpkm_filtered_cv_filtered.set_index('Name', inplace=True)\n",
    "#kremling_expression_v5_night_rpkm_filtered_cv_filtered = pd.read_csv('/home/santosrac/Repositories/maize_microbiome_transcriptomics/rnaseq_kremling2018/quantification/kremling_expression_v5_night_rpkm_filtered_cv_filtered.tsv',\n",
    "kremling_expression_v5_night_rpkm_filtered_cv_filtered = pd.read_csv('/home/rsantos/Repositories/maize_microbiome_transcriptomics/rnaseq_kremling2018/quantification/kremling_expression_v5_night_rpkm_filtered_cv_filtered.tsv',\n",
    "                            sep='\\t')\n",
    "kremling_expression_v5_night_rpkm_filtered_cv_filtered.set_index('Name', inplace=True)\n",
    "#kremling_expression_v5_day_cpm_filtered_cv_filtered = pd.read_csv('/home/santosrac/Repositories/maize_microbiome_transcriptomics/rnaseq_kremling2018/quantification/kremling_expression_v5_day_cpm_filtered_cv_filtered.tsv',\n",
    "kremling_expression_v5_day_cpm_filtered_cv_filtered = pd.read_csv('/home/rsantos/Repositories/maize_microbiome_transcriptomics/rnaseq_kremling2018/quantification/kremling_expression_v5_day_cpm_filtered_cv_filtered.tsv',\n",
    "                            sep='\\t')\n",
    "kremling_expression_v5_day_cpm_filtered_cv_filtered.set_index('Name', inplace=True)\n",
    "#kremling_expression_v5_night_cpm_filtered_cv_filtered = pd.read_csv('/home/santosrac/Repositories/maize_microbiome_transcriptomics/rnaseq_kremling2018/quantification/kremling_expression_v5_night_cpm_filtered_cv_filtered.tsv',\n",
    "kremling_expression_v5_night_cpm_filtered_cv_filtered = pd.read_csv('/home/rsantos/Repositories/maize_microbiome_transcriptomics/rnaseq_kremling2018/quantification/kremling_expression_v5_night_cpm_filtered_cv_filtered.tsv',\n",
    "                            sep='\\t')\n",
    "kremling_expression_v5_night_cpm_filtered_cv_filtered.set_index('Name', inplace=True)\n",
    "\n",
    "# Importing between sample normalized data after filtering\n",
    "#kremling_expression_v5_day_tmm_filtered_cv_filtered = pd.read_csv('/home/santosrac/Repositories/maize_microbiome_transcriptomics/rnaseq_kremling2018/quantification/kremling_expression_v5_day_tmm_filtered_cv_filtered.tsv',\n",
    "kremling_expression_v5_day_tmm_filtered_cv_filtered = pd.read_csv('/home/rsantos/Repositories/maize_microbiome_transcriptomics/rnaseq_kremling2018/quantification/kremling_expression_v5_day_tmm_filtered_cv_filtered.tsv',\n",
    "                            sep='\\t')\n",
    "kremling_expression_v5_day_tmm_filtered_cv_filtered.set_index('Name', inplace=True)\n",
    "#kremling_expression_v5_night_tmm_filtered_cv_filtered = pd.read_csv('/home/santosrac/Repositories/maize_microbiome_transcriptomics/rnaseq_kremling2018/quantification/kremling_expression_v5_night_tmm_filtered_cv_filtered.tsv',\n",
    "kremling_expression_v5_night_tmm_filtered_cv_filtered = pd.read_csv('/home/rsantos/Repositories/maize_microbiome_transcriptomics/rnaseq_kremling2018/quantification/kremling_expression_v5_night_tmm_filtered_cv_filtered.tsv',\n",
    "                            sep='\\t')\n",
    "kremling_expression_v5_night_tmm_filtered_cv_filtered.set_index('Name', inplace=True)\n",
    "kremling_expression_v5_day_uq_filtered_cv_filtered = pd.read_csv('/home/rsantos/Repositories/maize_microbiome_transcriptomics/rnaseq_kremling2018/quantification/kremling_expression_v5_day_uq_filtered_cv_filtered.tsv',\n",
    "#kremling_expression_v5_day_uq_filtered_cv_filtered = pd.read_csv('/home/santosrac/Repositories/maize_microbiome_transcriptomics/rnaseq_kremling2018/quantification/kremling_expression_v5_day_uq_filtered_cv_filtered.tsv',\n",
    "                            sep='\\t')\n",
    "kremling_expression_v5_day_uq_filtered_cv_filtered.set_index('Name', inplace=True)\n",
    "#kremling_expression_v5_night_uq_filtered_cv_filtered = pd.read_csv('/home/santosrac/Repositories/maize_microbiome_transcriptomics/rnaseq_kremling2018/quantification/kremling_expression_v5_night_uq_filtered_cv_filtered.tsv',\n",
    "kremling_expression_v5_night_uq_filtered_cv_filtered = pd.read_csv('/home/rsantos/Repositories/maize_microbiome_transcriptomics/rnaseq_kremling2018/quantification/kremling_expression_v5_night_uq_filtered_cv_filtered.tsv',\n",
    "                            sep='\\t')\n",
    "kremling_expression_v5_night_uq_filtered_cv_filtered.set_index('Name', inplace=True)\n",
    "#kremling_expression_v5_day_ctf_filtered_cv_filtered = pd.read_csv('/home/santosrac/Repositories/maize_microbiome_transcriptomics/rnaseq_kremling2018/quantification/kremling_expression_v5_day_ctf_filtered_cv_filtered.tsv',\n",
    "kremling_expression_v5_day_ctf_filtered_cv_filtered = pd.read_csv('/home/rsantos/Repositories/maize_microbiome_transcriptomics/rnaseq_kremling2018/quantification/kremling_expression_v5_day_ctf_filtered_cv_filtered.tsv',\n",
    "                            sep='\\t')\n",
    "kremling_expression_v5_day_ctf_filtered_cv_filtered.set_index('Name', inplace=True)\n",
    "#kremling_expression_v5_night_ctf_filtered_cv_filtered = pd.read_csv('/home/santosrac/Repositories/maize_microbiome_transcriptomics/rnaseq_kremling2018/quantification/kremling_expression_v5_night_ctf_filtered_cv_filtered.tsv',\n",
    "kremling_expression_v5_night_ctf_filtered_cv_filtered = pd.read_csv('/home/rsantos/Repositories/maize_microbiome_transcriptomics/rnaseq_kremling2018/quantification/kremling_expression_v5_night_ctf_filtered_cv_filtered.tsv',\n",
    "                            sep='\\t')\n",
    "kremling_expression_v5_night_ctf_filtered_cv_filtered.set_index('Name', inplace=True)\n",
    "#kremling_expression_v5_day_cuf_filtered_cv_filtered = pd.read_csv('/home/santosrac/Repositories/maize_microbiome_transcriptomics/rnaseq_kremling2018/quantification/kremling_expression_v5_day_cuf_filtered_cv_filtered.tsv',\n",
    "kremling_expression_v5_day_cuf_filtered_cv_filtered = pd.read_csv('/home/rsantos/Repositories/maize_microbiome_transcriptomics/rnaseq_kremling2018/quantification/kremling_expression_v5_day_cuf_filtered_cv_filtered.tsv',\n",
    "                            sep='\\t')\n",
    "kremling_expression_v5_day_cuf_filtered_cv_filtered.set_index('Name', inplace=True)\n",
    "#kremling_expression_v5_night_cuf_filtered_cv_filtered = pd.read_csv('/home/santosrac/Repositories/maize_microbiome_transcriptomics/rnaseq_kremling2018/quantification/kremling_expression_v5_night_cuf_filtered_cv_filtered.tsv',\n",
    "kremling_expression_v5_night_cuf_filtered_cv_filtered = pd.read_csv('/home/rsantos/Repositories/maize_microbiome_transcriptomics/rnaseq_kremling2018/quantification/kremling_expression_v5_night_cuf_filtered_cv_filtered.tsv',\n",
    "                            sep='\\t')\n",
    "kremling_expression_v5_night_cuf_filtered_cv_filtered.set_index('Name', inplace=True)"
   ]
  },
  {
   "cell_type": "markdown",
   "metadata": {},
   "source": [
    "Importing OTU (CPM) matrices for day and night:"
   ]
  },
  {
   "cell_type": "code",
   "execution_count": 6,
   "metadata": {},
   "outputs": [],
   "source": [
    "# Importing OTU data after filtering\n",
    "#otu_table_merged_day_cpm_filtered_cv_filtered = pd.read_csv('/home/santosrac/Repositories/maize_microbiome_transcriptomics/16S_wallace2018/combine_day_night_samples/otu_table_merged_day_cpm_filtered_cv_filtered.tsv',\n",
    "otu_table_merged_day_cpm_filtered_cv_filtered = pd.read_csv('/home/rsantos/Repositories/maize_microbiome_transcriptomics/16S_wallace2018/combine_day_night_samples/otu_table_merged_day_cpm_filtered_cv_filtered.tsv',\n",
    "                            sep='\\t')\n",
    "otu_table_merged_day_cpm_filtered_cv_filtered.set_index('OTU ID', inplace=True)\n",
    "#otu_table_merged_night_cpm_filtered_cv_filtered = pd.read_csv('/home/santosrac/Repositories/maize_microbiome_transcriptomics/16S_wallace2018/combine_day_night_samples/otu_table_merged_night_cpm_filtered_cv_filtered.tsv',\n",
    "otu_table_merged_night_cpm_filtered_cv_filtered = pd.read_csv('/home/rsantos/Repositories/maize_microbiome_transcriptomics/16S_wallace2018/combine_day_night_samples/otu_table_merged_night_cpm_filtered_cv_filtered.tsv',\n",
    "                            sep='\\t')\n",
    "otu_table_merged_night_cpm_filtered_cv_filtered.set_index('OTU ID', inplace=True)"
   ]
  },
  {
   "cell_type": "markdown",
   "metadata": {},
   "source": [
    "## Importing groups of genotypes"
   ]
  },
  {
   "cell_type": "code",
   "execution_count": 7,
   "metadata": {},
   "outputs": [
    {
     "data": {
      "text/html": [
       "<div>\n",
       "<style scoped>\n",
       "    .dataframe tbody tr th:only-of-type {\n",
       "        vertical-align: middle;\n",
       "    }\n",
       "\n",
       "    .dataframe tbody tr th {\n",
       "        vertical-align: top;\n",
       "    }\n",
       "\n",
       "    .dataframe thead th {\n",
       "        text-align: right;\n",
       "    }\n",
       "</style>\n",
       "<table border=\"1\" class=\"dataframe\">\n",
       "  <thead>\n",
       "    <tr style=\"text-align: right;\">\n",
       "      <th></th>\n",
       "      <th>Genotype</th>\n",
       "      <th>Accesion N</th>\n",
       "      <th>N GBS samples</th>\n",
       "      <th>N Plants</th>\n",
       "      <th>Avg. IBS</th>\n",
       "      <th>% missing</th>\n",
       "      <th>Breeding program</th>\n",
       "      <th>Pop structure</th>\n",
       "    </tr>\n",
       "    <tr>\n",
       "      <th>Plot_Day</th>\n",
       "      <th></th>\n",
       "      <th></th>\n",
       "      <th></th>\n",
       "      <th></th>\n",
       "      <th></th>\n",
       "      <th></th>\n",
       "      <th></th>\n",
       "      <th></th>\n",
       "    </tr>\n",
       "  </thead>\n",
       "  <tbody>\n",
       "    <tr>\n",
       "      <th>14A0309_26</th>\n",
       "      <td>33-16</td>\n",
       "      <td>Ames26771</td>\n",
       "      <td>4.0</td>\n",
       "      <td>3.0</td>\n",
       "      <td>0.998</td>\n",
       "      <td>0.34</td>\n",
       "      <td>Other</td>\n",
       "      <td>unclassified</td>\n",
       "    </tr>\n",
       "    <tr>\n",
       "      <th>14A0233_8</th>\n",
       "      <td>38-11</td>\n",
       "      <td>Ames26604</td>\n",
       "      <td>6.0</td>\n",
       "      <td>5.0</td>\n",
       "      <td>0.992</td>\n",
       "      <td>0.21</td>\n",
       "      <td>Other</td>\n",
       "      <td>unclassified</td>\n",
       "    </tr>\n",
       "    <tr>\n",
       "      <th>14A0079_26</th>\n",
       "      <td>4226</td>\n",
       "      <td>NSL30904</td>\n",
       "      <td>4.0</td>\n",
       "      <td>3.0</td>\n",
       "      <td>0.998</td>\n",
       "      <td>0.29</td>\n",
       "      <td>Other</td>\n",
       "      <td>unclassified</td>\n",
       "    </tr>\n",
       "    <tr>\n",
       "      <th>14A0311_8</th>\n",
       "      <td>4722</td>\n",
       "      <td>PI587130</td>\n",
       "      <td>3.0</td>\n",
       "      <td>2.0</td>\n",
       "      <td>0.998</td>\n",
       "      <td>0.39</td>\n",
       "      <td>Other</td>\n",
       "      <td>unclassified</td>\n",
       "    </tr>\n",
       "    <tr>\n",
       "      <th>14A0021_8</th>\n",
       "      <td>A188</td>\n",
       "      <td>Ames22443</td>\n",
       "      <td>8.0</td>\n",
       "      <td>7.0</td>\n",
       "      <td>0.996</td>\n",
       "      <td>0.29</td>\n",
       "      <td>Minnesota</td>\n",
       "      <td>unclassified</td>\n",
       "    </tr>\n",
       "  </tbody>\n",
       "</table>\n",
       "</div>"
      ],
      "text/plain": [
       "           Genotype Accesion N  N GBS samples  N Plants  Avg. IBS  % missing  \\\n",
       "Plot_Day                                                                       \n",
       "14A0309_26    33-16  Ames26771            4.0       3.0     0.998       0.34   \n",
       "14A0233_8     38-11  Ames26604            6.0       5.0     0.992       0.21   \n",
       "14A0079_26     4226   NSL30904            4.0       3.0     0.998       0.29   \n",
       "14A0311_8      4722   PI587130            3.0       2.0     0.998       0.39   \n",
       "14A0021_8      A188  Ames22443            8.0       7.0     0.996       0.29   \n",
       "\n",
       "           Breeding program Pop structure  \n",
       "Plot_Day                                   \n",
       "14A0309_26            Other  unclassified  \n",
       "14A0233_8             Other  unclassified  \n",
       "14A0079_26            Other  unclassified  \n",
       "14A0311_8             Other  unclassified  \n",
       "14A0021_8         Minnesota  unclassified  "
      ]
     },
     "execution_count": 7,
     "metadata": {},
     "output_type": "execute_result"
    }
   ],
   "source": [
    "#wallace_et_al_2018_group_assignments_romay2013 = pd.read_csv('/home/santosrac/Repositories/maize_microbiome_transcriptomics/genotype_information/wallace_et_al_2018_group_assignments_romay2013.tsv',\n",
    "wallace_et_al_2018_group_assignments_romay2013 = pd.read_csv('/home/rsantos/Repositories/maize_microbiome_transcriptomics/genotype_information/wallace_et_al_2018_group_assignments_romay2013.tsv',\n",
    "                                                             sep='\\t')\n",
    "wallace_et_al_2018_group_assignments_romay2013.set_index('Plot_Day', inplace=True)\n",
    "wallace_et_al_2018_group_assignments_romay2013.head()"
   ]
  },
  {
   "cell_type": "markdown",
   "metadata": {},
   "source": [
    "## Identifying specific microbes and genes"
   ]
  },
  {
   "cell_type": "markdown",
   "metadata": {},
   "source": [
    "Specificity metrics were used from CoNekT Grasses (originally in [CoNekT](https://github.com/sepro/CoNekT)):"
   ]
  },
  {
   "cell_type": "code",
   "execution_count": 3,
   "metadata": {},
   "outputs": [],
   "source": [
    "from statistics import mean\n",
    "import math\n",
    "from math import sqrt, log2\n",
    "from bisect import bisect\n",
    "\n",
    "def tau(values):\n",
    "    \"\"\"\n",
    "    Calculates the Tau value for a list of expression values\n",
    "\n",
    "    :param dist: list of values\n",
    "    :return: tau value\n",
    "    \"\"\"\n",
    "    n = len(values)                   # number of values\n",
    "    mxi = max(values)                 # max value\n",
    "\n",
    "    if mxi > 0:\n",
    "        t = sum([1 - (x/mxi) for x in values])/(n - 1)\n",
    "\n",
    "        return t\n",
    "    else:\n",
    "        return None\n",
    "\n",
    "def dot_prod(a, b):\n",
    "    \"\"\"\n",
    "    Calculates the dot product of two lists with values\n",
    "\n",
    "    :param a: first list\n",
    "    :param b: second list\n",
    "    :return: dot product (a . b)\n",
    "    \"\"\"\n",
    "    return sum([i*j for (i, j) in zip(a, b)])\n",
    "\n",
    "def norm(a):\n",
    "    \"\"\"\n",
    "    Calculates the Frobenius norm for a list of values\n",
    "\n",
    "    :param a: list of values\n",
    "    :return: the Frobenius norm\n",
    "    \"\"\"\n",
    "    return sqrt(sum([i**2 for i in a]))\n",
    "\n",
    "def expression_specificity(condition, profile):\n",
    "\n",
    "    values = [v for k, v in profile.items()]\n",
    "    vector = [v if k == condition else 0 for k, v in profile.items()]\n",
    "\n",
    "    dot_product = dot_prod(values, vector)\n",
    "\n",
    "    mul_len = norm(values) * norm(vector)\n",
    "\n",
    "    return dot_product/mul_len if mul_len != 0 else 0\n",
    "\n",
    "def entropy(dist):\n",
    "    \"\"\"\n",
    "    Calculates the entropy for a given distribution (!)\n",
    "\n",
    "    :param dist: list with the counts for each bin\n",
    "    :return: entropy\n",
    "    \"\"\"\n",
    "    e = 0\n",
    "    l = sum(dist)\n",
    "\n",
    "    for d in dist:\n",
    "        d_x = d/l\n",
    "        if d_x > 0:\n",
    "            e += - d_x*log2(d_x)\n",
    "\n",
    "    return e\n",
    "\n",
    "def entropy_from_values(values, num_bins=20):\n",
    "    \"\"\"\n",
    "    builds the distribution and calculates the entropy for a list of values\n",
    "\n",
    "\n",
    "    :param values: list of values\n",
    "    :param num_bins: number of bins to generate for the distribution, default 20\n",
    "    :return: entropy\n",
    "    \"\"\"\n",
    "\n",
    "    hist = []\n",
    "\n",
    "    bins = [b/num_bins for b in range(0, num_bins)]\n",
    "\n",
    "    v_max = max(values)\n",
    "\n",
    "    if v_max > 0:\n",
    "        n_values = [v/v_max for v in values]\n",
    "        hist = [0] * num_bins\n",
    "\n",
    "        for v in n_values:\n",
    "            b = bisect(bins, v)\n",
    "            hist[b-1] += 1\n",
    "\n",
    "    return entropy(hist)"
   ]
  },
  {
   "cell_type": "markdown",
   "metadata": {},
   "source": [
    "Getting unique values in pop structure column:"
   ]
  },
  {
   "cell_type": "code",
   "execution_count": 8,
   "metadata": {},
   "outputs": [
    {
     "name": "stdout",
     "output_type": "stream",
     "text": [
      "['unclassified' 'non-stiff stalk' 'stiff stalk' 'tropical' nan 'popcorn'\n",
      " 'sweet corn' 'landraces']\n"
     ]
    }
   ],
   "source": [
    "unique_values = wallace_et_al_2018_group_assignments_romay2013['Pop structure'].unique()\n",
    "print(unique_values)"
   ]
  },
  {
   "cell_type": "markdown",
   "metadata": {},
   "source": [
    "Creating dictionary that will be needed with associations between samples (genotypes) and pop structure:"
   ]
  },
  {
   "cell_type": "code",
   "execution_count": 73,
   "metadata": {},
   "outputs": [],
   "source": [
    "# Calculate average\n",
    "profile_condition_means = {}\n",
    "\n",
    "for gene in kremling_expression_v5_day_tpm_filtered_cv_filtered.index:\n",
    "    profile_condition_means[gene] = {}\n",
    "    for condition in unique_values:\n",
    "        condition_indices_intersect = set(wallace_et_al_2018_group_assignments_romay2013[wallace_et_al_2018_group_assignments_romay2013['Pop structure']==condition].index).intersection(set(kremling_expression_v5_day_tpm_filtered_cv_filtered.columns))\n",
    "        profile_condition_means[gene][condition] = kremling_expression_v5_day_tpm_filtered_cv_filtered.loc[gene].loc[list(condition_indices_intersect)].mean()\n",
    "        if math.isnan(profile_condition_means[gene][condition]):\n",
    "            del profile_condition_means[gene][condition]\n",
    "    profile_condition_means[gene]['tau'] = tau([v for v in profile_condition_means[gene].values()])"
   ]
  },
  {
   "cell_type": "code",
   "execution_count": 80,
   "metadata": {},
   "outputs": [
    {
     "name": "stdout",
     "output_type": "stream",
     "text": [
      "102\n"
     ]
    }
   ],
   "source": [
    "high_tau_count = 0\n",
    "\n",
    "for gene in profile_condition_means.keys():\n",
    "    if profile_condition_means[gene]['tau'] > 0.7:\n",
    "        #print(profile_condition_means[gene]['tau'])\n",
    "        high_tau_count += 1\n",
    "\n",
    "print(high_tau_count)"
   ]
  },
  {
   "cell_type": "code",
   "execution_count": 81,
   "metadata": {},
   "outputs": [],
   "source": [
    "# Calculate average\n",
    "profile_condition_means = {}\n",
    "\n",
    "for gene in otu_table_merged_day_cpm_filtered_cv_filtered.index:\n",
    "    profile_condition_means[gene] = {}\n",
    "    for condition in unique_values:\n",
    "        condition_indices_intersect = set(wallace_et_al_2018_group_assignments_romay2013[wallace_et_al_2018_group_assignments_romay2013['Pop structure']==condition].index).intersection(set(otu_table_merged_day_cpm_filtered_cv_filtered.columns))\n",
    "        profile_condition_means[gene][condition] = otu_table_merged_day_cpm_filtered_cv_filtered.loc[gene].loc[list(condition_indices_intersect)].mean()\n",
    "        if math.isnan(profile_condition_means[gene][condition]):\n",
    "            del profile_condition_means[gene][condition]\n",
    "    profile_condition_means[gene]['tau'] = tau([v for v in profile_condition_means[gene].values()])"
   ]
  },
  {
   "cell_type": "code",
   "execution_count": 82,
   "metadata": {},
   "outputs": [
    {
     "name": "stdout",
     "output_type": "stream",
     "text": [
      "1827\n"
     ]
    }
   ],
   "source": [
    "high_tau_count = 0\n",
    "\n",
    "for gene in profile_condition_means.keys():\n",
    "    if profile_condition_means[gene]['tau'] > 0.7:\n",
    "        #print(profile_condition_means[gene]['tau'])\n",
    "        high_tau_count += 1\n",
    "\n",
    "print(high_tau_count)"
   ]
  }
 ],
 "metadata": {
  "kernelspec": {
   "display_name": ".venv",
   "language": "python",
   "name": "python3"
  },
  "language_info": {
   "codemirror_mode": {
    "name": "ipython",
    "version": 3
   },
   "file_extension": ".py",
   "mimetype": "text/x-python",
   "name": "python",
   "nbconvert_exporter": "python",
   "pygments_lexer": "ipython3",
   "version": "3.10.12"
  }
 },
 "nbformat": 4,
 "nbformat_minor": 2
}
