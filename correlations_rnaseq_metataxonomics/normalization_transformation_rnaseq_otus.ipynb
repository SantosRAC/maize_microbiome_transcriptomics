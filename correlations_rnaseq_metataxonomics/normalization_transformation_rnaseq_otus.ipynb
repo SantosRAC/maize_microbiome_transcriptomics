{
 "cells": [
  {
   "cell_type": "markdown",
   "metadata": {},
   "source": [
    "# Summary of methods used in this work\n",
    "\n",
    "Several methods for normalization and transformation of RNAseq will be tested from [Johnson and Krishnan 2022](https://genomebiology.biomedcentral.com/articles/10.1186/s13059-021-02568-9). A figure describing their analysis pipeline is [here](https://genomebiology.biomedcentral.com/articles/10.1186/s13059-021-02568-9/figures/1).\n",
    "\n",
    "\n",
    "## Filtering lowly expressed genes and lowly abundant OTUs\n",
    "\n",
    "\n",
    "\n",
    "\n",
    "## Normalization methods for RNAseq and metataxonomics\n",
    "\n",
    "\n",
    "| Data type      | Normalization         | Normalization category    | Condition  |\n",
    "|----------------|-----------------------|---------------------------|------------|\n",
    "| Metataxonomics | Raw counts            |   | Joined D and N |\n",
    "| Metataxonomics | CPM                   |   | Joined D and N |\n",
    "| Metataxonomics | Relative abundance    |   | Joined D and N |\n",
    "| Transcriptomics | Estimated counts     |   | D |\n",
    "| Transcriptomics | CPM                  | Within sample  | D |\n",
    "| Transcriptomics | TPM                  | Within sample  | D |\n",
    "| Transcriptomics | TMM                  | Between sample  | D |\n",
    "| Transcriptomics | RPKM                 | Within sample  | D |\n",
    "| Transcriptomics | UQ                   | Between sample  | D |\n",
    "| Transcriptomics | CTF                  | Between sample  | D |\n",
    "| Transcriptomics | CUF                  | Between sample  | D |\n",
    "| Transcriptomics | QNT                  | Between sample | D |\n",
    "| Transcriptomics | Estimated counts     |   | N |\n",
    "| Transcriptomics | CPM                  | Within sample  | N |\n",
    "| Transcriptomics | TPM                  | Within sample  | N |\n",
    "| Transcriptomics | TMM                  | Between sample  | N |\n",
    "| Transcriptomics | RPKM                 | Within sample  | N |\n",
    "| Transcriptomics | UQ                   | Between sample  | N |\n",
    "| Transcriptomics | CTF                  | Between sample  | N |\n",
    "| Transcriptomics | CUF                  | Between sample  | N |\n",
    "| Transcriptomics | QNT                  | Between sample | N |\n",
    "\n",
    "\n",
    "## Data transformation\n",
    "\n",
    "\n",
    "| Data type      | Transformation                             | Reference |\n",
    "|----------------|--------------------------------------------|-----------|\n",
    "| Transcriptomics | asinh                                     | [Johnson and Krishnan 2022](https://genomebiology.biomedcentral.com/articles/10.1186/s13059-021-02568-9) |\n",
    "| Transcriptomics | Variance stabilizing transformation (VST) | DESeq2; used in [Priya et al 2022](https://www.nature.com/articles/s41564-022-01121-z) |\n",
    "\n",
    "## Filtering low variance (expression or OTUs)\n",
    "\n",
    "\n",
    "[Priya et al 2022](https://www.nature.com/articles/s41564-022-01121-z) used 25% quantile as cutoff for gene expression analysis.\n",
    "\n"
   ]
  },
  {
   "cell_type": "markdown",
   "metadata": {},
   "source": [
    "# Normalization of RNAseq data"
   ]
  },
  {
   "cell_type": "markdown",
   "metadata": {},
   "source": [
    "## Importing matrices"
   ]
  },
  {
   "cell_type": "code",
   "execution_count": 14,
   "metadata": {},
   "outputs": [
    {
     "name": "stdout",
     "output_type": "stream",
     "text": [
      "(39096, 228)\n",
      "(39096, 176)\n"
     ]
    }
   ],
   "source": [
    "import pandas as pd\n",
    "\n",
    "kremling_raw_expression_v5_night = pd.read_csv('/home/rsantos/Repositories/maize_microbiome_transcriptomics/correlations_rnaseq_metataxonomics/kremling_expression_v5_night.tsv',\n",
    "                                           sep='\\t')\n",
    "kremling_raw_expression_v5_night.set_index('Name', inplace=True)\n",
    "\n",
    "kremling_raw_expression_v5_day = pd.read_csv('/home/rsantos/Repositories/maize_microbiome_transcriptomics/correlations_rnaseq_metataxonomics/kremling_expression_v5_day.tsv',\n",
    "                                           sep='\\t')\n",
    "kremling_raw_expression_v5_day.set_index('Name', inplace=True)\n",
    "print(kremling_raw_expression_v5_night.shape)\n",
    "print(kremling_raw_expression_v5_day.shape)"
   ]
  },
  {
   "cell_type": "markdown",
   "metadata": {},
   "source": [
    "## Importing transcript length"
   ]
  },
  {
   "cell_type": "markdown",
   "metadata": {},
   "source": [
    "Several methods for normalization of RNAseq are implemented in the [bioinfokit Python library](https://github.com/reneshbedre/bioinfokit)."
   ]
  },
  {
   "cell_type": "markdown",
   "metadata": {},
   "source": [
    "`infoseq` from the [EMBOSS:6.6.0.0 package](https://emboss.sourceforge.net/download/) was used to get transcript lenght for normalization methods that require this information (e.g., `rpkm` or `fpkm`):\n",
    "\n",
    "```bash\n",
    "infoseq -only -name -length Zma2_rnas.fa > Zmays_Zm_B73_REFERENCE_NAM_5_0_55_transcripts_PrimaryTranscriptOnly_length.txt\n",
    "```"
   ]
  },
  {
   "cell_type": "code",
   "execution_count": 11,
   "metadata": {},
   "outputs": [
    {
     "data": {
      "text/html": [
       "<div>\n",
       "<style scoped>\n",
       "    .dataframe tbody tr th:only-of-type {\n",
       "        vertical-align: middle;\n",
       "    }\n",
       "\n",
       "    .dataframe tbody tr th {\n",
       "        vertical-align: top;\n",
       "    }\n",
       "\n",
       "    .dataframe thead th {\n",
       "        text-align: right;\n",
       "    }\n",
       "</style>\n",
       "<table border=\"1\" class=\"dataframe\">\n",
       "  <thead>\n",
       "    <tr style=\"text-align: right;\">\n",
       "      <th></th>\n",
       "      <th>Length</th>\n",
       "    </tr>\n",
       "    <tr>\n",
       "      <th>Name</th>\n",
       "      <th></th>\n",
       "    </tr>\n",
       "  </thead>\n",
       "  <tbody>\n",
       "    <tr>\n",
       "      <th>Zm00001eb441400_T001</th>\n",
       "      <td>321</td>\n",
       "    </tr>\n",
       "    <tr>\n",
       "      <th>Zm00001eb442560_T001</th>\n",
       "      <td>524</td>\n",
       "    </tr>\n",
       "    <tr>\n",
       "      <th>Zm00001eb436360_T001</th>\n",
       "      <td>4241</td>\n",
       "    </tr>\n",
       "    <tr>\n",
       "      <th>Zm00001eb436380_T001</th>\n",
       "      <td>1126</td>\n",
       "    </tr>\n",
       "    <tr>\n",
       "      <th>Zm00001eb436400_T001</th>\n",
       "      <td>1804</td>\n",
       "    </tr>\n",
       "  </tbody>\n",
       "</table>\n",
       "</div>"
      ],
      "text/plain": [
       "                      Length\n",
       "Name                        \n",
       "Zm00001eb441400_T001     321\n",
       "Zm00001eb442560_T001     524\n",
       "Zm00001eb436360_T001    4241\n",
       "Zm00001eb436380_T001    1126\n",
       "Zm00001eb436400_T001    1804"
      ]
     },
     "execution_count": 11,
     "metadata": {},
     "output_type": "execute_result"
    }
   ],
   "source": [
    "gene_length_table = pd.read_csv('/home/rsantos/Repositories/maize_microbiome_transcriptomics/correlations_rnaseq_metataxonomics/Zmays_Zm_B73_REFERENCE_NAM_5_0_55_transcripts_PrimaryTranscriptOnly_length.txt',\n",
    "                               sep=\"\\t\")\n",
    "gene_length_table.set_index('Name', inplace=True)\n",
    "gene_length_table.head()"
   ]
  },
  {
   "cell_type": "markdown",
   "metadata": {},
   "source": [
    "## Within sample normalization methods\n",
    "\n",
    "CPM, RPKM and TPM are within sample normalization methods used in this work (following [Johnson and Krishnan 2022](https://genomebiology.biomedcentral.com/articles/10.1186/s13059-021-02568-9))"
   ]
  },
  {
   "cell_type": "markdown",
   "metadata": {},
   "source": [
    "### Counts per million (CPM or RPM)"
   ]
  },
  {
   "cell_type": "code",
   "execution_count": 8,
   "metadata": {},
   "outputs": [],
   "source": [
    "from bioinfokit.analys import norm\n",
    "\n",
    "# CPM (or RPM, reads per million) normalization\n",
    "# Following Renesh Bedre's blog:\n",
    "# https://www.reneshbedre.com/blog/expression_units.html#rpm-or-cpm-reads-per-million-mapped-reads-or-counts-per-million-mapped-reads-\n",
    "nm = norm()\n",
    "nm.cpm(df=kremling_raw_expression_v5_night)\n",
    "kremling_expression_v5_night_cpm = nm.cpm_norm\n",
    "\n",
    "nm = norm()\n",
    "nm.cpm(df=kremling_raw_expression_v5_day)\n",
    "kremling_expression_v5_day_cpm = nm.cpm_norm\n"
   ]
  },
  {
   "cell_type": "markdown",
   "metadata": {},
   "source": [
    "### RPKM (Reads per kilo base of transcript per million mapped reads)\n",
    "\n",
    "Gene/transcript lenghts are required for RPKM normalization. First, I (RACS) will merge genes lengths to the estimated counts matrix:"
   ]
  },
  {
   "cell_type": "code",
   "execution_count": 18,
   "metadata": {},
   "outputs": [
    {
     "name": "stdout",
     "output_type": "stream",
     "text": [
      "(39096, 229)\n",
      "(39096, 177)\n"
     ]
    },
    {
     "data": {
      "text/html": [
       "<div>\n",
       "<style scoped>\n",
       "    .dataframe tbody tr th:only-of-type {\n",
       "        vertical-align: middle;\n",
       "    }\n",
       "\n",
       "    .dataframe tbody tr th {\n",
       "        vertical-align: top;\n",
       "    }\n",
       "\n",
       "    .dataframe thead th {\n",
       "        text-align: right;\n",
       "    }\n",
       "</style>\n",
       "<table border=\"1\" class=\"dataframe\">\n",
       "  <thead>\n",
       "    <tr style=\"text-align: right;\">\n",
       "      <th></th>\n",
       "      <th>14A0253_26</th>\n",
       "      <th>14A0165_8</th>\n",
       "      <th>14A0163_8</th>\n",
       "      <th>14A0199_8</th>\n",
       "      <th>14A0147_8</th>\n",
       "      <th>14A0503_8</th>\n",
       "      <th>14A0045_8</th>\n",
       "      <th>14A0085_8</th>\n",
       "      <th>14A0249_8</th>\n",
       "      <th>14A0241_8</th>\n",
       "      <th>...</th>\n",
       "      <th>14A0005_8</th>\n",
       "      <th>14A0027_8</th>\n",
       "      <th>14A0533_26</th>\n",
       "      <th>14A0333_26</th>\n",
       "      <th>14A0473_26</th>\n",
       "      <th>14A0047_8</th>\n",
       "      <th>14A0453_26</th>\n",
       "      <th>14A0345_8</th>\n",
       "      <th>14A0343_8</th>\n",
       "      <th>Length</th>\n",
       "    </tr>\n",
       "    <tr>\n",
       "      <th>Name</th>\n",
       "      <th></th>\n",
       "      <th></th>\n",
       "      <th></th>\n",
       "      <th></th>\n",
       "      <th></th>\n",
       "      <th></th>\n",
       "      <th></th>\n",
       "      <th></th>\n",
       "      <th></th>\n",
       "      <th></th>\n",
       "      <th></th>\n",
       "      <th></th>\n",
       "      <th></th>\n",
       "      <th></th>\n",
       "      <th></th>\n",
       "      <th></th>\n",
       "      <th></th>\n",
       "      <th></th>\n",
       "      <th></th>\n",
       "      <th></th>\n",
       "      <th></th>\n",
       "    </tr>\n",
       "  </thead>\n",
       "  <tbody>\n",
       "    <tr>\n",
       "      <th>Zm00001eb371370_T002</th>\n",
       "      <td>0</td>\n",
       "      <td>0</td>\n",
       "      <td>2</td>\n",
       "      <td>1</td>\n",
       "      <td>1</td>\n",
       "      <td>1</td>\n",
       "      <td>0</td>\n",
       "      <td>1</td>\n",
       "      <td>5</td>\n",
       "      <td>1</td>\n",
       "      <td>...</td>\n",
       "      <td>0</td>\n",
       "      <td>0</td>\n",
       "      <td>3</td>\n",
       "      <td>1</td>\n",
       "      <td>1</td>\n",
       "      <td>0</td>\n",
       "      <td>0</td>\n",
       "      <td>0</td>\n",
       "      <td>0</td>\n",
       "      <td>1376</td>\n",
       "    </tr>\n",
       "    <tr>\n",
       "      <th>Zm00001eb371350_T001</th>\n",
       "      <td>0</td>\n",
       "      <td>0</td>\n",
       "      <td>0</td>\n",
       "      <td>0</td>\n",
       "      <td>0</td>\n",
       "      <td>0</td>\n",
       "      <td>0</td>\n",
       "      <td>0</td>\n",
       "      <td>0</td>\n",
       "      <td>0</td>\n",
       "      <td>...</td>\n",
       "      <td>0</td>\n",
       "      <td>0</td>\n",
       "      <td>0</td>\n",
       "      <td>0</td>\n",
       "      <td>0</td>\n",
       "      <td>0</td>\n",
       "      <td>0</td>\n",
       "      <td>0</td>\n",
       "      <td>0</td>\n",
       "      <td>1662</td>\n",
       "    </tr>\n",
       "    <tr>\n",
       "      <th>Zm00001eb371330_T001</th>\n",
       "      <td>0</td>\n",
       "      <td>0</td>\n",
       "      <td>0</td>\n",
       "      <td>0</td>\n",
       "      <td>0</td>\n",
       "      <td>0</td>\n",
       "      <td>0</td>\n",
       "      <td>0</td>\n",
       "      <td>0</td>\n",
       "      <td>0</td>\n",
       "      <td>...</td>\n",
       "      <td>0</td>\n",
       "      <td>0</td>\n",
       "      <td>0</td>\n",
       "      <td>0</td>\n",
       "      <td>0</td>\n",
       "      <td>0</td>\n",
       "      <td>0</td>\n",
       "      <td>0</td>\n",
       "      <td>0</td>\n",
       "      <td>336</td>\n",
       "    </tr>\n",
       "    <tr>\n",
       "      <th>Zm00001eb371310_T001</th>\n",
       "      <td>0</td>\n",
       "      <td>0</td>\n",
       "      <td>0</td>\n",
       "      <td>0</td>\n",
       "      <td>0</td>\n",
       "      <td>0</td>\n",
       "      <td>0</td>\n",
       "      <td>0</td>\n",
       "      <td>0</td>\n",
       "      <td>0</td>\n",
       "      <td>...</td>\n",
       "      <td>0</td>\n",
       "      <td>0</td>\n",
       "      <td>0</td>\n",
       "      <td>0</td>\n",
       "      <td>0</td>\n",
       "      <td>0</td>\n",
       "      <td>0</td>\n",
       "      <td>0</td>\n",
       "      <td>0</td>\n",
       "      <td>1455</td>\n",
       "    </tr>\n",
       "    <tr>\n",
       "      <th>Zm00001eb371280_T001</th>\n",
       "      <td>6</td>\n",
       "      <td>11</td>\n",
       "      <td>2</td>\n",
       "      <td>11</td>\n",
       "      <td>3</td>\n",
       "      <td>3</td>\n",
       "      <td>1</td>\n",
       "      <td>5</td>\n",
       "      <td>0</td>\n",
       "      <td>8</td>\n",
       "      <td>...</td>\n",
       "      <td>0</td>\n",
       "      <td>6</td>\n",
       "      <td>0</td>\n",
       "      <td>4</td>\n",
       "      <td>1</td>\n",
       "      <td>4</td>\n",
       "      <td>0</td>\n",
       "      <td>9</td>\n",
       "      <td>4</td>\n",
       "      <td>1628</td>\n",
       "    </tr>\n",
       "  </tbody>\n",
       "</table>\n",
       "<p>5 rows × 229 columns</p>\n",
       "</div>"
      ],
      "text/plain": [
       "                      14A0253_26  14A0165_8  14A0163_8  14A0199_8  14A0147_8  \\\n",
       "Name                                                                           \n",
       "Zm00001eb371370_T002           0          0          2          1          1   \n",
       "Zm00001eb371350_T001           0          0          0          0          0   \n",
       "Zm00001eb371330_T001           0          0          0          0          0   \n",
       "Zm00001eb371310_T001           0          0          0          0          0   \n",
       "Zm00001eb371280_T001           6         11          2         11          3   \n",
       "\n",
       "                      14A0503_8  14A0045_8  14A0085_8  14A0249_8  14A0241_8  \\\n",
       "Name                                                                          \n",
       "Zm00001eb371370_T002          1          0          1          5          1   \n",
       "Zm00001eb371350_T001          0          0          0          0          0   \n",
       "Zm00001eb371330_T001          0          0          0          0          0   \n",
       "Zm00001eb371310_T001          0          0          0          0          0   \n",
       "Zm00001eb371280_T001          3          1          5          0          8   \n",
       "\n",
       "                      ...  14A0005_8  14A0027_8  14A0533_26  14A0333_26  \\\n",
       "Name                  ...                                                 \n",
       "Zm00001eb371370_T002  ...          0          0           3           1   \n",
       "Zm00001eb371350_T001  ...          0          0           0           0   \n",
       "Zm00001eb371330_T001  ...          0          0           0           0   \n",
       "Zm00001eb371310_T001  ...          0          0           0           0   \n",
       "Zm00001eb371280_T001  ...          0          6           0           4   \n",
       "\n",
       "                      14A0473_26  14A0047_8  14A0453_26  14A0345_8  14A0343_8  \\\n",
       "Name                                                                            \n",
       "Zm00001eb371370_T002           1          0           0          0          0   \n",
       "Zm00001eb371350_T001           0          0           0          0          0   \n",
       "Zm00001eb371330_T001           0          0           0          0          0   \n",
       "Zm00001eb371310_T001           0          0           0          0          0   \n",
       "Zm00001eb371280_T001           1          4           0          9          4   \n",
       "\n",
       "                      Length  \n",
       "Name                          \n",
       "Zm00001eb371370_T002    1376  \n",
       "Zm00001eb371350_T001    1662  \n",
       "Zm00001eb371330_T001     336  \n",
       "Zm00001eb371310_T001    1455  \n",
       "Zm00001eb371280_T001    1628  \n",
       "\n",
       "[5 rows x 229 columns]"
      ]
     },
     "execution_count": 18,
     "metadata": {},
     "output_type": "execute_result"
    }
   ],
   "source": [
    "kremling_raw_expression_v5_night_gene_length = pd.merge(kremling_raw_expression_v5_night, gene_length_table, on=\"Name\")\n",
    "kremling_raw_expression_v5_day_gene_length = pd.merge(kremling_raw_expression_v5_day, gene_length_table, on=\"Name\")\n",
    "print(kremling_raw_expression_v5_night_gene_length.shape)\n",
    "print(kremling_raw_expression_v5_day_gene_length.shape)\n",
    "kremling_raw_expression_v5_night_gene_length.head()"
   ]
  },
  {
   "cell_type": "markdown",
   "metadata": {},
   "source": [
    "Actual normalization:"
   ]
  },
  {
   "cell_type": "code",
   "execution_count": 19,
   "metadata": {},
   "outputs": [],
   "source": [
    "nm = norm()\n",
    "nm.rpkm(df=kremling_raw_expression_v5_night_gene_length, gl='Length')\n",
    "kremling_expression_v5_night_rpkm = nm.rpkm_norm\n",
    "\n",
    "nm = norm()\n",
    "nm.rpkm(df=kremling_raw_expression_v5_day_gene_length, gl='Length')\n",
    "kremling_expression_v5_day_rpkm = nm.rpkm_norm"
   ]
  },
  {
   "cell_type": "markdown",
   "metadata": {},
   "source": [
    "### TPM (Transcripts per Million)\n",
    "\n",
    "Like RPKM, TPM normalization also requires gene/transcript lengths:"
   ]
  },
  {
   "cell_type": "code",
   "execution_count": 22,
   "metadata": {},
   "outputs": [],
   "source": [
    "nm = norm()\n",
    "nm.tpm(df=kremling_raw_expression_v5_night_gene_length, gl='Length')\n",
    "kremling_expression_v5_night_tpm = nm.tpm_norm\n",
    "\n",
    "nm = norm()\n",
    "nm.tpm(df=kremling_raw_expression_v5_day_gene_length, gl='Length')\n",
    "kremling_expression_v5_day_tpm = nm.tpm_norm"
   ]
  },
  {
   "cell_type": "markdown",
   "metadata": {},
   "source": [
    "## Between sample normalization methods\n"
   ]
  },
  {
   "cell_type": "markdown",
   "metadata": {},
   "source": [
    "Between sample normalization methods have been implemented mostly in R. [Renesh Bedre's blog](https://www.reneshbedre.com/blog/expression_units.html#rpm-or-cpm-reads-per-million-mapped-reads-or-counts-per-million-mapped-reads-) discussed TMM, EdgeR and DESeq2 methods and comments on a few others. [Johnson and Krishnan 2022](https://genomebiology.biomedcentral.com/articles/10.1186/s13059-021-02568-9) have also implemented codes using R. Therefore, I (RACS) will bring these analyses in a separate R markdown notebook.\n"
   ]
  }
 ],
 "metadata": {
  "kernelspec": {
   "display_name": ".venv",
   "language": "python",
   "name": "python3"
  },
  "language_info": {
   "codemirror_mode": {
    "name": "ipython",
    "version": 3
   },
   "file_extension": ".py",
   "mimetype": "text/x-python",
   "name": "python",
   "nbconvert_exporter": "python",
   "pygments_lexer": "ipython3",
   "version": "3.10.12"
  }
 },
 "nbformat": 4,
 "nbformat_minor": 2
}
