{
 "cells": [
  {
   "cell_type": "markdown",
   "metadata": {},
   "source": [
    "# Normalization methods for metataxonomics\n",
    "\n",
    "Normalization of OTU abundance was carried out at different levels: the original OTU counts, the collapsed OTU counts at the genus level, and the collapsed OTU counts at family level, as shown here:\n",
    "\n",
    "| Taxonomy level | Data type      | Normalization         | Normalization category    | Condition  |\n",
    "|--------|----------------|-----------------------|---------------------------|------------|\n",
    "| Original OTUs  | Metataxonomics | Estimated counts     |   | D and N |\n",
    "| Original OTUs | Metataxonomics | Relative abundance     |   | D and N |\n",
    "| Original OTUs | Metataxonomics | CPM     |   | D and N |\n",
    "| Family (GTDB) | Metataxonomics | Relative abundance     |   | D and N |\n",
    "| Family (GTDB) | Metataxonomics | CPM     |   | D and N |\n",
    "| Genus (GTDB) | Metataxonomics | Relative abundance     |   | D and N |\n",
    "| Genus (GTDB) | Metataxonomics | CPM     |   | D and N |\n"
   ]
  },
  {
   "cell_type": "markdown",
   "metadata": {},
   "source": [
    "## Importing the count tables"
   ]
  },
  {
   "cell_type": "code",
   "execution_count": 1,
   "metadata": {},
   "outputs": [],
   "source": [
    "import pandas as pd\n",
    "\n",
    "otu_table_merged_d_n = pd.read_csv('/home/rsantos/Repositories/maize_microbiome_transcriptomics/16S_wallace2018/combine_day_night_samples/summed_day_night_otu_counts.tsv',\n",
    "                                   sep='\\t', index_col='OTU ID')\n",
    "genus_table_merged_d_n = pd.read_csv('/home/rsantos/Repositories/maize_microbiome_transcriptomics/16S_wallace2018/combine_day_night_samples/colapse_counts_gtdb/genus_counts.tsv',\n",
    "                                    sep='\\t', index_col='Genus')\n",
    "family_table_merged_d_n = pd.read_csv('/home/rsantos/Repositories/maize_microbiome_transcriptomics/16S_wallace2018/combine_day_night_samples/colapse_counts_gtdb/family_counts.tsv',\n",
    "                                    sep='\\t', index_col='Family')"
   ]
  },
  {
   "cell_type": "markdown",
   "metadata": {},
   "source": [
    "## Importing Kremling day and night matrices to make sure normalization is carried out separately"
   ]
  },
  {
   "cell_type": "code",
   "execution_count": 2,
   "metadata": {},
   "outputs": [],
   "source": [
    "kremling_raw_expression_v5_night = pd.read_csv('/home/rsantos/Repositories/maize_microbiome_transcriptomics/correlations_rnaseq_metataxonomics/kremling_expression_v5_night.tsv',\n",
    "                                           sep='\\t')\n",
    "kremling_raw_expression_v5_night.set_index('Name', inplace=True)\n",
    "\n",
    "kremling_raw_expression_v5_day = pd.read_csv('/home/rsantos/Repositories/maize_microbiome_transcriptomics/correlations_rnaseq_metataxonomics/kremling_expression_v5_day.tsv',\n",
    "                                           sep='\\t')\n",
    "kremling_raw_expression_v5_day.set_index('Name', inplace=True)"
   ]
  },
  {
   "cell_type": "code",
   "execution_count": 3,
   "metadata": {},
   "outputs": [],
   "source": [
    "otu_table_merged_d_n_day = otu_table_merged_d_n[kremling_raw_expression_v5_day.columns]\n",
    "otu_table_merged_d_n_night = otu_table_merged_d_n[kremling_raw_expression_v5_night.columns]\n",
    "genus_table_merged_d_n_day = genus_table_merged_d_n[kremling_raw_expression_v5_day.columns]\n",
    "genus_table_merged_d_n_night = genus_table_merged_d_n[kremling_raw_expression_v5_night.columns]\n",
    "family_table_merged_d_n_day = family_table_merged_d_n[kremling_raw_expression_v5_day.columns]\n",
    "family_table_merged_d_n_night = family_table_merged_d_n[kremling_raw_expression_v5_night.columns]"
   ]
  },
  {
   "cell_type": "markdown",
   "metadata": {},
   "source": [
    "## Normalizing with Counts per Million (CPM)"
   ]
  },
  {
   "cell_type": "code",
   "execution_count": 4,
   "metadata": {},
   "outputs": [],
   "source": [
    "otu_table_merged_day_cpm = otu_table_merged_d_n_day.divide(otu_table_merged_d_n_day.sum())\n",
    "otu_table_merged_day_cpm = otu_table_merged_day_cpm * 1e6\n",
    "\n",
    "otu_table_merged_night_cpm = otu_table_merged_d_n_night.divide(otu_table_merged_d_n_night.sum())\n",
    "otu_table_merged_night_cpm = otu_table_merged_night_cpm * 1e6\n",
    "\n",
    "genus_table_merged_d_n_day_cpm = genus_table_merged_d_n_day.divide(genus_table_merged_d_n_day.sum())\n",
    "genus_table_merged_d_n_day_cpm = genus_table_merged_d_n_day_cpm * 1e6\n",
    "\n",
    "genus_table_merged_d_n_night_cpm = genus_table_merged_d_n_night.divide(genus_table_merged_d_n_night.sum())\n",
    "genus_table_merged_d_n_night_cpm = genus_table_merged_d_n_night_cpm * 1e6\n",
    "\n",
    "family_table_merged_d_n_day_cpm = family_table_merged_d_n_day.divide(family_table_merged_d_n_day.sum())\n",
    "family_table_merged_d_n_day_cpm = family_table_merged_d_n_day_cpm * 1e6\n",
    "\n",
    "family_table_merged_d_n_night_cpm = family_table_merged_d_n_night.divide(family_table_merged_d_n_night.sum())\n",
    "family_table_merged_d_n_night_cpm = family_table_merged_d_n_night_cpm * 1e6"
   ]
  },
  {
   "cell_type": "code",
   "execution_count": 5,
   "metadata": {},
   "outputs": [],
   "source": [
    "otu_table_merged_day_cpm.to_csv('/home/rsantos/Repositories/maize_microbiome_transcriptomics/16S_wallace2018/combine_day_night_samples/summed_d_n_otu_day_cpm.tsv',\n",
    "                            sep='\\t')\n",
    "otu_table_merged_night_cpm.to_csv('/home/rsantos/Repositories/maize_microbiome_transcriptomics/16S_wallace2018/combine_day_night_samples/summed_d_n_otu_night_cpm.tsv',\n",
    "                            sep='\\t')\n",
    "genus_table_merged_d_n_day_cpm.to_csv('/home/rsantos/Repositories/maize_microbiome_transcriptomics/16S_wallace2018/combine_day_night_samples/genus_table_merged_d_n_day_cpm.tsv',\n",
    "                                      sep='\\t')\n",
    "genus_table_merged_d_n_night_cpm.to_csv('/home/rsantos/Repositories/maize_microbiome_transcriptomics/16S_wallace2018/combine_day_night_samples/genus_table_merged_d_n_night_cpm.tsv',\n",
    "                                        sep='\\t')\n",
    "family_table_merged_d_n_day_cpm.to_csv('/home/rsantos/Repositories/maize_microbiome_transcriptomics/16S_wallace2018/combine_day_night_samples/family_table_merged_d_n_day_cpm.tsv',\n",
    "                                       sep='\\t')\n",
    "family_table_merged_d_n_night_cpm.to_csv('/home/rsantos/Repositories/maize_microbiome_transcriptomics/16S_wallace2018/combine_day_night_samples/family_table_merged_d_n_night_cpm.tsv',\n",
    "                                       sep='\\t')"
   ]
  },
  {
   "cell_type": "markdown",
   "metadata": {},
   "source": [
    "## Normalizing with Relative Abundance"
   ]
  },
  {
   "cell_type": "code",
   "execution_count": 6,
   "metadata": {},
   "outputs": [],
   "source": [
    "otu_table_merged_day_relative_abund = otu_table_merged_d_n_day.divide(otu_table_merged_d_n_day.sum())\n",
    "otu_table_merged_day_relative_abund = otu_table_merged_day_relative_abund * 100\n",
    "\n",
    "otu_table_merged_night_relative_abund = otu_table_merged_d_n_night.divide(otu_table_merged_d_n_night.sum())\n",
    "otu_table_merged_night_relative_abund = otu_table_merged_night_relative_abund * 100\n",
    "\n",
    "genus_table_merged_d_n_day_relative_abund = genus_table_merged_d_n_day.divide(genus_table_merged_d_n_day.sum())\n",
    "genus_table_merged_d_n_day_relative_abund = genus_table_merged_d_n_day_relative_abund * 100\n",
    "\n",
    "genus_table_merged_d_n_night_relative_abund = genus_table_merged_d_n_night.divide(genus_table_merged_d_n_night.sum())\n",
    "genus_table_merged_d_n_night_relative_abund = genus_table_merged_d_n_night_relative_abund * 100\n",
    "\n",
    "family_table_merged_d_n_day_relative_abund = family_table_merged_d_n_day.divide(family_table_merged_d_n_day.sum())\n",
    "family_table_merged_d_n_day_relative_abund = family_table_merged_d_n_day_relative_abund * 100\n",
    "\n",
    "family_table_merged_d_n_night_relative_abund = family_table_merged_d_n_night.divide(family_table_merged_d_n_night.sum())\n",
    "family_table_merged_d_n_night_relative_abund = family_table_merged_d_n_night_relative_abund * 100"
   ]
  },
  {
   "cell_type": "code",
   "execution_count": 7,
   "metadata": {},
   "outputs": [],
   "source": [
    "otu_table_merged_day_relative_abund.to_csv('/home/rsantos/Repositories/maize_microbiome_transcriptomics/16S_wallace2018/combine_day_night_samples/summed_day_night_otu_day_relative_abund.tsv',\n",
    "                            sep='\\t')\n",
    "\n",
    "otu_table_merged_night_relative_abund.to_csv('/home/rsantos/Repositories/maize_microbiome_transcriptomics/16S_wallace2018/combine_day_night_samples/summed_day_night_otu_night_relative_abund.tsv',\n",
    "                            sep='\\t')\n",
    "\n",
    "genus_table_merged_d_n_day_relative_abund.to_csv('/home/rsantos/Repositories/maize_microbiome_transcriptomics/16S_wallace2018/combine_day_night_samples/genus_table_merged_d_n_day_relative_abund.tsv',\n",
    "                            sep='\\t')\n",
    "\n",
    "genus_table_merged_d_n_night_relative_abund.to_csv('/home/rsantos/Repositories/maize_microbiome_transcriptomics/16S_wallace2018/combine_day_night_samples/genus_table_merged_d_n_night_relative_abund.tsv',\n",
    "                            sep='\\t')\n",
    "\n",
    "family_table_merged_d_n_day_relative_abund.to_csv('/home/rsantos/Repositories/maize_microbiome_transcriptomics/16S_wallace2018/combine_day_night_samples/family_table_merged_d_n_day_relative_abund.tsv',\n",
    "                            sep='\\t')\n",
    "\n",
    "family_table_merged_d_n_night_relative_abund.to_csv('/home/rsantos/Repositories/maize_microbiome_transcriptomics/16S_wallace2018/combine_day_night_samples/family_table_merged_d_n_night_relative_abund.tsv',\n",
    "                            sep='\\t')\n"
   ]
  }
 ],
 "metadata": {
  "kernelspec": {
   "display_name": ".venv",
   "language": "python",
   "name": "python3"
  },
  "language_info": {
   "codemirror_mode": {
    "name": "ipython",
    "version": 3
   },
   "file_extension": ".py",
   "mimetype": "text/x-python",
   "name": "python",
   "nbconvert_exporter": "python",
   "pygments_lexer": "ipython3",
   "version": "3.10.12"
  }
 },
 "nbformat": 4,
 "nbformat_minor": 2
}
