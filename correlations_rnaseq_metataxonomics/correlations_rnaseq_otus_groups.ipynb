{
 "cells": [
  {
   "cell_type": "markdown",
   "metadata": {},
   "source": [
    "# Running correlations beteween gene expression and OTU abundance\n"
   ]
  },
  {
   "cell_type": "markdown",
   "metadata": {},
   "source": [
    "Filtering steps (low abundance and low expression, or low variance genes/OTUs) were described in another notebook.\n",
    "Here, I (RACS) use all filtered matrices for running correlations for each group of maize genotypes."
   ]
  },
  {
   "cell_type": "markdown",
   "metadata": {},
   "source": [
    "Importing the within sample (RPKM, TPM, CPM) and between sample (TMM, UQ, CTF, CUF) normalization matrices for day and night:"
   ]
  },
  {
   "cell_type": "code",
   "execution_count": 1,
   "metadata": {},
   "outputs": [],
   "source": [
    "import pandas as pd\n",
    "\n",
    "# Importing within sample normalized data after filtering\n",
    "kremling_expression_v5_day_tpm_filtered_cv_filtered = pd.read_csv('/home/santosrac/Repositories/maize_microbiome_transcriptomics/rnaseq_kremling2018/quantification/kremling_expression_v5_day_tpm_filtered_cv_filtered.tsv',\n",
    "                            sep='\\t')\n",
    "kremling_expression_v5_night_tpm_filtered_cv_filtered = pd.read_csv('/home/santosrac/Repositories/maize_microbiome_transcriptomics/rnaseq_kremling2018/quantification/kremling_expression_v5_night_tpm_filtered_cv_filtered.tsv',\n",
    "                            sep='\\t')\n",
    "kremling_expression_v5_day_rpkm_filtered_cv_filtered = pd.read_csv('/home/santosrac/Repositories/maize_microbiome_transcriptomics/rnaseq_kremling2018/quantification/kremling_expression_v5_day_rpkm_filtered_cv_filtered.tsv',\n",
    "                            sep='\\t')\n",
    "kremling_expression_v5_night_rpkm_filtered_cv_filtered = pd.read_csv('/home/santosrac/Repositories/maize_microbiome_transcriptomics/rnaseq_kremling2018/quantification/kremling_expression_v5_night_rpkm_filtered_cv_filtered.tsv',\n",
    "                            sep='\\t')\n",
    "kremling_expression_v5_day_cpm_filtered_cv_filtered = pd.read_csv('/home/santosrac/Repositories/maize_microbiome_transcriptomics/rnaseq_kremling2018/quantification/kremling_expression_v5_day_cpm_filtered_cv_filtered.tsv',\n",
    "                            sep='\\t')\n",
    "kremling_expression_v5_night_cpm_filtered_cv_filtered = pd.read_csv('/home/santosrac/Repositories/maize_microbiome_transcriptomics/rnaseq_kremling2018/quantification/kremling_expression_v5_night_cpm_filtered_cv_filtered.tsv',\n",
    "                            sep='\\t')\n",
    "\n",
    "# Importing between sample normalized data after filtering\n",
    "kremling_expression_v5_day_tmm_filtered_cv_filtered = pd.read_csv('/home/santosrac/Repositories/maize_microbiome_transcriptomics/rnaseq_kremling2018/quantification/kremling_expression_v5_day_tmm_filtered_cv_filtered.tsv',\n",
    "                            sep='\\t')\n",
    "kremling_expression_v5_night_tmm_filtered_cv_filtered = pd.read_csv('/home/santosrac/Repositories/maize_microbiome_transcriptomics/rnaseq_kremling2018/quantification/kremling_expression_v5_night_tmm_filtered_cv_filtered.tsv',\n",
    "                            sep='\\t')\n",
    "kremling_expression_v5_day_uq_filtered_cv_filtered = pd.read_csv('/home/santosrac/Repositories/maize_microbiome_transcriptomics/rnaseq_kremling2018/quantification/kremling_expression_v5_day_uq_filtered_cv_filtered.tsv',\n",
    "                            sep='\\t')\n",
    "kremling_expression_v5_night_uq_filtered_cv_filtered = pd.read_csv('/home/santosrac/Repositories/maize_microbiome_transcriptomics/rnaseq_kremling2018/quantification/kremling_expression_v5_night_uq_filtered_cv_filtered.tsv',\n",
    "                            sep='\\t')\n",
    "kremling_expression_v5_day_ctf_filtered_cv_filtered = pd.read_csv('/home/santosrac/Repositories/maize_microbiome_transcriptomics/rnaseq_kremling2018/quantification/kremling_expression_v5_day_ctf_filtered_cv_filtered.tsv',\n",
    "                            sep='\\t')\n",
    "kremling_expression_v5_night_ctf_filtered_cv_filtered = pd.read_csv('/home/santosrac/Repositories/maize_microbiome_transcriptomics/rnaseq_kremling2018/quantification/kremling_expression_v5_night_ctf_filtered_cv_filtered.tsv',\n",
    "                            sep='\\t')\n",
    "kremling_expression_v5_day_cuf_filtered_cv_filtered = pd.read_csv('/home/santosrac/Repositories/maize_microbiome_transcriptomics/rnaseq_kremling2018/quantification/kremling_expression_v5_day_cuf_filtered_cv_filtered.tsv',\n",
    "                            sep='\\t')\n",
    "kremling_expression_v5_night_cuf_filtered_cv_filtered = pd.read_csv('/home/santosrac/Repositories/maize_microbiome_transcriptomics/rnaseq_kremling2018/quantification/kremling_expression_v5_night_cuf_filtered_cv_filtered.tsv',\n",
    "                            sep='\\t')"
   ]
  },
  {
   "cell_type": "markdown",
   "metadata": {},
   "source": [
    "Importing OTU (CPM) matrices for day and night:"
   ]
  },
  {
   "cell_type": "code",
   "execution_count": 2,
   "metadata": {},
   "outputs": [],
   "source": [
    "# Importing OTU data after filtering\n",
    "otu_table_merged_day_cpm_filtered_cv_filtered = pd.read_csv('/home/santosrac/Repositories/maize_microbiome_transcriptomics/16S_wallace2018/combine_day_night_samples/otu_table_merged_day_cpm_filtered_cv_filtered.tsv',\n",
    "                            sep='\\t')\n",
    "otu_table_merged_night_cpm_filtered_cv_filtered = pd.read_csv('/home/santosrac/Repositories/maize_microbiome_transcriptomics/16S_wallace2018/combine_day_night_samples/otu_table_merged_night_cpm_filtered_cv_filtered.tsv',\n",
    "                            sep='\\t')"
   ]
  },
  {
   "cell_type": "markdown",
   "metadata": {},
   "source": [
    "## Importing groups"
   ]
  },
  {
   "cell_type": "code",
   "execution_count": 4,
   "metadata": {},
   "outputs": [
    {
     "data": {
      "text/html": [
       "<div>\n",
       "<style scoped>\n",
       "    .dataframe tbody tr th:only-of-type {\n",
       "        vertical-align: middle;\n",
       "    }\n",
       "\n",
       "    .dataframe tbody tr th {\n",
       "        vertical-align: top;\n",
       "    }\n",
       "\n",
       "    .dataframe thead th {\n",
       "        text-align: right;\n",
       "    }\n",
       "</style>\n",
       "<table border=\"1\" class=\"dataframe\">\n",
       "  <thead>\n",
       "    <tr style=\"text-align: right;\">\n",
       "      <th></th>\n",
       "      <th>Genotype</th>\n",
       "      <th>Accesion N</th>\n",
       "      <th>N GBS samples</th>\n",
       "      <th>N Plants</th>\n",
       "      <th>Avg. IBS</th>\n",
       "      <th>% missing</th>\n",
       "      <th>Breeding program</th>\n",
       "      <th>Pop structure</th>\n",
       "    </tr>\n",
       "    <tr>\n",
       "      <th>Plot_Day</th>\n",
       "      <th></th>\n",
       "      <th></th>\n",
       "      <th></th>\n",
       "      <th></th>\n",
       "      <th></th>\n",
       "      <th></th>\n",
       "      <th></th>\n",
       "      <th></th>\n",
       "    </tr>\n",
       "  </thead>\n",
       "  <tbody>\n",
       "    <tr>\n",
       "      <th>14A0309_26</th>\n",
       "      <td>33-16</td>\n",
       "      <td>Ames26771</td>\n",
       "      <td>4.0</td>\n",
       "      <td>3.0</td>\n",
       "      <td>0.998</td>\n",
       "      <td>0.34</td>\n",
       "      <td>Other</td>\n",
       "      <td>unclassified</td>\n",
       "    </tr>\n",
       "    <tr>\n",
       "      <th>14A0233_8</th>\n",
       "      <td>38-11</td>\n",
       "      <td>Ames26604</td>\n",
       "      <td>6.0</td>\n",
       "      <td>5.0</td>\n",
       "      <td>0.992</td>\n",
       "      <td>0.21</td>\n",
       "      <td>Other</td>\n",
       "      <td>unclassified</td>\n",
       "    </tr>\n",
       "    <tr>\n",
       "      <th>14A0079_26</th>\n",
       "      <td>4226</td>\n",
       "      <td>NSL30904</td>\n",
       "      <td>4.0</td>\n",
       "      <td>3.0</td>\n",
       "      <td>0.998</td>\n",
       "      <td>0.29</td>\n",
       "      <td>Other</td>\n",
       "      <td>unclassified</td>\n",
       "    </tr>\n",
       "    <tr>\n",
       "      <th>14A0311_8</th>\n",
       "      <td>4722</td>\n",
       "      <td>PI587130</td>\n",
       "      <td>3.0</td>\n",
       "      <td>2.0</td>\n",
       "      <td>0.998</td>\n",
       "      <td>0.39</td>\n",
       "      <td>Other</td>\n",
       "      <td>unclassified</td>\n",
       "    </tr>\n",
       "    <tr>\n",
       "      <th>14A0021_8</th>\n",
       "      <td>A188</td>\n",
       "      <td>Ames22443</td>\n",
       "      <td>8.0</td>\n",
       "      <td>7.0</td>\n",
       "      <td>0.996</td>\n",
       "      <td>0.29</td>\n",
       "      <td>Minnesota</td>\n",
       "      <td>unclassified</td>\n",
       "    </tr>\n",
       "  </tbody>\n",
       "</table>\n",
       "</div>"
      ],
      "text/plain": [
       "           Genotype Accesion N  N GBS samples  N Plants  Avg. IBS  % missing  \\\n",
       "Plot_Day                                                                       \n",
       "14A0309_26    33-16  Ames26771            4.0       3.0     0.998       0.34   \n",
       "14A0233_8     38-11  Ames26604            6.0       5.0     0.992       0.21   \n",
       "14A0079_26     4226   NSL30904            4.0       3.0     0.998       0.29   \n",
       "14A0311_8      4722   PI587130            3.0       2.0     0.998       0.39   \n",
       "14A0021_8      A188  Ames22443            8.0       7.0     0.996       0.29   \n",
       "\n",
       "           Breeding program Pop structure  \n",
       "Plot_Day                                   \n",
       "14A0309_26            Other  unclassified  \n",
       "14A0233_8             Other  unclassified  \n",
       "14A0079_26            Other  unclassified  \n",
       "14A0311_8             Other  unclassified  \n",
       "14A0021_8         Minnesota  unclassified  "
      ]
     },
     "execution_count": 4,
     "metadata": {},
     "output_type": "execute_result"
    }
   ],
   "source": [
    "wallace_et_al_2018_group_assignments_romay2013 = pd.read_csv('/home/santosrac/Repositories/maize_microbiome_transcriptomics/genotype_information/wallace_et_al_2018_group_assignments_romay2013.tsv',\n",
    "                                                             sep='\\t')\n",
    "wallace_et_al_2018_group_assignments_romay2013.set_index('Plot_Day', inplace=True)\n",
    "wallace_et_al_2018_group_assignments_romay2013.head()"
   ]
  },
  {
   "cell_type": "markdown",
   "metadata": {},
   "source": [
    "## Running correlations\n",
    "\n",
    "I (RACS) will start by analyzing correlations in three largest groups:\n",
    "* stiff stalk (39)\n",
    "* tropical (38)\n",
    "* non-stiff stalk (27)"
   ]
  },
  {
   "cell_type": "code",
   "execution_count": null,
   "metadata": {},
   "outputs": [],
   "source": [
    "from corals.threads import set_threads_for_external_libraries\n",
    "set_threads_for_external_libraries(n_threads=1)\n",
    "import numpy as np\n",
    "from corals.correlation.full.default import cor_full"
   ]
  },
  {
   "cell_type": "markdown",
   "metadata": {},
   "source": [
    "### stiff stalk"
   ]
  },
  {
   "cell_type": "code",
   "execution_count": 44,
   "metadata": {},
   "outputs": [],
   "source": [
    "concat_df_night = pd.concat([kremling_expression_v5_night_cuf_filtered_cv_filtered, otu_table_merged_night_cpm_filtered_cv_filtered], axis=0)\n",
    "concat_df_day = pd.concat([kremling_expression_v5_day_cuf_filtered_cv_filtered, otu_table_merged_day_cpm_filtered_cv_filtered], axis=0)\n",
    "\n",
    "concatenated_transposed_day = concat_df_day.transpose()\n",
    "concatenated_transposed_night = concat_df_night.transpose()\n",
    "\n",
    "cor_values_day = cor_full(concatenated_transposed_day)\n",
    "cor_values_night = cor_full(concatenated_transposed_night)\n",
    "\n",
    "true_positions_day = np.where(cor_values_day > 0.6)\n",
    "shape_row_day = kremling_expression_v5_day_cuf_filtered_cv_filtered.shape[0]\n",
    "true_positions_night = np.where(cor_values_night > 0.6)\n",
    "shape_row_night = kremling_expression_v5_night_cuf_filtered_cv_filtered.shape[0]\n",
    "\n",
    "pairs_day_genecuf_otucpm = []\n",
    "pairs_night_genecuf_otucpm = []\n",
    "\n",
    "for i in range(len(true_positions_day[0])):\n",
    "    if (true_positions_day[1][i] > (shape_row_day - 1)) and (true_positions_day[0][i] < shape_row_day):\n",
    "        pairs_day_genecuf_otucpm.append((str(cor_values_day.columns[true_positions_day[1][i]]),\n",
    "              str(cor_values_day.index[true_positions_day[0][i]])))\n",
    "\n",
    "for i in range(len(true_positions_night[0])):\n",
    "    if (true_positions_night[1][i] > (shape_row_night - 1)) and (true_positions_night[0][i] < shape_row_night):\n",
    "        pairs_night_genecuf_otucpm.append((str(cor_values_night.columns[true_positions_night[1][i]]),\n",
    "              str(cor_values_night.index[true_positions_night[0][i]])))"
   ]
  }
 ],
 "metadata": {
  "kernelspec": {
   "display_name": ".venv",
   "language": "python",
   "name": "python3"
  },
  "language_info": {
   "codemirror_mode": {
    "name": "ipython",
    "version": 3
   },
   "file_extension": ".py",
   "mimetype": "text/x-python",
   "name": "python",
   "nbconvert_exporter": "python",
   "pygments_lexer": "ipython3",
   "version": "3.10.12"
  }
 },
 "nbformat": 4,
 "nbformat_minor": 2
}
