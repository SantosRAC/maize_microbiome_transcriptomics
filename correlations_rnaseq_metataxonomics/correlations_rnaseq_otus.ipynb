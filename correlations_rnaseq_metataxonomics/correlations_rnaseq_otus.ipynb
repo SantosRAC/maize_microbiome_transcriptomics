{
 "cells": [
  {
   "cell_type": "markdown",
   "metadata": {},
   "source": [
    "# Running correlations beteween gene expression and OTU abundance\n"
   ]
  },
  {
   "cell_type": "markdown",
   "metadata": {},
   "source": [
    "## Filtering lowly expressed genes and lowly abundant OTUs\n",
    "\n",
    " * Remove genes with less than one mapped read per million reads in at least 80% of samples ([Johnson and Krishnan, 2022](https://genomebiology.biomedcentral.com/articles/10.1186/s13059-021-02568-9))\n",
    " * Retaining OTUs found at 0.001 relative abundance in at least 10% of the samples ([Priya et al 2022](https://www.nature.com/articles/s41564-022-01121-z))"
   ]
  },
  {
   "cell_type": "markdown",
   "metadata": {},
   "source": [
    "### Filtering genes\n",
    "\n",
    "Since RPKM will be used to filter out genes with low expression, it must be imported first:"
   ]
  },
  {
   "cell_type": "code",
   "execution_count": 2,
   "metadata": {},
   "outputs": [],
   "source": [
    "import pandas as pd\n",
    "\n",
    "kremling_expression_v5_day_rpkm = pd.read_csv('/home/rsantos/Repositories/maize_microbiome_transcriptomics/rnaseq_kremling2018/quantification/kremling_expression_v5_day_rpkm.tsv',\n",
    "                            sep='\\t')\n",
    "kremling_expression_v5_day_rpkm.set_index('Name', inplace=True)\n",
    "\n",
    "kremling_expression_v5_night_rpkm = pd.read_csv('/home/rsantos/Repositories/maize_microbiome_transcriptomics/rnaseq_kremling2018/quantification/kremling_expression_v5_night_rpkm.tsv',\n",
    "                            sep='\\t')\n",
    "kremling_expression_v5_night_rpkm.set_index('Name', inplace=True)"
   ]
  },
  {
   "cell_type": "markdown",
   "metadata": {},
   "source": [
    "These are the genes to be used in filtering steps:"
   ]
  },
  {
   "cell_type": "code",
   "execution_count": 3,
   "metadata": {},
   "outputs": [
    {
     "name": "stdout",
     "output_type": "stream",
     "text": [
      "Genes to keep in day: 13107\n",
      "Genes to keep in night: 13630\n"
     ]
    }
   ],
   "source": [
    "genes_tokeep_day = kremling_expression_v5_day_rpkm[(kremling_expression_v5_day_rpkm > 1).sum(axis=1) >= (kremling_expression_v5_day_rpkm.shape[1] * 0.8)].index\n",
    "genes_tokeep_night = kremling_expression_v5_night_rpkm[(kremling_expression_v5_night_rpkm > 1).sum(axis=1) >= (kremling_expression_v5_night_rpkm.shape[1] * 0.8)].index\n",
    "print('Genes to keep in day:', len(genes_tokeep_day))\n",
    "print('Genes to keep in night:', len(genes_tokeep_night))"
   ]
  },
  {
   "cell_type": "markdown",
   "metadata": {},
   "source": [
    "Importing the TPM matrices and filter genes:"
   ]
  },
  {
   "cell_type": "code",
   "execution_count": 4,
   "metadata": {},
   "outputs": [
    {
     "name": "stdout",
     "output_type": "stream",
     "text": [
      "(39096, 176)\n",
      "(39096, 228)\n"
     ]
    }
   ],
   "source": [
    "kremling_expression_v5_day_tpm = pd.read_csv('/home/rsantos/Repositories/maize_microbiome_transcriptomics/rnaseq_kremling2018/quantification/kremling_expression_v5_day_tpm.tsv',\n",
    "                            sep='\\t')\n",
    "kremling_expression_v5_day_tpm.set_index('Name', inplace=True)\n",
    "print(kremling_expression_v5_day_tpm.shape)\n",
    "\n",
    "kremling_expression_v5_night_tpm = pd.read_csv('/home/rsantos/Repositories/maize_microbiome_transcriptomics/rnaseq_kremling2018/quantification/kremling_expression_v5_night_tpm.tsv',\n",
    "                            sep='\\t')\n",
    "kremling_expression_v5_night_tpm.set_index('Name', inplace=True)\n",
    "print(kremling_expression_v5_night_tpm.shape)"
   ]
  },
  {
   "cell_type": "code",
   "execution_count": 5,
   "metadata": {},
   "outputs": [
    {
     "name": "stdout",
     "output_type": "stream",
     "text": [
      "(13107, 176)\n",
      "(13630, 228)\n"
     ]
    }
   ],
   "source": [
    "kremling_expression_v5_day_tpm_filtered = kremling_expression_v5_day_tpm[kremling_expression_v5_day_tpm.index.isin(genes_tokeep_day)]\n",
    "kremling_expression_v5_night_tpm_filtered = kremling_expression_v5_night_tpm[kremling_expression_v5_night_tpm.index.isin(genes_tokeep_night)]"
   ]
  },
  {
   "cell_type": "code",
   "execution_count": 29,
   "metadata": {},
   "outputs": [
    {
     "name": "stdout",
     "output_type": "stream",
     "text": [
      "(13107, 176)\n",
      "(13630, 228)\n"
     ]
    }
   ],
   "source": [
    "print(kremling_expression_v5_day_tpm_filtered.shape)\n",
    "print(kremling_expression_v5_night_tpm_filtered.shape)"
   ]
  },
  {
   "cell_type": "markdown",
   "metadata": {},
   "source": [
    "Importing the CPM matrices and filter genes:"
   ]
  },
  {
   "cell_type": "code",
   "execution_count": 27,
   "metadata": {},
   "outputs": [],
   "source": [
    "kremling_expression_v5_day_cpm = pd.read_csv('/home/rsantos/Repositories/maize_microbiome_transcriptomics/rnaseq_kremling2018/quantification/kremling_expression_v5_day_cpm.tsv',\n",
    "                            sep='\\t')\n",
    "kremling_expression_v5_day_cpm.set_index('Name', inplace=True)\n",
    "\n",
    "kremling_expression_v5_night_cpm = pd.read_csv('/home/rsantos/Repositories/maize_microbiome_transcriptomics/rnaseq_kremling2018/quantification/kremling_expression_v5_night_cpm.tsv',\n",
    "                            sep='\\t')\n",
    "kremling_expression_v5_night_cpm.set_index('Name', inplace=True)\n"
   ]
  },
  {
   "cell_type": "code",
   "execution_count": 28,
   "metadata": {},
   "outputs": [],
   "source": [
    "kremling_expression_v5_day_cpm_filtered = kremling_expression_v5_day_cpm[kremling_expression_v5_day_cpm.index.isin(genes_tokeep_day)]\n",
    "kremling_expression_v5_night_cpm_filtered = kremling_expression_v5_night_cpm[kremling_expression_v5_night_cpm.index.isin(genes_tokeep_night)]"
   ]
  },
  {
   "cell_type": "code",
   "execution_count": 30,
   "metadata": {},
   "outputs": [
    {
     "name": "stdout",
     "output_type": "stream",
     "text": [
      "(13107, 176)\n",
      "(13630, 228)\n"
     ]
    }
   ],
   "source": [
    "print(kremling_expression_v5_day_cpm_filtered.shape)\n",
    "print(kremling_expression_v5_night_cpm_filtered.shape)"
   ]
  },
  {
   "cell_type": "markdown",
   "metadata": {},
   "source": [
    "### Filtering OTUs\n",
    "\n",
    "Since relative abundance will be used to filter out genes with low expression, it must be imported first:"
   ]
  },
  {
   "cell_type": "code",
   "execution_count": 6,
   "metadata": {},
   "outputs": [],
   "source": [
    "otu_table_merged_day_relative_abund = pd.read_csv('/home/rsantos/Repositories/maize_microbiome_transcriptomics/16S_wallace2018/combine_day_night_samples/summed_day_night_otu_day_relative_abund.tsv',\n",
    "                            sep='\\t')\n",
    "otu_table_merged_day_relative_abund.set_index('OTU ID', inplace=True)\n",
    "\n",
    "otu_table_merged_night_relative_abund = pd.read_csv('/home/rsantos/Repositories/maize_microbiome_transcriptomics/16S_wallace2018/combine_day_night_samples/summed_day_night_otu_night_relative_abund.tsv',\n",
    "                            sep='\\t')\n",
    "otu_table_merged_night_relative_abund.set_index('OTU ID', inplace=True)"
   ]
  },
  {
   "cell_type": "code",
   "execution_count": 7,
   "metadata": {},
   "outputs": [],
   "source": [
    "otus_tokeep_day = otu_table_merged_day_relative_abund[(otu_table_merged_day_relative_abund > 0.001).sum(axis=1) >= (otu_table_merged_day_relative_abund.shape[1] * 0.1)].index\n",
    "otus_tokeep_night = otu_table_merged_night_relative_abund[(otu_table_merged_night_relative_abund > 0.001).sum(axis=1) >= (otu_table_merged_night_relative_abund.shape[1] * 0.1)].index"
   ]
  },
  {
   "cell_type": "markdown",
   "metadata": {},
   "source": [
    "Importing the OTU CPM matrices and filter OTUs:"
   ]
  },
  {
   "cell_type": "code",
   "execution_count": 8,
   "metadata": {},
   "outputs": [],
   "source": [
    "otu_table_merged_day_cpm = pd.read_csv('/home/rsantos/Repositories/maize_microbiome_transcriptomics/16S_wallace2018/combine_day_night_samples/summed_d_n_otu_day_cpm.tsv',\n",
    "                            sep='\\t')\n",
    "otu_table_merged_day_cpm.set_index('OTU ID', inplace=True)\n",
    "\n",
    "otu_table_merged_night_cpm = pd.read_csv('/home/rsantos/Repositories/maize_microbiome_transcriptomics/16S_wallace2018/combine_day_night_samples/summed_d_n_otu_night_cpm.tsv',\n",
    "                            sep='\\t')\n",
    "otu_table_merged_night_cpm.set_index('OTU ID', inplace=True)\n"
   ]
  },
  {
   "cell_type": "code",
   "execution_count": 9,
   "metadata": {},
   "outputs": [],
   "source": [
    "otu_table_merged_day_cpm_filtered = otu_table_merged_day_cpm[otu_table_merged_day_cpm.index.isin(otus_tokeep_day)]\n",
    "otu_table_merged_night_cpm_filtered = otu_table_merged_night_cpm[otu_table_merged_night_cpm.index.isin(otus_tokeep_night)]"
   ]
  },
  {
   "cell_type": "markdown",
   "metadata": {},
   "source": [
    "## Filtering low variance (expression or OTUs)\n",
    "\n",
    "\n",
    "[Priya et al 2022](https://www.nature.com/articles/s41564-022-01121-z) used 25% quantile as cutoff for gene expression analysis."
   ]
  },
  {
   "cell_type": "code",
   "execution_count": 10,
   "metadata": {},
   "outputs": [],
   "source": [
    "import numpy as np\n",
    "\n",
    "# Calculate the coefficient of variation for each row\n",
    "kremling_expression_v5_day_tpm_filtered_cv = kremling_expression_v5_day_tpm_filtered.apply(lambda row: np.std(row) / np.mean(row), axis=1)\n",
    "kremling_expression_v5_night_tpm_filtered_cv = kremling_expression_v5_night_tpm_filtered.apply(lambda row: np.std(row) / np.mean(row), axis=1)"
   ]
  },
  {
   "cell_type": "markdown",
   "metadata": {},
   "source": [
    "Filtering the Gene TPM matrix:"
   ]
  },
  {
   "cell_type": "code",
   "execution_count": 11,
   "metadata": {},
   "outputs": [
    {
     "name": "stdout",
     "output_type": "stream",
     "text": [
      "(10222, 228)\n",
      "(9830, 176)\n"
     ]
    }
   ],
   "source": [
    "kremling_expression_v5_night_tpm_filtered_cv_filtered = kremling_expression_v5_night_tpm_filtered.loc[kremling_expression_v5_night_tpm_filtered_cv[kremling_expression_v5_night_tpm_filtered_cv > kremling_expression_v5_night_tpm_filtered_cv.quantile(q=0.25)].index]\n",
    "kremling_expression_v5_day_tpm_filtered_cv_filtered = kremling_expression_v5_day_tpm_filtered.loc[kremling_expression_v5_day_tpm_filtered_cv[kremling_expression_v5_day_tpm_filtered_cv > kremling_expression_v5_day_tpm_filtered_cv.quantile(q=0.25)].index]\n",
    "print(kremling_expression_v5_night_tpm_filtered_cv_filtered.shape)\n",
    "print(kremling_expression_v5_day_tpm_filtered_cv_filtered.shape)"
   ]
  },
  {
   "cell_type": "code",
   "execution_count": 31,
   "metadata": {},
   "outputs": [],
   "source": [
    "# Calculate the coefficient of variation for each row\n",
    "kremling_expression_v5_day_cpm_filtered_cv = kremling_expression_v5_day_cpm_filtered.apply(lambda row: np.std(row) / np.mean(row), axis=1)\n",
    "kremling_expression_v5_night_cpm_filtered_cv = kremling_expression_v5_night_cpm_filtered.apply(lambda row: np.std(row) / np.mean(row), axis=1)"
   ]
  },
  {
   "cell_type": "markdown",
   "metadata": {},
   "source": [
    "Filtering the Gene CPM matrix:"
   ]
  },
  {
   "cell_type": "code",
   "execution_count": 32,
   "metadata": {},
   "outputs": [
    {
     "name": "stdout",
     "output_type": "stream",
     "text": [
      "(10222, 228)\n",
      "(9830, 176)\n"
     ]
    }
   ],
   "source": [
    "kremling_expression_v5_night_cpm_filtered_cv_filtered = kremling_expression_v5_night_cpm_filtered.loc[kremling_expression_v5_night_cpm_filtered_cv[kremling_expression_v5_night_cpm_filtered_cv > kremling_expression_v5_night_cpm_filtered_cv.quantile(q=0.25)].index]\n",
    "kremling_expression_v5_day_cpm_filtered_cv_filtered = kremling_expression_v5_day_cpm_filtered.loc[kremling_expression_v5_day_cpm_filtered_cv[kremling_expression_v5_day_cpm_filtered_cv > kremling_expression_v5_day_cpm_filtered_cv.quantile(q=0.25)].index]\n",
    "print(kremling_expression_v5_night_cpm_filtered_cv_filtered.shape)\n",
    "print(kremling_expression_v5_day_cpm_filtered_cv_filtered.shape)"
   ]
  },
  {
   "cell_type": "markdown",
   "metadata": {},
   "source": [
    "Filtering the OTU CPM matrix:"
   ]
  },
  {
   "cell_type": "code",
   "execution_count": 12,
   "metadata": {},
   "outputs": [],
   "source": [
    "# Calculate the coefficient of variation for each row\n",
    "otu_table_merged_day_cpm_filtered_cv = otu_table_merged_day_cpm_filtered.apply(lambda row: np.std(row) / np.mean(row), axis=1)\n",
    "otu_table_merged_night_cpm_filtered_cv = otu_table_merged_night_cpm_filtered.apply(lambda row: np.std(row) / np.mean(row), axis=1)"
   ]
  },
  {
   "cell_type": "code",
   "execution_count": 13,
   "metadata": {},
   "outputs": [],
   "source": [
    "otu_table_merged_day_cpm_filtered_cv_filtered = otu_table_merged_day_cpm_filtered.loc[otu_table_merged_day_cpm_filtered_cv[otu_table_merged_day_cpm_filtered_cv > otu_table_merged_day_cpm_filtered_cv.quantile(q=0.25)].index]\n",
    "otu_table_merged_night_cpm_filtered_cv_filtered = otu_table_merged_night_cpm_filtered.loc[otu_table_merged_night_cpm_filtered_cv[otu_table_merged_night_cpm_filtered_cv > otu_table_merged_day_cpm_filtered_cv.quantile(q=0.25)].index]"
   ]
  },
  {
   "cell_type": "markdown",
   "metadata": {},
   "source": [
    "## Correlations"
   ]
  },
  {
   "cell_type": "code",
   "execution_count": 14,
   "metadata": {},
   "outputs": [
    {
     "name": "stderr",
     "output_type": "stream",
     "text": [
      "/home/rsantos/Repositories/maize_microbiome_transcriptomics/.venv/lib/python3.10/site-packages/corals/threads.py:48: UserWarning: This function should be called before `numpy` or similar modules are imported.\n",
      "  warnings.warn(\"This function should be called before `numpy` or similar modules are imported.\")\n"
     ]
    }
   ],
   "source": [
    "from corals.threads import set_threads_for_external_libraries\n",
    "set_threads_for_external_libraries(n_threads=1)\n",
    "import numpy as np\n",
    "from corals.correlation.full.default import cor_full"
   ]
  },
  {
   "cell_type": "markdown",
   "metadata": {},
   "source": [
    "### OTU (CPM) - Gene (CPM)"
   ]
  },
  {
   "cell_type": "code",
   "execution_count": 35,
   "metadata": {},
   "outputs": [],
   "source": [
    "concat_df_night = pd.concat([kremling_expression_v5_night_cpm_filtered_cv_filtered, otu_table_merged_night_cpm_filtered_cv_filtered], axis=0)\n",
    "concat_df_day = pd.concat([kremling_expression_v5_day_cpm_filtered_cv_filtered, otu_table_merged_day_cpm_filtered_cv_filtered], axis=0)\n",
    "\n",
    "concatenated_transposed_day = concat_df_day.transpose()\n",
    "concatenated_transposed_night = concat_df_night.transpose()\n",
    "\n",
    "cor_values_day = cor_full(concatenated_transposed_day)\n",
    "cor_values_night = cor_full(concatenated_transposed_night)\n",
    "\n",
    "true_positions_day = np.where(cor_values_day > 0.6)\n",
    "shape_row_day = kremling_expression_v5_day_cpm_filtered_cv_filtered.shape[0]\n",
    "true_positions_night = np.where(cor_values_night > 0.6)\n",
    "shape_row_night = kremling_expression_v5_night_cpm_filtered_cv_filtered.shape[0]\n",
    "\n",
    "pairs_day_genecpm_otucpm = []\n",
    "pairs_night_genecpm_otucpm = []\n",
    "\n",
    "for i in range(len(true_positions_day[0])):\n",
    "    if (true_positions_day[1][i] > (shape_row_day - 1)) and (true_positions_day[0][i] < shape_row_day):\n",
    "        pairs_day_genecpm_otucpm.append((str(cor_values_day.columns[true_positions_day[1][i]]),\n",
    "              str(cor_values_day.index[true_positions_day[0][i]])))\n",
    "\n",
    "for i in range(len(true_positions_night[0])):\n",
    "    if (true_positions_night[1][i] > (shape_row_night - 1)) and (true_positions_night[0][i] < shape_row_night):\n",
    "        pairs_night_genecpm_otucpm.append((str(cor_values_night.columns[true_positions_night[1][i]]),\n",
    "              str(cor_values_night.index[true_positions_night[0][i]])))"
   ]
  },
  {
   "cell_type": "markdown",
   "metadata": {},
   "source": [
    "### OTU (CPM) - Gene (TPM)"
   ]
  },
  {
   "cell_type": "code",
   "execution_count": 36,
   "metadata": {},
   "outputs": [],
   "source": [
    "concat_df_night = pd.concat([kremling_expression_v5_night_tpm_filtered_cv_filtered, otu_table_merged_night_cpm_filtered_cv_filtered], axis=0)\n",
    "concat_df_day = pd.concat([kremling_expression_v5_day_tpm_filtered_cv_filtered, otu_table_merged_day_cpm_filtered_cv_filtered], axis=0)\n",
    "\n",
    "concatenated_transposed_day = concat_df_day.transpose()\n",
    "concatenated_transposed_night = concat_df_night.transpose()\n",
    "\n",
    "cor_values_day = cor_full(concatenated_transposed_day)\n",
    "cor_values_night = cor_full(concatenated_transposed_night)\n",
    "\n",
    "true_positions_day = np.where(cor_values_day > 0.6)\n",
    "shape_row_day = kremling_expression_v5_day_tpm_filtered_cv_filtered.shape[0]\n",
    "true_positions_night = np.where(cor_values_night > 0.6)\n",
    "shape_row_night = kremling_expression_v5_night_tpm_filtered_cv_filtered.shape[0]\n",
    "\n",
    "pairs_day_genetpm_otucpm = []\n",
    "pairs_night_genetpm_otucpm = []\n",
    "\n",
    "for i in range(len(true_positions_day[0])):\n",
    "    if (true_positions_day[1][i] > (shape_row_day - 1)) and (true_positions_day[0][i] < shape_row_day):\n",
    "        pairs_day_genetpm_otucpm.append((str(cor_values_day.columns[true_positions_day[1][i]]),\n",
    "              str(cor_values_day.index[true_positions_day[0][i]])))\n",
    "\n",
    "for i in range(len(true_positions_night[0])):\n",
    "    if (true_positions_night[1][i] > (shape_row_night - 1)) and (true_positions_night[0][i] < shape_row_night):\n",
    "        pairs_night_genetpm_otucpm.append((str(cor_values_night.columns[true_positions_night[1][i]]),\n",
    "              str(cor_values_night.index[true_positions_night[0][i]])))\n"
   ]
  },
  {
   "cell_type": "code",
   "execution_count": 37,
   "metadata": {},
   "outputs": [
    {
     "name": "stdout",
     "output_type": "stream",
     "text": [
      "599\n",
      "110\n",
      "552\n",
      "112\n"
     ]
    }
   ],
   "source": [
    "print(len(pairs_day_genecpm_otucpm))\n",
    "print(len(pairs_night_genecpm_otucpm))\n",
    "print(len(pairs_day_genetpm_otucpm))\n",
    "print(len(pairs_night_genetpm_otucpm))"
   ]
  },
  {
   "cell_type": "code",
   "execution_count": 41,
   "metadata": {},
   "outputs": [
    {
     "name": "stdout",
     "output_type": "stream",
     "text": [
      "544\n",
      "104\n"
     ]
    }
   ],
   "source": [
    "print(len(set(pairs_day_genecpm_otucpm).intersection(pairs_day_genetpm_otucpm)))\n",
    "print(len(set(pairs_night_genecpm_otucpm).intersection(pairs_night_genetpm_otucpm)))"
   ]
  },
  {
   "cell_type": "markdown",
   "metadata": {},
   "source": [
    "### OTU (CPM) - Gene (TMM)"
   ]
  },
  {
   "cell_type": "markdown",
   "metadata": {},
   "source": [
    "### OTU (CPM) - Gene (RPKM)"
   ]
  },
  {
   "cell_type": "markdown",
   "metadata": {},
   "source": [
    "### OTU (CPM) - Gene (UQ)"
   ]
  },
  {
   "cell_type": "markdown",
   "metadata": {},
   "source": [
    "### OTU (CPM) - Gene (CTF)"
   ]
  },
  {
   "cell_type": "markdown",
   "metadata": {},
   "source": [
    "### OTU (CPM) - Gene (CUF)"
   ]
  },
  {
   "cell_type": "markdown",
   "metadata": {},
   "source": [
    "### OTU (CPM) - Gene (CPM) - ASINH"
   ]
  },
  {
   "cell_type": "markdown",
   "metadata": {},
   "source": [
    "### OTU (CPM) - Gene (TPM) - ASINH"
   ]
  },
  {
   "cell_type": "markdown",
   "metadata": {},
   "source": [
    "### OTU (CPM) - Gene (TMM) - ASINH"
   ]
  },
  {
   "cell_type": "markdown",
   "metadata": {},
   "source": [
    "### OTU (CPM) - Gene (RPKM) - ASINH"
   ]
  },
  {
   "cell_type": "markdown",
   "metadata": {},
   "source": [
    "### OTU (CPM) - Gene (UQ) - ASINH"
   ]
  },
  {
   "cell_type": "markdown",
   "metadata": {},
   "source": [
    "### OTU (CPM) - Gene (CTF) - ASINH"
   ]
  },
  {
   "cell_type": "markdown",
   "metadata": {},
   "source": [
    "### OTU (CPM) - Gene (CUF) - ASINH"
   ]
  }
 ],
 "metadata": {
  "kernelspec": {
   "display_name": ".venv",
   "language": "python",
   "name": "python3"
  },
  "language_info": {
   "codemirror_mode": {
    "name": "ipython",
    "version": 3
   },
   "file_extension": ".py",
   "mimetype": "text/x-python",
   "name": "python",
   "nbconvert_exporter": "python",
   "pygments_lexer": "ipython3",
   "version": "3.10.12"
  }
 },
 "nbformat": 4,
 "nbformat_minor": 2
}
