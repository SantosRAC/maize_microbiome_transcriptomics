{
 "cells": [
  {
   "cell_type": "markdown",
   "metadata": {},
   "source": [
    "# Running correlations between gene expression and OTU abundance\n"
   ]
  },
  {
   "cell_type": "markdown",
   "metadata": {},
   "source": [
    "## Filtering lowly expressed genes and lowly abundant OTUs\n",
    "\n",
    " * Remove genes with less than one mapped read per million reads in at least 80% of samples ([Johnson and Krishnan, 2022](https://genomebiology.biomedcentral.com/articles/10.1186/s13059-021-02568-9))\n",
    " * Retaining OTUs found at 0.001 relative abundance in at least 10% of the samples ([Priya et al 2022](https://www.nature.com/articles/s41564-022-01121-z))"
   ]
  },
  {
   "cell_type": "markdown",
   "metadata": {},
   "source": [
    "### Filtering genes\n",
    "\n",
    "Since RPKM will be used to filter out genes with low expression, it must be imported first:"
   ]
  },
  {
   "cell_type": "code",
   "execution_count": 23,
   "metadata": {},
   "outputs": [],
   "source": [
    "import pandas as pd\n",
    "\n",
    "kremling_expression_v5_day_rpkm = pd.read_csv('/home/rsantos/Repositories/maize_microbiome_transcriptomics/rnaseq_kremling2018/quantification/kremling_expression_v5_day_rpkm.tsv',\n",
    "#kremling_expression_v5_day_rpkm = pd.read_csv('/home/santosrac/Repositories/maize_microbiome_transcriptomics/rnaseq_kremling2018/quantification/kremling_expression_v5_day_rpkm.tsv',\n",
    "                            sep='\\t')\n",
    "kremling_expression_v5_day_rpkm.set_index('Name', inplace=True)\n",
    "\n",
    "kremling_expression_v5_night_rpkm = pd.read_csv('/home/rsantos/Repositories/maize_microbiome_transcriptomics/rnaseq_kremling2018/quantification/kremling_expression_v5_night_rpkm.tsv',\n",
    "#kremling_expression_v5_night_rpkm = pd.read_csv('/home/santosrac/Repositories/maize_microbiome_transcriptomics/rnaseq_kremling2018/quantification/kremling_expression_v5_night_rpkm.tsv',\n",
    "                            sep='\\t')\n",
    "kremling_expression_v5_night_rpkm.set_index('Name', inplace=True)"
   ]
  },
  {
   "cell_type": "code",
   "execution_count": 24,
   "metadata": {},
   "outputs": [
    {
     "name": "stdout",
     "output_type": "stream",
     "text": [
      "(39096, 176)\n",
      "(39096, 228)\n"
     ]
    }
   ],
   "source": [
    "print(kremling_expression_v5_day_rpkm.shape)\n",
    "print(kremling_expression_v5_night_rpkm.shape)"
   ]
  },
  {
   "cell_type": "markdown",
   "metadata": {},
   "source": [
    "These are the genes to be used in filtering steps:\n",
    "\n",
    "Warning: SparXCC, one of the methods being tested to correlate genes and OTUs, does not provide good estimates with low counts and also does not scale up well in terms of running time and memory (see: [CompoCor repository, issue #1](https://github.com/IbTJensen/CompoCor/issues/1)). Thefore, for this particular software I increased the RPKM filter (from 1 to 3)"
   ]
  },
  {
   "cell_type": "code",
   "execution_count": 25,
   "metadata": {},
   "outputs": [
    {
     "name": "stdout",
     "output_type": "stream",
     "text": [
      "Genes to keep in day: 9567\n",
      "Genes to keep in night: 10076\n"
     ]
    }
   ],
   "source": [
    "#genes_tokeep_day = kremling_expression_v5_day_rpkm[(kremling_expression_v5_day_rpkm > 3).sum(axis=1) >= (kremling_expression_v5_day_rpkm.shape[1] * 0.8)].index\n",
    "#genes_tokeep_night = kremling_expression_v5_night_rpkm[(kremling_expression_v5_night_rpkm > 3).sum(axis=1) >= (kremling_expression_v5_night_rpkm.shape[1] * 0.8)].index\n",
    "genes_tokeep_day = kremling_expression_v5_day_rpkm[(kremling_expression_v5_day_rpkm > 1).sum(axis=1) >= (kremling_expression_v5_day_rpkm.shape[1] * 0.8)].index\n",
    "genes_tokeep_night = kremling_expression_v5_night_rpkm[(kremling_expression_v5_night_rpkm > 1).sum(axis=1) >= (kremling_expression_v5_night_rpkm.shape[1] * 0.8)].index\n",
    "print('Genes to keep in day:', len(genes_tokeep_day))\n",
    "print('Genes to keep in night:', len(genes_tokeep_night))"
   ]
  },
  {
   "cell_type": "markdown",
   "metadata": {},
   "source": [
    "Filtering RPKM:"
   ]
  },
  {
   "cell_type": "code",
   "execution_count": 3,
   "metadata": {},
   "outputs": [],
   "source": [
    "kremling_expression_v5_day_rpkm_filtered = kremling_expression_v5_day_rpkm[(kremling_expression_v5_day_rpkm > 1).sum(axis=1) >= (kremling_expression_v5_day_rpkm.shape[1] * 0.8)]\n",
    "kremling_expression_v5_night_rpkm_filtered = kremling_expression_v5_night_rpkm[(kremling_expression_v5_night_rpkm > 1).sum(axis=1) >= (kremling_expression_v5_night_rpkm.shape[1] * 0.8)]"
   ]
  },
  {
   "cell_type": "markdown",
   "metadata": {},
   "source": [
    "Importing the counts matrices. Warming: filtered raw counts will be used in cases that methods reallly require raw counts!!\n",
    "However, future investigation must be done to make sure this is not problematic."
   ]
  },
  {
   "cell_type": "code",
   "execution_count": 26,
   "metadata": {},
   "outputs": [
    {
     "name": "stdout",
     "output_type": "stream",
     "text": [
      "(39096, 176)\n",
      "(39096, 228)\n"
     ]
    }
   ],
   "source": [
    "kremling_expression_v5_day_counts = pd.read_csv('/home/rsantos/Repositories/maize_microbiome_transcriptomics/correlations_rnaseq_metataxonomics/kremling_expression_v5_day.tsv',\n",
    "                            sep='\\t')\n",
    "kremling_expression_v5_day_counts.set_index('Name', inplace=True)\n",
    "\n",
    "kremling_expression_v5_night_counts = pd.read_csv('/home/rsantos/Repositories/maize_microbiome_transcriptomics/correlations_rnaseq_metataxonomics/kremling_expression_v5_night.tsv',\n",
    "                            sep='\\t')\n",
    "kremling_expression_v5_night_counts.set_index('Name', inplace=True)\n",
    "print(kremling_expression_v5_day_counts.shape)\n",
    "print(kremling_expression_v5_night_counts.shape)"
   ]
  },
  {
   "cell_type": "markdown",
   "metadata": {},
   "source": [
    "Filtering the counts matrix based on RPKM values:"
   ]
  },
  {
   "cell_type": "code",
   "execution_count": 27,
   "metadata": {},
   "outputs": [
    {
     "name": "stdout",
     "output_type": "stream",
     "text": [
      "(9567, 176)\n",
      "(10076, 228)\n"
     ]
    }
   ],
   "source": [
    "kremling_expression_v5_day_counts_filtered = kremling_expression_v5_day_counts[kremling_expression_v5_day_counts.index.isin(genes_tokeep_day)]\n",
    "kremling_expression_v5_night_counts_filtered = kremling_expression_v5_night_counts[kremling_expression_v5_night_counts.index.isin(genes_tokeep_night)]\n",
    "print(kremling_expression_v5_day_counts_filtered.shape)\n",
    "print(kremling_expression_v5_night_counts_filtered.shape)"
   ]
  },
  {
   "cell_type": "markdown",
   "metadata": {},
   "source": [
    "Importing the TPM, CPM, TMM, UQ, CTF and CUF matrices and filter genes:"
   ]
  },
  {
   "cell_type": "code",
   "execution_count": 4,
   "metadata": {},
   "outputs": [],
   "source": [
    "#kremling_expression_v5_day_tpm = pd.read_csv('/home/santosrac/Repositories/maize_microbiome_transcriptomics/rnaseq_kremling2018/quantification/kremling_expression_v5_day_tpm.tsv',\n",
    "kremling_expression_v5_day_tpm = pd.read_csv('/home/rsantos/Repositories/maize_microbiome_transcriptomics/rnaseq_kremling2018/quantification/kremling_expression_v5_day_tpm.tsv',\n",
    "                            sep='\\t')\n",
    "kremling_expression_v5_day_tpm.set_index('Name', inplace=True)\n",
    "\n",
    "kremling_expression_v5_night_tpm = pd.read_csv('/home/rsantos/Repositories/maize_microbiome_transcriptomics/rnaseq_kremling2018/quantification/kremling_expression_v5_night_tpm.tsv',\n",
    "#kremling_expression_v5_night_tpm = pd.read_csv('/home/santosrac/Repositories/maize_microbiome_transcriptomics/rnaseq_kremling2018/quantification/kremling_expression_v5_night_tpm.tsv',\n",
    "                            sep='\\t')\n",
    "kremling_expression_v5_night_tpm.set_index('Name', inplace=True)\n",
    "\n",
    "kremling_expression_v5_day_tpm_filtered = kremling_expression_v5_day_tpm[kremling_expression_v5_day_tpm.index.isin(genes_tokeep_day)]\n",
    "kremling_expression_v5_night_tpm_filtered = kremling_expression_v5_night_tpm[kremling_expression_v5_night_tpm.index.isin(genes_tokeep_night)]\n",
    "\n",
    "kremling_expression_v5_day_cpm = pd.read_csv('/home/rsantos/Repositories/maize_microbiome_transcriptomics/rnaseq_kremling2018/quantification/kremling_expression_v5_day_cpm.tsv',\n",
    "#kremling_expression_v5_day_cpm = pd.read_csv('/home/santosrac/Repositories/maize_microbiome_transcriptomics/rnaseq_kremling2018/quantification/kremling_expression_v5_day_cpm.tsv',\n",
    "                            sep='\\t')\n",
    "kremling_expression_v5_day_cpm.set_index('Name', inplace=True)\n",
    "\n",
    "kremling_expression_v5_night_cpm = pd.read_csv('/home/rsantos/Repositories/maize_microbiome_transcriptomics/rnaseq_kremling2018/quantification/kremling_expression_v5_night_cpm.tsv',\n",
    "#kremling_expression_v5_night_cpm = pd.read_csv('/home/santosrac/Repositories/maize_microbiome_transcriptomics/rnaseq_kremling2018/quantification/kremling_expression_v5_night_cpm.tsv',\n",
    "                            sep='\\t')\n",
    "kremling_expression_v5_night_cpm.set_index('Name', inplace=True)\n",
    "\n",
    "kremling_expression_v5_day_cpm_filtered = kremling_expression_v5_day_cpm[kremling_expression_v5_day_cpm.index.isin(genes_tokeep_day)]\n",
    "kremling_expression_v5_night_cpm_filtered = kremling_expression_v5_night_cpm[kremling_expression_v5_night_cpm.index.isin(genes_tokeep_night)]\n",
    "\n",
    "kremling_expression_v5_day_tmm = pd.read_csv('/home/rsantos/Repositories/maize_microbiome_transcriptomics/rnaseq_kremling2018/quantification/kremling_expression_v5_day_tmm.tsv',\n",
    "#kremling_expression_v5_day_tmm = pd.read_csv('/home/santosrac/Repositories/maize_microbiome_transcriptomics/rnaseq_kremling2018/quantification/kremling_expression_v5_day_tmm.tsv',\n",
    "                            sep='\\t')\n",
    "kremling_expression_v5_day_tmm.set_index('Name', inplace=True)\n",
    "\n",
    "kremling_expression_v5_night_tmm = pd.read_csv('/home/rsantos/Repositories/maize_microbiome_transcriptomics/rnaseq_kremling2018/quantification/kremling_expression_v5_night_tmm.tsv',\n",
    "#kremling_expression_v5_night_tmm = pd.read_csv('/home/santosrac/Repositories/maize_microbiome_transcriptomics/rnaseq_kremling2018/quantification/kremling_expression_v5_night_tmm.tsv',\n",
    "                            sep='\\t')\n",
    "kremling_expression_v5_night_tmm.set_index('Name', inplace=True)\n",
    "\n",
    "kremling_expression_v5_day_tmm_filtered = kremling_expression_v5_day_tmm[kremling_expression_v5_day_tmm.index.isin(genes_tokeep_day)]\n",
    "kremling_expression_v5_night_tmm_filtered = kremling_expression_v5_night_tmm[kremling_expression_v5_night_tmm.index.isin(genes_tokeep_night)]\n",
    "\n",
    "kremling_expression_v5_day_uq = pd.read_csv('/home/rsantos/Repositories/maize_microbiome_transcriptomics/rnaseq_kremling2018/quantification/kremling_expression_v5_day_uq.tsv',\n",
    "#kremling_expression_v5_day_uq = pd.read_csv('/home/santosrac/Repositories/maize_microbiome_transcriptomics/rnaseq_kremling2018/quantification/kremling_expression_v5_day_uq.tsv',\n",
    "                            sep='\\t')\n",
    "kremling_expression_v5_day_uq.set_index('Name', inplace=True)\n",
    "\n",
    "kremling_expression_v5_night_uq = pd.read_csv('/home/rsantos/Repositories/maize_microbiome_transcriptomics/rnaseq_kremling2018/quantification/kremling_expression_v5_night_uq.tsv',\n",
    "#kremling_expression_v5_night_uq = pd.read_csv('/home/santosrac/Repositories/maize_microbiome_transcriptomics/rnaseq_kremling2018/quantification/kremling_expression_v5_night_uq.tsv',\n",
    "                            sep='\\t')\n",
    "kremling_expression_v5_night_uq.set_index('Name', inplace=True)\n",
    "\n",
    "kremling_expression_v5_day_uq_filtered = kremling_expression_v5_day_uq[kremling_expression_v5_day_uq.index.isin(genes_tokeep_day)]\n",
    "kremling_expression_v5_night_uq_filtered = kremling_expression_v5_night_uq[kremling_expression_v5_night_uq.index.isin(genes_tokeep_night)]\n",
    "\n",
    "kremling_expression_v5_day_ctf = pd.read_csv('/home/rsantos/Repositories/maize_microbiome_transcriptomics/rnaseq_kremling2018/quantification/kremling_expression_v5_day_ctf.tsv',\n",
    "#kremling_expression_v5_day_ctf = pd.read_csv('/home/santosrac/Repositories/maize_microbiome_transcriptomics/rnaseq_kremling2018/quantification/kremling_expression_v5_day_ctf.tsv',\n",
    "                            sep='\\t')\n",
    "kremling_expression_v5_day_ctf.set_index('Name', inplace=True)\n",
    "\n",
    "kremling_expression_v5_night_ctf = pd.read_csv('/home/rsantos/Repositories/maize_microbiome_transcriptomics/rnaseq_kremling2018/quantification/kremling_expression_v5_night_ctf.tsv',\n",
    "#kremling_expression_v5_night_ctf = pd.read_csv('/home/santosrac/Repositories/maize_microbiome_transcriptomics/rnaseq_kremling2018/quantification/kremling_expression_v5_night_ctf.tsv',\n",
    "                            sep='\\t')\n",
    "kremling_expression_v5_night_ctf.set_index('Name', inplace=True)\n",
    "\n",
    "kremling_expression_v5_day_ctf_filtered = kremling_expression_v5_day_ctf[kremling_expression_v5_day_ctf.index.isin(genes_tokeep_day)]\n",
    "kremling_expression_v5_night_ctf_filtered = kremling_expression_v5_night_ctf[kremling_expression_v5_night_ctf.index.isin(genes_tokeep_night)]\n",
    "\n",
    "kremling_expression_v5_day_cuf = pd.read_csv('/home/rsantos/Repositories/maize_microbiome_transcriptomics/rnaseq_kremling2018/quantification/kremling_expression_v5_day_cuf.tsv',\n",
    "#kremling_expression_v5_day_cuf = pd.read_csv('/home/santosrac/Repositories/maize_microbiome_transcriptomics/rnaseq_kremling2018/quantification/kremling_expression_v5_day_cuf.tsv',\n",
    "                            sep='\\t')\n",
    "kremling_expression_v5_day_cuf.set_index('Name', inplace=True)\n",
    "\n",
    "kremling_expression_v5_night_cuf = pd.read_csv('/home/rsantos/Repositories/maize_microbiome_transcriptomics/rnaseq_kremling2018/quantification/kremling_expression_v5_night_cuf.tsv',\n",
    "#kremling_expression_v5_night_cuf = pd.read_csv('/home/santosrac/Repositories/maize_microbiome_transcriptomics/rnaseq_kremling2018/quantification/kremling_expression_v5_night_cuf.tsv',\n",
    "                            sep='\\t')\n",
    "kremling_expression_v5_night_cuf.set_index('Name', inplace=True)\n",
    "\n",
    "kremling_expression_v5_day_cuf_filtered = kremling_expression_v5_day_cuf[kremling_expression_v5_day_cuf.index.isin(genes_tokeep_day)]\n",
    "kremling_expression_v5_night_cuf_filtered = kremling_expression_v5_night_cuf[kremling_expression_v5_night_cuf.index.isin(genes_tokeep_night)]"
   ]
  },
  {
   "cell_type": "markdown",
   "metadata": {},
   "source": [
    "### Filtering OTUs\n",
    "\n",
    "Since relative abundance will be used to filter out genes with low expression, it must be imported first:"
   ]
  },
  {
   "cell_type": "code",
   "execution_count": 31,
   "metadata": {},
   "outputs": [],
   "source": [
    "import pandas as pd\n",
    "\n",
    "otu_table_merged_day_relative_abund = pd.read_csv('/home/rsantos/Repositories/maize_microbiome_transcriptomics/16S_wallace2018/combine_day_night_samples/summed_day_night_otu_day_relative_abund.tsv',\n",
    "#otu_table_merged_day_relative_abund = pd.read_csv('/home/santosrac/Repositories/maize_microbiome_transcriptomics/16S_wallace2018/combine_day_night_samples/summed_day_night_otu_day_relative_abund.tsv',\n",
    "                            sep='\\t')\n",
    "otu_table_merged_day_relative_abund.set_index('OTU ID', inplace=True)\n",
    "\n",
    "#otu_table_merged_night_relative_abund = pd.read_csv('/home/santosrac/Repositories/maize_microbiome_transcriptomics/16S_wallace2018/combine_day_night_samples/summed_day_night_otu_night_relative_abund.tsv',\n",
    "otu_table_merged_night_relative_abund = pd.read_csv('/home/rsantos/Repositories/maize_microbiome_transcriptomics/16S_wallace2018/combine_day_night_samples/summed_day_night_otu_night_relative_abund.tsv',\n",
    "                            sep='\\t')\n",
    "otu_table_merged_night_relative_abund.set_index('OTU ID', inplace=True)"
   ]
  },
  {
   "cell_type": "code",
   "execution_count": 32,
   "metadata": {},
   "outputs": [
    {
     "name": "stdout",
     "output_type": "stream",
     "text": [
      "(9057, 176)\n",
      "(9057, 228)\n"
     ]
    }
   ],
   "source": [
    "print(otu_table_merged_day_relative_abund.shape)\n",
    "print(otu_table_merged_night_relative_abund.shape)"
   ]
  },
  {
   "cell_type": "code",
   "execution_count": 33,
   "metadata": {},
   "outputs": [],
   "source": [
    "otus_tokeep_day = otu_table_merged_day_relative_abund[(otu_table_merged_day_relative_abund > 0.001).sum(axis=1) >= (otu_table_merged_day_relative_abund.shape[1] * 0.1)].index\n",
    "otus_tokeep_night = otu_table_merged_night_relative_abund[(otu_table_merged_night_relative_abund > 0.001).sum(axis=1) >= (otu_table_merged_night_relative_abund.shape[1] * 0.1)].index"
   ]
  },
  {
   "cell_type": "markdown",
   "metadata": {},
   "source": [
    "OTU matrices with relative abundances are filtered (based on relative abundance) for correlations:"
   ]
  },
  {
   "cell_type": "code",
   "execution_count": 7,
   "metadata": {},
   "outputs": [],
   "source": [
    "otu_table_merged_day_relative_abund_filtered = otu_table_merged_day_relative_abund[otu_table_merged_day_relative_abund.index.isin(otus_tokeep_day)]\n",
    "otu_table_merged_night_relative_abund_filtered = otu_table_merged_night_relative_abund[otu_table_merged_night_relative_abund.index.isin(otus_tokeep_night)]"
   ]
  },
  {
   "cell_type": "code",
   "execution_count": 8,
   "metadata": {},
   "outputs": [
    {
     "name": "stdout",
     "output_type": "stream",
     "text": [
      "(3681, 176)\n",
      "(3712, 228)\n"
     ]
    }
   ],
   "source": [
    "print(otu_table_merged_day_relative_abund_filtered.shape)\n",
    "print(otu_table_merged_night_relative_abund_filtered.shape)"
   ]
  },
  {
   "cell_type": "markdown",
   "metadata": {},
   "source": [
    "Exporting matrices to files:"
   ]
  },
  {
   "cell_type": "code",
   "execution_count": null,
   "metadata": {},
   "outputs": [],
   "source": [
    "#otu_table_merged_day_relative_abund_filtered.to_csv('/home/rsantos/Repositories/maize_microbiome_transcriptomics/16S_wallace2018/combine_day_night_samples/otu_table_merged_day_relative_abund_filtered.tsv',\n",
    "otu_table_merged_day_relative_abund_filtered.to_csv('/home/santosrac/Repositories/maize_microbiome_transcriptomics/16S_wallace2018/combine_day_night_samples/otu_table_merged_day_relative_abund_filtered.tsv',\n",
    "                            sep='\\t')\n",
    "#otu_table_merged_night_relative_abund_filtered.to_csv('/home/rsantos/Repositories/maize_microbiome_transcriptomics/16S_wallace2018/combine_day_night_samples/otu_table_merged_night_relative_abund_filtered.tsv',\n",
    "otu_table_merged_night_relative_abund_filtered.to_csv('/home/santosrac/Repositories/maize_microbiome_transcriptomics/16S_wallace2018/combine_day_night_samples/otu_table_merged_night_relative_abund_filtered.tsv',\n",
    "                            sep='\\t')"
   ]
  },
  {
   "cell_type": "markdown",
   "metadata": {},
   "source": [
    "Importing the OTU CPM matrices and filter OTUs:"
   ]
  },
  {
   "cell_type": "code",
   "execution_count": 9,
   "metadata": {},
   "outputs": [],
   "source": [
    "otu_table_merged_day_cpm = pd.read_csv('/home/rsantos/Repositories/maize_microbiome_transcriptomics/16S_wallace2018/combine_day_night_samples/summed_d_n_otu_day_cpm.tsv',\n",
    "#otu_table_merged_day_cpm = pd.read_csv('/home/santosrac/Repositories/maize_microbiome_transcriptomics/16S_wallace2018/combine_day_night_samples/summed_d_n_otu_day_cpm.tsv',\n",
    "                            sep='\\t')\n",
    "otu_table_merged_day_cpm.set_index('OTU ID', inplace=True)\n",
    "\n",
    "otu_table_merged_night_cpm = pd.read_csv('/home/rsantos/Repositories/maize_microbiome_transcriptomics/16S_wallace2018/combine_day_night_samples/summed_d_n_otu_night_cpm.tsv',\n",
    "#otu_table_merged_night_cpm = pd.read_csv('/home/santosrac/Repositories/maize_microbiome_transcriptomics/16S_wallace2018/combine_day_night_samples/summed_d_n_otu_night_cpm.tsv',\n",
    "                            sep='\\t')\n",
    "otu_table_merged_night_cpm.set_index('OTU ID', inplace=True)"
   ]
  },
  {
   "cell_type": "markdown",
   "metadata": {},
   "source": [
    "OTU matrices are filtered based on relative abundance:"
   ]
  },
  {
   "cell_type": "code",
   "execution_count": 10,
   "metadata": {},
   "outputs": [],
   "source": [
    "otu_table_merged_day_cpm_filtered = otu_table_merged_day_cpm[otu_table_merged_day_cpm.index.isin(otus_tokeep_day)]\n",
    "otu_table_merged_night_cpm_filtered = otu_table_merged_night_cpm[otu_table_merged_night_cpm.index.isin(otus_tokeep_night)]"
   ]
  },
  {
   "cell_type": "code",
   "execution_count": 11,
   "metadata": {},
   "outputs": [
    {
     "name": "stdout",
     "output_type": "stream",
     "text": [
      "(3681, 176)\n",
      "(3712, 228)\n"
     ]
    }
   ],
   "source": [
    "print(otu_table_merged_day_cpm_filtered.shape)\n",
    "print(otu_table_merged_night_cpm_filtered.shape)"
   ]
  },
  {
   "cell_type": "markdown",
   "metadata": {},
   "source": [
    "Importing the OTU counts matrices and filter OTUs:"
   ]
  },
  {
   "cell_type": "code",
   "execution_count": null,
   "metadata": {},
   "outputs": [],
   "source": [
    "#otu_table_merged_counts = pd.read_csv('/home/rsantos/Repositories/maize_microbiome_transcriptomics/16S_wallace2018/combine_day_night_samples/summed_day_night_otu_counts.tsv',\n",
    "otu_table_merged_counts = pd.read_csv('/home/santosrac/Repositories/maize_microbiome_transcriptomics/16S_wallace2018/combine_day_night_samples/summed_day_night_otu_counts.tsv',\n",
    "                            sep='\\t')\n",
    "otu_table_merged_counts.set_index('OTU ID', inplace=True)"
   ]
  },
  {
   "cell_type": "markdown",
   "metadata": {},
   "source": [
    "OTU matrices are filtered based on day and night samples:"
   ]
  },
  {
   "cell_type": "code",
   "execution_count": null,
   "metadata": {},
   "outputs": [],
   "source": [
    "otu_table_merged_counts_day = otu_table_merged_counts[otu_table_merged_day_cpm_filtered.columns]\n",
    "otu_table_merged_counts_night = otu_table_merged_counts[otu_table_merged_night_cpm_filtered.columns]"
   ]
  },
  {
   "cell_type": "markdown",
   "metadata": {},
   "source": [
    "OTU counts matrices are filtered based on relative abundance:"
   ]
  },
  {
   "cell_type": "code",
   "execution_count": null,
   "metadata": {},
   "outputs": [],
   "source": [
    "otu_table_merged_counts_day_filtered = otu_table_merged_counts_day[otu_table_merged_counts_day.index.isin(otus_tokeep_day)]\n",
    "otu_table_merged_counts_night_filtered = otu_table_merged_counts_night[otu_table_merged_counts_night.index.isin(otus_tokeep_night)]"
   ]
  },
  {
   "cell_type": "code",
   "execution_count": null,
   "metadata": {},
   "outputs": [],
   "source": [
    "print(otu_table_merged_counts_day_filtered.shape)\n",
    "print(otu_table_merged_counts_night_filtered.shape)"
   ]
  },
  {
   "cell_type": "markdown",
   "metadata": {},
   "source": [
    "Exporting filtered count tables for day and night:"
   ]
  },
  {
   "cell_type": "code",
   "execution_count": null,
   "metadata": {},
   "outputs": [],
   "source": [
    "#otu_table_merged_counts_day_filtered.to_csv('/home/rsantos/Repositories/maize_microbiome_transcriptomics/16S_wallace2018/combine_day_night_samples/otu_table_merged_counts_day_filtered.tsv',\n",
    "otu_table_merged_counts_day_filtered.to_csv('/home/santosrac/Repositories/maize_microbiome_transcriptomics/16S_wallace2018/combine_day_night_samples/otu_table_merged_counts_day_filtered.tsv',\n",
    "                            sep='\\t')\n",
    "#otu_table_merged_counts_night_filtered.to_csv('/home/rsantos/Repositories/maize_microbiome_transcriptomics/16S_wallace2018/combine_day_night_samples/otu_table_merged_counts_night_filtered.tsv',\n",
    "otu_table_merged_counts_night_filtered.to_csv('/home/santosrac/Repositories/maize_microbiome_transcriptomics/16S_wallace2018/combine_day_night_samples/otu_table_merged_counts_night_filtered.tsv',\n",
    "                            sep='\\t')"
   ]
  },
  {
   "cell_type": "markdown",
   "metadata": {},
   "source": [
    "Importing matrices: (alternative to generation)"
   ]
  },
  {
   "cell_type": "code",
   "execution_count": 34,
   "metadata": {},
   "outputs": [
    {
     "name": "stdout",
     "output_type": "stream",
     "text": [
      "(3681, 176)\n",
      "(3712, 228)\n"
     ]
    }
   ],
   "source": [
    "otu_table_merged_counts_day_filtered = pd.read_csv('/home/rsantos/Repositories/maize_microbiome_transcriptomics/16S_wallace2018/combine_day_night_samples/otu_table_merged_counts_day_filtered.tsv',\n",
    "                            sep='\\t')\n",
    "otu_table_merged_counts_day_filtered.set_index('OTU ID', inplace=True)\n",
    "\n",
    "otu_table_merged_counts_night_filtered = pd.read_csv('/home/rsantos/Repositories/maize_microbiome_transcriptomics/16S_wallace2018/combine_day_night_samples/otu_table_merged_counts_night_filtered.tsv',\n",
    "                            sep='\\t')\n",
    "otu_table_merged_counts_night_filtered.set_index('OTU ID', inplace=True)\n",
    "print(otu_table_merged_counts_day_filtered.shape)\n",
    "print(otu_table_merged_counts_night_filtered.shape)"
   ]
  },
  {
   "cell_type": "markdown",
   "metadata": {},
   "source": [
    "### Filtering OTU data collapsed to genus and family levels\n",
    "\n",
    "Since relative abundance will be used to filter out genes with low expression, it must be imported first.\n",
    "Relative abundance matrices were calculated after collapsing OTU data at genus and family levels."
   ]
  },
  {
   "cell_type": "code",
   "execution_count": 2,
   "metadata": {},
   "outputs": [],
   "source": [
    "import pandas as pd\n",
    "\n",
    "# Genus level - relative abundance\n",
    "genus_table_merged_day_relative_abund = pd.read_csv('/home/rsantos/Repositories/maize_microbiome_transcriptomics/16S_wallace2018/combine_day_night_samples/genus_table_merged_d_n_day_relative_abund.tsv',\n",
    "                            sep='\\t')\n",
    "genus_table_merged_day_relative_abund.set_index('Genus', inplace=True)\n",
    "\n",
    "genus_table_merged_night_relative_abund = pd.read_csv('/home/rsantos/Repositories/maize_microbiome_transcriptomics/16S_wallace2018/combine_day_night_samples/genus_table_merged_d_n_night_relative_abund.tsv',\n",
    "                            sep='\\t')\n",
    "genus_table_merged_night_relative_abund.set_index('Genus', inplace=True)\n",
    "\n",
    "# Family level - relative abundance\n",
    "family_table_merged_day_relative_abund = pd.read_csv('/home/rsantos/Repositories/maize_microbiome_transcriptomics/16S_wallace2018/combine_day_night_samples/family_table_merged_d_n_day_relative_abund.tsv',\n",
    "                            sep='\\t')\n",
    "family_table_merged_day_relative_abund.set_index('Family', inplace=True)\n",
    "\n",
    "family_table_merged_night_relative_abund = pd.read_csv('/home/rsantos/Repositories/maize_microbiome_transcriptomics/16S_wallace2018/combine_day_night_samples/family_table_merged_d_n_night_relative_abund.tsv',\n",
    "                            sep='\\t')\n",
    "family_table_merged_night_relative_abund.set_index('Family', inplace=True)"
   ]
  },
  {
   "cell_type": "markdown",
   "metadata": {},
   "source": [
    "Filtering genus and family based on relative abundance:"
   ]
  },
  {
   "cell_type": "code",
   "execution_count": 3,
   "metadata": {},
   "outputs": [],
   "source": [
    "genus_tokeep_day = genus_table_merged_day_relative_abund[(genus_table_merged_day_relative_abund > 0.001).sum(axis=1) >= (genus_table_merged_day_relative_abund.shape[1] * 0.1)].index\n",
    "genus_tokeep_night = genus_table_merged_night_relative_abund[(genus_table_merged_night_relative_abund > 0.001).sum(axis=1) >= (genus_table_merged_night_relative_abund.shape[1] * 0.1)].index\n",
    "family_tokeep_day = family_table_merged_day_relative_abund[(family_table_merged_day_relative_abund > 0.001).sum(axis=1) >= (family_table_merged_day_relative_abund.shape[1] * 0.1)].index\n",
    "family_tokeep_night = family_table_merged_night_relative_abund[(family_table_merged_night_relative_abund > 0.001).sum(axis=1) >= (family_table_merged_night_relative_abund.shape[1] * 0.1)].index"
   ]
  },
  {
   "cell_type": "markdown",
   "metadata": {},
   "source": [
    "Importing CPM data at genus and family levels:"
   ]
  },
  {
   "cell_type": "code",
   "execution_count": 9,
   "metadata": {},
   "outputs": [],
   "source": [
    "genus_table_merged_d_n_day_cpm = pd.read_csv('/home/rsantos/Repositories/maize_microbiome_transcriptomics/16S_wallace2018/combine_day_night_samples/genus_table_merged_d_n_day_cpm.tsv',\n",
    "                            sep='\\t')\n",
    "genus_table_merged_d_n_day_cpm.set_index('Genus', inplace=True)\n",
    "genus_table_merged_d_n_night_cpm = pd.read_csv('/home/rsantos/Repositories/maize_microbiome_transcriptomics/16S_wallace2018/combine_day_night_samples/genus_table_merged_d_n_night_cpm.tsv',\n",
    "                            sep='\\t')\n",
    "genus_table_merged_d_n_night_cpm.set_index('Genus', inplace=True)\n",
    "family_table_merged_d_n_day_cpm = pd.read_csv('/home/rsantos/Repositories/maize_microbiome_transcriptomics/16S_wallace2018/combine_day_night_samples/family_table_merged_d_n_day_cpm.tsv',\n",
    "                            sep='\\t')\n",
    "family_table_merged_d_n_day_cpm.set_index('Family', inplace=True)\n",
    "family_table_merged_d_n_night_cpm = pd.read_csv('/home/rsantos/Repositories/maize_microbiome_transcriptomics/16S_wallace2018/combine_day_night_samples/family_table_merged_d_n_night_cpm.tsv',\n",
    "                            sep='\\t')\n",
    "family_table_merged_d_n_night_cpm.set_index('Family', inplace=True)"
   ]
  },
  {
   "cell_type": "code",
   "execution_count": 10,
   "metadata": {},
   "outputs": [],
   "source": [
    "genus_table_merged_d_n_day_cpm_filtered = genus_table_merged_d_n_day_cpm[genus_table_merged_d_n_day_cpm.index.isin(genus_tokeep_day)]\n",
    "genus_table_merged_d_n_night_cpm_filtered = genus_table_merged_d_n_night_cpm[genus_table_merged_d_n_night_cpm.index.isin(genus_tokeep_night)]\n",
    "family_table_merged_d_n_day_cpm_filtered = family_table_merged_d_n_day_cpm[family_table_merged_d_n_day_cpm.index.isin(family_tokeep_day)]\n",
    "family_table_merged_d_n_night_cpm_filtered = family_table_merged_d_n_night_cpm[family_table_merged_d_n_night_cpm.index.isin(family_tokeep_night)]"
   ]
  },
  {
   "cell_type": "code",
   "execution_count": 12,
   "metadata": {},
   "outputs": [
    {
     "name": "stdout",
     "output_type": "stream",
     "text": [
      "(204, 176)\n",
      "(207, 228)\n",
      "(107, 176)\n",
      "(114, 228)\n"
     ]
    }
   ],
   "source": [
    "print(genus_table_merged_d_n_day_cpm_filtered.shape)\n",
    "print(genus_table_merged_d_n_night_cpm_filtered.shape)\n",
    "print(family_table_merged_d_n_day_cpm_filtered.shape)\n",
    "print(family_table_merged_d_n_night_cpm_filtered.shape)"
   ]
  },
  {
   "cell_type": "markdown",
   "metadata": {},
   "source": [
    "## Filtering low variance (expression, OTUs, or taxonomy collapsed at genus or family)\n",
    "\n",
    "\n",
    "[Priya et al 2022](https://www.nature.com/articles/s41564-022-01121-z) used 25% quantile as cutoff for gene expression analysis."
   ]
  },
  {
   "cell_type": "markdown",
   "metadata": {},
   "source": [
    "Warning: In the case of gene counts, filtering expression was changed from minimum of 3 (instead of 1). Gene/transcript counts was used to run SparXCC, one of the methods being tested to correlate OTUs and gene expression."
   ]
  },
  {
   "cell_type": "code",
   "execution_count": 28,
   "metadata": {},
   "outputs": [
    {
     "name": "stdout",
     "output_type": "stream",
     "text": [
      "(7175, 176)\n",
      "(7557, 228)\n"
     ]
    }
   ],
   "source": [
    "import numpy as np\n",
    "\n",
    "# Calculate the coefficient of variation for each row\n",
    "kremling_expression_v5_day_counts_filtered_cv = kremling_expression_v5_day_counts_filtered.apply(lambda row: np.std(row) / np.mean(row), axis=1)\n",
    "kremling_expression_v5_night_counts_filtered_cv = kremling_expression_v5_night_counts_filtered.apply(lambda row: np.std(row) / np.mean(row), axis=1)\n",
    "kremling_expression_v5_night_counts_filtered_cv_filtered = kremling_expression_v5_night_counts_filtered.loc[kremling_expression_v5_night_counts_filtered_cv[kremling_expression_v5_night_counts_filtered_cv > kremling_expression_v5_night_counts_filtered_cv.quantile(q=0.25)].index]\n",
    "kremling_expression_v5_day_counts_filtered_cv_filtered = kremling_expression_v5_day_counts_filtered.loc[kremling_expression_v5_day_counts_filtered_cv[kremling_expression_v5_day_counts_filtered_cv > kremling_expression_v5_day_counts_filtered_cv.quantile(q=0.25)].index]\n",
    "print(kremling_expression_v5_day_counts_filtered_cv_filtered.shape)\n",
    "print(kremling_expression_v5_night_counts_filtered_cv_filtered.shape)"
   ]
  },
  {
   "cell_type": "markdown",
   "metadata": {},
   "source": [
    "## Exporting expression COUNTS matrices after filtering\n",
    "\n",
    "Warning again: for the case of gene counts, RPKM-based filtering was changed (from 1 to 3), in order to reduce the frequence of low counts genes, which reduces the realibility of SparXCC, a methods being tested to correlate genes and OTUs.\n"
   ]
  },
  {
   "cell_type": "code",
   "execution_count": 30,
   "metadata": {},
   "outputs": [],
   "source": [
    "kremling_expression_v5_day_counts_filtered_cv_filtered.to_csv('/home/rsantos/Repositories/maize_microbiome_transcriptomics/rnaseq_kremling2018/quantification/kremling_expression_v5_day_counts_filtered_cv_filtered.tsv',\n",
    "                            sep='\\t')\n",
    "kremling_expression_v5_night_counts_filtered_cv_filtered.to_csv('/home/rsantos/Repositories/maize_microbiome_transcriptomics/rnaseq_kremling2018/quantification/kremling_expression_v5_night_counts_filtered_cv_filtered.tsv',\n",
    "                            sep='\\t')"
   ]
  },
  {
   "cell_type": "markdown",
   "metadata": {},
   "source": [
    "Filtering the Gene CPM, TPM, RPKM, TMM, UQ, CTF and CUF matrices:"
   ]
  },
  {
   "cell_type": "code",
   "execution_count": null,
   "metadata": {},
   "outputs": [],
   "source": [
    "import numpy as np\n",
    "\n",
    "# Calculate the coefficient of variation for each row\n",
    "kremling_expression_v5_day_tpm_filtered_cv = kremling_expression_v5_day_tpm_filtered.apply(lambda row: np.std(row) / np.mean(row), axis=1)\n",
    "kremling_expression_v5_night_tpm_filtered_cv = kremling_expression_v5_night_tpm_filtered.apply(lambda row: np.std(row) / np.mean(row), axis=1)\n",
    "kremling_expression_v5_night_tpm_filtered_cv_filtered = kremling_expression_v5_night_tpm_filtered.loc[kremling_expression_v5_night_tpm_filtered_cv[kremling_expression_v5_night_tpm_filtered_cv > kremling_expression_v5_night_tpm_filtered_cv.quantile(q=0.25)].index]\n",
    "kremling_expression_v5_day_tpm_filtered_cv_filtered = kremling_expression_v5_day_tpm_filtered.loc[kremling_expression_v5_day_tpm_filtered_cv[kremling_expression_v5_day_tpm_filtered_cv > kremling_expression_v5_day_tpm_filtered_cv.quantile(q=0.25)].index]\n",
    "\n",
    "kremling_expression_v5_day_cpm_filtered_cv = kremling_expression_v5_day_cpm_filtered.apply(lambda row: np.std(row) / np.mean(row), axis=1)\n",
    "kremling_expression_v5_night_cpm_filtered_cv = kremling_expression_v5_night_cpm_filtered.apply(lambda row: np.std(row) / np.mean(row), axis=1)\n",
    "kremling_expression_v5_night_cpm_filtered_cv_filtered = kremling_expression_v5_night_cpm_filtered.loc[kremling_expression_v5_night_cpm_filtered_cv[kremling_expression_v5_night_cpm_filtered_cv > kremling_expression_v5_night_cpm_filtered_cv.quantile(q=0.25)].index]\n",
    "kremling_expression_v5_day_cpm_filtered_cv_filtered = kremling_expression_v5_day_cpm_filtered.loc[kremling_expression_v5_day_cpm_filtered_cv[kremling_expression_v5_day_cpm_filtered_cv > kremling_expression_v5_day_cpm_filtered_cv.quantile(q=0.25)].index]\n",
    "\n",
    "kremling_expression_v5_day_rpkm_filtered_cv = kremling_expression_v5_day_rpkm_filtered.apply(lambda row: np.std(row) / np.mean(row), axis=1)\n",
    "kremling_expression_v5_night_rpkm_filtered_cv = kremling_expression_v5_night_rpkm_filtered.apply(lambda row: np.std(row) / np.mean(row), axis=1)\n",
    "kremling_expression_v5_night_rpkm_filtered_cv_filtered = kremling_expression_v5_night_rpkm_filtered.loc[kremling_expression_v5_night_rpkm_filtered_cv[kremling_expression_v5_night_rpkm_filtered_cv > kremling_expression_v5_night_rpkm_filtered_cv.quantile(q=0.25)].index]\n",
    "kremling_expression_v5_day_rpkm_filtered_cv_filtered = kremling_expression_v5_day_rpkm_filtered.loc[kremling_expression_v5_day_rpkm_filtered_cv[kremling_expression_v5_day_rpkm_filtered_cv > kremling_expression_v5_day_rpkm_filtered_cv.quantile(q=0.25)].index]\n",
    "\n",
    "kremling_expression_v5_day_tmm_filtered_cv = kremling_expression_v5_day_tmm_filtered.apply(lambda row: np.std(row) / np.mean(row), axis=1)\n",
    "kremling_expression_v5_night_tmm_filtered_cv = kremling_expression_v5_night_tmm_filtered.apply(lambda row: np.std(row) / np.mean(row), axis=1)\n",
    "kremling_expression_v5_night_tmm_filtered_cv_filtered = kremling_expression_v5_night_tmm_filtered.loc[kremling_expression_v5_night_tmm_filtered_cv[kremling_expression_v5_night_tmm_filtered_cv > kremling_expression_v5_night_tmm_filtered_cv.quantile(q=0.25)].index]\n",
    "kremling_expression_v5_day_tmm_filtered_cv_filtered = kremling_expression_v5_day_tmm_filtered.loc[kremling_expression_v5_day_tmm_filtered_cv[kremling_expression_v5_day_tmm_filtered_cv > kremling_expression_v5_day_tmm_filtered_cv.quantile(q=0.25)].index]\n",
    "\n",
    "kremling_expression_v5_day_uq_filtered_cv = kremling_expression_v5_day_uq_filtered.apply(lambda row: np.std(row) / np.mean(row), axis=1)\n",
    "kremling_expression_v5_night_uq_filtered_cv = kremling_expression_v5_night_uq_filtered.apply(lambda row: np.std(row) / np.mean(row), axis=1)\n",
    "kremling_expression_v5_night_uq_filtered_cv_filtered = kremling_expression_v5_night_uq_filtered.loc[kremling_expression_v5_night_uq_filtered_cv[kremling_expression_v5_night_uq_filtered_cv > kremling_expression_v5_night_uq_filtered_cv.quantile(q=0.25)].index]\n",
    "kremling_expression_v5_day_uq_filtered_cv_filtered = kremling_expression_v5_day_uq_filtered.loc[kremling_expression_v5_day_uq_filtered_cv[kremling_expression_v5_day_uq_filtered_cv > kremling_expression_v5_day_uq_filtered_cv.quantile(q=0.25)].index]\n",
    "\n",
    "kremling_expression_v5_day_ctf_filtered_cv = kremling_expression_v5_day_ctf_filtered.apply(lambda row: np.std(row) / np.mean(row), axis=1)\n",
    "kremling_expression_v5_night_ctf_filtered_cv = kremling_expression_v5_night_ctf_filtered.apply(lambda row: np.std(row) / np.mean(row), axis=1)\n",
    "kremling_expression_v5_night_ctf_filtered_cv_filtered = kremling_expression_v5_night_ctf_filtered.loc[kremling_expression_v5_night_ctf_filtered_cv[kremling_expression_v5_night_ctf_filtered_cv > kremling_expression_v5_night_ctf_filtered_cv.quantile(q=0.25)].index]\n",
    "kremling_expression_v5_day_ctf_filtered_cv_filtered = kremling_expression_v5_day_ctf_filtered.loc[kremling_expression_v5_day_ctf_filtered_cv[kremling_expression_v5_day_ctf_filtered_cv > kremling_expression_v5_day_ctf_filtered_cv.quantile(q=0.25)].index]\n",
    "\n",
    "kremling_expression_v5_day_cuf_filtered_cv = kremling_expression_v5_day_cuf_filtered.apply(lambda row: np.std(row) / np.mean(row), axis=1)\n",
    "kremling_expression_v5_night_cuf_filtered_cv = kremling_expression_v5_night_cuf_filtered.apply(lambda row: np.std(row) / np.mean(row), axis=1)\n",
    "kremling_expression_v5_night_cuf_filtered_cv_filtered = kremling_expression_v5_night_cuf_filtered.loc[kremling_expression_v5_night_cuf_filtered_cv[kremling_expression_v5_night_cuf_filtered_cv > kremling_expression_v5_night_cuf_filtered_cv.quantile(q=0.25)].index]\n",
    "kremling_expression_v5_day_cuf_filtered_cv_filtered = kremling_expression_v5_day_cuf_filtered.loc[kremling_expression_v5_day_cuf_filtered_cv[kremling_expression_v5_day_cuf_filtered_cv > kremling_expression_v5_day_cuf_filtered_cv.quantile(q=0.25)].index]"
   ]
  },
  {
   "cell_type": "code",
   "execution_count": null,
   "metadata": {},
   "outputs": [
    {
     "name": "stdout",
     "output_type": "stream",
     "text": [
      "(10222, 228)\n",
      "(9830, 176)\n"
     ]
    }
   ],
   "source": [
    "print(kremling_expression_v5_night_tpm_filtered_cv_filtered.shape)\n",
    "print(kremling_expression_v5_day_tpm_filtered_cv_filtered.shape)"
   ]
  },
  {
   "cell_type": "markdown",
   "metadata": {},
   "source": [
    "Filtering the OTU CPM matrices:"
   ]
  },
  {
   "cell_type": "code",
   "execution_count": null,
   "metadata": {},
   "outputs": [],
   "source": [
    "import numpy as np\n",
    "\n",
    "# Calculate the coefficient of variation for each row\n",
    "otu_table_merged_day_cpm_filtered_cv = otu_table_merged_day_cpm_filtered.apply(lambda row: np.std(row) / np.mean(row), axis=1)\n",
    "otu_table_merged_night_cpm_filtered_cv = otu_table_merged_night_cpm_filtered.apply(lambda row: np.std(row) / np.mean(row), axis=1)\n",
    "otu_table_merged_day_cpm_filtered_cv_filtered = otu_table_merged_day_cpm_filtered.loc[otu_table_merged_day_cpm_filtered_cv[otu_table_merged_day_cpm_filtered_cv > otu_table_merged_day_cpm_filtered_cv.quantile(q=0.25)].index]\n",
    "otu_table_merged_night_cpm_filtered_cv_filtered = otu_table_merged_night_cpm_filtered.loc[otu_table_merged_night_cpm_filtered_cv[otu_table_merged_night_cpm_filtered_cv > otu_table_merged_night_cpm_filtered_cv.quantile(q=0.25)].index]"
   ]
  },
  {
   "cell_type": "code",
   "execution_count": null,
   "metadata": {},
   "outputs": [
    {
     "name": "stdout",
     "output_type": "stream",
     "text": [
      "(2760, 176)\n",
      "(2784, 228)\n"
     ]
    }
   ],
   "source": [
    "print(otu_table_merged_day_cpm_filtered_cv_filtered.shape)\n",
    "print(otu_table_merged_night_cpm_filtered_cv_filtered.shape)"
   ]
  },
  {
   "cell_type": "markdown",
   "metadata": {},
   "source": [
    "Filtering the OTU relative abundance matrices:"
   ]
  },
  {
   "cell_type": "code",
   "execution_count": null,
   "metadata": {},
   "outputs": [],
   "source": [
    "# Calculate the coefficient of variation for each row\n",
    "otu_table_merged_day_relative_abund_filtered_cv = otu_table_merged_day_relative_abund_filtered.apply(lambda row: np.std(row) / np.mean(row), axis=1)\n",
    "otu_table_merged_night_relative_abund_filtered_cv = otu_table_merged_night_relative_abund_filtered.apply(lambda row: np.std(row) / np.mean(row), axis=1)\n",
    "otu_table_merged_day_relative_abund_filtered_cv_filtered = otu_table_merged_day_relative_abund_filtered.loc[otu_table_merged_day_relative_abund_filtered_cv[otu_table_merged_day_relative_abund_filtered_cv > otu_table_merged_day_relative_abund_filtered_cv.quantile(q=0.25)].index]\n",
    "otu_table_merged_night_relative_abund_filtered_cv_filtered = otu_table_merged_night_relative_abund_filtered.loc[otu_table_merged_night_relative_abund_filtered_cv[otu_table_merged_night_relative_abund_filtered_cv > otu_table_merged_night_relative_abund_filtered_cv.quantile(q=0.25)].index]"
   ]
  },
  {
   "cell_type": "code",
   "execution_count": null,
   "metadata": {},
   "outputs": [
    {
     "name": "stdout",
     "output_type": "stream",
     "text": [
      "(2760, 176)\n",
      "(2784, 228)\n"
     ]
    }
   ],
   "source": [
    "print(otu_table_merged_day_relative_abund_filtered_cv_filtered.shape)\n",
    "print(otu_table_merged_night_relative_abund_filtered_cv_filtered.shape)"
   ]
  },
  {
   "cell_type": "markdown",
   "metadata": {},
   "source": [
    "Filtering the OTU counts matrices:"
   ]
  },
  {
   "cell_type": "code",
   "execution_count": 36,
   "metadata": {},
   "outputs": [
    {
     "name": "stdout",
     "output_type": "stream",
     "text": [
      "(2760, 176)\n",
      "(2784, 228)\n"
     ]
    }
   ],
   "source": [
    "# Calculate the coefficient of variation for each row\n",
    "\n",
    "otu_table_merged_counts_day_filtered_cv = otu_table_merged_counts_day_filtered.apply(lambda row: np.std(row) / np.mean(row), axis=1)\n",
    "otu_table_merged_counts_night_filtered_cv = otu_table_merged_counts_night_filtered.apply(lambda row: np.std(row) / np.mean(row), axis=1)\n",
    "otu_table_merged_counts_day_filtered_cv_filtered = otu_table_merged_counts_day_filtered.loc[otu_table_merged_counts_day_filtered_cv[otu_table_merged_counts_day_filtered_cv > otu_table_merged_counts_day_filtered_cv.quantile(q=0.25)].index]\n",
    "otu_table_merged_counts_night_filtered_cv_filtered = otu_table_merged_counts_night_filtered.loc[otu_table_merged_counts_night_filtered_cv[otu_table_merged_counts_night_filtered_cv > otu_table_merged_counts_night_filtered_cv.quantile(q=0.25)].index]\n",
    "\n",
    "print(otu_table_merged_counts_day_filtered_cv_filtered.shape)\n",
    "print(otu_table_merged_counts_night_filtered_cv_filtered.shape)"
   ]
  },
  {
   "cell_type": "markdown",
   "metadata": {},
   "source": [
    "Filtering the CPM matrices at genus or family levels:"
   ]
  },
  {
   "cell_type": "code",
   "execution_count": null,
   "metadata": {},
   "outputs": [],
   "source": [
    "import numpy as np\n",
    "\n",
    "# Calculate the coefficient of variation for each row\n",
    "genus_table_merged_d_n_day_cpm_filtered_cv = genus_table_merged_d_n_day_cpm_filtered.apply(lambda row: np.std(row) / np.mean(row), axis=1)\n",
    "genus_table_merged_d_n_night_cpm_filtered_cv = genus_table_merged_d_n_night_cpm_filtered.apply(lambda row: np.std(row) / np.mean(row), axis=1)\n",
    "genus_table_merged_d_n_day_cpm_filtered_cv_filtered = genus_table_merged_d_n_day_cpm_filtered.loc[genus_table_merged_d_n_day_cpm_filtered_cv[genus_table_merged_d_n_day_cpm_filtered_cv > genus_table_merged_d_n_day_cpm_filtered_cv.quantile(q=0.25)].index]\n",
    "genus_table_merged_d_n_night_cpm_filtered_cv_filtered = genus_table_merged_d_n_night_cpm_filtered.loc[genus_table_merged_d_n_night_cpm_filtered_cv[genus_table_merged_d_n_night_cpm_filtered_cv > genus_table_merged_d_n_night_cpm_filtered_cv.quantile(q=0.25)].index]\n",
    "\n",
    "family_table_merged_d_n_day_cpm_filtered_cv = family_table_merged_d_n_day_cpm_filtered.apply(lambda row: np.std(row) / np.mean(row), axis=1)\n",
    "family_table_merged_d_n_night_cpm_filtered_cv = family_table_merged_d_n_night_cpm_filtered.apply(lambda row: np.std(row) / np.mean(row), axis=1)\n",
    "family_table_merged_d_n_day_cpm_filtered_cv_filtered = family_table_merged_d_n_day_cpm_filtered.loc[family_table_merged_d_n_day_cpm_filtered_cv[family_table_merged_d_n_day_cpm_filtered_cv > family_table_merged_d_n_day_cpm_filtered_cv.quantile(q=0.25)].index]\n",
    "family_table_merged_d_n_night_cpm_filtered_cv_filtered = family_table_merged_d_n_night_cpm_filtered.loc[family_table_merged_d_n_night_cpm_filtered_cv[family_table_merged_d_n_night_cpm_filtered_cv > family_table_merged_d_n_night_cpm_filtered_cv.quantile(q=0.25)].index]"
   ]
  },
  {
   "cell_type": "code",
   "execution_count": null,
   "metadata": {},
   "outputs": [
    {
     "name": "stdout",
     "output_type": "stream",
     "text": [
      "(153, 176)\n",
      "(155, 228)\n",
      "(80, 176)\n",
      "(85, 228)\n"
     ]
    }
   ],
   "source": [
    "print(genus_table_merged_d_n_day_cpm_filtered_cv_filtered.shape)\n",
    "print(genus_table_merged_d_n_night_cpm_filtered_cv_filtered.shape)\n",
    "print(family_table_merged_d_n_day_cpm_filtered_cv_filtered.shape)\n",
    "print(family_table_merged_d_n_night_cpm_filtered_cv_filtered.shape)"
   ]
  },
  {
   "cell_type": "markdown",
   "metadata": {},
   "source": [
    "## Exporting all matrices after filtering\n",
    "\n",
    "Matrices with all OTU and gene expression data, after filtering out low expressed/abundant and low variance were exported to be transformed using R libraries. Exporting:"
   ]
  },
  {
   "cell_type": "code",
   "execution_count": null,
   "metadata": {},
   "outputs": [],
   "source": [
    "# Exporting within sample normalized data after filtering\n",
    "#kremling_expression_v5_day_tpm_filtered_cv_filtered.to_csv('/home/rsantos/Repositories/maize_microbiome_transcriptomics/rnaseq_kremling2018/quantification/kremling_expression_v5_day_tpm_filtered_cv_filtered.tsv',\n",
    "kremling_expression_v5_day_tpm_filtered_cv_filtered.to_csv('/home/santosrac/Repositories/maize_microbiome_transcriptomics/rnaseq_kremling2018/quantification/kremling_expression_v5_day_tpm_filtered_cv_filtered.tsv',\n",
    "                            sep='\\t')\n",
    "#kremling_expression_v5_night_tpm_filtered_cv_filtered.to_csv('/home/rsantos/Repositories/maize_microbiome_transcriptomics/rnaseq_kremling2018/quantification/kremling_expression_v5_night_tpm_filtered_cv_filtered.tsv',\n",
    "kremling_expression_v5_night_tpm_filtered_cv_filtered.to_csv('/home/santosrac/Repositories/maize_microbiome_transcriptomics/rnaseq_kremling2018/quantification/kremling_expression_v5_night_tpm_filtered_cv_filtered.tsv',\n",
    "                            sep='\\t')\n",
    "#kremling_expression_v5_day_rpkm_filtered_cv_filtered.to_csv('/home/rsantos/Repositories/maize_microbiome_transcriptomics/rnaseq_kremling2018/quantification/kremling_expression_v5_day_rpkm_filtered_cv_filtered.tsv',\n",
    "kremling_expression_v5_day_rpkm_filtered_cv_filtered.to_csv('/home/santosrac/Repositories/maize_microbiome_transcriptomics/rnaseq_kremling2018/quantification/kremling_expression_v5_day_rpkm_filtered_cv_filtered.tsv',\n",
    "                            sep='\\t')\n",
    "#kremling_expression_v5_night_rpkm_filtered_cv_filtered.to_csv('/home/rsantos/Repositories/maize_microbiome_transcriptomics/rnaseq_kremling2018/quantification/kremling_expression_v5_night_rpkm_filtered_cv_filtered.tsv',\n",
    "kremling_expression_v5_night_rpkm_filtered_cv_filtered.to_csv('/home/santosrac/Repositories/maize_microbiome_transcriptomics/rnaseq_kremling2018/quantification/kremling_expression_v5_night_rpkm_filtered_cv_filtered.tsv',\n",
    "                            sep='\\t')\n",
    "#kremling_expression_v5_day_cpm_filtered_cv_filtered.to_csv('/home/rsantos/Repositories/maize_microbiome_transcriptomics/rnaseq_kremling2018/quantification/kremling_expression_v5_day_cpm_filtered_cv_filtered.tsv',\n",
    "kremling_expression_v5_day_cpm_filtered_cv_filtered.to_csv('/home/santosrac/Repositories/maize_microbiome_transcriptomics/rnaseq_kremling2018/quantification/kremling_expression_v5_day_cpm_filtered_cv_filtered.tsv',\n",
    "                            sep='\\t')\n",
    "#kremling_expression_v5_night_cpm_filtered_cv_filtered.to_csv('/home/rsantos/Repositories/maize_microbiome_transcriptomics/rnaseq_kremling2018/quantification/kremling_expression_v5_night_cpm_filtered_cv_filtered.tsv',\n",
    "kremling_expression_v5_night_cpm_filtered_cv_filtered.to_csv('/home/santosrac/Repositories/maize_microbiome_transcriptomics/rnaseq_kremling2018/quantification/kremling_expression_v5_night_cpm_filtered_cv_filtered.tsv',\n",
    "                            sep='\\t')\n",
    "\n",
    "# Exporting between sample normalized data after filtering\n",
    "#kremling_expression_v5_day_tmm_filtered_cv_filtered.to_csv('/home/rsantos/Repositories/maize_microbiome_transcriptomics/rnaseq_kremling2018/quantification/kremling_expression_v5_day_tmm_filtered_cv_filtered.tsv',\n",
    "kremling_expression_v5_day_tmm_filtered_cv_filtered.to_csv('/home/santosrac/Repositories/maize_microbiome_transcriptomics/rnaseq_kremling2018/quantification/kremling_expression_v5_day_tmm_filtered_cv_filtered.tsv',\n",
    "                            sep='\\t')\n",
    "#kremling_expression_v5_night_tmm_filtered_cv_filtered.to_csv('/home/rsantos/Repositories/maize_microbiome_transcriptomics/rnaseq_kremling2018/quantification/kremling_expression_v5_night_tmm_filtered_cv_filtered.tsv',\n",
    "kremling_expression_v5_night_tmm_filtered_cv_filtered.to_csv('/home/santosrac/Repositories/maize_microbiome_transcriptomics/rnaseq_kremling2018/quantification/kremling_expression_v5_night_tmm_filtered_cv_filtered.tsv',\n",
    "                            sep='\\t')\n",
    "#kremling_expression_v5_day_uq_filtered_cv_filtered.to_csv('/home/rsantos/Repositories/maize_microbiome_transcriptomics/rnaseq_kremling2018/quantification/kremling_expression_v5_day_uq_filtered_cv_filtered.tsv',\n",
    "kremling_expression_v5_day_uq_filtered_cv_filtered.to_csv('/home/santosrac/Repositories/maize_microbiome_transcriptomics/rnaseq_kremling2018/quantification/kremling_expression_v5_day_uq_filtered_cv_filtered.tsv',\n",
    "                            sep='\\t')\n",
    "#kremling_expression_v5_night_uq_filtered_cv_filtered.to_csv('/home/rsantos/Repositories/maize_microbiome_transcriptomics/rnaseq_kremling2018/quantification/kremling_expression_v5_night_uq_filtered_cv_filtered.tsv',\n",
    "kremling_expression_v5_night_uq_filtered_cv_filtered.to_csv('/home/santosrac/Repositories/maize_microbiome_transcriptomics/rnaseq_kremling2018/quantification/kremling_expression_v5_night_uq_filtered_cv_filtered.tsv',\n",
    "                            sep='\\t')\n",
    "#kremling_expression_v5_day_ctf_filtered_cv_filtered.to_csv('/home/rsantos/Repositories/maize_microbiome_transcriptomics/rnaseq_kremling2018/quantification/kremling_expression_v5_day_ctf_filtered_cv_filtered.tsv',\n",
    "kremling_expression_v5_day_ctf_filtered_cv_filtered.to_csv('/home/santosrac/Repositories/maize_microbiome_transcriptomics/rnaseq_kremling2018/quantification/kremling_expression_v5_day_ctf_filtered_cv_filtered.tsv',\n",
    "                            sep='\\t')\n",
    "#kremling_expression_v5_night_ctf_filtered_cv_filtered.to_csv('/home/rsantos/Repositories/maize_microbiome_transcriptomics/rnaseq_kremling2018/quantification/kremling_expression_v5_night_ctf_filtered_cv_filtered.tsv',\n",
    "kremling_expression_v5_night_ctf_filtered_cv_filtered.to_csv('/home/santosrac/Repositories/maize_microbiome_transcriptomics/rnaseq_kremling2018/quantification/kremling_expression_v5_night_ctf_filtered_cv_filtered.tsv',\n",
    "                            sep='\\t')\n",
    "#kremling_expression_v5_day_cuf_filtered_cv_filtered.to_csv('/home/rsantos/Repositories/maize_microbiome_transcriptomics/rnaseq_kremling2018/quantification/kremling_expression_v5_day_cuf_filtered_cv_filtered.tsv',\n",
    "kremling_expression_v5_day_cuf_filtered_cv_filtered.to_csv('/home/santosrac/Repositories/maize_microbiome_transcriptomics/rnaseq_kremling2018/quantification/kremling_expression_v5_day_cuf_filtered_cv_filtered.tsv',\n",
    "                            sep='\\t')\n",
    "#kremling_expression_v5_night_cuf_filtered_cv_filtered.to_csv('/home/rsantos/Repositories/maize_microbiome_transcriptomics/rnaseq_kremling2018/quantification/kremling_expression_v5_night_cuf_filtered_cv_filtered.tsv',\n",
    "kremling_expression_v5_night_cuf_filtered_cv_filtered.to_csv('/home/santosrac/Repositories/maize_microbiome_transcriptomics/rnaseq_kremling2018/quantification/kremling_expression_v5_night_cuf_filtered_cv_filtered.tsv',\n",
    "                            sep='\\t')"
   ]
  },
  {
   "cell_type": "code",
   "execution_count": null,
   "metadata": {},
   "outputs": [],
   "source": [
    "# Exporting OTU data after filtering\n",
    "#otu_table_merged_day_cpm_filtered_cv_filtered.to_csv('/home/rsantos/Repositories/maize_microbiome_transcriptomics/16S_wallace2018/combine_day_night_samples/otu_table_merged_day_cpm_filtered_cv_filtered.tsv',\n",
    "otu_table_merged_day_cpm_filtered_cv_filtered.to_csv('/home/santosrac/Repositories/maize_microbiome_transcriptomics/16S_wallace2018/combine_day_night_samples/otu_table_merged_day_cpm_filtered_cv_filtered.tsv',\n",
    "                            sep='\\t')\n",
    "#otu_table_merged_night_cpm_filtered_cv_filtered.to_csv('/home/rsantos/Repositories/maize_microbiome_transcriptomics/16S_wallace2018/combine_day_night_samples/otu_table_merged_night_cpm_filtered_cv_filtered.tsv',\n",
    "otu_table_merged_night_cpm_filtered_cv_filtered.to_csv('/home/santosrac/Repositories/maize_microbiome_transcriptomics/16S_wallace2018/combine_day_night_samples/otu_table_merged_night_cpm_filtered_cv_filtered.tsv',\n",
    "                            sep='\\t')\n",
    "#otu_table_merged_day_relative_abund_filtered_cv_filtered.to_csv('/home/rsantos/Repositories/maize_microbiome_transcriptomics/16S_wallace2018/combine_day_night_samples/otu_table_merged_day_relative_abund_filtered_cv_filtered.tsv',\n",
    "otu_table_merged_day_relative_abund_filtered_cv_filtered.to_csv('/home/santosrac/Repositories/maize_microbiome_transcriptomics/16S_wallace2018/combine_day_night_samples/otu_table_merged_day_relative_abund_filtered_cv_filtered.tsv',\n",
    "                            sep='\\t')\n",
    "#otu_table_merged_night_relative_abund_filtered_cv_filtered.to_csv('/home/rsantos/Repositories/maize_microbiome_transcriptomics/16S_wallace2018/combine_day_night_samples/otu_table_merged_night_relative_abund_filtered_cv_filtered.tsv',\n",
    "otu_table_merged_night_relative_abund_filtered_cv_filtered.to_csv('/home/santosrac/Repositories/maize_microbiome_transcriptomics/16S_wallace2018/combine_day_night_samples/otu_table_merged_night_relative_abund_filtered_cv_filtered.tsv',\n",
    "                            sep='\\t')"
   ]
  },
  {
   "cell_type": "code",
   "execution_count": 37,
   "metadata": {},
   "outputs": [],
   "source": [
    "# Exporting OTU counts table after filtering (low abundance, low variance)\n",
    "otu_table_merged_counts_day_filtered_cv_filtered.to_csv(\"/home/rsantos/Repositories/maize_microbiome_transcriptomics/16S_wallace2018/combine_day_night_samples/otu_table_merged_counts_day_filtered_cv_filtered.tsv\",\n",
    "                            sep=\"\\t\")\n",
    "otu_table_merged_counts_night_filtered_cv_filtered.to_csv(\"/home/rsantos/Repositories/maize_microbiome_transcriptomics/16S_wallace2018/combine_day_night_samples/otu_table_merged_counts_night_filtered_cv_filtered.tsv\",\n",
    "                            sep=\"\\t\")"
   ]
  },
  {
   "cell_type": "code",
   "execution_count": null,
   "metadata": {},
   "outputs": [],
   "source": [
    "# Exporting genus and family data after filtering steps\n",
    "genus_table_merged_d_n_day_cpm_filtered_cv_filtered.to_csv('/home/rsantos/Repositories/maize_microbiome_transcriptomics/16S_wallace2018/combine_day_night_samples/genus_table_merged_d_n_day_cpm_filtered_cv_filtered.tsv',\n",
    "                            sep='\\t')\n",
    "genus_table_merged_d_n_night_cpm_filtered_cv_filtered.to_csv('/home/rsantos/Repositories/maize_microbiome_transcriptomics/16S_wallace2018/combine_day_night_samples/genus_table_merged_d_n_night_cpm_filtered_cv_filtered.tsv',\n",
    "                            sep='\\t')\n",
    "family_table_merged_d_n_day_cpm_filtered_cv_filtered.to_csv('/home/rsantos/Repositories/maize_microbiome_transcriptomics/16S_wallace2018/combine_day_night_samples/family_table_merged_d_n_day_cpm_filtered_cv_filtered.tsv',\n",
    "                                                            sep='\\t')\n",
    "family_table_merged_d_n_night_cpm_filtered_cv_filtered.to_csv('/home/rsantos/Repositories/maize_microbiome_transcriptomics/16S_wallace2018/combine_day_night_samples/family_table_merged_d_n_night_cpm_filtered_cv_filtered.tsv',\n",
    "                                                            sep='\\t')"
   ]
  },
  {
   "cell_type": "markdown",
   "metadata": {},
   "source": [
    "Exported OTU matrices (raw counts, CPM, relative abundance) after filtering low abundance and low variance data were transformed using different methods (VST, rlog, and asinh).\n",
    "\n",
    "Importing matrices."
   ]
  },
  {
   "cell_type": "markdown",
   "metadata": {},
   "source": [
    "### asinh"
   ]
  },
  {
   "cell_type": "code",
   "execution_count": null,
   "metadata": {},
   "outputs": [],
   "source": [
    "import pandas as pd\n",
    "\n",
    "#otu_table_merged_day_cpm_asinh = pd.read_csv('/home/rsantos/Repositories/maize_microbiome_transcriptomics/16S_wallace2018/combine_day_night_samples/summed_d_n_otu_day_cpm_asinh.tsv',\n",
    "otu_table_merged_day_cpm_asinh = pd.read_csv('/home/santosrac/Repositories/maize_microbiome_transcriptomics/16S_wallace2018/combine_day_night_samples/summed_d_n_otu_day_cpm_asinh.tsv',\n",
    "                            sep='\\t')\n",
    "otu_table_merged_day_cpm_asinh.set_index('OTU ID', inplace=True)\n",
    "\n",
    "#otu_table_merged_night_cpm_asinh = pd.read_csv('/home/rsantos/Repositories/maize_microbiome_transcriptomics/16S_wallace2018/combine_day_night_samples/summed_d_n_otu_night_cpm_asinh.tsv',\n",
    "otu_table_merged_night_cpm_asinh = pd.read_csv('/home/santosrac/Repositories/maize_microbiome_transcriptomics/16S_wallace2018/combine_day_night_samples/summed_d_n_otu_night_cpm_asinh.tsv',\n",
    "                            sep='\\t')\n",
    "otu_table_merged_night_cpm_asinh.set_index('OTU ID', inplace=True)"
   ]
  },
  {
   "cell_type": "markdown",
   "metadata": {},
   "source": [
    "### VST"
   ]
  },
  {
   "cell_type": "code",
   "execution_count": null,
   "metadata": {},
   "outputs": [],
   "source": []
  },
  {
   "cell_type": "markdown",
   "metadata": {},
   "source": [
    "### rlog"
   ]
  },
  {
   "cell_type": "code",
   "execution_count": null,
   "metadata": {},
   "outputs": [],
   "source": []
  },
  {
   "cell_type": "markdown",
   "metadata": {},
   "source": [
    "Exported matrices (RPKM, TPM, CPM, TMM, UQ, CTF and CUF) after removing low expressed genes and low variance, were transformed using different metods (VST, rlog, and asinh).\n",
    "\n",
    "Importing the matrices after filtering and transformations."
   ]
  },
  {
   "cell_type": "markdown",
   "metadata": {},
   "source": [
    "### asinh"
   ]
  },
  {
   "cell_type": "code",
   "execution_count": null,
   "metadata": {},
   "outputs": [],
   "source": [
    "#RPKM + asinh\n",
    "kremling_expression_v5_day_rpkm_asinh = pd.read_csv('/home/rsantos/Repositories/maize_microbiome_transcriptomics/rnaseq_kremling2018/quantification/kremling_expression_v5_day_rpkm_asinh.tsv',\n",
    "                            sep='\\t')\n",
    "kremling_expression_v5_day_rpkm_asinh.set_index('Name', inplace=True)\n",
    "\n",
    "kremling_expression_v5_night_rpkm_asinh = pd.read_csv('/home/rsantos/Repositories/maize_microbiome_transcriptomics/rnaseq_kremling2018/quantification/kremling_expression_v5_night_rpkm_asinh.tsv',\n",
    "                            sep='\\t')\n",
    "kremling_expression_v5_night_rpkm_asinh.set_index('Name', inplace=True)\n",
    "\n",
    "#TPM + asinh\n",
    "kremling_expression_v5_day_tpm_asinh = pd.read_csv('/home/rsantos/Repositories/maize_microbiome_transcriptomics/rnaseq_kremling2018/quantification/kremling_expression_v5_day_tpm_asinh.tsv',\n",
    "                            sep='\\t')\n",
    "kremling_expression_v5_day_tpm_asinh.set_index('Name', inplace=True)\n",
    "\n",
    "kremling_expression_v5_night_tpm_asinh = pd.read_csv('/home/rsantos/Repositories/maize_microbiome_transcriptomics/rnaseq_kremling2018/quantification/kremling_expression_v5_night_tpm_asinh.tsv',\n",
    "                            sep='\\t')\n",
    "kremling_expression_v5_night_tpm_asinh.set_index('Name', inplace=True)\n",
    "\n",
    "#CPM + asinh\n",
    "kremling_expression_v5_day_cpm_asinh = pd.read_csv('/home/rsantos/Repositories/maize_microbiome_transcriptomics/rnaseq_kremling2018/quantification/kremling_expression_v5_day_cpm_asinh.tsv',\n",
    "                            sep='\\t')\n",
    "kremling_expression_v5_day_cpm_asinh.set_index('Name', inplace=True)\n",
    "\n",
    "kremling_expression_v5_night_cpm_asinh = pd.read_csv('/home/rsantos/Repositories/maize_microbiome_transcriptomics/rnaseq_kremling2018/quantification/kremling_expression_v5_night_cpm_asinh.tsv',\n",
    "                            sep='\\t')\n",
    "kremling_expression_v5_night_cpm_asinh.set_index('Name', inplace=True)\n",
    "\n",
    "#TMM + asinh\n",
    "kremling_expression_v5_day_tmm_asinh = pd.read_csv('/home/rsantos/Repositories/maize_microbiome_transcriptomics/rnaseq_kremling2018/quantification/kremling_expression_v5_day_tmm_asinh.tsv',\n",
    "                            sep='\\t')\n",
    "kremling_expression_v5_day_tmm_asinh.set_index('Name', inplace=True)\n",
    "\n",
    "kremling_expression_v5_night_tmm_asinh = pd.read_csv('/home/rsantos/Repositories/maize_microbiome_transcriptomics/rnaseq_kremling2018/quantification/kremling_expression_v5_night_tmm_asinh.tsv',\n",
    "                            sep='\\t')\n",
    "kremling_expression_v5_night_tmm_asinh.set_index('Name', inplace=True)\n",
    "\n",
    "#UQ + asinh\n",
    "kremling_expression_v5_day_uq_asinh = pd.read_csv('/home/rsantos/Repositories/maize_microbiome_transcriptomics/rnaseq_kremling2018/quantification/kremling_expression_v5_day_uq_asinh.tsv',\n",
    "                            sep='\\t')\n",
    "kremling_expression_v5_day_uq_asinh.set_index('Name', inplace=True)\n",
    "\n",
    "kremling_expression_v5_night_uq_asinh = pd.read_csv('/home/rsantos/Repositories/maize_microbiome_transcriptomics/rnaseq_kremling2018/quantification/kremling_expression_v5_night_uq_asinh.tsv',\n",
    "                            sep='\\t')\n",
    "kremling_expression_v5_night_uq_asinh.set_index('Name', inplace=True)\n",
    "\n",
    "#CTF + asinh\n",
    "kremling_expression_v5_day_ctf_asinh = pd.read_csv('/home/rsantos/Repositories/maize_microbiome_transcriptomics/rnaseq_kremling2018/quantification/kremling_expression_v5_day_ctf_asinh.tsv',\n",
    "                            sep='\\t')\n",
    "kremling_expression_v5_day_ctf_asinh.set_index('Name', inplace=True)\n",
    "\n",
    "kremling_expression_v5_night_ctf_asinh = pd.read_csv('/home/rsantos/Repositories/maize_microbiome_transcriptomics/rnaseq_kremling2018/quantification/kremling_expression_v5_night_ctf_asinh.tsv',\n",
    "                            sep='\\t')\n",
    "kremling_expression_v5_night_ctf_asinh.set_index('Name', inplace=True)\n",
    "\n",
    "#CUF + asinh\n",
    "kremling_expression_v5_day_cuf_asinh = pd.read_csv('/home/rsantos/Repositories/maize_microbiome_transcriptomics/rnaseq_kremling2018/quantification/kremling_expression_v5_day_cuf_asinh.tsv',\n",
    "                            sep='\\t')\n",
    "kremling_expression_v5_day_cuf_asinh.set_index('Name', inplace=True)\n",
    "\n",
    "kremling_expression_v5_night_cuf_asinh = pd.read_csv('/home/rsantos/Repositories/maize_microbiome_transcriptomics/rnaseq_kremling2018/quantification/kremling_expression_v5_night_cuf_asinh.tsv',\n",
    "                            sep='\\t')\n",
    "kremling_expression_v5_night_cuf_asinh.set_index('Name', inplace=True)"
   ]
  },
  {
   "cell_type": "markdown",
   "metadata": {},
   "source": [
    "### VST"
   ]
  },
  {
   "cell_type": "code",
   "execution_count": null,
   "metadata": {},
   "outputs": [],
   "source": []
  },
  {
   "cell_type": "markdown",
   "metadata": {},
   "source": [
    "### rlog"
   ]
  },
  {
   "cell_type": "code",
   "execution_count": null,
   "metadata": {},
   "outputs": [],
   "source": []
  },
  {
   "cell_type": "markdown",
   "metadata": {},
   "source": [
    "## Correlations - gene (no asinh) versus Taxon at Genus/Family levels (CPM)"
   ]
  },
  {
   "cell_type": "code",
   "execution_count": 13,
   "metadata": {},
   "outputs": [
    {
     "name": "stderr",
     "output_type": "stream",
     "text": [
      "/home/rsantos/Repositories/maize_microbiome_transcriptomics/.venv/lib/python3.10/site-packages/corals/threads.py:48: UserWarning: This function should be called before `numpy` or similar modules are imported.\n",
      "  warnings.warn(\"This function should be called before `numpy` or similar modules are imported.\")\n"
     ]
    }
   ],
   "source": [
    "from corals.threads import set_threads_for_external_libraries\n",
    "set_threads_for_external_libraries(n_threads=1)\n",
    "import numpy as np\n",
    "from corals.correlation.full.default import cor_full"
   ]
  },
  {
   "cell_type": "markdown",
   "metadata": {},
   "source": [
    "### Correlations - gene TPM (no asinh) versus Taxon at Genus (CPM)"
   ]
  },
  {
   "cell_type": "code",
   "execution_count": 15,
   "metadata": {},
   "outputs": [],
   "source": [
    "import pandas as pd\n",
    "\n",
    "genus_table_merged_d_n_day_cpm_filtered_cv_filtered = pd.read_csv('/home/rsantos/Repositories/maize_microbiome_transcriptomics/16S_wallace2018/combine_day_night_samples/genus_table_merged_d_n_day_cpm_filtered_cv_filtered.tsv',\n",
    "                            sep='\\t')\n",
    "genus_table_merged_d_n_day_cpm_filtered_cv_filtered.set_index('Genus', inplace=True)\n",
    "genus_table_merged_d_n_night_cpm_filtered_cv_filtered = pd.read_csv('/home/rsantos/Repositories/maize_microbiome_transcriptomics/16S_wallace2018/combine_day_night_samples/genus_table_merged_d_n_night_cpm_filtered_cv_filtered.tsv',\n",
    "                            sep='\\t')\n",
    "genus_table_merged_d_n_night_cpm_filtered_cv_filtered.set_index('Genus', inplace=True)\n",
    "kremling_expression_v5_day_tpm_filtered_cv_filtered = pd.read_csv('/home/rsantos/Repositories/maize_microbiome_transcriptomics/rnaseq_kremling2018/quantification/kremling_expression_v5_day_tpm_filtered_cv_filtered.tsv',\n",
    "                            sep='\\t')\n",
    "kremling_expression_v5_day_tpm_filtered_cv_filtered.set_index('Name', inplace=True)\n",
    "kremling_expression_v5_night_tpm_filtered_cv_filtered = pd.read_csv('/home/rsantos/Repositories/maize_microbiome_transcriptomics/rnaseq_kremling2018/quantification/kremling_expression_v5_night_tpm_filtered_cv_filtered.tsv',\n",
    "                            sep='\\t')\n",
    "kremling_expression_v5_night_tpm_filtered_cv_filtered.set_index('Name', inplace=True)"
   ]
  },
  {
   "cell_type": "code",
   "execution_count": 16,
   "metadata": {},
   "outputs": [
    {
     "data": {
      "text/html": [
       "<div>\n",
       "<style scoped>\n",
       "    .dataframe tbody tr th:only-of-type {\n",
       "        vertical-align: middle;\n",
       "    }\n",
       "\n",
       "    .dataframe tbody tr th {\n",
       "        vertical-align: top;\n",
       "    }\n",
       "\n",
       "    .dataframe thead th {\n",
       "        text-align: right;\n",
       "    }\n",
       "</style>\n",
       "<table border=\"1\" class=\"dataframe\">\n",
       "  <thead>\n",
       "    <tr style=\"text-align: right;\">\n",
       "      <th></th>\n",
       "      <th>14A0253_26</th>\n",
       "      <th>14A0171_26</th>\n",
       "      <th>14A0045_8</th>\n",
       "      <th>14A0085_8</th>\n",
       "      <th>14A0079_26</th>\n",
       "      <th>14A0467_26</th>\n",
       "      <th>14A0039_8</th>\n",
       "      <th>14A0403_26</th>\n",
       "      <th>14A0063_8</th>\n",
       "      <th>14A0513_26</th>\n",
       "      <th>...</th>\n",
       "      <th>14A0005_8</th>\n",
       "      <th>14A0533_26</th>\n",
       "      <th>14A0333_26</th>\n",
       "      <th>14A0283_8</th>\n",
       "      <th>14A0473_26</th>\n",
       "      <th>14A0047_8</th>\n",
       "      <th>14A0049_8</th>\n",
       "      <th>14A0453_26</th>\n",
       "      <th>14A0345_8</th>\n",
       "      <th>14A0343_8</th>\n",
       "    </tr>\n",
       "    <tr>\n",
       "      <th>Genus</th>\n",
       "      <th></th>\n",
       "      <th></th>\n",
       "      <th></th>\n",
       "      <th></th>\n",
       "      <th></th>\n",
       "      <th></th>\n",
       "      <th></th>\n",
       "      <th></th>\n",
       "      <th></th>\n",
       "      <th></th>\n",
       "      <th></th>\n",
       "      <th></th>\n",
       "      <th></th>\n",
       "      <th></th>\n",
       "      <th></th>\n",
       "      <th></th>\n",
       "      <th></th>\n",
       "      <th></th>\n",
       "      <th></th>\n",
       "      <th></th>\n",
       "      <th></th>\n",
       "    </tr>\n",
       "  </thead>\n",
       "  <tbody>\n",
       "    <tr>\n",
       "      <th>Acinetobacter</th>\n",
       "      <td>1745.336679</td>\n",
       "      <td>14004.507889</td>\n",
       "      <td>112.690568</td>\n",
       "      <td>1927.077631</td>\n",
       "      <td>3053.709359</td>\n",
       "      <td>63.092530</td>\n",
       "      <td>335.652386</td>\n",
       "      <td>569.997202</td>\n",
       "      <td>695.969899</td>\n",
       "      <td>2513.454793</td>\n",
       "      <td>...</td>\n",
       "      <td>86.096307</td>\n",
       "      <td>1417.733160</td>\n",
       "      <td>4097.372861</td>\n",
       "      <td>4263.940258</td>\n",
       "      <td>1789.669531</td>\n",
       "      <td>646.696076</td>\n",
       "      <td>139.569112</td>\n",
       "      <td>125.754527</td>\n",
       "      <td>3767.365199</td>\n",
       "      <td>4899.654615</td>\n",
       "    </tr>\n",
       "    <tr>\n",
       "      <th>Epilithonimonas</th>\n",
       "      <td>451.917533</td>\n",
       "      <td>0.000000</td>\n",
       "      <td>0.000000</td>\n",
       "      <td>0.000000</td>\n",
       "      <td>0.000000</td>\n",
       "      <td>0.000000</td>\n",
       "      <td>0.000000</td>\n",
       "      <td>145.933018</td>\n",
       "      <td>0.000000</td>\n",
       "      <td>49.701083</td>\n",
       "      <td>...</td>\n",
       "      <td>0.000000</td>\n",
       "      <td>57.475669</td>\n",
       "      <td>187.461503</td>\n",
       "      <td>0.000000</td>\n",
       "      <td>0.000000</td>\n",
       "      <td>0.000000</td>\n",
       "      <td>0.000000</td>\n",
       "      <td>17.964932</td>\n",
       "      <td>0.000000</td>\n",
       "      <td>45.898404</td>\n",
       "    </tr>\n",
       "    <tr>\n",
       "      <th>Neisseria</th>\n",
       "      <td>0.000000</td>\n",
       "      <td>0.000000</td>\n",
       "      <td>80.493263</td>\n",
       "      <td>3744.662214</td>\n",
       "      <td>0.000000</td>\n",
       "      <td>0.000000</td>\n",
       "      <td>61.027707</td>\n",
       "      <td>0.000000</td>\n",
       "      <td>130.494356</td>\n",
       "      <td>35.500774</td>\n",
       "      <td>...</td>\n",
       "      <td>0.000000</td>\n",
       "      <td>0.000000</td>\n",
       "      <td>0.000000</td>\n",
       "      <td>125.640965</td>\n",
       "      <td>372.109507</td>\n",
       "      <td>277.155461</td>\n",
       "      <td>12.688101</td>\n",
       "      <td>23.953243</td>\n",
       "      <td>235.460325</td>\n",
       "      <td>11.474601</td>\n",
       "    </tr>\n",
       "    <tr>\n",
       "      <th>Leuconostoc</th>\n",
       "      <td>0.000000</td>\n",
       "      <td>0.000000</td>\n",
       "      <td>0.000000</td>\n",
       "      <td>0.000000</td>\n",
       "      <td>0.000000</td>\n",
       "      <td>46.489233</td>\n",
       "      <td>0.000000</td>\n",
       "      <td>1.716859</td>\n",
       "      <td>0.000000</td>\n",
       "      <td>0.000000</td>\n",
       "      <td>...</td>\n",
       "      <td>0.000000</td>\n",
       "      <td>0.000000</td>\n",
       "      <td>53.560430</td>\n",
       "      <td>0.000000</td>\n",
       "      <td>11.813000</td>\n",
       "      <td>0.000000</td>\n",
       "      <td>0.000000</td>\n",
       "      <td>0.000000</td>\n",
       "      <td>0.000000</td>\n",
       "      <td>0.000000</td>\n",
       "    </tr>\n",
       "    <tr>\n",
       "      <th>Alkanindiges</th>\n",
       "      <td>0.000000</td>\n",
       "      <td>0.000000</td>\n",
       "      <td>0.000000</td>\n",
       "      <td>65.695828</td>\n",
       "      <td>0.000000</td>\n",
       "      <td>16.603297</td>\n",
       "      <td>0.000000</td>\n",
       "      <td>27.469745</td>\n",
       "      <td>0.000000</td>\n",
       "      <td>177.503870</td>\n",
       "      <td>...</td>\n",
       "      <td>8.609631</td>\n",
       "      <td>76.634225</td>\n",
       "      <td>0.000000</td>\n",
       "      <td>0.000000</td>\n",
       "      <td>5.906500</td>\n",
       "      <td>0.000000</td>\n",
       "      <td>0.000000</td>\n",
       "      <td>311.392162</td>\n",
       "      <td>0.000000</td>\n",
       "      <td>0.000000</td>\n",
       "    </tr>\n",
       "  </tbody>\n",
       "</table>\n",
       "<p>5 rows × 176 columns</p>\n",
       "</div>"
      ],
      "text/plain": [
       "                  14A0253_26    14A0171_26   14A0045_8    14A0085_8  \\\n",
       "Genus                                                                 \n",
       "Acinetobacter    1745.336679  14004.507889  112.690568  1927.077631   \n",
       "Epilithonimonas   451.917533      0.000000    0.000000     0.000000   \n",
       "Neisseria           0.000000      0.000000   80.493263  3744.662214   \n",
       "Leuconostoc         0.000000      0.000000    0.000000     0.000000   \n",
       "Alkanindiges        0.000000      0.000000    0.000000    65.695828   \n",
       "\n",
       "                  14A0079_26  14A0467_26   14A0039_8  14A0403_26   14A0063_8  \\\n",
       "Genus                                                                          \n",
       "Acinetobacter    3053.709359   63.092530  335.652386  569.997202  695.969899   \n",
       "Epilithonimonas     0.000000    0.000000    0.000000  145.933018    0.000000   \n",
       "Neisseria           0.000000    0.000000   61.027707    0.000000  130.494356   \n",
       "Leuconostoc         0.000000   46.489233    0.000000    1.716859    0.000000   \n",
       "Alkanindiges        0.000000   16.603297    0.000000   27.469745    0.000000   \n",
       "\n",
       "                  14A0513_26  ...  14A0005_8   14A0533_26   14A0333_26  \\\n",
       "Genus                         ...                                        \n",
       "Acinetobacter    2513.454793  ...  86.096307  1417.733160  4097.372861   \n",
       "Epilithonimonas    49.701083  ...   0.000000    57.475669   187.461503   \n",
       "Neisseria          35.500774  ...   0.000000     0.000000     0.000000   \n",
       "Leuconostoc         0.000000  ...   0.000000     0.000000    53.560430   \n",
       "Alkanindiges      177.503870  ...   8.609631    76.634225     0.000000   \n",
       "\n",
       "                   14A0283_8   14A0473_26   14A0047_8   14A0049_8  14A0453_26  \\\n",
       "Genus                                                                           \n",
       "Acinetobacter    4263.940258  1789.669531  646.696076  139.569112  125.754527   \n",
       "Epilithonimonas     0.000000     0.000000    0.000000    0.000000   17.964932   \n",
       "Neisseria         125.640965   372.109507  277.155461   12.688101   23.953243   \n",
       "Leuconostoc         0.000000    11.813000    0.000000    0.000000    0.000000   \n",
       "Alkanindiges        0.000000     5.906500    0.000000    0.000000  311.392162   \n",
       "\n",
       "                   14A0345_8    14A0343_8  \n",
       "Genus                                      \n",
       "Acinetobacter    3767.365199  4899.654615  \n",
       "Epilithonimonas     0.000000    45.898404  \n",
       "Neisseria         235.460325    11.474601  \n",
       "Leuconostoc         0.000000     0.000000  \n",
       "Alkanindiges        0.000000     0.000000  \n",
       "\n",
       "[5 rows x 176 columns]"
      ]
     },
     "execution_count": 16,
     "metadata": {},
     "output_type": "execute_result"
    }
   ],
   "source": [
    "genus_table_merged_d_n_day_cpm_filtered_cv_filtered.head()"
   ]
  },
  {
   "cell_type": "code",
   "execution_count": 17,
   "metadata": {},
   "outputs": [
    {
     "data": {
      "text/html": [
       "<div>\n",
       "<style scoped>\n",
       "    .dataframe tbody tr th:only-of-type {\n",
       "        vertical-align: middle;\n",
       "    }\n",
       "\n",
       "    .dataframe tbody tr th {\n",
       "        vertical-align: top;\n",
       "    }\n",
       "\n",
       "    .dataframe thead th {\n",
       "        text-align: right;\n",
       "    }\n",
       "</style>\n",
       "<table border=\"1\" class=\"dataframe\">\n",
       "  <thead>\n",
       "    <tr style=\"text-align: right;\">\n",
       "      <th></th>\n",
       "      <th>14A0253_26</th>\n",
       "      <th>14A0171_26</th>\n",
       "      <th>14A0045_8</th>\n",
       "      <th>14A0085_8</th>\n",
       "      <th>14A0079_26</th>\n",
       "      <th>14A0467_26</th>\n",
       "      <th>14A0039_8</th>\n",
       "      <th>14A0403_26</th>\n",
       "      <th>14A0063_8</th>\n",
       "      <th>14A0513_26</th>\n",
       "      <th>...</th>\n",
       "      <th>14A0005_8</th>\n",
       "      <th>14A0533_26</th>\n",
       "      <th>14A0333_26</th>\n",
       "      <th>14A0283_8</th>\n",
       "      <th>14A0473_26</th>\n",
       "      <th>14A0047_8</th>\n",
       "      <th>14A0049_8</th>\n",
       "      <th>14A0453_26</th>\n",
       "      <th>14A0345_8</th>\n",
       "      <th>14A0343_8</th>\n",
       "    </tr>\n",
       "    <tr>\n",
       "      <th>Name</th>\n",
       "      <th></th>\n",
       "      <th></th>\n",
       "      <th></th>\n",
       "      <th></th>\n",
       "      <th></th>\n",
       "      <th></th>\n",
       "      <th></th>\n",
       "      <th></th>\n",
       "      <th></th>\n",
       "      <th></th>\n",
       "      <th></th>\n",
       "      <th></th>\n",
       "      <th></th>\n",
       "      <th></th>\n",
       "      <th></th>\n",
       "      <th></th>\n",
       "      <th></th>\n",
       "      <th></th>\n",
       "      <th></th>\n",
       "      <th></th>\n",
       "      <th></th>\n",
       "    </tr>\n",
       "  </thead>\n",
       "  <tbody>\n",
       "    <tr>\n",
       "      <th>Zm00001eb371250_T001</th>\n",
       "      <td>4.832641</td>\n",
       "      <td>9.718641</td>\n",
       "      <td>1.355998</td>\n",
       "      <td>9.104938</td>\n",
       "      <td>4.913382</td>\n",
       "      <td>6.149015</td>\n",
       "      <td>5.035265</td>\n",
       "      <td>6.232063</td>\n",
       "      <td>5.819720</td>\n",
       "      <td>4.467931</td>\n",
       "      <td>...</td>\n",
       "      <td>4.484480</td>\n",
       "      <td>3.745858</td>\n",
       "      <td>14.203133</td>\n",
       "      <td>4.071280</td>\n",
       "      <td>7.583944</td>\n",
       "      <td>4.977738</td>\n",
       "      <td>6.447181</td>\n",
       "      <td>2.686406</td>\n",
       "      <td>2.345228</td>\n",
       "      <td>7.081577</td>\n",
       "    </tr>\n",
       "    <tr>\n",
       "      <th>Zm00001eb371180_T001</th>\n",
       "      <td>11.954551</td>\n",
       "      <td>18.603233</td>\n",
       "      <td>9.317624</td>\n",
       "      <td>20.585517</td>\n",
       "      <td>22.282853</td>\n",
       "      <td>30.280917</td>\n",
       "      <td>13.573612</td>\n",
       "      <td>8.222036</td>\n",
       "      <td>11.996916</td>\n",
       "      <td>21.329127</td>\n",
       "      <td>...</td>\n",
       "      <td>15.644401</td>\n",
       "      <td>18.017544</td>\n",
       "      <td>19.519129</td>\n",
       "      <td>30.773012</td>\n",
       "      <td>23.862013</td>\n",
       "      <td>37.966562</td>\n",
       "      <td>28.479388</td>\n",
       "      <td>0.000000</td>\n",
       "      <td>6.906445</td>\n",
       "      <td>17.031164</td>\n",
       "    </tr>\n",
       "    <tr>\n",
       "      <th>Zm00001eb371080_T001</th>\n",
       "      <td>23.462339</td>\n",
       "      <td>8.425668</td>\n",
       "      <td>2.743055</td>\n",
       "      <td>8.912143</td>\n",
       "      <td>0.000000</td>\n",
       "      <td>0.000000</td>\n",
       "      <td>19.979964</td>\n",
       "      <td>12.102599</td>\n",
       "      <td>2.943186</td>\n",
       "      <td>15.697929</td>\n",
       "      <td>...</td>\n",
       "      <td>0.000000</td>\n",
       "      <td>22.732546</td>\n",
       "      <td>2.052257</td>\n",
       "      <td>1.372636</td>\n",
       "      <td>12.111791</td>\n",
       "      <td>6.041695</td>\n",
       "      <td>4.192084</td>\n",
       "      <td>8.151519</td>\n",
       "      <td>3.049826</td>\n",
       "      <td>4.775120</td>\n",
       "    </tr>\n",
       "    <tr>\n",
       "      <th>Zm00001eb371000_T001</th>\n",
       "      <td>2.030338</td>\n",
       "      <td>3.499795</td>\n",
       "      <td>4.937361</td>\n",
       "      <td>2.467909</td>\n",
       "      <td>6.192781</td>\n",
       "      <td>1.435215</td>\n",
       "      <td>3.580021</td>\n",
       "      <td>4.398707</td>\n",
       "      <td>5.705093</td>\n",
       "      <td>4.346998</td>\n",
       "      <td>...</td>\n",
       "      <td>4.637699</td>\n",
       "      <td>3.147496</td>\n",
       "      <td>7.956220</td>\n",
       "      <td>3.040832</td>\n",
       "      <td>5.701700</td>\n",
       "      <td>3.764336</td>\n",
       "      <td>5.417311</td>\n",
       "      <td>2.257281</td>\n",
       "      <td>5.067263</td>\n",
       "      <td>2.314032</td>\n",
       "    </tr>\n",
       "    <tr>\n",
       "      <th>Zm00001eb370990_T002</th>\n",
       "      <td>4.117430</td>\n",
       "      <td>8.093550</td>\n",
       "      <td>11.755844</td>\n",
       "      <td>5.004804</td>\n",
       "      <td>7.931791</td>\n",
       "      <td>7.199777</td>\n",
       "      <td>12.679146</td>\n",
       "      <td>9.948784</td>\n",
       "      <td>4.494480</td>\n",
       "      <td>5.905124</td>\n",
       "      <td>...</td>\n",
       "      <td>7.115652</td>\n",
       "      <td>12.877929</td>\n",
       "      <td>10.311740</td>\n",
       "      <td>5.071270</td>\n",
       "      <td>7.875577</td>\n",
       "      <td>9.151747</td>\n",
       "      <td>11.564265</td>\n",
       "      <td>9.637178</td>\n",
       "      <td>4.056383</td>\n",
       "      <td>5.645412</td>\n",
       "    </tr>\n",
       "  </tbody>\n",
       "</table>\n",
       "<p>5 rows × 176 columns</p>\n",
       "</div>"
      ],
      "text/plain": [
       "                      14A0253_26  14A0171_26  14A0045_8  14A0085_8  \\\n",
       "Name                                                                 \n",
       "Zm00001eb371250_T001    4.832641    9.718641   1.355998   9.104938   \n",
       "Zm00001eb371180_T001   11.954551   18.603233   9.317624  20.585517   \n",
       "Zm00001eb371080_T001   23.462339    8.425668   2.743055   8.912143   \n",
       "Zm00001eb371000_T001    2.030338    3.499795   4.937361   2.467909   \n",
       "Zm00001eb370990_T002    4.117430    8.093550  11.755844   5.004804   \n",
       "\n",
       "                      14A0079_26  14A0467_26  14A0039_8  14A0403_26  \\\n",
       "Name                                                                  \n",
       "Zm00001eb371250_T001    4.913382    6.149015   5.035265    6.232063   \n",
       "Zm00001eb371180_T001   22.282853   30.280917  13.573612    8.222036   \n",
       "Zm00001eb371080_T001    0.000000    0.000000  19.979964   12.102599   \n",
       "Zm00001eb371000_T001    6.192781    1.435215   3.580021    4.398707   \n",
       "Zm00001eb370990_T002    7.931791    7.199777  12.679146    9.948784   \n",
       "\n",
       "                      14A0063_8  14A0513_26  ...  14A0005_8  14A0533_26  \\\n",
       "Name                                         ...                          \n",
       "Zm00001eb371250_T001   5.819720    4.467931  ...   4.484480    3.745858   \n",
       "Zm00001eb371180_T001  11.996916   21.329127  ...  15.644401   18.017544   \n",
       "Zm00001eb371080_T001   2.943186   15.697929  ...   0.000000   22.732546   \n",
       "Zm00001eb371000_T001   5.705093    4.346998  ...   4.637699    3.147496   \n",
       "Zm00001eb370990_T002   4.494480    5.905124  ...   7.115652   12.877929   \n",
       "\n",
       "                      14A0333_26  14A0283_8  14A0473_26  14A0047_8  14A0049_8  \\\n",
       "Name                                                                            \n",
       "Zm00001eb371250_T001   14.203133   4.071280    7.583944   4.977738   6.447181   \n",
       "Zm00001eb371180_T001   19.519129  30.773012   23.862013  37.966562  28.479388   \n",
       "Zm00001eb371080_T001    2.052257   1.372636   12.111791   6.041695   4.192084   \n",
       "Zm00001eb371000_T001    7.956220   3.040832    5.701700   3.764336   5.417311   \n",
       "Zm00001eb370990_T002   10.311740   5.071270    7.875577   9.151747  11.564265   \n",
       "\n",
       "                      14A0453_26  14A0345_8  14A0343_8  \n",
       "Name                                                    \n",
       "Zm00001eb371250_T001    2.686406   2.345228   7.081577  \n",
       "Zm00001eb371180_T001    0.000000   6.906445  17.031164  \n",
       "Zm00001eb371080_T001    8.151519   3.049826   4.775120  \n",
       "Zm00001eb371000_T001    2.257281   5.067263   2.314032  \n",
       "Zm00001eb370990_T002    9.637178   4.056383   5.645412  \n",
       "\n",
       "[5 rows x 176 columns]"
      ]
     },
     "execution_count": 17,
     "metadata": {},
     "output_type": "execute_result"
    }
   ],
   "source": [
    "kremling_expression_v5_day_tpm_filtered_cv_filtered.head()"
   ]
  },
  {
   "cell_type": "code",
   "execution_count": 18,
   "metadata": {},
   "outputs": [
    {
     "name": "stderr",
     "output_type": "stream",
     "text": [
      "/home/rsantos/Repositories/maize_microbiome_transcriptomics/.venv/lib/python3.10/site-packages/corals/correlation/utils.py:227: RuntimeWarning: divide by zero encountered in divide\n",
      "  ts = rf * rf * (df / (1 - rf * rf))\n"
     ]
    }
   ],
   "source": [
    "concat_df_night = pd.concat([kremling_expression_v5_night_tpm_filtered_cv_filtered, genus_table_merged_d_n_night_cpm_filtered_cv_filtered], axis=0)\n",
    "concat_df_day = pd.concat([kremling_expression_v5_day_tpm_filtered_cv_filtered, genus_table_merged_d_n_day_cpm_filtered_cv_filtered], axis=0)\n",
    "\n",
    "concatenated_transposed_day = concat_df_day.transpose()\n",
    "concatenated_transposed_night = concat_df_night.transpose()\n",
    "\n",
    "cor_values_day = cor_full(concatenated_transposed_day)\n",
    "cor_values_night = cor_full(concatenated_transposed_night)\n",
    "\n",
    "# Calculating pvalues and corrected pvalues\n",
    "from corals.correlation.utils import derive_pvalues, multiple_test_correction\n",
    "\n",
    "cor_threshold = 0.6\n",
    "cor_pvalue_threshold = 0.05\n",
    "\n",
    "n_samples_day = concatenated_transposed_day.shape[0]\n",
    "n_features_day = concatenated_transposed_day.shape[1]\n",
    "n_samples_night = concatenated_transposed_night.shape[0]\n",
    "n_features_night = concatenated_transposed_night.shape[1]\n",
    "\n",
    "day_pvalues = derive_pvalues(cor_values_day, n_samples_day)\n",
    "day_pvalues_corrected = multiple_test_correction(day_pvalues, n_features_day, method=\"bonferroni\")\n",
    "night_pvalues = derive_pvalues(cor_values_night, n_samples_night)\n",
    "night_pvalues_corrected = multiple_test_correction(night_pvalues, n_features_night, method=\"bonferroni\")\n",
    "\n",
    "true_positions_day_cor = np.where(cor_values_day > cor_threshold)\n",
    "true_positions_night_cor = np.where(cor_values_night > cor_threshold)\n",
    "\n",
    "true_positions_day_pvalue = np.where(day_pvalues_corrected < cor_pvalue_threshold)\n",
    "true_positions_night_pvalue = np.where(night_pvalues_corrected < cor_pvalue_threshold)\n",
    "\n",
    "# Filtering correlations based on coef. and corrected pvalues\n",
    "cor_tuples_day = []\n",
    "pval_tuples_day = []\n",
    "\n",
    "for i in range(np.size(true_positions_day_cor, 1)):\n",
    "    cor_tuples_day.append((true_positions_day_cor[0][i],\n",
    "    true_positions_day_cor[1][i]))\n",
    "\n",
    "for i in range(np.size(true_positions_day_pvalue, 1)):\n",
    "    pval_tuples_day.append((true_positions_day_pvalue[0][i],\n",
    "    true_positions_day_pvalue[1][i]))\n",
    "\n",
    "cor_tuples_night = []\n",
    "pval_tuples_night = []\n",
    "\n",
    "for i in range(np.size(true_positions_night_cor, 1)):\n",
    "    cor_tuples_night.append((true_positions_night_cor[0][i],\n",
    "    true_positions_night_cor[1][i]))\n",
    "\n",
    "for i in range(np.size(true_positions_night_pvalue, 1)):\n",
    "    pval_tuples_night.append((true_positions_night_pvalue[0][i],\n",
    "    true_positions_night_pvalue[1][i]))\n",
    "\n",
    "cor_tuples_day_set = set(cor_tuples_day)\n",
    "pval_tuples_day_set = set(pval_tuples_day)\n",
    "cor_tuples_night_set = set(cor_tuples_night)\n",
    "pval_tuples_night_set = set(pval_tuples_night)\n",
    "\n",
    "cor_pval_intersection_day = cor_tuples_day_set.intersection(pval_tuples_day_set)\n",
    "cor_pval_intersection_night = cor_tuples_night_set.intersection(pval_tuples_night_set)\n",
    "\n",
    "cor_pval_intersection_day_tuple = ([t[0] for t in list(cor_pval_intersection_day)],\n",
    "[t[1] for t in list(cor_pval_intersection_day)])\n",
    "cor_pval_intersection_night_tuple = ([t[0] for t in list(cor_pval_intersection_night)],\n",
    "[t[1] for t in list(cor_pval_intersection_night)])\n",
    "\n",
    "shape_row_day = kremling_expression_v5_day_tpm_filtered_cv_filtered.shape[0]\n",
    "shape_row_night = kremling_expression_v5_night_tpm_filtered_cv_filtered.shape[0]\n",
    "\n",
    "pairs_day_genetpm_genuscpm = []\n",
    "pairs_night_genetpm_genuscpm = []\n",
    "\n",
    "for i in range(len(cor_pval_intersection_day_tuple[0])):\n",
    "    if (cor_pval_intersection_day_tuple[1][i] > (shape_row_day - 1)) and (cor_pval_intersection_day_tuple[0][i] < shape_row_day):\n",
    "        pairs_day_genetpm_genuscpm.append((str(cor_values_day.columns[cor_pval_intersection_day_tuple[1][i]]),\n",
    "              str(cor_values_day.index[cor_pval_intersection_day_tuple[0][i]]),\n",
    "              cor_values_day.iloc[cor_pval_intersection_day_tuple[0][i], cor_pval_intersection_day_tuple[1][i]],\n",
    "              day_pvalues_corrected[cor_pval_intersection_day_tuple[0][i], cor_pval_intersection_day_tuple[1][i]]))\n",
    "\n",
    "for i in range(len(cor_pval_intersection_night_tuple[0])):\n",
    "    if (cor_pval_intersection_night_tuple[1][i] > (shape_row_night - 1)) and (cor_pval_intersection_night_tuple[0][i] < shape_row_night):\n",
    "        pairs_night_genetpm_genuscpm.append((str(cor_values_night.columns[cor_pval_intersection_night_tuple[1][i]]),\n",
    "              str(cor_values_night.index[cor_pval_intersection_night_tuple[0][i]]),\n",
    "              cor_values_night.iloc[cor_pval_intersection_night_tuple[0][i], cor_pval_intersection_night_tuple[1][i]],\n",
    "              night_pvalues_corrected[cor_pval_intersection_night_tuple[0][i], cor_pval_intersection_night_tuple[1][i]]))"
   ]
  },
  {
   "cell_type": "code",
   "execution_count": 28,
   "metadata": {},
   "outputs": [
    {
     "data": {
      "text/plain": [
       "6"
      ]
     },
     "execution_count": 28,
     "metadata": {},
     "output_type": "execute_result"
    }
   ],
   "source": [
    "len(set([k[0] for k in pairs_night_genetpm_genuscpm]))"
   ]
  },
  {
   "cell_type": "code",
   "execution_count": 52,
   "metadata": {},
   "outputs": [
    {
     "data": {
      "text/plain": [
       "('Rhodocytophaga',\n",
       " 'Zm00001eb313450_T001',\n",
       " 0.8187098470898806,\n",
       " 2.4662642640498482e-48)"
      ]
     },
     "execution_count": 52,
     "metadata": {},
     "output_type": "execute_result"
    }
   ],
   "source": [
    "pairs_night_genetpm_genuscpm[3]"
   ]
  },
  {
   "cell_type": "code",
   "execution_count": 45,
   "metadata": {},
   "outputs": [
    {
     "data": {
      "image/png": "[encoded data removed]",
      "text/plain": [
       "<Figure size 640x480 with 1 Axes>"
      ]
     },
     "metadata": {},
     "output_type": "display_data"
    }
   ],
   "source": [
    "import matplotlib.pyplot as plt\n",
    "\n",
    "# Plot the line plot\n",
    "kremling_expression_v5_night_tpm_filtered_cv_filtered.loc['Zm00001eb148930_T002'].plot(kind='line')\n",
    "\n",
    "# Add labels and title\n",
    "plt.xlabel('Columns')\n",
    "plt.ylabel('Values')\n",
    "plt.title(f'Line Plot for Index: Zm00001eb148930_T002')\n",
    "\n",
    "# Show the plot\n",
    "plt.show()"
   ]
  },
  {
   "cell_type": "code",
   "execution_count": 46,
   "metadata": {},
   "outputs": [
    {
     "data": {
      "image/png": "[encoded data removed]",
      "text/plain": [
       "<Figure size 640x480 with 1 Axes>"
      ]
     },
     "metadata": {},
     "output_type": "display_data"
    }
   ],
   "source": [
    "import matplotlib.pyplot as plt\n",
    "\n",
    "# Plot the line plot\n",
    "genus_table_merged_d_n_night_cpm_filtered_cv_filtered.loc['Leucobacter'].plot(kind='line')\n",
    "\n",
    "# Add labels and title\n",
    "plt.xlabel('Columns')\n",
    "plt.ylabel('Values')\n",
    "plt.title(f'Line Plot for Index: Leucobacter')\n",
    "\n",
    "# Show the plot\n",
    "plt.show()"
   ]
  },
  {
   "cell_type": "code",
   "execution_count": 48,
   "metadata": {},
   "outputs": [
    {
     "data": {
      "image/png": "[encoded data removed]",
      "text/plain": [
       "<Figure size 640x480 with 1 Axes>"
      ]
     },
     "metadata": {},
     "output_type": "display_data"
    }
   ],
   "source": [
    "import matplotlib.pyplot as plt\n",
    "\n",
    "# Plot the line plots for gene and genus\n",
    "plt.plot(kremling_expression_v5_night_tpm_filtered_cv_filtered.loc['Zm00001eb148930_T002'],\n",
    "         label='Gene (night)')\n",
    "plt.plot(genus_table_merged_d_n_night_cpm_filtered_cv_filtered.loc['Leucobacter'],\n",
    "         label='Genus (night)')\n",
    "\n",
    "# Add labels and title\n",
    "plt.xlabel('Columns')\n",
    "plt.ylabel('Values')\n",
    "plt.title('Line Plot for Index: Zm00001eb371250_T001 and Leucobacter')\n",
    "\n",
    "# Add legend\n",
    "plt.legend()\n",
    "\n",
    "# Show the plot\n",
    "plt.show()"
   ]
  },
  {
   "cell_type": "code",
   "execution_count": 50,
   "metadata": {},
   "outputs": [
    {
     "data": {
      "image/png": "[encoded data removed]",
      "text/plain": [
       "<Figure size 640x480 with 1 Axes>"
      ]
     },
     "metadata": {},
     "output_type": "display_data"
    }
   ],
   "source": [
    "import matplotlib.pyplot as plt\n",
    "\n",
    "# Plot the line plots for gene and genus\n",
    "plt.plot(kremling_expression_v5_night_tpm_filtered_cv_filtered.loc['Zm00001eb222090_T001'],\n",
    "         label='Gene (night)')\n",
    "plt.plot(genus_table_merged_d_n_night_cpm_filtered_cv_filtered.loc['Frigoribacterium'],\n",
    "         label='Genus (night)')\n",
    "\n",
    "# Add labels and title\n",
    "plt.xlabel('Columns')\n",
    "plt.ylabel('Values')\n",
    "plt.title('Line Plot for Index: Zm00001eb222090_T001 and Frigoribacterium')\n",
    "\n",
    "# Add legend\n",
    "plt.legend()\n",
    "\n",
    "# Show the plot\n",
    "plt.show()"
   ]
  },
  {
   "cell_type": "code",
   "execution_count": 54,
   "metadata": {},
   "outputs": [
    {
     "data": {
      "image/png": "[encoded data removed]",
      "text/plain": [
       "<Figure size 640x480 with 1 Axes>"
      ]
     },
     "metadata": {},
     "output_type": "display_data"
    }
   ],
   "source": [
    "import matplotlib.pyplot as plt\n",
    "\n",
    "# Plot the line plot\n",
    "kremling_expression_v5_night_tpm_filtered_cv_filtered.loc['Zm00001eb222090_T001'].plot(kind='line')\n",
    "\n",
    "# Add labels and title\n",
    "plt.xlabel('Columns')\n",
    "plt.ylabel('Values')\n",
    "plt.title(f'Line Plot for Index: Zm00001eb222090_T001')\n",
    "\n",
    "# Show the plot\n",
    "plt.show()"
   ]
  },
  {
   "cell_type": "code",
   "execution_count": 53,
   "metadata": {},
   "outputs": [
    {
     "data": {
      "image/png": "[encoded data removed]",
      "text/plain": [
       "<Figure size 640x480 with 1 Axes>"
      ]
     },
     "metadata": {},
     "output_type": "display_data"
    }
   ],
   "source": [
    "import matplotlib.pyplot as plt\n",
    "\n",
    "# Plot the line plots for gene and genus\n",
    "plt.plot(kremling_expression_v5_night_tpm_filtered_cv_filtered.loc['Zm00001eb313450_T001'],\n",
    "         label='Gene (night)')\n",
    "plt.plot(genus_table_merged_d_n_night_cpm_filtered_cv_filtered.loc['Rhodocytophaga'],\n",
    "         label='Genus (night)')\n",
    "\n",
    "# Add labels and title\n",
    "plt.xlabel('Columns')\n",
    "plt.ylabel('Values')\n",
    "plt.title('Line Plot for Index: Zm00001eb313450_T001 and Rhodocytophaga')\n",
    "\n",
    "# Add legend\n",
    "plt.legend()\n",
    "\n",
    "# Show the plot\n",
    "plt.show()"
   ]
  },
  {
   "cell_type": "code",
   "execution_count": 55,
   "metadata": {},
   "outputs": [
    {
     "data": {
      "image/png": "[encoded data removed]",
      "text/plain": [
       "<Figure size 640x480 with 1 Axes>"
      ]
     },
     "metadata": {},
     "output_type": "display_data"
    }
   ],
   "source": [
    "import matplotlib.pyplot as plt\n",
    "\n",
    "# Plot the line plot\n",
    "kremling_expression_v5_night_tpm_filtered_cv_filtered.loc['Zm00001eb313450_T001'].plot(kind='line')\n",
    "\n",
    "# Add labels and title\n",
    "plt.xlabel('Columns')\n",
    "plt.ylabel('Values')\n",
    "plt.title(f'Line Plot for Index: Zm00001eb313450_T001')\n",
    "\n",
    "# Show the plot\n",
    "plt.show()"
   ]
  },
  {
   "cell_type": "code",
   "execution_count": 47,
   "metadata": {},
   "outputs": [
    {
     "name": "stdout",
     "output_type": "stream",
     "text": [
      "Correlation coefficient: 0.6323188368822068\n",
      "P-value: 7.343200340978372e-27\n"
     ]
    }
   ],
   "source": [
    "from scipy.stats import pearsonr\n",
    "\n",
    "# Calculate the correlation coefficient and p-value\n",
    "correlation, p_value = pearsonr(genus_table_merged_d_n_night_cpm_filtered_cv_filtered.loc['Leucobacter'],\n",
    "                                kremling_expression_v5_night_tpm_filtered_cv_filtered.loc['Zm00001eb148930_T002'])\n",
    "\n",
    "# Print the correlation coefficient and p-value\n",
    "print(f\"Correlation coefficient: {correlation}\")\n",
    "print(f\"P-value: {p_value}\")"
   ]
  },
  {
   "cell_type": "code",
   "execution_count": 29,
   "metadata": {},
   "outputs": [
    {
     "data": {
      "text/plain": [
       "{'Frigoribacterium',\n",
       " 'Leucobacter',\n",
       " 'Paenibacillus_J',\n",
       " 'Rathayibacter',\n",
       " 'Rhizobium_A',\n",
       " 'Rhodocytophaga'}"
      ]
     },
     "execution_count": 29,
     "metadata": {},
     "output_type": "execute_result"
    }
   ],
   "source": [
    "set([k[0] for k in pairs_night_genetpm_genuscpm])"
   ]
  },
  {
   "cell_type": "code",
   "execution_count": 31,
   "metadata": {},
   "outputs": [
    {
     "data": {
      "text/plain": [
       "{'Zm00001eb148930_T002',\n",
       " 'Zm00001eb167720_T001',\n",
       " 'Zm00001eb222080_T001',\n",
       " 'Zm00001eb222090_T001',\n",
       " 'Zm00001eb313450_T001'}"
      ]
     },
     "execution_count": 31,
     "metadata": {},
     "output_type": "execute_result"
    }
   ],
   "source": [
    "set([k[1] for k in pairs_night_genetpm_genuscpm])"
   ]
  },
  {
   "cell_type": "code",
   "execution_count": 27,
   "metadata": {},
   "outputs": [
    {
     "data": {
      "text/plain": [
       "12"
      ]
     },
     "execution_count": 27,
     "metadata": {},
     "output_type": "execute_result"
    }
   ],
   "source": [
    "len(set([k[0] for k in pairs_day_genetpm_genuscpm]))"
   ]
  },
  {
   "cell_type": "code",
   "execution_count": 30,
   "metadata": {},
   "outputs": [
    {
     "data": {
      "text/plain": [
       "{'Azomonas',\n",
       " 'Curtobacterium',\n",
       " 'Dyadobacter',\n",
       " 'Eikenella',\n",
       " 'Empedobacter',\n",
       " 'Gemella',\n",
       " 'Paenibacillus_J',\n",
       " 'Rhabdothermincola_A',\n",
       " 'Serinicoccus',\n",
       " 'Staphylococcus',\n",
       " 'Terrabacter',\n",
       " 'Terracoccus'}"
      ]
     },
     "execution_count": 30,
     "metadata": {},
     "output_type": "execute_result"
    }
   ],
   "source": [
    "set([k[0] for k in pairs_day_genetpm_genuscpm])"
   ]
  },
  {
   "cell_type": "code",
   "execution_count": 33,
   "metadata": {},
   "outputs": [
    {
     "data": {
      "text/plain": [
       "60"
      ]
     },
     "execution_count": 33,
     "metadata": {},
     "output_type": "execute_result"
    }
   ],
   "source": [
    "len(set([k[1] for k in pairs_day_genetpm_genuscpm]))"
   ]
  },
  {
   "cell_type": "code",
   "execution_count": null,
   "metadata": {},
   "outputs": [],
   "source": []
  },
  {
   "cell_type": "markdown",
   "metadata": {},
   "source": [
    "### Correlations - gene TPM (no asinh) versus Taxon at Family (CPM)"
   ]
  },
  {
   "cell_type": "code",
   "execution_count": 34,
   "metadata": {},
   "outputs": [],
   "source": [
    "family_table_merged_d_n_day_cpm_filtered_cv_filtered = pd.read_csv('/home/rsantos/Repositories/maize_microbiome_transcriptomics/16S_wallace2018/combine_day_night_samples/family_table_merged_d_n_day_cpm_filtered_cv_filtered.tsv',\n",
    "                                                            sep='\\t')\n",
    "family_table_merged_d_n_day_cpm_filtered_cv_filtered.set_index('Family', inplace=True)\n",
    "family_table_merged_d_n_night_cpm_filtered_cv_filtered = pd.read_csv('/home/rsantos/Repositories/maize_microbiome_transcriptomics/16S_wallace2018/combine_day_night_samples/family_table_merged_d_n_night_cpm_filtered_cv_filtered.tsv',\n",
    "                                                            sep='\\t')\n",
    "family_table_merged_d_n_night_cpm_filtered_cv_filtered.set_index('Family', inplace=True)"
   ]
  },
  {
   "cell_type": "code",
   "execution_count": 35,
   "metadata": {},
   "outputs": [
    {
     "name": "stderr",
     "output_type": "stream",
     "text": [
      "/home/rsantos/Repositories/maize_microbiome_transcriptomics/.venv/lib/python3.10/site-packages/corals/correlation/utils.py:227: RuntimeWarning: divide by zero encountered in divide\n",
      "  ts = rf * rf * (df / (1 - rf * rf))\n"
     ]
    }
   ],
   "source": [
    "concat_df_night = pd.concat([kremling_expression_v5_night_tpm_filtered_cv_filtered, family_table_merged_d_n_night_cpm_filtered_cv_filtered], axis=0)\n",
    "concat_df_day = pd.concat([kremling_expression_v5_day_tpm_filtered_cv_filtered, family_table_merged_d_n_day_cpm_filtered_cv_filtered], axis=0)\n",
    "\n",
    "concatenated_transposed_day = concat_df_day.transpose()\n",
    "concatenated_transposed_night = concat_df_night.transpose()\n",
    "\n",
    "cor_values_day = cor_full(concatenated_transposed_day)\n",
    "cor_values_night = cor_full(concatenated_transposed_night)\n",
    "\n",
    "# Calculating pvalues and corrected pvalues\n",
    "from corals.correlation.utils import derive_pvalues, multiple_test_correction\n",
    "\n",
    "cor_threshold = 0.6\n",
    "cor_pvalue_threshold = 0.05\n",
    "\n",
    "n_samples_day = concatenated_transposed_day.shape[0]\n",
    "n_features_day = concatenated_transposed_day.shape[1]\n",
    "n_samples_night = concatenated_transposed_night.shape[0]\n",
    "n_features_night = concatenated_transposed_night.shape[1]\n",
    "\n",
    "day_pvalues = derive_pvalues(cor_values_day, n_samples_day)\n",
    "day_pvalues_corrected = multiple_test_correction(day_pvalues, n_features_day, method=\"bonferroni\")\n",
    "night_pvalues = derive_pvalues(cor_values_night, n_samples_night)\n",
    "night_pvalues_corrected = multiple_test_correction(night_pvalues, n_features_night, method=\"bonferroni\")\n",
    "\n",
    "true_positions_day_cor = np.where(cor_values_day > cor_threshold)\n",
    "true_positions_night_cor = np.where(cor_values_night > cor_threshold)\n",
    "\n",
    "true_positions_day_pvalue = np.where(day_pvalues_corrected < cor_pvalue_threshold)\n",
    "true_positions_night_pvalue = np.where(night_pvalues_corrected < cor_pvalue_threshold)\n",
    "\n",
    "# Filtering correlations based on coef. and corrected pvalues\n",
    "cor_tuples_day = []\n",
    "pval_tuples_day = []\n",
    "\n",
    "for i in range(np.size(true_positions_day_cor, 1)):\n",
    "    cor_tuples_day.append((true_positions_day_cor[0][i],\n",
    "    true_positions_day_cor[1][i]))\n",
    "\n",
    "for i in range(np.size(true_positions_day_pvalue, 1)):\n",
    "    pval_tuples_day.append((true_positions_day_pvalue[0][i],\n",
    "    true_positions_day_pvalue[1][i]))\n",
    "\n",
    "cor_tuples_night = []\n",
    "pval_tuples_night = []\n",
    "\n",
    "for i in range(np.size(true_positions_night_cor, 1)):\n",
    "    cor_tuples_night.append((true_positions_night_cor[0][i],\n",
    "    true_positions_night_cor[1][i]))\n",
    "\n",
    "for i in range(np.size(true_positions_night_pvalue, 1)):\n",
    "    pval_tuples_night.append((true_positions_night_pvalue[0][i],\n",
    "    true_positions_night_pvalue[1][i]))\n",
    "\n",
    "cor_tuples_day_set = set(cor_tuples_day)\n",
    "pval_tuples_day_set = set(pval_tuples_day)\n",
    "cor_tuples_night_set = set(cor_tuples_night)\n",
    "pval_tuples_night_set = set(pval_tuples_night)\n",
    "\n",
    "cor_pval_intersection_day = cor_tuples_day_set.intersection(pval_tuples_day_set)\n",
    "cor_pval_intersection_night = cor_tuples_night_set.intersection(pval_tuples_night_set)\n",
    "\n",
    "cor_pval_intersection_day_tuple = ([t[0] for t in list(cor_pval_intersection_day)],\n",
    "[t[1] for t in list(cor_pval_intersection_day)])\n",
    "cor_pval_intersection_night_tuple = ([t[0] for t in list(cor_pval_intersection_night)],\n",
    "[t[1] for t in list(cor_pval_intersection_night)])\n",
    "\n",
    "shape_row_day = kremling_expression_v5_day_tpm_filtered_cv_filtered.shape[0]\n",
    "shape_row_night = kremling_expression_v5_night_tpm_filtered_cv_filtered.shape[0]\n",
    "\n",
    "pairs_day_genetpm_familycpm = []\n",
    "pairs_night_genetpm_familycpm = []\n",
    "\n",
    "for i in range(len(cor_pval_intersection_day_tuple[0])):\n",
    "    if (cor_pval_intersection_day_tuple[1][i] > (shape_row_day - 1)) and (cor_pval_intersection_day_tuple[0][i] < shape_row_day):\n",
    "        pairs_day_genetpm_familycpm.append((str(cor_values_day.columns[cor_pval_intersection_day_tuple[1][i]]),\n",
    "              str(cor_values_day.index[cor_pval_intersection_day_tuple[0][i]]),\n",
    "              cor_values_day.iloc[cor_pval_intersection_day_tuple[0][i], cor_pval_intersection_day_tuple[1][i]],\n",
    "              day_pvalues_corrected[cor_pval_intersection_day_tuple[0][i], cor_pval_intersection_day_tuple[1][i]]))\n",
    "\n",
    "for i in range(len(cor_pval_intersection_night_tuple[0])):\n",
    "    if (cor_pval_intersection_night_tuple[1][i] > (shape_row_night - 1)) and (cor_pval_intersection_night_tuple[0][i] < shape_row_night):\n",
    "        pairs_night_genetpm_familycpm.append((str(cor_values_night.columns[cor_pval_intersection_night_tuple[1][i]]),\n",
    "              str(cor_values_night.index[cor_pval_intersection_night_tuple[0][i]]),\n",
    "              cor_values_night.iloc[cor_pval_intersection_night_tuple[0][i], cor_pval_intersection_night_tuple[1][i]],\n",
    "              night_pvalues_corrected[cor_pval_intersection_night_tuple[0][i], cor_pval_intersection_night_tuple[1][i]]))"
   ]
  },
  {
   "cell_type": "code",
   "execution_count": 36,
   "metadata": {},
   "outputs": [
    {
     "data": {
      "text/plain": [
       "{'172606-1'}"
      ]
     },
     "execution_count": 36,
     "metadata": {},
     "output_type": "execute_result"
    }
   ],
   "source": [
    "set([k[0] for k in pairs_night_genetpm_familycpm])"
   ]
  },
  {
   "cell_type": "code",
   "execution_count": 38,
   "metadata": {},
   "outputs": [
    {
     "data": {
      "text/plain": [
       "{'Zm00001eb313450_T001'}"
      ]
     },
     "execution_count": 38,
     "metadata": {},
     "output_type": "execute_result"
    }
   ],
   "source": [
    "set([k[1] for k in pairs_night_genetpm_familycpm])"
   ]
  },
  {
   "cell_type": "code",
   "execution_count": 41,
   "metadata": {},
   "outputs": [
    {
     "data": {
      "text/plain": [
       "6"
      ]
     },
     "execution_count": 41,
     "metadata": {},
     "output_type": "execute_result"
    }
   ],
   "source": [
    "len(set([k[0] for k in pairs_day_genetpm_familycpm]))"
   ]
  },
  {
   "cell_type": "code",
   "execution_count": 42,
   "metadata": {},
   "outputs": [
    {
     "data": {
      "text/plain": [
       "{'Alteromonadaceae',\n",
       " 'Amphibacillaceae',\n",
       " 'Gemellaceae',\n",
       " 'Lactobacillaceae',\n",
       " 'Peptostreptococcaceae',\n",
       " 'Polyangiaceae'}"
      ]
     },
     "execution_count": 42,
     "metadata": {},
     "output_type": "execute_result"
    }
   ],
   "source": [
    "set([k[0] for k in pairs_day_genetpm_familycpm])"
   ]
  },
  {
   "cell_type": "code",
   "execution_count": 40,
   "metadata": {},
   "outputs": [
    {
     "data": {
      "text/plain": [
       "44"
      ]
     },
     "execution_count": 40,
     "metadata": {},
     "output_type": "execute_result"
    }
   ],
   "source": [
    "len(set([k[1] for k in pairs_day_genetpm_familycpm]))"
   ]
  },
  {
   "cell_type": "markdown",
   "metadata": {},
   "source": [
    "## Correlations - gene (no asinh) versus OTU (CPM)"
   ]
  },
  {
   "cell_type": "code",
   "execution_count": 17,
   "metadata": {},
   "outputs": [
    {
     "name": "stderr",
     "output_type": "stream",
     "text": [
      "/home/rsantos/Repositories/maize_microbiome_transcriptomics/.venv/lib/python3.10/site-packages/corals/threads.py:48: UserWarning: This function should be called before `numpy` or similar modules are imported.\n",
      "  warnings.warn(\"This function should be called before `numpy` or similar modules are imported.\")\n"
     ]
    }
   ],
   "source": [
    "from corals.threads import set_threads_for_external_libraries\n",
    "set_threads_for_external_libraries(n_threads=1)\n",
    "import numpy as np\n",
    "from corals.correlation.full.default import cor_full"
   ]
  },
  {
   "cell_type": "markdown",
   "metadata": {},
   "source": [
    "### OTU (CPM) - Gene (CPM)"
   ]
  },
  {
   "cell_type": "code",
   "execution_count": 18,
   "metadata": {},
   "outputs": [
    {
     "name": "stderr",
     "output_type": "stream",
     "text": [
      "/home/rsantos/Repositories/maize_microbiome_transcriptomics/.venv/lib/python3.10/site-packages/corals/correlation/utils.py:227: RuntimeWarning: divide by zero encountered in divide\n",
      "  ts = rf * rf * (df / (1 - rf * rf))\n"
     ]
    }
   ],
   "source": [
    "concat_df_night = pd.concat([kremling_expression_v5_night_cpm_filtered_cv_filtered, otu_table_merged_night_cpm_filtered_cv_filtered], axis=0)\n",
    "concat_df_day = pd.concat([kremling_expression_v5_day_cpm_filtered_cv_filtered, otu_table_merged_day_cpm_filtered_cv_filtered], axis=0)\n",
    "\n",
    "concatenated_transposed_day = concat_df_day.transpose()\n",
    "concatenated_transposed_night = concat_df_night.transpose()\n",
    "\n",
    "cor_values_day = cor_full(concatenated_transposed_day)\n",
    "cor_values_night = cor_full(concatenated_transposed_night)\n",
    "\n",
    "# Calculating pvalues and corrected pvalues\n",
    "from corals.correlation.utils import derive_pvalues, multiple_test_correction\n",
    "\n",
    "cor_threshold = 0.6\n",
    "cor_pvalue_threshold = 0.05\n",
    "\n",
    "n_samples_day = concatenated_transposed_day.shape[0]\n",
    "n_features_day = concatenated_transposed_day.shape[1]\n",
    "n_samples_night = concatenated_transposed_night.shape[0]\n",
    "n_features_night = concatenated_transposed_night.shape[1]\n",
    "\n",
    "day_pvalues = derive_pvalues(cor_values_day, n_samples_day)\n",
    "day_pvalues_corrected = multiple_test_correction(day_pvalues, n_features_day, method=\"bonferroni\")\n",
    "night_pvalues = derive_pvalues(cor_values_night, n_samples_night)\n",
    "night_pvalues_corrected = multiple_test_correction(night_pvalues, n_features_night, method=\"bonferroni\")\n",
    "\n",
    "true_positions_day_cor = np.where(cor_values_day > cor_threshold)\n",
    "true_positions_night_cor = np.where(cor_values_night > cor_threshold)\n",
    "\n",
    "true_positions_day_pvalue = np.where(day_pvalues_corrected < cor_pvalue_threshold)\n",
    "true_positions_night_pvalue = np.where(night_pvalues_corrected < cor_pvalue_threshold)\n",
    "\n",
    "# Filtering correlations based on coef. and corrected pvalues\n",
    "cor_tuples_day = []\n",
    "pval_tuples_day = []\n",
    "\n",
    "for i in range(np.size(true_positions_day_cor, 1)):\n",
    "    cor_tuples_day.append((true_positions_day_cor[0][i],\n",
    "    true_positions_day_cor[1][i]))\n",
    "\n",
    "for i in range(np.size(true_positions_day_pvalue, 1)):\n",
    "    pval_tuples_day.append((true_positions_day_pvalue[0][i],\n",
    "    true_positions_day_pvalue[1][i]))\n",
    "\n",
    "cor_tuples_night = []\n",
    "pval_tuples_night = []\n",
    "\n",
    "for i in range(np.size(true_positions_night_cor, 1)):\n",
    "    cor_tuples_night.append((true_positions_night_cor[0][i],\n",
    "    true_positions_night_cor[1][i]))\n",
    "\n",
    "for i in range(np.size(true_positions_night_pvalue, 1)):\n",
    "    pval_tuples_night.append((true_positions_night_pvalue[0][i],\n",
    "    true_positions_night_pvalue[1][i]))\n",
    "\n",
    "cor_tuples_day_set = set(cor_tuples_day)\n",
    "pval_tuples_day_set = set(pval_tuples_day)\n",
    "cor_tuples_night_set = set(cor_tuples_night)\n",
    "pval_tuples_night_set = set(pval_tuples_night)\n",
    "\n",
    "cor_pval_intersection_day = cor_tuples_day_set.intersection(pval_tuples_day_set)\n",
    "cor_pval_intersection_night = cor_tuples_night_set.intersection(pval_tuples_night_set)\n",
    "\n",
    "cor_pval_intersection_day_tuple = ([t[0] for t in list(cor_pval_intersection_day)],\n",
    "[t[1] for t in list(cor_pval_intersection_day)])\n",
    "cor_pval_intersection_night_tuple = ([t[0] for t in list(cor_pval_intersection_night)],\n",
    "[t[1] for t in list(cor_pval_intersection_night)])\n",
    "\n",
    "shape_row_day = kremling_expression_v5_day_cpm_filtered_cv_filtered.shape[0]\n",
    "shape_row_night = kremling_expression_v5_night_cpm_filtered_cv_filtered.shape[0]\n",
    "\n",
    "pairs_day_genecpm_otucpm = []\n",
    "pairs_night_genecpm_otucpm = []\n",
    "\n",
    "for i in range(len(cor_pval_intersection_day_tuple[0])):\n",
    "    if (cor_pval_intersection_day_tuple[1][i] > (shape_row_day - 1)) and (cor_pval_intersection_day_tuple[0][i] < shape_row_day):\n",
    "        pairs_day_genecpm_otucpm.append((str(cor_values_day.columns[cor_pval_intersection_day_tuple[1][i]]),\n",
    "              str(cor_values_day.index[cor_pval_intersection_day_tuple[0][i]]),\n",
    "              cor_values_day.iloc[cor_pval_intersection_day_tuple[0][i], cor_pval_intersection_day_tuple[1][i]],\n",
    "              day_pvalues_corrected[cor_pval_intersection_day_tuple[0][i], cor_pval_intersection_day_tuple[1][i]]))\n",
    "\n",
    "for i in range(len(cor_pval_intersection_night_tuple[0])):\n",
    "    if (cor_pval_intersection_night_tuple[1][i] > (shape_row_night - 1)) and (cor_pval_intersection_night_tuple[0][i] < shape_row_night):\n",
    "        pairs_night_genecpm_otucpm.append((str(cor_values_night.columns[cor_pval_intersection_night_tuple[1][i]]),\n",
    "              str(cor_values_night.index[cor_pval_intersection_night_tuple[0][i]]),\n",
    "              cor_values_night.iloc[cor_pval_intersection_night_tuple[0][i], cor_pval_intersection_night_tuple[1][i]],\n",
    "              night_pvalues_corrected[cor_pval_intersection_night_tuple[0][i], cor_pval_intersection_night_tuple[1][i]]))"
   ]
  },
  {
   "cell_type": "code",
   "execution_count": 19,
   "metadata": {},
   "outputs": [
    {
     "name": "stdout",
     "output_type": "stream",
     "text": [
      "599\n",
      "110\n"
     ]
    }
   ],
   "source": [
    "print(len(pairs_day_genecpm_otucpm))\n",
    "print(len(pairs_night_genecpm_otucpm))"
   ]
  },
  {
   "cell_type": "markdown",
   "metadata": {},
   "source": [
    "### OTU (CPM) - Gene (TPM)"
   ]
  },
  {
   "cell_type": "code",
   "execution_count": 20,
   "metadata": {},
   "outputs": [
    {
     "name": "stderr",
     "output_type": "stream",
     "text": [
      "/home/rsantos/Repositories/maize_microbiome_transcriptomics/.venv/lib/python3.10/site-packages/corals/correlation/utils.py:227: RuntimeWarning: divide by zero encountered in divide\n",
      "  ts = rf * rf * (df / (1 - rf * rf))\n"
     ]
    }
   ],
   "source": [
    "concat_df_night = pd.concat([kremling_expression_v5_night_tpm_filtered_cv_filtered, otu_table_merged_night_cpm_filtered_cv_filtered], axis=0)\n",
    "concat_df_day = pd.concat([kremling_expression_v5_day_tpm_filtered_cv_filtered, otu_table_merged_day_cpm_filtered_cv_filtered], axis=0)\n",
    "\n",
    "concatenated_transposed_day = concat_df_day.transpose()\n",
    "concatenated_transposed_night = concat_df_night.transpose()\n",
    "\n",
    "cor_values_day = cor_full(concatenated_transposed_day)\n",
    "cor_values_night = cor_full(concatenated_transposed_night)\n",
    "\n",
    "# Calculating pvalues and corrected pvalues\n",
    "from corals.correlation.utils import derive_pvalues, multiple_test_correction\n",
    "\n",
    "cor_threshold = 0.6\n",
    "cor_pvalue_threshold = 0.05\n",
    "\n",
    "n_samples_day = concatenated_transposed_day.shape[0]\n",
    "n_features_day = concatenated_transposed_day.shape[1]\n",
    "n_samples_night = concatenated_transposed_night.shape[0]\n",
    "n_features_night = concatenated_transposed_night.shape[1]\n",
    "\n",
    "day_pvalues = derive_pvalues(cor_values_day, n_samples_day)\n",
    "day_pvalues_corrected = multiple_test_correction(day_pvalues, n_features_day, method=\"bonferroni\")\n",
    "night_pvalues = derive_pvalues(cor_values_night, n_samples_night)\n",
    "night_pvalues_corrected = multiple_test_correction(night_pvalues, n_features_night, method=\"bonferroni\")\n",
    "\n",
    "true_positions_day_cor = np.where(cor_values_day > cor_threshold)\n",
    "true_positions_night_cor = np.where(cor_values_night > cor_threshold)\n",
    "\n",
    "true_positions_day_pvalue = np.where(day_pvalues_corrected < cor_pvalue_threshold)\n",
    "true_positions_night_pvalue = np.where(night_pvalues_corrected < cor_pvalue_threshold)\n",
    "\n",
    "# Filtering correlations based on coef. and corrected pvalues\n",
    "cor_tuples_day = []\n",
    "pval_tuples_day = []\n",
    "\n",
    "for i in range(np.size(true_positions_day_cor, 1)):\n",
    "    cor_tuples_day.append((true_positions_day_cor[0][i],\n",
    "    true_positions_day_cor[1][i]))\n",
    "\n",
    "for i in range(np.size(true_positions_day_pvalue, 1)):\n",
    "    pval_tuples_day.append((true_positions_day_pvalue[0][i],\n",
    "    true_positions_day_pvalue[1][i]))\n",
    "\n",
    "cor_tuples_night = []\n",
    "pval_tuples_night = []\n",
    "\n",
    "for i in range(np.size(true_positions_night_cor, 1)):\n",
    "    cor_tuples_night.append((true_positions_night_cor[0][i],\n",
    "    true_positions_night_cor[1][i]))\n",
    "\n",
    "for i in range(np.size(true_positions_night_pvalue, 1)):\n",
    "    pval_tuples_night.append((true_positions_night_pvalue[0][i],\n",
    "    true_positions_night_pvalue[1][i]))\n",
    "\n",
    "cor_tuples_day_set = set(cor_tuples_day)\n",
    "pval_tuples_day_set = set(pval_tuples_day)\n",
    "cor_tuples_night_set = set(cor_tuples_night)\n",
    "pval_tuples_night_set = set(pval_tuples_night)\n",
    "\n",
    "cor_pval_intersection_day = cor_tuples_day_set.intersection(pval_tuples_day_set)\n",
    "cor_pval_intersection_night = cor_tuples_night_set.intersection(pval_tuples_night_set)\n",
    "\n",
    "cor_pval_intersection_day_tuple = ([t[0] for t in list(cor_pval_intersection_day)],\n",
    "[t[1] for t in list(cor_pval_intersection_day)])\n",
    "cor_pval_intersection_night_tuple = ([t[0] for t in list(cor_pval_intersection_night)],\n",
    "[t[1] for t in list(cor_pval_intersection_night)])\n",
    "\n",
    "shape_row_day = kremling_expression_v5_day_cpm_filtered_cv_filtered.shape[0]\n",
    "shape_row_night = kremling_expression_v5_night_cpm_filtered_cv_filtered.shape[0]\n",
    "\n",
    "pairs_day_genetpm_otucpm = []\n",
    "pairs_night_genetpm_otucpm = []\n",
    "\n",
    "for i in range(len(cor_pval_intersection_day_tuple[0])):\n",
    "    if (cor_pval_intersection_day_tuple[1][i] > (shape_row_day - 1)) and (cor_pval_intersection_day_tuple[0][i] < shape_row_day):\n",
    "        pairs_day_genetpm_otucpm.append((str(cor_values_day.columns[cor_pval_intersection_day_tuple[1][i]]),\n",
    "              str(cor_values_day.index[cor_pval_intersection_day_tuple[0][i]]),\n",
    "              cor_values_day.iloc[cor_pval_intersection_day_tuple[0][i], cor_pval_intersection_day_tuple[1][i]],\n",
    "              day_pvalues_corrected[cor_pval_intersection_day_tuple[0][i], cor_pval_intersection_day_tuple[1][i]]))\n",
    "\n",
    "for i in range(len(cor_pval_intersection_night_tuple[0])):\n",
    "    if (cor_pval_intersection_night_tuple[1][i] > (shape_row_night - 1)) and (cor_pval_intersection_night_tuple[0][i] < shape_row_night):\n",
    "        pairs_night_genetpm_otucpm.append((str(cor_values_night.columns[cor_pval_intersection_night_tuple[1][i]]),\n",
    "              str(cor_values_night.index[cor_pval_intersection_night_tuple[0][i]]),\n",
    "              cor_values_night.iloc[cor_pval_intersection_night_tuple[0][i], cor_pval_intersection_night_tuple[1][i]],\n",
    "              night_pvalues_corrected[cor_pval_intersection_night_tuple[0][i], cor_pval_intersection_night_tuple[1][i]]))\n"
   ]
  },
  {
   "cell_type": "code",
   "execution_count": 21,
   "metadata": {},
   "outputs": [
    {
     "name": "stdout",
     "output_type": "stream",
     "text": [
      "552\n",
      "112\n"
     ]
    }
   ],
   "source": [
    "print(len(pairs_day_genetpm_otucpm))\n",
    "print(len(pairs_night_genetpm_otucpm))"
   ]
  },
  {
   "cell_type": "markdown",
   "metadata": {},
   "source": [
    "### OTU (CPM) - Gene (TMM)"
   ]
  },
  {
   "cell_type": "code",
   "execution_count": 22,
   "metadata": {},
   "outputs": [
    {
     "name": "stderr",
     "output_type": "stream",
     "text": [
      "/home/rsantos/Repositories/maize_microbiome_transcriptomics/.venv/lib/python3.10/site-packages/corals/correlation/utils.py:227: RuntimeWarning: divide by zero encountered in divide\n",
      "  ts = rf * rf * (df / (1 - rf * rf))\n"
     ]
    }
   ],
   "source": [
    "concat_df_night = pd.concat([kremling_expression_v5_night_tmm_filtered_cv_filtered, otu_table_merged_night_cpm_filtered_cv_filtered], axis=0)\n",
    "concat_df_day = pd.concat([kremling_expression_v5_day_tmm_filtered_cv_filtered, otu_table_merged_day_cpm_filtered_cv_filtered], axis=0)\n",
    "\n",
    "concatenated_transposed_day = concat_df_day.transpose()\n",
    "concatenated_transposed_night = concat_df_night.transpose()\n",
    "\n",
    "cor_values_day = cor_full(concatenated_transposed_day)\n",
    "cor_values_night = cor_full(concatenated_transposed_night)\n",
    "\n",
    "# Calculating pvalues and corrected pvalues\n",
    "from corals.correlation.utils import derive_pvalues, multiple_test_correction\n",
    "\n",
    "cor_threshold = 0.6\n",
    "cor_pvalue_threshold = 0.05\n",
    "\n",
    "n_samples_day = concatenated_transposed_day.shape[0]\n",
    "n_features_day = concatenated_transposed_day.shape[1]\n",
    "n_samples_night = concatenated_transposed_night.shape[0]\n",
    "n_features_night = concatenated_transposed_night.shape[1]\n",
    "\n",
    "day_pvalues = derive_pvalues(cor_values_day, n_samples_day)\n",
    "day_pvalues_corrected = multiple_test_correction(day_pvalues, n_features_day, method=\"bonferroni\")\n",
    "night_pvalues = derive_pvalues(cor_values_night, n_samples_night)\n",
    "night_pvalues_corrected = multiple_test_correction(night_pvalues, n_features_night, method=\"bonferroni\")\n",
    "\n",
    "true_positions_day_cor = np.where(cor_values_day > cor_threshold)\n",
    "true_positions_night_cor = np.where(cor_values_night > cor_threshold)\n",
    "\n",
    "true_positions_day_pvalue = np.where(day_pvalues_corrected < cor_pvalue_threshold)\n",
    "true_positions_night_pvalue = np.where(night_pvalues_corrected < cor_pvalue_threshold)\n",
    "\n",
    "# Filtering correlations based on coef. and corrected pvalues\n",
    "cor_tuples_day = []\n",
    "pval_tuples_day = []\n",
    "\n",
    "for i in range(np.size(true_positions_day_cor, 1)):\n",
    "    cor_tuples_day.append((true_positions_day_cor[0][i],\n",
    "    true_positions_day_cor[1][i]))\n",
    "\n",
    "for i in range(np.size(true_positions_day_pvalue, 1)):\n",
    "    pval_tuples_day.append((true_positions_day_pvalue[0][i],\n",
    "    true_positions_day_pvalue[1][i]))\n",
    "\n",
    "cor_tuples_night = []\n",
    "pval_tuples_night = []\n",
    "\n",
    "for i in range(np.size(true_positions_night_cor, 1)):\n",
    "    cor_tuples_night.append((true_positions_night_cor[0][i],\n",
    "    true_positions_night_cor[1][i]))\n",
    "\n",
    "for i in range(np.size(true_positions_night_pvalue, 1)):\n",
    "    pval_tuples_night.append((true_positions_night_pvalue[0][i],\n",
    "    true_positions_night_pvalue[1][i]))\n",
    "\n",
    "cor_tuples_day_set = set(cor_tuples_day)\n",
    "pval_tuples_day_set = set(pval_tuples_day)\n",
    "cor_tuples_night_set = set(cor_tuples_night)\n",
    "pval_tuples_night_set = set(pval_tuples_night)\n",
    "\n",
    "cor_pval_intersection_day = cor_tuples_day_set.intersection(pval_tuples_day_set)\n",
    "cor_pval_intersection_night = cor_tuples_night_set.intersection(pval_tuples_night_set)\n",
    "\n",
    "cor_pval_intersection_day_tuple = ([t[0] for t in list(cor_pval_intersection_day)],\n",
    "[t[1] for t in list(cor_pval_intersection_day)])\n",
    "cor_pval_intersection_night_tuple = ([t[0] for t in list(cor_pval_intersection_night)],\n",
    "[t[1] for t in list(cor_pval_intersection_night)])\n",
    "\n",
    "shape_row_day = kremling_expression_v5_day_cpm_filtered_cv_filtered.shape[0]\n",
    "shape_row_night = kremling_expression_v5_night_cpm_filtered_cv_filtered.shape[0]\n",
    "\n",
    "pairs_day_genetmm_otucpm = []\n",
    "pairs_night_genetmm_otucpm = []\n",
    "\n",
    "for i in range(len(cor_pval_intersection_day_tuple[0])):\n",
    "    if (cor_pval_intersection_day_tuple[1][i] > (shape_row_day - 1)) and (cor_pval_intersection_day_tuple[0][i] < shape_row_day):\n",
    "        pairs_day_genetmm_otucpm.append((str(cor_values_day.columns[cor_pval_intersection_day_tuple[1][i]]),\n",
    "              str(cor_values_day.index[cor_pval_intersection_day_tuple[0][i]]),\n",
    "              cor_values_day.iloc[cor_pval_intersection_day_tuple[0][i], cor_pval_intersection_day_tuple[1][i]],\n",
    "              day_pvalues_corrected[cor_pval_intersection_day_tuple[0][i], cor_pval_intersection_day_tuple[1][i]]))\n",
    "\n",
    "for i in range(len(cor_pval_intersection_night_tuple[0])):\n",
    "    if (cor_pval_intersection_night_tuple[1][i] > (shape_row_night - 1)) and (cor_pval_intersection_night_tuple[0][i] < shape_row_night):\n",
    "        pairs_night_genetmm_otucpm.append((str(cor_values_night.columns[cor_pval_intersection_night_tuple[1][i]]),\n",
    "              str(cor_values_night.index[cor_pval_intersection_night_tuple[0][i]]),\n",
    "              cor_values_night.iloc[cor_pval_intersection_night_tuple[0][i], cor_pval_intersection_night_tuple[1][i]],\n",
    "              night_pvalues_corrected[cor_pval_intersection_night_tuple[0][i], cor_pval_intersection_night_tuple[1][i]]))"
   ]
  },
  {
   "cell_type": "code",
   "execution_count": 23,
   "metadata": {},
   "outputs": [
    {
     "name": "stdout",
     "output_type": "stream",
     "text": [
      "620\n",
      "92\n"
     ]
    }
   ],
   "source": [
    "print(len(pairs_day_genetmm_otucpm))\n",
    "print(len(pairs_night_genetmm_otucpm))"
   ]
  },
  {
   "cell_type": "markdown",
   "metadata": {},
   "source": [
    "### OTU (CPM) - Gene (RPKM)"
   ]
  },
  {
   "cell_type": "code",
   "execution_count": 26,
   "metadata": {},
   "outputs": [
    {
     "name": "stderr",
     "output_type": "stream",
     "text": [
      "/home/rsantos/Repositories/maize_microbiome_transcriptomics/.venv/lib/python3.10/site-packages/corals/correlation/utils.py:227: RuntimeWarning: divide by zero encountered in divide\n",
      "  ts = rf * rf * (df / (1 - rf * rf))\n"
     ]
    }
   ],
   "source": [
    "concat_df_night = pd.concat([kremling_expression_v5_night_rpkm_filtered_cv_filtered, otu_table_merged_night_cpm_filtered_cv_filtered], axis=0)\n",
    "concat_df_day = pd.concat([kremling_expression_v5_day_rpkm_filtered_cv_filtered, otu_table_merged_day_cpm_filtered_cv_filtered], axis=0)\n",
    "\n",
    "concatenated_transposed_day = concat_df_day.transpose()\n",
    "concatenated_transposed_night = concat_df_night.transpose()\n",
    "\n",
    "cor_values_day = cor_full(concatenated_transposed_day)\n",
    "cor_values_night = cor_full(concatenated_transposed_night)\n",
    "\n",
    "# Calculating pvalues and corrected pvalues\n",
    "from corals.correlation.utils import derive_pvalues, multiple_test_correction\n",
    "\n",
    "cor_threshold = 0.6\n",
    "cor_pvalue_threshold = 0.05\n",
    "\n",
    "n_samples_day = concatenated_transposed_day.shape[0]\n",
    "n_features_day = concatenated_transposed_day.shape[1]\n",
    "n_samples_night = concatenated_transposed_night.shape[0]\n",
    "n_features_night = concatenated_transposed_night.shape[1]\n",
    "\n",
    "day_pvalues = derive_pvalues(cor_values_day, n_samples_day)\n",
    "day_pvalues_corrected = multiple_test_correction(day_pvalues, n_features_day, method=\"bonferroni\")\n",
    "night_pvalues = derive_pvalues(cor_values_night, n_samples_night)\n",
    "night_pvalues_corrected = multiple_test_correction(night_pvalues, n_features_night, method=\"bonferroni\")\n",
    "\n",
    "true_positions_day_cor = np.where(cor_values_day > cor_threshold)\n",
    "true_positions_night_cor = np.where(cor_values_night > cor_threshold)\n",
    "\n",
    "true_positions_day_pvalue = np.where(day_pvalues_corrected < cor_pvalue_threshold)\n",
    "true_positions_night_pvalue = np.where(night_pvalues_corrected < cor_pvalue_threshold)\n",
    "\n",
    "# Filtering correlations based on coef. and corrected pvalues\n",
    "cor_tuples_day = []\n",
    "pval_tuples_day = []\n",
    "\n",
    "for i in range(np.size(true_positions_day_cor, 1)):\n",
    "    cor_tuples_day.append((true_positions_day_cor[0][i],\n",
    "    true_positions_day_cor[1][i]))\n",
    "\n",
    "for i in range(np.size(true_positions_day_pvalue, 1)):\n",
    "    pval_tuples_day.append((true_positions_day_pvalue[0][i],\n",
    "    true_positions_day_pvalue[1][i]))\n",
    "\n",
    "cor_tuples_night = []\n",
    "pval_tuples_night = []\n",
    "\n",
    "for i in range(np.size(true_positions_night_cor, 1)):\n",
    "    cor_tuples_night.append((true_positions_night_cor[0][i],\n",
    "    true_positions_night_cor[1][i]))\n",
    "\n",
    "for i in range(np.size(true_positions_night_pvalue, 1)):\n",
    "    pval_tuples_night.append((true_positions_night_pvalue[0][i],\n",
    "    true_positions_night_pvalue[1][i]))\n",
    "\n",
    "cor_tuples_day_set = set(cor_tuples_day)\n",
    "pval_tuples_day_set = set(pval_tuples_day)\n",
    "cor_tuples_night_set = set(cor_tuples_night)\n",
    "pval_tuples_night_set = set(pval_tuples_night)\n",
    "\n",
    "cor_pval_intersection_day = cor_tuples_day_set.intersection(pval_tuples_day_set)\n",
    "cor_pval_intersection_night = cor_tuples_night_set.intersection(pval_tuples_night_set)\n",
    "\n",
    "cor_pval_intersection_day_tuple = ([t[0] for t in list(cor_pval_intersection_day)],\n",
    "[t[1] for t in list(cor_pval_intersection_day)])\n",
    "cor_pval_intersection_night_tuple = ([t[0] for t in list(cor_pval_intersection_night)],\n",
    "[t[1] for t in list(cor_pval_intersection_night)])\n",
    "\n",
    "shape_row_day = kremling_expression_v5_day_cpm_filtered_cv_filtered.shape[0]\n",
    "shape_row_night = kremling_expression_v5_night_cpm_filtered_cv_filtered.shape[0]\n",
    "\n",
    "pairs_day_generpkm_otucpm = []\n",
    "pairs_night_generpkm_otucpm = []\n",
    "\n",
    "for i in range(len(cor_pval_intersection_day_tuple[0])):\n",
    "    if (cor_pval_intersection_day_tuple[1][i] > (shape_row_day - 1)) and (cor_pval_intersection_day_tuple[0][i] < shape_row_day):\n",
    "        pairs_day_generpkm_otucpm.append((str(cor_values_day.columns[cor_pval_intersection_day_tuple[1][i]]),\n",
    "              str(cor_values_day.index[cor_pval_intersection_day_tuple[0][i]]),\n",
    "              cor_values_day.iloc[cor_pval_intersection_day_tuple[0][i], cor_pval_intersection_day_tuple[1][i]],\n",
    "              day_pvalues_corrected[cor_pval_intersection_day_tuple[0][i], cor_pval_intersection_day_tuple[1][i]]))\n",
    "\n",
    "for i in range(len(cor_pval_intersection_night_tuple[0])):\n",
    "    if (cor_pval_intersection_night_tuple[1][i] > (shape_row_night - 1)) and (cor_pval_intersection_night_tuple[0][i] < shape_row_night):\n",
    "        pairs_night_generpkm_otucpm.append((str(cor_values_night.columns[cor_pval_intersection_night_tuple[1][i]]),\n",
    "              str(cor_values_night.index[cor_pval_intersection_night_tuple[0][i]]),\n",
    "              cor_values_night.iloc[cor_pval_intersection_night_tuple[0][i], cor_pval_intersection_night_tuple[1][i]],\n",
    "              night_pvalues_corrected[cor_pval_intersection_night_tuple[0][i], cor_pval_intersection_night_tuple[1][i]]))"
   ]
  },
  {
   "cell_type": "code",
   "execution_count": 27,
   "metadata": {},
   "outputs": [
    {
     "name": "stdout",
     "output_type": "stream",
     "text": [
      "599\n",
      "110\n"
     ]
    }
   ],
   "source": [
    "print(len(pairs_day_generpkm_otucpm))\n",
    "print(len(pairs_night_generpkm_otucpm))"
   ]
  },
  {
   "cell_type": "markdown",
   "metadata": {},
   "source": [
    "### OTU (CPM) - Gene (UQ)"
   ]
  },
  {
   "cell_type": "code",
   "execution_count": 28,
   "metadata": {},
   "outputs": [
    {
     "name": "stderr",
     "output_type": "stream",
     "text": [
      "/home/rsantos/Repositories/maize_microbiome_transcriptomics/.venv/lib/python3.10/site-packages/corals/correlation/utils.py:227: RuntimeWarning: divide by zero encountered in divide\n",
      "  ts = rf * rf * (df / (1 - rf * rf))\n"
     ]
    }
   ],
   "source": [
    "concat_df_night = pd.concat([kremling_expression_v5_night_uq_filtered_cv_filtered, otu_table_merged_night_cpm_filtered_cv_filtered], axis=0)\n",
    "concat_df_day = pd.concat([kremling_expression_v5_day_uq_filtered_cv_filtered, otu_table_merged_day_cpm_filtered_cv_filtered], axis=0)\n",
    "\n",
    "concatenated_transposed_day = concat_df_day.transpose()\n",
    "concatenated_transposed_night = concat_df_night.transpose()\n",
    "\n",
    "cor_values_day = cor_full(concatenated_transposed_day)\n",
    "cor_values_night = cor_full(concatenated_transposed_night)\n",
    "\n",
    "# Calculating pvalues and corrected pvalues\n",
    "from corals.correlation.utils import derive_pvalues, multiple_test_correction\n",
    "\n",
    "cor_threshold = 0.6\n",
    "cor_pvalue_threshold = 0.05\n",
    "\n",
    "n_samples_day = concatenated_transposed_day.shape[0]\n",
    "n_features_day = concatenated_transposed_day.shape[1]\n",
    "n_samples_night = concatenated_transposed_night.shape[0]\n",
    "n_features_night = concatenated_transposed_night.shape[1]\n",
    "\n",
    "day_pvalues = derive_pvalues(cor_values_day, n_samples_day)\n",
    "day_pvalues_corrected = multiple_test_correction(day_pvalues, n_features_day, method=\"bonferroni\")\n",
    "night_pvalues = derive_pvalues(cor_values_night, n_samples_night)\n",
    "night_pvalues_corrected = multiple_test_correction(night_pvalues, n_features_night, method=\"bonferroni\")\n",
    "\n",
    "true_positions_day_cor = np.where(cor_values_day > cor_threshold)\n",
    "true_positions_night_cor = np.where(cor_values_night > cor_threshold)\n",
    "\n",
    "true_positions_day_pvalue = np.where(day_pvalues_corrected < cor_pvalue_threshold)\n",
    "true_positions_night_pvalue = np.where(night_pvalues_corrected < cor_pvalue_threshold)\n",
    "\n",
    "# Filtering correlations based on coef. and corrected pvalues\n",
    "cor_tuples_day = []\n",
    "pval_tuples_day = []\n",
    "\n",
    "for i in range(np.size(true_positions_day_cor, 1)):\n",
    "    cor_tuples_day.append((true_positions_day_cor[0][i],\n",
    "    true_positions_day_cor[1][i]))\n",
    "\n",
    "for i in range(np.size(true_positions_day_pvalue, 1)):\n",
    "    pval_tuples_day.append((true_positions_day_pvalue[0][i],\n",
    "    true_positions_day_pvalue[1][i]))\n",
    "\n",
    "cor_tuples_night = []\n",
    "pval_tuples_night = []\n",
    "\n",
    "for i in range(np.size(true_positions_night_cor, 1)):\n",
    "    cor_tuples_night.append((true_positions_night_cor[0][i],\n",
    "    true_positions_night_cor[1][i]))\n",
    "\n",
    "for i in range(np.size(true_positions_night_pvalue, 1)):\n",
    "    pval_tuples_night.append((true_positions_night_pvalue[0][i],\n",
    "    true_positions_night_pvalue[1][i]))\n",
    "\n",
    "cor_tuples_day_set = set(cor_tuples_day)\n",
    "pval_tuples_day_set = set(pval_tuples_day)\n",
    "cor_tuples_night_set = set(cor_tuples_night)\n",
    "pval_tuples_night_set = set(pval_tuples_night)\n",
    "\n",
    "cor_pval_intersection_day = cor_tuples_day_set.intersection(pval_tuples_day_set)\n",
    "cor_pval_intersection_night = cor_tuples_night_set.intersection(pval_tuples_night_set)\n",
    "\n",
    "cor_pval_intersection_day_tuple = ([t[0] for t in list(cor_pval_intersection_day)],\n",
    "[t[1] for t in list(cor_pval_intersection_day)])\n",
    "cor_pval_intersection_night_tuple = ([t[0] for t in list(cor_pval_intersection_night)],\n",
    "[t[1] for t in list(cor_pval_intersection_night)])\n",
    "\n",
    "shape_row_day = kremling_expression_v5_day_cpm_filtered_cv_filtered.shape[0]\n",
    "shape_row_night = kremling_expression_v5_night_cpm_filtered_cv_filtered.shape[0]\n",
    "\n",
    "pairs_day_geneuq_otucpm = []\n",
    "pairs_night_geneuq_otucpm = []\n",
    "\n",
    "for i in range(len(cor_pval_intersection_day_tuple[0])):\n",
    "    if (cor_pval_intersection_day_tuple[1][i] > (shape_row_day - 1)) and (cor_pval_intersection_day_tuple[0][i] < shape_row_day):\n",
    "        pairs_day_geneuq_otucpm.append((str(cor_values_day.columns[cor_pval_intersection_day_tuple[1][i]]),\n",
    "              str(cor_values_day.index[cor_pval_intersection_day_tuple[0][i]]),\n",
    "              cor_values_day.iloc[cor_pval_intersection_day_tuple[0][i], cor_pval_intersection_day_tuple[1][i]],\n",
    "              day_pvalues_corrected[cor_pval_intersection_day_tuple[0][i], cor_pval_intersection_day_tuple[1][i]]))\n",
    "\n",
    "for i in range(len(cor_pval_intersection_night_tuple[0])):\n",
    "    if (cor_pval_intersection_night_tuple[1][i] > (shape_row_night - 1)) and (cor_pval_intersection_night_tuple[0][i] < shape_row_night):\n",
    "        pairs_night_geneuq_otucpm.append((str(cor_values_night.columns[cor_pval_intersection_night_tuple[1][i]]),\n",
    "              str(cor_values_night.index[cor_pval_intersection_night_tuple[0][i]]),\n",
    "              cor_values_night.iloc[cor_pval_intersection_night_tuple[0][i], cor_pval_intersection_night_tuple[1][i]],\n",
    "              night_pvalues_corrected[cor_pval_intersection_night_tuple[0][i], cor_pval_intersection_night_tuple[1][i]]))"
   ]
  },
  {
   "cell_type": "code",
   "execution_count": 29,
   "metadata": {},
   "outputs": [
    {
     "name": "stdout",
     "output_type": "stream",
     "text": [
      "1931\n",
      "95\n"
     ]
    }
   ],
   "source": [
    "print(len(pairs_day_geneuq_otucpm))\n",
    "print(len(pairs_night_geneuq_otucpm))"
   ]
  },
  {
   "cell_type": "markdown",
   "metadata": {},
   "source": [
    "### OTU (CPM) - Gene (CTF)"
   ]
  },
  {
   "cell_type": "code",
   "execution_count": 30,
   "metadata": {},
   "outputs": [
    {
     "name": "stderr",
     "output_type": "stream",
     "text": [
      "/home/rsantos/Repositories/maize_microbiome_transcriptomics/.venv/lib/python3.10/site-packages/corals/correlation/utils.py:227: RuntimeWarning: divide by zero encountered in divide\n",
      "  ts = rf * rf * (df / (1 - rf * rf))\n"
     ]
    }
   ],
   "source": [
    "concat_df_night = pd.concat([kremling_expression_v5_night_ctf_filtered_cv_filtered, otu_table_merged_night_cpm_filtered_cv_filtered], axis=0)\n",
    "concat_df_day = pd.concat([kremling_expression_v5_day_ctf_filtered_cv_filtered, otu_table_merged_day_cpm_filtered_cv_filtered], axis=0)\n",
    "\n",
    "concatenated_transposed_day = concat_df_day.transpose()\n",
    "concatenated_transposed_night = concat_df_night.transpose()\n",
    "\n",
    "cor_values_day = cor_full(concatenated_transposed_day)\n",
    "cor_values_night = cor_full(concatenated_transposed_night)\n",
    "\n",
    "# Calculating pvalues and corrected pvalues\n",
    "from corals.correlation.utils import derive_pvalues, multiple_test_correction\n",
    "\n",
    "cor_threshold = 0.6\n",
    "cor_pvalue_threshold = 0.05\n",
    "\n",
    "n_samples_day = concatenated_transposed_day.shape[0]\n",
    "n_features_day = concatenated_transposed_day.shape[1]\n",
    "n_samples_night = concatenated_transposed_night.shape[0]\n",
    "n_features_night = concatenated_transposed_night.shape[1]\n",
    "\n",
    "day_pvalues = derive_pvalues(cor_values_day, n_samples_day)\n",
    "day_pvalues_corrected = multiple_test_correction(day_pvalues, n_features_day, method=\"bonferroni\")\n",
    "night_pvalues = derive_pvalues(cor_values_night, n_samples_night)\n",
    "night_pvalues_corrected = multiple_test_correction(night_pvalues, n_features_night, method=\"bonferroni\")\n",
    "\n",
    "true_positions_day_cor = np.where(cor_values_day > cor_threshold)\n",
    "true_positions_night_cor = np.where(cor_values_night > cor_threshold)\n",
    "\n",
    "true_positions_day_pvalue = np.where(day_pvalues_corrected < cor_pvalue_threshold)\n",
    "true_positions_night_pvalue = np.where(night_pvalues_corrected < cor_pvalue_threshold)\n",
    "\n",
    "# Filtering correlations based on coef. and corrected pvalues\n",
    "cor_tuples_day = []\n",
    "pval_tuples_day = []\n",
    "\n",
    "for i in range(np.size(true_positions_day_cor, 1)):\n",
    "    cor_tuples_day.append((true_positions_day_cor[0][i],\n",
    "    true_positions_day_cor[1][i]))\n",
    "\n",
    "for i in range(np.size(true_positions_day_pvalue, 1)):\n",
    "    pval_tuples_day.append((true_positions_day_pvalue[0][i],\n",
    "    true_positions_day_pvalue[1][i]))\n",
    "\n",
    "cor_tuples_night = []\n",
    "pval_tuples_night = []\n",
    "\n",
    "for i in range(np.size(true_positions_night_cor, 1)):\n",
    "    cor_tuples_night.append((true_positions_night_cor[0][i],\n",
    "    true_positions_night_cor[1][i]))\n",
    "\n",
    "for i in range(np.size(true_positions_night_pvalue, 1)):\n",
    "    pval_tuples_night.append((true_positions_night_pvalue[0][i],\n",
    "    true_positions_night_pvalue[1][i]))\n",
    "\n",
    "cor_tuples_day_set = set(cor_tuples_day)\n",
    "pval_tuples_day_set = set(pval_tuples_day)\n",
    "cor_tuples_night_set = set(cor_tuples_night)\n",
    "pval_tuples_night_set = set(pval_tuples_night)\n",
    "\n",
    "cor_pval_intersection_day = cor_tuples_day_set.intersection(pval_tuples_day_set)\n",
    "cor_pval_intersection_night = cor_tuples_night_set.intersection(pval_tuples_night_set)\n",
    "\n",
    "cor_pval_intersection_day_tuple = ([t[0] for t in list(cor_pval_intersection_day)],\n",
    "[t[1] for t in list(cor_pval_intersection_day)])\n",
    "cor_pval_intersection_night_tuple = ([t[0] for t in list(cor_pval_intersection_night)],\n",
    "[t[1] for t in list(cor_pval_intersection_night)])\n",
    "\n",
    "shape_row_day = kremling_expression_v5_day_cpm_filtered_cv_filtered.shape[0]\n",
    "shape_row_night = kremling_expression_v5_night_cpm_filtered_cv_filtered.shape[0]\n",
    "\n",
    "pairs_day_genectf_otucpm = []\n",
    "pairs_night_genectf_otucpm = []\n",
    "\n",
    "for i in range(len(cor_pval_intersection_day_tuple[0])):\n",
    "    if (cor_pval_intersection_day_tuple[1][i] > (shape_row_day - 1)) and (cor_pval_intersection_day_tuple[0][i] < shape_row_day):\n",
    "        pairs_day_genectf_otucpm.append((str(cor_values_day.columns[cor_pval_intersection_day_tuple[1][i]]),\n",
    "              str(cor_values_day.index[cor_pval_intersection_day_tuple[0][i]]),\n",
    "              cor_values_day.iloc[cor_pval_intersection_day_tuple[0][i], cor_pval_intersection_day_tuple[1][i]],\n",
    "              day_pvalues_corrected[cor_pval_intersection_day_tuple[0][i], cor_pval_intersection_day_tuple[1][i]]))\n",
    "\n",
    "for i in range(len(cor_pval_intersection_night_tuple[0])):\n",
    "    if (cor_pval_intersection_night_tuple[1][i] > (shape_row_night - 1)) and (cor_pval_intersection_night_tuple[0][i] < shape_row_night):\n",
    "        pairs_night_genectf_otucpm.append((str(cor_values_night.columns[cor_pval_intersection_night_tuple[1][i]]),\n",
    "              str(cor_values_night.index[cor_pval_intersection_night_tuple[0][i]]),\n",
    "              cor_values_night.iloc[cor_pval_intersection_night_tuple[0][i], cor_pval_intersection_night_tuple[1][i]],\n",
    "              night_pvalues_corrected[cor_pval_intersection_night_tuple[0][i], cor_pval_intersection_night_tuple[1][i]]))"
   ]
  },
  {
   "cell_type": "code",
   "execution_count": 31,
   "metadata": {},
   "outputs": [
    {
     "name": "stdout",
     "output_type": "stream",
     "text": [
      "1045\n",
      "170\n"
     ]
    }
   ],
   "source": [
    "print(len(pairs_day_genectf_otucpm))\n",
    "print(len(pairs_night_genectf_otucpm))"
   ]
  },
  {
   "cell_type": "markdown",
   "metadata": {},
   "source": [
    "### OTU (CPM) - Gene (CUF)"
   ]
  },
  {
   "cell_type": "code",
   "execution_count": 32,
   "metadata": {},
   "outputs": [
    {
     "name": "stderr",
     "output_type": "stream",
     "text": [
      "/home/rsantos/Repositories/maize_microbiome_transcriptomics/.venv/lib/python3.10/site-packages/corals/correlation/utils.py:227: RuntimeWarning: divide by zero encountered in divide\n",
      "  ts = rf * rf * (df / (1 - rf * rf))\n"
     ]
    }
   ],
   "source": [
    "concat_df_night = pd.concat([kremling_expression_v5_night_cuf_filtered_cv_filtered, otu_table_merged_night_cpm_filtered_cv_filtered], axis=0)\n",
    "concat_df_day = pd.concat([kremling_expression_v5_day_cuf_filtered_cv_filtered, otu_table_merged_day_cpm_filtered_cv_filtered], axis=0)\n",
    "\n",
    "concatenated_transposed_day = concat_df_day.transpose()\n",
    "concatenated_transposed_night = concat_df_night.transpose()\n",
    "\n",
    "cor_values_day = cor_full(concatenated_transposed_day)\n",
    "cor_values_night = cor_full(concatenated_transposed_night)\n",
    "\n",
    "# Calculating pvalues and corrected pvalues\n",
    "from corals.correlation.utils import derive_pvalues, multiple_test_correction\n",
    "\n",
    "cor_threshold = 0.6\n",
    "cor_pvalue_threshold = 0.05\n",
    "\n",
    "n_samples_day = concatenated_transposed_day.shape[0]\n",
    "n_features_day = concatenated_transposed_day.shape[1]\n",
    "n_samples_night = concatenated_transposed_night.shape[0]\n",
    "n_features_night = concatenated_transposed_night.shape[1]\n",
    "\n",
    "day_pvalues = derive_pvalues(cor_values_day, n_samples_day)\n",
    "day_pvalues_corrected = multiple_test_correction(day_pvalues, n_features_day, method=\"bonferroni\")\n",
    "night_pvalues = derive_pvalues(cor_values_night, n_samples_night)\n",
    "night_pvalues_corrected = multiple_test_correction(night_pvalues, n_features_night, method=\"bonferroni\")\n",
    "\n",
    "true_positions_day_cor = np.where(cor_values_day > cor_threshold)\n",
    "true_positions_night_cor = np.where(cor_values_night > cor_threshold)\n",
    "\n",
    "true_positions_day_pvalue = np.where(day_pvalues_corrected < cor_pvalue_threshold)\n",
    "true_positions_night_pvalue = np.where(night_pvalues_corrected < cor_pvalue_threshold)\n",
    "\n",
    "# Filtering correlations based on coef. and corrected pvalues\n",
    "cor_tuples_day = []\n",
    "pval_tuples_day = []\n",
    "\n",
    "for i in range(np.size(true_positions_day_cor, 1)):\n",
    "    cor_tuples_day.append((true_positions_day_cor[0][i],\n",
    "    true_positions_day_cor[1][i]))\n",
    "\n",
    "for i in range(np.size(true_positions_day_pvalue, 1)):\n",
    "    pval_tuples_day.append((true_positions_day_pvalue[0][i],\n",
    "    true_positions_day_pvalue[1][i]))\n",
    "\n",
    "cor_tuples_night = []\n",
    "pval_tuples_night = []\n",
    "\n",
    "for i in range(np.size(true_positions_night_cor, 1)):\n",
    "    cor_tuples_night.append((true_positions_night_cor[0][i],\n",
    "    true_positions_night_cor[1][i]))\n",
    "\n",
    "for i in range(np.size(true_positions_night_pvalue, 1)):\n",
    "    pval_tuples_night.append((true_positions_night_pvalue[0][i],\n",
    "    true_positions_night_pvalue[1][i]))\n",
    "\n",
    "cor_tuples_day_set = set(cor_tuples_day)\n",
    "pval_tuples_day_set = set(pval_tuples_day)\n",
    "cor_tuples_night_set = set(cor_tuples_night)\n",
    "pval_tuples_night_set = set(pval_tuples_night)\n",
    "\n",
    "cor_pval_intersection_day = cor_tuples_day_set.intersection(pval_tuples_day_set)\n",
    "cor_pval_intersection_night = cor_tuples_night_set.intersection(pval_tuples_night_set)\n",
    "\n",
    "cor_pval_intersection_day_tuple = ([t[0] for t in list(cor_pval_intersection_day)],\n",
    "[t[1] for t in list(cor_pval_intersection_day)])\n",
    "cor_pval_intersection_night_tuple = ([t[0] for t in list(cor_pval_intersection_night)],\n",
    "[t[1] for t in list(cor_pval_intersection_night)])\n",
    "\n",
    "shape_row_day = kremling_expression_v5_day_cpm_filtered_cv_filtered.shape[0]\n",
    "shape_row_night = kremling_expression_v5_night_cpm_filtered_cv_filtered.shape[0]\n",
    "\n",
    "pairs_day_genecuf_otucpm = []\n",
    "pairs_night_genecuf_otucpm = []\n",
    "\n",
    "for i in range(len(cor_pval_intersection_day_tuple[0])):\n",
    "    if (cor_pval_intersection_day_tuple[1][i] > (shape_row_day - 1)) and (cor_pval_intersection_day_tuple[0][i] < shape_row_day):\n",
    "        pairs_day_genecuf_otucpm.append((str(cor_values_day.columns[cor_pval_intersection_day_tuple[1][i]]),\n",
    "              str(cor_values_day.index[cor_pval_intersection_day_tuple[0][i]]),\n",
    "              cor_values_day.iloc[cor_pval_intersection_day_tuple[0][i], cor_pval_intersection_day_tuple[1][i]],\n",
    "              day_pvalues_corrected[cor_pval_intersection_day_tuple[0][i], cor_pval_intersection_day_tuple[1][i]]))\n",
    "\n",
    "for i in range(len(cor_pval_intersection_night_tuple[0])):\n",
    "    if (cor_pval_intersection_night_tuple[1][i] > (shape_row_night - 1)) and (cor_pval_intersection_night_tuple[0][i] < shape_row_night):\n",
    "        pairs_night_genecuf_otucpm.append((str(cor_values_night.columns[cor_pval_intersection_night_tuple[1][i]]),\n",
    "              str(cor_values_night.index[cor_pval_intersection_night_tuple[0][i]]),\n",
    "              cor_values_night.iloc[cor_pval_intersection_night_tuple[0][i], cor_pval_intersection_night_tuple[1][i]],\n",
    "              night_pvalues_corrected[cor_pval_intersection_night_tuple[0][i], cor_pval_intersection_night_tuple[1][i]]))"
   ]
  },
  {
   "cell_type": "code",
   "execution_count": 33,
   "metadata": {},
   "outputs": [
    {
     "name": "stdout",
     "output_type": "stream",
     "text": [
      "928\n",
      "158\n"
     ]
    }
   ],
   "source": [
    "print(len(pairs_day_genecuf_otucpm))\n",
    "print(len(pairs_night_genecuf_otucpm))"
   ]
  },
  {
   "cell_type": "code",
   "execution_count": 34,
   "metadata": {},
   "outputs": [],
   "source": [
    "import upsetplot\n",
    "\n",
    "from upsetplot import from_contents"
   ]
  },
  {
   "cell_type": "code",
   "execution_count": 41,
   "metadata": {},
   "outputs": [
    {
     "name": "stderr",
     "output_type": "stream",
     "text": [
      "/home/rsantos/Repositories/maize_microbiome_transcriptomics/.venv/lib/python3.10/site-packages/upsetplot/data.py:385: FutureWarning: Downcasting object dtype arrays on .fillna, .ffill, .bfill is deprecated and will change in a future version. Call result.infer_objects(copy=False) instead. To opt-in to the future behavior, set `pd.set_option('future.no_silent_downcasting', True)`\n",
      "  df.fillna(False, inplace=True)\n",
      "/home/rsantos/Repositories/maize_microbiome_transcriptomics/.venv/lib/python3.10/site-packages/upsetplot/plotting.py:795: FutureWarning: A value is trying to be set on a copy of a DataFrame or Series through chained assignment using an inplace method.\n",
      "The behavior will change in pandas 3.0. This inplace method will never work because the intermediate object on which we are setting values always behaves as a copy.\n",
      "\n",
      "For example, when doing 'df[col].method(value, inplace=True)', try using 'df.method({col: value}, inplace=True)' or df[col] = df[col].method(value) instead, to perform the operation inplace on the original object.\n",
      "\n",
      "\n",
      "  styles[\"linewidth\"].fillna(1, inplace=True)\n",
      "/home/rsantos/Repositories/maize_microbiome_transcriptomics/.venv/lib/python3.10/site-packages/upsetplot/plotting.py:796: FutureWarning: A value is trying to be set on a copy of a DataFrame or Series through chained assignment using an inplace method.\n",
      "The behavior will change in pandas 3.0. This inplace method will never work because the intermediate object on which we are setting values always behaves as a copy.\n",
      "\n",
      "For example, when doing 'df[col].method(value, inplace=True)', try using 'df.method({col: value}, inplace=True)' or df[col] = df[col].method(value) instead, to perform the operation inplace on the original object.\n",
      "\n",
      "\n",
      "  styles[\"facecolor\"].fillna(self._facecolor, inplace=True)\n",
      "/home/rsantos/Repositories/maize_microbiome_transcriptomics/.venv/lib/python3.10/site-packages/upsetplot/plotting.py:797: FutureWarning: A value is trying to be set on a copy of a DataFrame or Series through chained assignment using an inplace method.\n",
      "The behavior will change in pandas 3.0. This inplace method will never work because the intermediate object on which we are setting values always behaves as a copy.\n",
      "\n",
      "For example, when doing 'df[col].method(value, inplace=True)', try using 'df.method({col: value}, inplace=True)' or df[col] = df[col].method(value) instead, to perform the operation inplace on the original object.\n",
      "\n",
      "\n",
      "  styles[\"edgecolor\"].fillna(styles[\"facecolor\"], inplace=True)\n",
      "/home/rsantos/Repositories/maize_microbiome_transcriptomics/.venv/lib/python3.10/site-packages/upsetplot/plotting.py:798: FutureWarning: A value is trying to be set on a copy of a DataFrame or Series through chained assignment using an inplace method.\n",
      "The behavior will change in pandas 3.0. This inplace method will never work because the intermediate object on which we are setting values always behaves as a copy.\n",
      "\n",
      "For example, when doing 'df[col].method(value, inplace=True)', try using 'df.method({col: value}, inplace=True)' or df[col] = df[col].method(value) instead, to perform the operation inplace on the original object.\n",
      "\n",
      "\n",
      "  styles[\"linestyle\"].fillna(\"solid\", inplace=True)\n"
     ]
    },
    {
     "data": {
      "image/png": "[encoded data removed]",
      "text/plain": [
       "<Figure size 1600x577.778 with 4 Axes>"
      ]
     },
     "metadata": {},
     "output_type": "display_data"
    }
   ],
   "source": [
    "k1 = [(k[0], k[1]) for k in pairs_day_genecpm_otucpm]\n",
    "k2 = [(k[0], k[1]) for k in pairs_day_genetpm_otucpm]\n",
    "k3 = [(k[0], k[1]) for k in pairs_day_genetmm_otucpm]\n",
    "k4 = [(k[0], k[1]) for k in pairs_day_generpkm_otucpm]\n",
    "k5 = [(k[0], k[1]) for k in pairs_day_geneuq_otucpm]\n",
    "k6 = [(k[0], k[1]) for k in pairs_day_genectf_otucpm]\n",
    "k7 = [(k[0], k[1]) for k in pairs_day_genecuf_otucpm]\n",
    "\n",
    "correlations_day = from_contents(\n",
    "    {\"day gene (cpm) otu (cpm)\": k1,\n",
    "    \"day gene (tpm) otu (cpm)\": k2,\n",
    "    \"day gene (tmm) otu (cpm)\": k3,\n",
    "    \"day gene (rpkm) otu (cpm)\": k4,\n",
    "    \"day gene (uq) otu (cpm)\": k5,\n",
    "    \"day gene (ctf) otu (cpm)\": k6,\n",
    "    \"day gene (cuf) otu (cpm)\": k7}\n",
    ")\n",
    "\n",
    "otucpm_severalgeneexpmethods_day = set(k1).intersection(set(k2),\n",
    "                                             set(k3),\n",
    "                                             set(k4),\n",
    "                                             set(k5),\n",
    "                                             set(k6),\n",
    "                                             set(k7))\n",
    "\n",
    "\n",
    "from upsetplot import UpSet\n",
    "\n",
    "ax_dict = UpSet(correlations_day, subset_size=\"count\").plot()"
   ]
  },
  {
   "cell_type": "code",
   "execution_count": 42,
   "metadata": {},
   "outputs": [
    {
     "name": "stderr",
     "output_type": "stream",
     "text": [
      "/home/rsantos/Repositories/maize_microbiome_transcriptomics/.venv/lib/python3.10/site-packages/upsetplot/data.py:385: FutureWarning: Downcasting object dtype arrays on .fillna, .ffill, .bfill is deprecated and will change in a future version. Call result.infer_objects(copy=False) instead. To opt-in to the future behavior, set `pd.set_option('future.no_silent_downcasting', True)`\n",
      "  df.fillna(False, inplace=True)\n",
      "/home/rsantos/Repositories/maize_microbiome_transcriptomics/.venv/lib/python3.10/site-packages/upsetplot/plotting.py:795: FutureWarning: A value is trying to be set on a copy of a DataFrame or Series through chained assignment using an inplace method.\n",
      "The behavior will change in pandas 3.0. This inplace method will never work because the intermediate object on which we are setting values always behaves as a copy.\n",
      "\n",
      "For example, when doing 'df[col].method(value, inplace=True)', try using 'df.method({col: value}, inplace=True)' or df[col] = df[col].method(value) instead, to perform the operation inplace on the original object.\n",
      "\n",
      "\n",
      "  styles[\"linewidth\"].fillna(1, inplace=True)\n",
      "/home/rsantos/Repositories/maize_microbiome_transcriptomics/.venv/lib/python3.10/site-packages/upsetplot/plotting.py:796: FutureWarning: A value is trying to be set on a copy of a DataFrame or Series through chained assignment using an inplace method.\n",
      "The behavior will change in pandas 3.0. This inplace method will never work because the intermediate object on which we are setting values always behaves as a copy.\n",
      "\n",
      "For example, when doing 'df[col].method(value, inplace=True)', try using 'df.method({col: value}, inplace=True)' or df[col] = df[col].method(value) instead, to perform the operation inplace on the original object.\n",
      "\n",
      "\n",
      "  styles[\"facecolor\"].fillna(self._facecolor, inplace=True)\n",
      "/home/rsantos/Repositories/maize_microbiome_transcriptomics/.venv/lib/python3.10/site-packages/upsetplot/plotting.py:797: FutureWarning: A value is trying to be set on a copy of a DataFrame or Series through chained assignment using an inplace method.\n",
      "The behavior will change in pandas 3.0. This inplace method will never work because the intermediate object on which we are setting values always behaves as a copy.\n",
      "\n",
      "For example, when doing 'df[col].method(value, inplace=True)', try using 'df.method({col: value}, inplace=True)' or df[col] = df[col].method(value) instead, to perform the operation inplace on the original object.\n",
      "\n",
      "\n",
      "  styles[\"edgecolor\"].fillna(styles[\"facecolor\"], inplace=True)\n",
      "/home/rsantos/Repositories/maize_microbiome_transcriptomics/.venv/lib/python3.10/site-packages/upsetplot/plotting.py:798: FutureWarning: A value is trying to be set on a copy of a DataFrame or Series through chained assignment using an inplace method.\n",
      "The behavior will change in pandas 3.0. This inplace method will never work because the intermediate object on which we are setting values always behaves as a copy.\n",
      "\n",
      "For example, when doing 'df[col].method(value, inplace=True)', try using 'df.method({col: value}, inplace=True)' or df[col] = df[col].method(value) instead, to perform the operation inplace on the original object.\n",
      "\n",
      "\n",
      "  styles[\"linestyle\"].fillna(\"solid\", inplace=True)\n"
     ]
    },
    {
     "data": {
      "image/png": "[encoded data removed]",
      "text/plain": [
       "<Figure size 1155.56x577.778 with 4 Axes>"
      ]
     },
     "metadata": {},
     "output_type": "display_data"
    }
   ],
   "source": [
    "k1 = [(k[0], k[1]) for k in pairs_night_genecpm_otucpm]\n",
    "k2 = [(k[0], k[1]) for k in pairs_night_genetpm_otucpm]\n",
    "k3 = [(k[0], k[1]) for k in pairs_night_genetmm_otucpm]\n",
    "k4 = [(k[0], k[1]) for k in pairs_night_generpkm_otucpm]\n",
    "k5 = [(k[0], k[1]) for k in pairs_night_geneuq_otucpm]\n",
    "k6 = [(k[0], k[1]) for k in pairs_night_genectf_otucpm]\n",
    "k7 = [(k[0], k[1]) for k in pairs_night_genecuf_otucpm]\n",
    "\n",
    "correlations_night = from_contents(\n",
    "    {\"night gene (cpm) otu (cpm)\": k1,\n",
    "    \"night gene (tpm) otu (cpm)\": k2,\n",
    "    \"night gene (tmm) otu (cpm)\": k3,\n",
    "    \"night gene (rpkm) otu (cpm)\": k4,\n",
    "    \"night gene (uq) otu (cpm)\": k5,\n",
    "    \"night gene (ctf) otu (cpm)\": k6,\n",
    "    \"night gene (cuf) otu (cpm)\": k7}\n",
    ")\n",
    "\n",
    "otucpm_severalgeneexpmethods_night = set(k1).intersection(set(k2),\n",
    "                                             set(k3),\n",
    "                                             set(k4),\n",
    "                                             set(k5),\n",
    "                                             set(k6),\n",
    "                                             set(k7))\n",
    "\n",
    "from upsetplot import UpSet\n",
    "\n",
    "ax_dict = UpSet(correlations_night, subset_size=\"count\").plot()"
   ]
  },
  {
   "cell_type": "markdown",
   "metadata": {},
   "source": [
    "## Summarizing results of different normalization methods (not transfomed) versus OTU (CPM)"
   ]
  },
  {
   "cell_type": "code",
   "execution_count": 43,
   "metadata": {},
   "outputs": [],
   "source": [
    "union_day_night = set(otucpm_severalgeneexpmethods_night).union(otucpm_severalgeneexpmethods_day)\n",
    "intersection_day_night = set(otucpm_severalgeneexpmethods_night).intersection(otucpm_severalgeneexpmethods_day)"
   ]
  },
  {
   "cell_type": "code",
   "execution_count": 44,
   "metadata": {},
   "outputs": [],
   "source": [
    "unique_day = set(otucpm_severalgeneexpmethods_night).difference(otucpm_severalgeneexpmethods_day)\n",
    "unique_night = set(otucpm_severalgeneexpmethods_day).difference(otucpm_severalgeneexpmethods_night)"
   ]
  },
  {
   "cell_type": "code",
   "execution_count": 45,
   "metadata": {},
   "outputs": [
    {
     "name": "stdout",
     "output_type": "stream",
     "text": [
      "309 11 39 259\n"
     ]
    }
   ],
   "source": [
    "print(len(union_day_night),\n",
    "      len(intersection_day_night),\n",
    "      len(unique_day),\n",
    "      len(unique_night))"
   ]
  },
  {
   "cell_type": "code",
   "execution_count": 48,
   "metadata": {},
   "outputs": [
    {
     "data": {
      "text/plain": [
       "{('675357', 'Zm00001eb331240_T001'),\n",
       " ('New.ReferenceOTU2896', 'Zm00001eb419390_T001'),\n",
       " ('New.ReferenceOTU3089', 'Zm00001eb150050_T001'),\n",
       " ('New.ReferenceOTU3089', 'Zm00001eb419390_T001'),\n",
       " ('New.ReferenceOTU3269', 'Zm00001eb014000_T001'),\n",
       " ('New.ReferenceOTU3269', 'Zm00001eb150050_T001'),\n",
       " ('New.ReferenceOTU3269', 'Zm00001eb252850_T001'),\n",
       " ('New.ReferenceOTU3269', 'Zm00001eb288360_T001'),\n",
       " ('New.ReferenceOTU3269', 'Zm00001eb419390_T001'),\n",
       " ('New.ReferenceOTU702', 'Zm00001eb419390_T001'),\n",
       " ('New.ReferenceOTU7856', 'Zm00001eb419390_T001')}"
      ]
     },
     "execution_count": 48,
     "metadata": {},
     "output_type": "execute_result"
    }
   ],
   "source": [
    "intersection_day_night"
   ]
  },
  {
   "cell_type": "code",
   "execution_count": 46,
   "metadata": {},
   "outputs": [
    {
     "data": {
      "text/plain": [
       "{'675357',\n",
       " 'New.ReferenceOTU2896',\n",
       " 'New.ReferenceOTU3089',\n",
       " 'New.ReferenceOTU3269',\n",
       " 'New.ReferenceOTU702',\n",
       " 'New.ReferenceOTU7856'}"
      ]
     },
     "execution_count": 46,
     "metadata": {},
     "output_type": "execute_result"
    }
   ],
   "source": [
    "set([corpair[0] for corpair in intersection_day_night])"
   ]
  },
  {
   "cell_type": "code",
   "execution_count": 47,
   "metadata": {},
   "outputs": [
    {
     "data": {
      "text/plain": [
       "['Zm00001eb288360_T001',\n",
       " 'Zm00001eb252850_T001',\n",
       " 'Zm00001eb331240_T001',\n",
       " 'Zm00001eb419390_T001',\n",
       " 'Zm00001eb150050_T001',\n",
       " 'Zm00001eb014000_T001']"
      ]
     },
     "execution_count": 47,
     "metadata": {},
     "output_type": "execute_result"
    }
   ],
   "source": [
    "list(set([corpair[1] for corpair in intersection_day_night]))"
   ]
  },
  {
   "cell_type": "code",
   "execution_count": 52,
   "metadata": {},
   "outputs": [
    {
     "name": "stderr",
     "output_type": "stream",
     "text": [
      "/home/rsantos/Repositories/maize_microbiome_transcriptomics/.venv/lib/python3.10/site-packages/upsetplot/data.py:385: FutureWarning: Downcasting object dtype arrays on .fillna, .ffill, .bfill is deprecated and will change in a future version. Call result.infer_objects(copy=False) instead. To opt-in to the future behavior, set `pd.set_option('future.no_silent_downcasting', True)`\n",
      "  df.fillna(False, inplace=True)\n",
      "/home/rsantos/Repositories/maize_microbiome_transcriptomics/.venv/lib/python3.10/site-packages/upsetplot/plotting.py:795: FutureWarning: A value is trying to be set on a copy of a DataFrame or Series through chained assignment using an inplace method.\n",
      "The behavior will change in pandas 3.0. This inplace method will never work because the intermediate object on which we are setting values always behaves as a copy.\n",
      "\n",
      "For example, when doing 'df[col].method(value, inplace=True)', try using 'df.method({col: value}, inplace=True)' or df[col] = df[col].method(value) instead, to perform the operation inplace on the original object.\n",
      "\n",
      "\n",
      "  styles[\"linewidth\"].fillna(1, inplace=True)\n",
      "/home/rsantos/Repositories/maize_microbiome_transcriptomics/.venv/lib/python3.10/site-packages/upsetplot/plotting.py:796: FutureWarning: A value is trying to be set on a copy of a DataFrame or Series through chained assignment using an inplace method.\n",
      "The behavior will change in pandas 3.0. This inplace method will never work because the intermediate object on which we are setting values always behaves as a copy.\n",
      "\n",
      "For example, when doing 'df[col].method(value, inplace=True)', try using 'df.method({col: value}, inplace=True)' or df[col] = df[col].method(value) instead, to perform the operation inplace on the original object.\n",
      "\n",
      "\n",
      "  styles[\"facecolor\"].fillna(self._facecolor, inplace=True)\n",
      "/home/rsantos/Repositories/maize_microbiome_transcriptomics/.venv/lib/python3.10/site-packages/upsetplot/plotting.py:797: FutureWarning: A value is trying to be set on a copy of a DataFrame or Series through chained assignment using an inplace method.\n",
      "The behavior will change in pandas 3.0. This inplace method will never work because the intermediate object on which we are setting values always behaves as a copy.\n",
      "\n",
      "For example, when doing 'df[col].method(value, inplace=True)', try using 'df.method({col: value}, inplace=True)' or df[col] = df[col].method(value) instead, to perform the operation inplace on the original object.\n",
      "\n",
      "\n",
      "  styles[\"edgecolor\"].fillna(styles[\"facecolor\"], inplace=True)\n",
      "/home/rsantos/Repositories/maize_microbiome_transcriptomics/.venv/lib/python3.10/site-packages/upsetplot/plotting.py:798: FutureWarning: A value is trying to be set on a copy of a DataFrame or Series through chained assignment using an inplace method.\n",
      "The behavior will change in pandas 3.0. This inplace method will never work because the intermediate object on which we are setting values always behaves as a copy.\n",
      "\n",
      "For example, when doing 'df[col].method(value, inplace=True)', try using 'df.method({col: value}, inplace=True)' or df[col] = df[col].method(value) instead, to perform the operation inplace on the original object.\n",
      "\n",
      "\n",
      "  styles[\"linestyle\"].fillna(\"solid\", inplace=True)\n"
     ]
    },
    {
     "data": {
      "image/png": "[encoded data removed]",
      "text/plain": [
       "<Figure size 444.444x444.444 with 4 Axes>"
      ]
     },
     "metadata": {},
     "output_type": "display_data"
    }
   ],
   "source": [
    "correlations_day_night = from_contents(\n",
    "    {\"Union Day-Night\": union_day_night,\n",
    "    \"Intersection Day-Night\": intersection_day_night,\n",
    "    \"Unique Pairs (Day)\": unique_day,\n",
    "    \"Unique Pairs (Night)\": unique_night})\n",
    "\n",
    "from upsetplot import UpSet\n",
    "\n",
    "ax_dict = UpSet(correlations_day_night, subset_size=\"count\").plot()"
   ]
  },
  {
   "cell_type": "code",
   "execution_count": 49,
   "metadata": {},
   "outputs": [
    {
     "data": {
      "image/png": "[encoded data removed]",
      "text/plain": [
       "<Figure size 640x480 with 1 Axes>"
      ]
     },
     "metadata": {},
     "output_type": "display_data"
    }
   ],
   "source": [
    "import pandas as pd\n",
    "\n",
    "import matplotlib.pyplot as plt\n",
    "\n",
    "# Plot the selected row\n",
    "kremling_expression_v5_night_tpm.loc[list(set([corpair[1] for corpair in intersection_day_night]))].T.plot(kind='line')\n",
    "\n",
    "# Set plot title and labels\n",
    "plt.title('Line Plot')\n",
    "plt.ylabel('Value')\n",
    "plt.xlabel('Samples')\n",
    "plt.xticks([])\n",
    "\n",
    "# Display the plot\n",
    "plt.show()"
   ]
  },
  {
   "cell_type": "code",
   "execution_count": null,
   "metadata": {},
   "outputs": [],
   "source": [
    "import pandas as pd\n",
    "\n",
    "import matplotlib.pyplot as plt\n",
    "\n",
    "# Plot the selected row\n",
    "kremling_expression_v5_day_tpm.loc[list(set([corpair[1] for corpair in intersection_day_night]))].T.plot(kind='line')\n",
    "\n",
    "# Set plot title and labels\n",
    "plt.title('Line Plot')\n",
    "plt.ylabel('Value')\n",
    "plt.xlabel('Samples')\n",
    "plt.xticks([])\n",
    "\n",
    "# Display the plot\n",
    "plt.show()"
   ]
  },
  {
   "cell_type": "code",
   "execution_count": null,
   "metadata": {},
   "outputs": [],
   "source": [
    "from scipy.stats import zscore\n",
    "import pandas as pd\n",
    "import matplotlib.pyplot as plt\n",
    "\n",
    "#Computing zscores\n",
    "kremling_expression_v5_night_tpm.loc[list(set([corpair[1] for corpair in intersection_day_night]))].apply(zscore, axis=1).T.plot(kind='line')\n",
    "\n",
    "# Set plot title and labels\n",
    "plt.title('Line Plot')\n",
    "plt.ylabel('Value')\n",
    "plt.xlabel('Samples')\n",
    "plt.xticks([])\n",
    "\n",
    "# Display the plot\n",
    "plt.show()"
   ]
  },
  {
   "cell_type": "code",
   "execution_count": null,
   "metadata": {},
   "outputs": [],
   "source": [
    "from scipy.stats import zscore\n",
    "import pandas as pd\n",
    "import matplotlib.pyplot as plt\n",
    "\n",
    "#Computing zscores\n",
    "kremling_expression_v5_day_tpm.loc[list(set([corpair[1] for corpair in intersection_day_night]))].apply(zscore, axis=1).T.plot(kind='line')\n",
    "\n",
    "# Set plot title and labels\n",
    "plt.title('Line Plot')\n",
    "plt.ylabel('Value')\n",
    "plt.xlabel('Samples')\n",
    "plt.xticks([])\n",
    "\n",
    "# Display the plot\n",
    "plt.show()"
   ]
  },
  {
   "cell_type": "markdown",
   "metadata": {},
   "source": [
    "### Getting maize annotation and OTU taxonomy"
   ]
  },
  {
   "cell_type": "markdown",
   "metadata": {},
   "source": [
    "#### Maize annotation\n",
    "\n",
    "Annotation file was downloaded from Phytozome for the maize v5 genome."
   ]
  },
  {
   "cell_type": "code",
   "execution_count": 56,
   "metadata": {},
   "outputs": [
    {
     "data": {
      "text/html": [
       "<div>\n",
       "<style scoped>\n",
       "    .dataframe tbody tr th:only-of-type {\n",
       "        vertical-align: middle;\n",
       "    }\n",
       "\n",
       "    .dataframe tbody tr th {\n",
       "        vertical-align: top;\n",
       "    }\n",
       "\n",
       "    .dataframe thead th {\n",
       "        text-align: right;\n",
       "    }\n",
       "</style>\n",
       "<table border=\"1\" class=\"dataframe\">\n",
       "  <thead>\n",
       "    <tr style=\"text-align: right;\">\n",
       "      <th></th>\n",
       "      <th>#pacId</th>\n",
       "      <th>locusName</th>\n",
       "      <th>peptideName</th>\n",
       "      <th>Pfam</th>\n",
       "      <th>Panther</th>\n",
       "      <th>ec</th>\n",
       "      <th>KOG</th>\n",
       "      <th>KO</th>\n",
       "      <th>GO</th>\n",
       "      <th>Best-hit-arabi-name</th>\n",
       "      <th>Best-hit-arabi-defline</th>\n",
       "      <th>Best-hit-clamy-name</th>\n",
       "      <th>Best-hit-clamy-defline</th>\n",
       "      <th>Best-hit-rice-name</th>\n",
       "      <th>Best-hit-rice-defline</th>\n",
       "    </tr>\n",
       "    <tr>\n",
       "      <th>transcriptName</th>\n",
       "      <th></th>\n",
       "      <th></th>\n",
       "      <th></th>\n",
       "      <th></th>\n",
       "      <th></th>\n",
       "      <th></th>\n",
       "      <th></th>\n",
       "      <th></th>\n",
       "      <th></th>\n",
       "      <th></th>\n",
       "      <th></th>\n",
       "      <th></th>\n",
       "      <th></th>\n",
       "      <th></th>\n",
       "      <th></th>\n",
       "    </tr>\n",
       "  </thead>\n",
       "  <tbody>\n",
       "    <tr>\n",
       "      <th>Zm00001eb000010_T001</th>\n",
       "      <td>PAC:61176664</td>\n",
       "      <td>Zm00001eb000010</td>\n",
       "      <td>Zm00001eb000010_P001</td>\n",
       "      <td>PF02536</td>\n",
       "      <td>PTHR13068 PTHR13068:SF3</td>\n",
       "      <td>NaN</td>\n",
       "      <td>KOG1267</td>\n",
       "      <td>K15032</td>\n",
       "      <td>GO:0003690 GO:0005739 GO:0006355</td>\n",
       "      <td>AT1G78930</td>\n",
       "      <td>Mitochondrial transcription termination factor...</td>\n",
       "      <td>Cre12.g560750</td>\n",
       "      <td>(1 of 8) PTHR13068 - CGI-12 PROTEIN-RELATED</td>\n",
       "      <td>LOC_Os09g38720</td>\n",
       "      <td>mTERF domain containing protein, expressed</td>\n",
       "    </tr>\n",
       "    <tr>\n",
       "      <th>Zm00001eb000020_T001</th>\n",
       "      <td>PAC:61179637</td>\n",
       "      <td>Zm00001eb000020</td>\n",
       "      <td>Zm00001eb000020_P001</td>\n",
       "      <td>PF01466 PF03931</td>\n",
       "      <td>PTHR11165</td>\n",
       "      <td>NaN</td>\n",
       "      <td>KOG1724</td>\n",
       "      <td>NaN</td>\n",
       "      <td>GO:0006511</td>\n",
       "      <td>NaN</td>\n",
       "      <td>NaN</td>\n",
       "      <td>NaN</td>\n",
       "      <td>NaN</td>\n",
       "      <td>LOC_Os04g52650</td>\n",
       "      <td>expressed protein</td>\n",
       "    </tr>\n",
       "    <tr>\n",
       "      <th>Zm00001eb000020_T002</th>\n",
       "      <td>PAC:61179638</td>\n",
       "      <td>Zm00001eb000020</td>\n",
       "      <td>Zm00001eb000020_P002</td>\n",
       "      <td>PF01466 PF03931</td>\n",
       "      <td>PTHR11165</td>\n",
       "      <td>NaN</td>\n",
       "      <td>KOG1724</td>\n",
       "      <td>NaN</td>\n",
       "      <td>GO:0006511</td>\n",
       "      <td>NaN</td>\n",
       "      <td>NaN</td>\n",
       "      <td>NaN</td>\n",
       "      <td>NaN</td>\n",
       "      <td>LOC_Os04g52650</td>\n",
       "      <td>expressed protein</td>\n",
       "    </tr>\n",
       "    <tr>\n",
       "      <th>Zm00001eb000020_T003</th>\n",
       "      <td>PAC:61179640</td>\n",
       "      <td>Zm00001eb000020</td>\n",
       "      <td>Zm00001eb000020_P003</td>\n",
       "      <td>PF01466 PF03931</td>\n",
       "      <td>PTHR11165</td>\n",
       "      <td>NaN</td>\n",
       "      <td>KOG1724</td>\n",
       "      <td>NaN</td>\n",
       "      <td>GO:0006511</td>\n",
       "      <td>NaN</td>\n",
       "      <td>NaN</td>\n",
       "      <td>NaN</td>\n",
       "      <td>NaN</td>\n",
       "      <td>LOC_Os04g52650</td>\n",
       "      <td>expressed protein</td>\n",
       "    </tr>\n",
       "    <tr>\n",
       "      <th>Zm00001eb000020_T004</th>\n",
       "      <td>PAC:61179639</td>\n",
       "      <td>Zm00001eb000020</td>\n",
       "      <td>Zm00001eb000020_P004</td>\n",
       "      <td>NaN</td>\n",
       "      <td>NaN</td>\n",
       "      <td>EC:1.14.99.36</td>\n",
       "      <td>NaN</td>\n",
       "      <td>NaN</td>\n",
       "      <td>NaN</td>\n",
       "      <td>NaN</td>\n",
       "      <td>NaN</td>\n",
       "      <td>NaN</td>\n",
       "      <td>NaN</td>\n",
       "      <td>LOC_Os04g52650</td>\n",
       "      <td>expressed protein</td>\n",
       "    </tr>\n",
       "  </tbody>\n",
       "</table>\n",
       "</div>"
      ],
      "text/plain": [
       "                            #pacId        locusName           peptideName  \\\n",
       "transcriptName                                                              \n",
       "Zm00001eb000010_T001  PAC:61176664  Zm00001eb000010  Zm00001eb000010_P001   \n",
       "Zm00001eb000020_T001  PAC:61179637  Zm00001eb000020  Zm00001eb000020_P001   \n",
       "Zm00001eb000020_T002  PAC:61179638  Zm00001eb000020  Zm00001eb000020_P002   \n",
       "Zm00001eb000020_T003  PAC:61179640  Zm00001eb000020  Zm00001eb000020_P003   \n",
       "Zm00001eb000020_T004  PAC:61179639  Zm00001eb000020  Zm00001eb000020_P004   \n",
       "\n",
       "                                 Pfam                  Panther             ec  \\\n",
       "transcriptName                                                                  \n",
       "Zm00001eb000010_T001          PF02536  PTHR13068 PTHR13068:SF3            NaN   \n",
       "Zm00001eb000020_T001  PF01466 PF03931                PTHR11165            NaN   \n",
       "Zm00001eb000020_T002  PF01466 PF03931                PTHR11165            NaN   \n",
       "Zm00001eb000020_T003  PF01466 PF03931                PTHR11165            NaN   \n",
       "Zm00001eb000020_T004              NaN                      NaN  EC:1.14.99.36   \n",
       "\n",
       "                          KOG      KO                                GO  \\\n",
       "transcriptName                                                            \n",
       "Zm00001eb000010_T001  KOG1267  K15032  GO:0003690 GO:0005739 GO:0006355   \n",
       "Zm00001eb000020_T001  KOG1724     NaN                        GO:0006511   \n",
       "Zm00001eb000020_T002  KOG1724     NaN                        GO:0006511   \n",
       "Zm00001eb000020_T003  KOG1724     NaN                        GO:0006511   \n",
       "Zm00001eb000020_T004      NaN     NaN                               NaN   \n",
       "\n",
       "                     Best-hit-arabi-name  \\\n",
       "transcriptName                             \n",
       "Zm00001eb000010_T001           AT1G78930   \n",
       "Zm00001eb000020_T001                 NaN   \n",
       "Zm00001eb000020_T002                 NaN   \n",
       "Zm00001eb000020_T003                 NaN   \n",
       "Zm00001eb000020_T004                 NaN   \n",
       "\n",
       "                                                 Best-hit-arabi-defline  \\\n",
       "transcriptName                                                            \n",
       "Zm00001eb000010_T001  Mitochondrial transcription termination factor...   \n",
       "Zm00001eb000020_T001                                                NaN   \n",
       "Zm00001eb000020_T002                                                NaN   \n",
       "Zm00001eb000020_T003                                                NaN   \n",
       "Zm00001eb000020_T004                                                NaN   \n",
       "\n",
       "                     Best-hit-clamy-name  \\\n",
       "transcriptName                             \n",
       "Zm00001eb000010_T001       Cre12.g560750   \n",
       "Zm00001eb000020_T001                 NaN   \n",
       "Zm00001eb000020_T002                 NaN   \n",
       "Zm00001eb000020_T003                 NaN   \n",
       "Zm00001eb000020_T004                 NaN   \n",
       "\n",
       "                                           Best-hit-clamy-defline  \\\n",
       "transcriptName                                                      \n",
       "Zm00001eb000010_T001  (1 of 8) PTHR13068 - CGI-12 PROTEIN-RELATED   \n",
       "Zm00001eb000020_T001                                          NaN   \n",
       "Zm00001eb000020_T002                                          NaN   \n",
       "Zm00001eb000020_T003                                          NaN   \n",
       "Zm00001eb000020_T004                                          NaN   \n",
       "\n",
       "                     Best-hit-rice-name  \\\n",
       "transcriptName                            \n",
       "Zm00001eb000010_T001     LOC_Os09g38720   \n",
       "Zm00001eb000020_T001     LOC_Os04g52650   \n",
       "Zm00001eb000020_T002     LOC_Os04g52650   \n",
       "Zm00001eb000020_T003     LOC_Os04g52650   \n",
       "Zm00001eb000020_T004     LOC_Os04g52650   \n",
       "\n",
       "                                           Best-hit-rice-defline  \n",
       "transcriptName                                                    \n",
       "Zm00001eb000010_T001  mTERF domain containing protein, expressed  \n",
       "Zm00001eb000020_T001                           expressed protein  \n",
       "Zm00001eb000020_T002                           expressed protein  \n",
       "Zm00001eb000020_T003                           expressed protein  \n",
       "Zm00001eb000020_T004                           expressed protein  "
      ]
     },
     "execution_count": 56,
     "metadata": {},
     "output_type": "execute_result"
    }
   ],
   "source": [
    "import pandas as pd\n",
    "\n",
    "zmays_v5_annotation = pd.read_csv(\"/home/rsantos/Repositories/maize_microbiome_transcriptomics/rnaseq_kremling2018/annotation/Phytozome/PhytozomeV13/Zmays/Zm-B73-REFERENCE-NAM-5.0.55/annotation/Zmays_833_Zm-B73-REFERENCE-NAM-5.0.55.annotation_info.txt\",\n",
    "            sep='\\t')\n",
    "zmays_v5_annotation.set_index('transcriptName', inplace=True)\n",
    "zmays_v5_annotation.head()"
   ]
  },
  {
   "cell_type": "code",
   "execution_count": 70,
   "metadata": {},
   "outputs": [
    {
     "data": {
      "text/plain": [
       "{'GO:0003677',\n",
       " 'GO:0004519',\n",
       " 'GO:0004867',\n",
       " 'GO:0005576',\n",
       " 'GO:0006298',\n",
       " 'GO:0006355',\n",
       " 'GO:0006952',\n",
       " 'GO:0009607'}"
      ]
     },
     "execution_count": 70,
     "metadata": {},
     "output_type": "execute_result"
    }
   ],
   "source": [
    "import itertools\n",
    "\n",
    "set(list(itertools.chain.from_iterable([gene_gos.split(' ') for gene_gos in zmays_v5_annotation.loc[list(set([corpair[1] for corpair in intersection_day_night]))]['GO'] if not pd.isnull(gene_gos)])))"
   ]
  },
  {
   "cell_type": "code",
   "execution_count": 71,
   "metadata": {},
   "outputs": [
    {
     "data": {
      "text/plain": [
       "{'GO:0000786',\n",
       " 'GO:0003677',\n",
       " 'GO:0004519',\n",
       " 'GO:0004867',\n",
       " 'GO:0005576',\n",
       " 'GO:0005622',\n",
       " 'GO:0005634',\n",
       " 'GO:0006006',\n",
       " 'GO:0006298',\n",
       " 'GO:0006355',\n",
       " 'GO:0006486',\n",
       " 'GO:0006810',\n",
       " 'GO:0008373',\n",
       " 'GO:0016620',\n",
       " 'GO:0016791',\n",
       " 'GO:0042742',\n",
       " 'GO:0046982',\n",
       " 'GO:0050661',\n",
       " 'GO:0050832',\n",
       " 'GO:0051225',\n",
       " 'GO:0051287',\n",
       " 'GO:0055085',\n",
       " 'GO:0055114',\n",
       " 'GO:0070652'}"
      ]
     },
     "execution_count": 71,
     "metadata": {},
     "output_type": "execute_result"
    }
   ],
   "source": [
    "set(list(itertools.chain.from_iterable([gene_gos.split(' ') for gene_gos in zmays_v5_annotation.loc[list(set([corpair[1] for corpair in unique_day]))]['GO'] if not pd.isnull(gene_gos)])))"
   ]
  },
  {
   "cell_type": "code",
   "execution_count": 75,
   "metadata": {},
   "outputs": [
    {
     "data": {
      "text/plain": [
       "{'GO:0000162',\n",
       " 'GO:0003677',\n",
       " 'GO:0003700',\n",
       " 'GO:0003723',\n",
       " 'GO:0003735',\n",
       " 'GO:0003824',\n",
       " 'GO:0003854',\n",
       " 'GO:0003951',\n",
       " 'GO:0004001',\n",
       " 'GO:0004049',\n",
       " 'GO:0004190',\n",
       " 'GO:0004332',\n",
       " 'GO:0004357',\n",
       " 'GO:0004601',\n",
       " 'GO:0004672',\n",
       " 'GO:0004713',\n",
       " 'GO:0004722',\n",
       " 'GO:0004857',\n",
       " 'GO:0004867',\n",
       " 'GO:0004869',\n",
       " 'GO:0005488',\n",
       " 'GO:0005509',\n",
       " 'GO:0005515',\n",
       " 'GO:0005524',\n",
       " 'GO:0005525',\n",
       " 'GO:0005622',\n",
       " 'GO:0005737',\n",
       " 'GO:0005739',\n",
       " 'GO:0005840',\n",
       " 'GO:0005875',\n",
       " 'GO:0006090',\n",
       " 'GO:0006096',\n",
       " 'GO:0006099',\n",
       " 'GO:0006166',\n",
       " 'GO:0006355',\n",
       " 'GO:0006412',\n",
       " 'GO:0006415',\n",
       " 'GO:0006468',\n",
       " 'GO:0006470',\n",
       " 'GO:0006508',\n",
       " 'GO:0006537',\n",
       " 'GO:0006694',\n",
       " 'GO:0006741',\n",
       " 'GO:0006750',\n",
       " 'GO:0006779',\n",
       " 'GO:0006801',\n",
       " 'GO:0006950',\n",
       " 'GO:0006952',\n",
       " 'GO:0006979',\n",
       " 'GO:0007017',\n",
       " 'GO:0007264',\n",
       " 'GO:0007275',\n",
       " 'GO:0008152',\n",
       " 'GO:0008168',\n",
       " 'GO:0008234',\n",
       " 'GO:0008270',\n",
       " 'GO:0008519',\n",
       " 'GO:0008964',\n",
       " 'GO:0009058',\n",
       " 'GO:0009507',\n",
       " 'GO:0009607',\n",
       " 'GO:0009611',\n",
       " 'GO:0010167',\n",
       " 'GO:0015031',\n",
       " 'GO:0015696',\n",
       " 'GO:0015706',\n",
       " 'GO:0015930',\n",
       " 'GO:0015934',\n",
       " 'GO:0015977',\n",
       " 'GO:0016020',\n",
       " 'GO:0016149',\n",
       " 'GO:0016301',\n",
       " 'GO:0016310',\n",
       " 'GO:0016491',\n",
       " 'GO:0016616',\n",
       " 'GO:0016620',\n",
       " 'GO:0016627',\n",
       " 'GO:0016630',\n",
       " 'GO:0016638',\n",
       " 'GO:0016740',\n",
       " 'GO:0016772',\n",
       " 'GO:0016833',\n",
       " 'GO:0016846',\n",
       " 'GO:0016853',\n",
       " 'GO:0016866',\n",
       " 'GO:0019674',\n",
       " 'GO:0020037',\n",
       " 'GO:0030001',\n",
       " 'GO:0030244',\n",
       " 'GO:0030247',\n",
       " 'GO:0042398',\n",
       " 'GO:0043565',\n",
       " 'GO:0045980',\n",
       " 'GO:0046872',\n",
       " 'GO:0050242',\n",
       " 'GO:0050662',\n",
       " 'GO:0055114',\n",
       " 'GO:0072488'}"
      ]
     },
     "execution_count": 75,
     "metadata": {},
     "output_type": "execute_result"
    }
   ],
   "source": [
    "set(list(itertools.chain.from_iterable([gene_gos.split(' ') for gene_gos in zmays_v5_annotation.loc[list(set([corpair[1] for corpair in unique_night]))]['GO'] if not pd.isnull(gene_gos)])))"
   ]
  },
  {
   "cell_type": "markdown",
   "metadata": {},
   "source": [
    "#### OTU taxonomy\n",
    "\n",
    "Taxonomy assigment was carried out using qiime2 and GTDB version 214.\n",
    "\n",
    "For some reason, the assignment is possible only until the genus level (likely due to a bug, because the file apparently shows species level but breaking the field after the whitespace)"
   ]
  },
  {
   "cell_type": "code",
   "execution_count": 76,
   "metadata": {},
   "outputs": [
    {
     "data": {
      "text/html": [
       "<div>\n",
       "<style scoped>\n",
       "    .dataframe tbody tr th:only-of-type {\n",
       "        vertical-align: middle;\n",
       "    }\n",
       "\n",
       "    .dataframe tbody tr th {\n",
       "        vertical-align: top;\n",
       "    }\n",
       "\n",
       "    .dataframe thead th {\n",
       "        text-align: right;\n",
       "    }\n",
       "</style>\n",
       "<table border=\"1\" class=\"dataframe\">\n",
       "  <thead>\n",
       "    <tr style=\"text-align: right;\">\n",
       "      <th></th>\n",
       "      <th>Taxon</th>\n",
       "      <th>Confidence</th>\n",
       "    </tr>\n",
       "    <tr>\n",
       "      <th>Feature ID</th>\n",
       "      <th></th>\n",
       "      <th></th>\n",
       "    </tr>\n",
       "  </thead>\n",
       "  <tbody>\n",
       "    <tr>\n",
       "      <th>10001</th>\n",
       "      <td>d__Bacteria;p__Pseudomonadota;c__Gammaproteoba...</td>\n",
       "      <td>0.999554</td>\n",
       "    </tr>\n",
       "    <tr>\n",
       "      <th>1000148</th>\n",
       "      <td>d__Bacteria;p__Pseudomonadota;c__Gammaproteoba...</td>\n",
       "      <td>0.999977</td>\n",
       "    </tr>\n",
       "    <tr>\n",
       "      <th>1000161</th>\n",
       "      <td>d__Bacteria;p__Pseudomonadota;c__Gammaproteoba...</td>\n",
       "      <td>0.852679</td>\n",
       "    </tr>\n",
       "    <tr>\n",
       "      <th>1000188</th>\n",
       "      <td>d__Bacteria;p__Bacillota;c__Bacilli;o__Lactoba...</td>\n",
       "      <td>0.996888</td>\n",
       "    </tr>\n",
       "    <tr>\n",
       "      <th>1000269</th>\n",
       "      <td>d__Bacteria;p__Bacillota;c__Bacilli;o__Lactoba...</td>\n",
       "      <td>0.996307</td>\n",
       "    </tr>\n",
       "  </tbody>\n",
       "</table>\n",
       "</div>"
      ],
      "text/plain": [
       "                                                        Taxon  Confidence\n",
       "Feature ID                                                               \n",
       "10001       d__Bacteria;p__Pseudomonadota;c__Gammaproteoba...    0.999554\n",
       "1000148     d__Bacteria;p__Pseudomonadota;c__Gammaproteoba...    0.999977\n",
       "1000161     d__Bacteria;p__Pseudomonadota;c__Gammaproteoba...    0.852679\n",
       "1000188     d__Bacteria;p__Bacillota;c__Bacilli;o__Lactoba...    0.996888\n",
       "1000269     d__Bacteria;p__Bacillota;c__Bacilli;o__Lactoba...    0.996307"
      ]
     },
     "execution_count": 76,
     "metadata": {},
     "output_type": "execute_result"
    }
   ],
   "source": [
    "import pandas as pd\n",
    "\n",
    "otu_assignment_gtdb2014 = pd.read_csv(\"/media/rsantos/4TB_drive/Projects/UGA_RACS/16S/Wallace_et_al_2018_2/Classification_GTDB/gtdb-214_rep_set_taxonomy/taxonomy.tsv\",\n",
    "                                      sep='\\t')\n",
    "otu_assignment_gtdb2014.set_index('Feature ID', inplace=True)\n",
    "otu_assignment_gtdb2014.head()"
   ]
  },
  {
   "cell_type": "code",
   "execution_count": 93,
   "metadata": {},
   "outputs": [
    {
     "data": {
      "text/plain": [
       "<Axes: xlabel='Taxon'>"
      ]
     },
     "execution_count": 93,
     "metadata": {},
     "output_type": "execute_result"
    },
    {
     "data": {
      "image/png": "[encoded data removed]",
      "text/plain": [
       "<Figure size 640x480 with 1 Axes>"
      ]
     },
     "metadata": {},
     "output_type": "display_data"
    }
   ],
   "source": [
    "pd.set_option('max_colwidth', 1000)\n",
    "otu_assignment_gtdb2014.loc[list(set([corpair[0] for corpair in intersection_day_night]))]['Taxon'].value_counts().plot(kind='bar', fontsize=10, rot=90)"
   ]
  },
  {
   "cell_type": "code",
   "execution_count": 78,
   "metadata": {},
   "outputs": [],
   "source": [
    "# This is apparently the default width; return to it\n",
    "pd.set_option('max_colwidth', 50)"
   ]
  },
  {
   "cell_type": "markdown",
   "metadata": {},
   "source": [
    "## Correlations - gene (asinh) versus OTU (CPM - asinh)\n",
    "\n",
    "Initial tests with gene expression transformed using the asinh function did not return anything if correlations were made with untransformed OTU values (CPM without asinh). Therefore, I tested correlations after transforming all data equally (OTUs and Gene expressions were transformed)"
   ]
  },
  {
   "cell_type": "code",
   "execution_count": null,
   "metadata": {},
   "outputs": [],
   "source": [
    "from corals.threads import set_threads_for_external_libraries\n",
    "set_threads_for_external_libraries(n_threads=1)\n",
    "import numpy as np\n",
    "from corals.correlation.full.default import cor_full"
   ]
  },
  {
   "cell_type": "markdown",
   "metadata": {},
   "source": [
    "### OTU (CPM) - Gene (CPM) - ASINH"
   ]
  },
  {
   "cell_type": "code",
   "execution_count": null,
   "metadata": {},
   "outputs": [],
   "source": [
    "concat_df_night = pd.concat([kremling_expression_v5_night_cpm_asinh, otu_table_merged_night_cpm_asinh], axis=0)\n",
    "concat_df_day = pd.concat([kremling_expression_v5_day_cpm_asinh, otu_table_merged_day_cpm_asinh], axis=0)\n",
    "\n",
    "concatenated_transposed_day = concat_df_day.transpose()\n",
    "concatenated_transposed_night = concat_df_night.transpose()\n",
    "\n",
    "cor_values_day = cor_full(concatenated_transposed_day)\n",
    "cor_values_night = cor_full(concatenated_transposed_night)\n",
    "\n",
    "true_positions_day = np.where(cor_values_day > 0.5)\n",
    "shape_row_day = kremling_expression_v5_day_cpm_asinh.shape[0]\n",
    "true_positions_night = np.where(cor_values_night > 0.5)\n",
    "shape_row_night = kremling_expression_v5_night_cpm_asinh.shape[0]\n",
    "\n",
    "pairs_day_genecpmasinh_otucpm = []\n",
    "pairs_night_genecpmasinh_otucpm = []\n",
    "\n",
    "for i in range(len(true_positions_day[0])):\n",
    "    if (true_positions_day[1][i] > (shape_row_day - 1)) and (true_positions_day[0][i] < shape_row_day):\n",
    "        pairs_day_genecpmasinh_otucpm.append((str(cor_values_day.columns[true_positions_day[1][i]]),\n",
    "              str(cor_values_day.index[true_positions_day[0][i]])))\n",
    "\n",
    "for i in range(len(true_positions_night[0])):\n",
    "    if (true_positions_night[1][i] > (shape_row_night - 1)) and (true_positions_night[0][i] < shape_row_night):\n",
    "        pairs_night_genecpmasinh_otucpm.append((str(cor_values_night.columns[true_positions_night[1][i]]),\n",
    "              str(cor_values_night.index[true_positions_night[0][i]])))"
   ]
  },
  {
   "cell_type": "code",
   "execution_count": null,
   "metadata": {},
   "outputs": [],
   "source": [
    "print(len(pairs_day_genecpmasinh_otucpm))\n",
    "print(len(pairs_night_genecpmasinh_otucpm))"
   ]
  },
  {
   "cell_type": "markdown",
   "metadata": {},
   "source": [
    "### OTU (CPM) - Gene (TPM) - ASINH"
   ]
  },
  {
   "cell_type": "code",
   "execution_count": null,
   "metadata": {},
   "outputs": [],
   "source": [
    "concat_df_night = pd.concat([kremling_expression_v5_night_tpm_asinh, otu_table_merged_night_cpm_asinh], axis=0)\n",
    "concat_df_day = pd.concat([kremling_expression_v5_day_tpm_asinh, otu_table_merged_day_cpm_asinh], axis=0)\n",
    "\n",
    "concatenated_transposed_day = concat_df_day.transpose()\n",
    "concatenated_transposed_night = concat_df_night.transpose()\n",
    "\n",
    "cor_values_day = cor_full(concatenated_transposed_day)\n",
    "cor_values_night = cor_full(concatenated_transposed_night)\n",
    "\n",
    "true_positions_day = np.where(cor_values_day > 0.5)\n",
    "shape_row_day = kremling_expression_v5_day_tpm_asinh.shape[0]\n",
    "true_positions_night = np.where(cor_values_night > 0.5)\n",
    "shape_row_night = kremling_expression_v5_night_tpm_asinh.shape[0]\n",
    "\n",
    "pairs_day_genetpmasinh_otucpm = []\n",
    "pairs_night_genetpmasinh_otucpm = []\n",
    "\n",
    "for i in range(len(true_positions_day[0])):\n",
    "    if (true_positions_day[1][i] > (shape_row_day - 1)) and (true_positions_day[0][i] < shape_row_day):\n",
    "        pairs_day_genetpmasinh_otucpm.append((str(cor_values_day.columns[true_positions_day[1][i]]),\n",
    "              str(cor_values_day.index[true_positions_day[0][i]])))\n",
    "\n",
    "for i in range(len(true_positions_night[0])):\n",
    "    if (true_positions_night[1][i] > (shape_row_night - 1)) and (true_positions_night[0][i] < shape_row_night):\n",
    "        pairs_night_genetpmasinh_otucpm.append((str(cor_values_night.columns[true_positions_night[1][i]]),\n",
    "              str(cor_values_night.index[true_positions_night[0][i]])))"
   ]
  },
  {
   "cell_type": "code",
   "execution_count": null,
   "metadata": {},
   "outputs": [],
   "source": [
    "print(len(pairs_day_genetpmasinh_otucpm))\n",
    "print(len(pairs_night_genetpmasinh_otucpm))"
   ]
  },
  {
   "cell_type": "markdown",
   "metadata": {},
   "source": [
    "### OTU (CPM) - Gene (RPKM) - ASINH"
   ]
  },
  {
   "cell_type": "code",
   "execution_count": null,
   "metadata": {},
   "outputs": [],
   "source": [
    "concat_df_night = pd.concat([kremling_expression_v5_night_rpkm_asinh, otu_table_merged_night_cpm_asinh], axis=0)\n",
    "concat_df_day = pd.concat([kremling_expression_v5_day_rpkm_asinh, otu_table_merged_day_cpm_asinh], axis=0)\n",
    "\n",
    "concatenated_transposed_day = concat_df_day.transpose()\n",
    "concatenated_transposed_night = concat_df_night.transpose()\n",
    "\n",
    "cor_values_day = cor_full(concatenated_transposed_day)\n",
    "cor_values_night = cor_full(concatenated_transposed_night)\n",
    "\n",
    "true_positions_day = np.where(cor_values_day > 0.5)\n",
    "shape_row_day = kremling_expression_v5_day_rpkm_asinh.shape[0]\n",
    "true_positions_night = np.where(cor_values_night > 0.5)\n",
    "shape_row_night = kremling_expression_v5_night_rpkm_asinh.shape[0]\n",
    "\n",
    "pairs_day_generpkmasinh_otucpm = []\n",
    "pairs_night_generpkmasinh_otucpm = []\n",
    "\n",
    "for i in range(len(true_positions_day[0])):\n",
    "    if (true_positions_day[1][i] > (shape_row_day - 1)) and (true_positions_day[0][i] < shape_row_day):\n",
    "        pairs_day_generpkmasinh_otucpm.append((str(cor_values_day.columns[true_positions_day[1][i]]),\n",
    "              str(cor_values_day.index[true_positions_day[0][i]])))\n",
    "\n",
    "for i in range(len(true_positions_night[0])):\n",
    "    if (true_positions_night[1][i] > (shape_row_night - 1)) and (true_positions_night[0][i] < shape_row_night):\n",
    "        pairs_night_generpkmasinh_otucpm.append((str(cor_values_night.columns[true_positions_night[1][i]]),\n",
    "              str(cor_values_night.index[true_positions_night[0][i]])))"
   ]
  },
  {
   "cell_type": "code",
   "execution_count": null,
   "metadata": {},
   "outputs": [],
   "source": [
    "print(len(pairs_day_generpkmasinh_otucpm))\n",
    "print(len(pairs_night_generpkmasinh_otucpm))"
   ]
  },
  {
   "cell_type": "markdown",
   "metadata": {},
   "source": [
    "### OTU (CPM) - Gene (TMM) - ASINH"
   ]
  },
  {
   "cell_type": "code",
   "execution_count": null,
   "metadata": {},
   "outputs": [],
   "source": [
    "concat_df_night = pd.concat([kremling_expression_v5_night_tmm_asinh, otu_table_merged_night_cpm_asinh], axis=0)\n",
    "concat_df_day = pd.concat([kremling_expression_v5_day_tmm_asinh, otu_table_merged_day_cpm_asinh], axis=0)\n",
    "\n",
    "concatenated_transposed_day = concat_df_day.transpose()\n",
    "concatenated_transposed_night = concat_df_night.transpose()\n",
    "\n",
    "cor_values_day = cor_full(concatenated_transposed_day)\n",
    "cor_values_night = cor_full(concatenated_transposed_night)\n",
    "\n",
    "true_positions_day = np.where(cor_values_day > 0.5)\n",
    "shape_row_day = kremling_expression_v5_day_tmm_asinh.shape[0]\n",
    "true_positions_night = np.where(cor_values_night > 0.5)\n",
    "shape_row_night = kremling_expression_v5_night_tmm_asinh.shape[0]\n",
    "\n",
    "pairs_day_genetmmasinh_otucpm = []\n",
    "pairs_night_genetmmasinh_otucpm = []\n",
    "\n",
    "for i in range(len(true_positions_day[0])):\n",
    "    if (true_positions_day[1][i] > (shape_row_day - 1)) and (true_positions_day[0][i] < shape_row_day):\n",
    "        pairs_day_genetmmasinh_otucpm.append((str(cor_values_day.columns[true_positions_day[1][i]]),\n",
    "              str(cor_values_day.index[true_positions_day[0][i]])))\n",
    "\n",
    "for i in range(len(true_positions_night[0])):\n",
    "    if (true_positions_night[1][i] > (shape_row_night - 1)) and (true_positions_night[0][i] < shape_row_night):\n",
    "        pairs_night_genetmmasinh_otucpm.append((str(cor_values_night.columns[true_positions_night[1][i]]),\n",
    "              str(cor_values_night.index[true_positions_night[0][i]])))"
   ]
  },
  {
   "cell_type": "code",
   "execution_count": null,
   "metadata": {},
   "outputs": [],
   "source": [
    "print(len(pairs_day_genetmmasinh_otucpm))\n",
    "print(len(pairs_night_genetmmasinh_otucpm))"
   ]
  },
  {
   "cell_type": "markdown",
   "metadata": {},
   "source": [
    "### OTU (CPM) - Gene (UQ) - ASINH"
   ]
  },
  {
   "cell_type": "code",
   "execution_count": null,
   "metadata": {},
   "outputs": [],
   "source": [
    "concat_df_night = pd.concat([kremling_expression_v5_night_uq_asinh, otu_table_merged_night_cpm_asinh], axis=0)\n",
    "concat_df_day = pd.concat([kremling_expression_v5_day_uq_asinh, otu_table_merged_day_cpm_asinh], axis=0)\n",
    "\n",
    "concatenated_transposed_day = concat_df_day.transpose()\n",
    "concatenated_transposed_night = concat_df_night.transpose()\n",
    "\n",
    "cor_values_day = cor_full(concatenated_transposed_day)\n",
    "cor_values_night = cor_full(concatenated_transposed_night)\n",
    "\n",
    "true_positions_day = np.where(cor_values_day > 0.5)\n",
    "shape_row_day = kremling_expression_v5_day_uq_asinh.shape[0]\n",
    "true_positions_night = np.where(cor_values_night > 0.5)\n",
    "shape_row_night = kremling_expression_v5_night_uq_asinh.shape[0]\n",
    "\n",
    "pairs_day_geneuqasinh_otucpm = []\n",
    "pairs_night_geneuqasinh_otucpm = []\n",
    "\n",
    "for i in range(len(true_positions_day[0])):\n",
    "    if (true_positions_day[1][i] > (shape_row_day - 1)) and (true_positions_day[0][i] < shape_row_day):\n",
    "        pairs_day_geneuqasinh_otucpm.append((str(cor_values_day.columns[true_positions_day[1][i]]),\n",
    "              str(cor_values_day.index[true_positions_day[0][i]])))\n",
    "\n",
    "for i in range(len(true_positions_night[0])):\n",
    "    if (true_positions_night[1][i] > (shape_row_night - 1)) and (true_positions_night[0][i] < shape_row_night):\n",
    "        pairs_night_geneuqasinh_otucpm.append((str(cor_values_night.columns[true_positions_night[1][i]]),\n",
    "              str(cor_values_night.index[true_positions_night[0][i]])))"
   ]
  },
  {
   "cell_type": "code",
   "execution_count": null,
   "metadata": {},
   "outputs": [],
   "source": [
    "print(len(pairs_day_geneuqasinh_otucpm))\n",
    "print(len(pairs_night_geneuqasinh_otucpm))"
   ]
  },
  {
   "cell_type": "markdown",
   "metadata": {},
   "source": [
    "### OTU (CPM) - Gene (CTF) - ASINH"
   ]
  },
  {
   "cell_type": "code",
   "execution_count": null,
   "metadata": {},
   "outputs": [],
   "source": [
    "concat_df_night = pd.concat([kremling_expression_v5_night_ctf_asinh, otu_table_merged_night_cpm_asinh], axis=0)\n",
    "concat_df_day = pd.concat([kremling_expression_v5_day_ctf_asinh, otu_table_merged_day_cpm_asinh], axis=0)\n",
    "\n",
    "concatenated_transposed_day = concat_df_day.transpose()\n",
    "concatenated_transposed_night = concat_df_night.transpose()\n",
    "\n",
    "cor_values_day = cor_full(concatenated_transposed_day)\n",
    "cor_values_night = cor_full(concatenated_transposed_night)\n",
    "\n",
    "true_positions_day = np.where(cor_values_day > 0.5)\n",
    "shape_row_day = kremling_expression_v5_day_ctf_asinh.shape[0]\n",
    "true_positions_night = np.where(cor_values_night > 0.5)\n",
    "shape_row_night = kremling_expression_v5_night_ctf_asinh.shape[0]\n",
    "\n",
    "pairs_day_genectfasinh_otucpm = []\n",
    "pairs_night_genectfasinh_otucpm = []\n",
    "\n",
    "for i in range(len(true_positions_day[0])):\n",
    "    if (true_positions_day[1][i] > (shape_row_day - 1)) and (true_positions_day[0][i] < shape_row_day):\n",
    "        pairs_day_genectfasinh_otucpm.append((str(cor_values_day.columns[true_positions_day[1][i]]),\n",
    "              str(cor_values_day.index[true_positions_day[0][i]])))\n",
    "\n",
    "for i in range(len(true_positions_night[0])):\n",
    "    if (true_positions_night[1][i] > (shape_row_night - 1)) and (true_positions_night[0][i] < shape_row_night):\n",
    "        pairs_night_genectfasinh_otucpm.append((str(cor_values_night.columns[true_positions_night[1][i]]),\n",
    "              str(cor_values_night.index[true_positions_night[0][i]])))"
   ]
  },
  {
   "cell_type": "code",
   "execution_count": null,
   "metadata": {},
   "outputs": [],
   "source": [
    "print(len(pairs_day_genectfasinh_otucpm))\n",
    "print(len(pairs_night_genectfasinh_otucpm))"
   ]
  },
  {
   "cell_type": "markdown",
   "metadata": {},
   "source": [
    "### OTU (CPM) - Gene (CUF) - ASINH"
   ]
  },
  {
   "cell_type": "code",
   "execution_count": null,
   "metadata": {},
   "outputs": [],
   "source": [
    "concat_df_night = pd.concat([kremling_expression_v5_night_cuf_asinh, otu_table_merged_night_cpm_asinh], axis=0)\n",
    "concat_df_day = pd.concat([kremling_expression_v5_day_cuf_asinh, otu_table_merged_day_cpm_asinh], axis=0)\n",
    "\n",
    "concatenated_transposed_day = concat_df_day.transpose()\n",
    "concatenated_transposed_night = concat_df_night.transpose()\n",
    "\n",
    "cor_values_day = cor_full(concatenated_transposed_day)\n",
    "cor_values_night = cor_full(concatenated_transposed_night)\n",
    "\n",
    "true_positions_day = np.where(cor_values_day > 0.5)\n",
    "shape_row_day = kremling_expression_v5_day_cuf_asinh.shape[0]\n",
    "true_positions_night = np.where(cor_values_night > 0.5)\n",
    "shape_row_night = kremling_expression_v5_night_cuf_asinh.shape[0]\n",
    "\n",
    "pairs_day_genecufasinh_otucpm = []\n",
    "pairs_night_genecufasinh_otucpm = []\n",
    "\n",
    "for i in range(len(true_positions_day[0])):\n",
    "    if (true_positions_day[1][i] > (shape_row_day - 1)) and (true_positions_day[0][i] < shape_row_day):\n",
    "        pairs_day_genecufasinh_otucpm.append((str(cor_values_day.columns[true_positions_day[1][i]]),\n",
    "              str(cor_values_day.index[true_positions_day[0][i]])))\n",
    "\n",
    "for i in range(len(true_positions_night[0])):\n",
    "    if (true_positions_night[1][i] > (shape_row_night - 1)) and (true_positions_night[0][i] < shape_row_night):\n",
    "        pairs_night_genecufasinh_otucpm.append((str(cor_values_night.columns[true_positions_night[1][i]]),\n",
    "              str(cor_values_night.index[true_positions_night[0][i]])))"
   ]
  },
  {
   "cell_type": "code",
   "execution_count": null,
   "metadata": {},
   "outputs": [],
   "source": [
    "print(len(pairs_day_genecufasinh_otucpm))\n",
    "print(len(pairs_night_genecufasinh_otucpm))"
   ]
  },
  {
   "cell_type": "code",
   "execution_count": null,
   "metadata": {},
   "outputs": [],
   "source": [
    "import upsetplot\n",
    "\n",
    "from upsetplot import from_contents"
   ]
  },
  {
   "cell_type": "code",
   "execution_count": null,
   "metadata": {},
   "outputs": [],
   "source": [
    "correlations_asinh_night = from_contents(\n",
    "    {\"night gene (cpm) otu (cpm)\": pairs_night_genecpmasinh_otucpm,\n",
    "    \"night gene (tpm) otu (cpm)\": pairs_night_genetpmasinh_otucpm,\n",
    "    \"night gene (tmm) otu (cpm)\": pairs_night_genetmmasinh_otucpm,\n",
    "    \"night gene (rpkm) otu (cpm)\": pairs_night_generpkmasinh_otucpm,\n",
    "    \"night gene (uq) otu (cpm)\": pairs_night_geneuqasinh_otucpm,\n",
    "    \"night gene (ctf) otu (cpm)\": pairs_night_genectfasinh_otucpm,\n",
    "    \"night gene (cuf) otu (cpm)\": pairs_night_genecufasinh_otucpm}\n",
    ")\n",
    "\n",
    "from upsetplot import UpSet\n",
    "\n",
    "ax_dict = UpSet(correlations_asinh_night, subset_size=\"count\").plot()"
   ]
  },
  {
   "cell_type": "code",
   "execution_count": null,
   "metadata": {},
   "outputs": [],
   "source": [
    "correlations_asinh_day = from_contents(\n",
    "    {\"day gene (cpm) otu (cpm)\": pairs_day_genecpmasinh_otucpm,\n",
    "    \"day gene (tpm) otu (cpm)\": pairs_day_genetpmasinh_otucpm,\n",
    "    \"day gene (tmm) otu (cpm)\": pairs_day_genetmmasinh_otucpm,\n",
    "    \"day gene (rpkm) otu (cpm)\": pairs_day_generpkmasinh_otucpm,\n",
    "    \"day gene (uq) otu (cpm)\": pairs_day_geneuqasinh_otucpm,\n",
    "    \"day gene (ctf) otu (cpm)\": pairs_day_genectfasinh_otucpm,\n",
    "    \"day gene (cuf) otu (cpm)\": pairs_day_genecufasinh_otucpm}\n",
    ")\n",
    "\n",
    "from upsetplot import UpSet\n",
    "\n",
    "ax_dict = UpSet(correlations_asinh_day, subset_size=\"count\").plot()"
   ]
  },
  {
   "cell_type": "code",
   "execution_count": null,
   "metadata": {},
   "outputs": [],
   "source": [
    "correlations_asinh_notasinh_day = from_contents(\n",
    "    {\"day gene (cpm) otu (cpm) (ASINH)\": pairs_day_genecpmasinh_otucpm,\n",
    "    \"day gene (tpm) otu (cpm) (ASINH)\": pairs_day_genetpmasinh_otucpm,\n",
    "    \"day gene (tmm) otu (cpm) (ASINH)\": pairs_day_genetmmasinh_otucpm,\n",
    "    \"day gene (rpkm) otu (cpm) (ASINH)\": pairs_day_generpkmasinh_otucpm,\n",
    "    \"day gene (uq) otu (cpm) (ASINH)\": pairs_day_geneuqasinh_otucpm,\n",
    "    \"day gene (ctf) otu (cpm) (ASINH)\": pairs_day_genectfasinh_otucpm,\n",
    "    \"day gene (cuf) otu (cpm) (ASINH)\": pairs_day_genecufasinh_otucpm,\n",
    "    \"day gene (cpm) otu (cpm)\": pairs_day_genecpm_otucpm,\n",
    "    \"day gene (tpm) otu (cpm)\": pairs_day_genetpm_otucpm,\n",
    "    \"day gene (tmm) otu (cpm)\": pairs_day_genetmm_otucpm,\n",
    "    \"day gene (rpkm) otu (cpm)\": pairs_day_generpkm_otucpm,\n",
    "    \"day gene (uq) otu (cpm)\": pairs_day_geneuq_otucpm,\n",
    "    \"day gene (ctf) otu (cpm)\": pairs_day_genectf_otucpm,\n",
    "    \"day gene (cuf) otu (cpm)\": pairs_day_genecuf_otucpm}\n",
    ")\n",
    "\n",
    "from upsetplot import UpSet\n",
    "\n",
    "ax_dict = UpSet(correlations_asinh_notasinh_day, subset_size=\"count\").plot()"
   ]
  },
  {
   "cell_type": "code",
   "execution_count": null,
   "metadata": {},
   "outputs": [],
   "source": [
    "correlations_asinh_notasinh_night = from_contents(\n",
    "    {\"day gene (cpm) otu (cpm) (ASINH)\": pairs_night_genecpmasinh_otucpm,\n",
    "    \"day gene (tpm) otu (cpm) (ASINH)\": pairs_night_genetpmasinh_otucpm,\n",
    "    \"day gene (tmm) otu (cpm) (ASINH)\": pairs_night_genetmmasinh_otucpm,\n",
    "    \"day gene (rpkm) otu (cpm) (ASINH)\": pairs_night_generpkmasinh_otucpm,\n",
    "    \"day gene (uq) otu (cpm) (ASINH)\": pairs_night_geneuqasinh_otucpm,\n",
    "    \"day gene (ctf) otu (cpm) (ASINH)\": pairs_night_genectfasinh_otucpm,\n",
    "    \"day gene (cuf) otu (cpm) (ASINH)\": pairs_night_genecufasinh_otucpm,\n",
    "    \"day gene (cpm) otu (cpm)\": pairs_night_genecpm_otucpm,\n",
    "    \"day gene (tpm) otu (cpm)\": pairs_night_genetpm_otucpm,\n",
    "    \"day gene (tmm) otu (cpm)\": pairs_night_genetmm_otucpm,\n",
    "    \"day gene (rpkm) otu (cpm)\": pairs_night_generpkm_otucpm,\n",
    "    \"day gene (uq) otu (cpm)\": pairs_night_geneuq_otucpm,\n",
    "    \"day gene (ctf) otu (cpm)\": pairs_night_genectf_otucpm,\n",
    "    \"day gene (cuf) otu (cpm)\": pairs_night_genecuf_otucpm}\n",
    ")\n",
    "\n",
    "from upsetplot import UpSet\n",
    "\n",
    "ax_dict = UpSet(correlations_asinh_notasinh_day, subset_size=\"count\").plot()"
   ]
  },
  {
   "cell_type": "markdown",
   "metadata": {},
   "source": [
    "## Correlations - gene (VST) versus OTU (CPM - VST)\n",
    "\n",
    "Testing correlations after transforming all data equally (OTUs and Gene expressions were transformed using DESeq2 VST function)."
   ]
  },
  {
   "cell_type": "markdown",
   "metadata": {},
   "source": []
  },
  {
   "cell_type": "markdown",
   "metadata": {},
   "source": [
    "## Correlations - gene (no asinh) versus OTU (relative abundance)"
   ]
  },
  {
   "cell_type": "markdown",
   "metadata": {},
   "source": [
    "Testing correlations of OTUs (relative abundances after filtering) and Gene expressions (all normalizations, after filtering)."
   ]
  },
  {
   "cell_type": "code",
   "execution_count": null,
   "metadata": {},
   "outputs": [],
   "source": [
    "from corals.threads import set_threads_for_external_libraries\n",
    "set_threads_for_external_libraries(n_threads=1)\n",
    "import numpy as np\n",
    "from corals.correlation.full.default import cor_full"
   ]
  },
  {
   "cell_type": "markdown",
   "metadata": {},
   "source": [
    "### OTU (relative abundances) - Gene (CPM)"
   ]
  },
  {
   "cell_type": "code",
   "execution_count": null,
   "metadata": {},
   "outputs": [],
   "source": [
    "concat_df_night = pd.concat([kremling_expression_v5_night_cpm_filtered_cv_filtered, otu_table_merged_night_relative_abund_filtered_cv_filtered], axis=0)\n",
    "concat_df_day = pd.concat([kremling_expression_v5_day_cpm_filtered_cv_filtered, otu_table_merged_day_relative_abund_filtered_cv_filtered], axis=0)\n",
    "\n",
    "concatenated_transposed_day = concat_df_day.transpose()\n",
    "concatenated_transposed_night = concat_df_night.transpose()\n",
    "\n",
    "cor_values_day = cor_full(concatenated_transposed_day)\n",
    "cor_values_night = cor_full(concatenated_transposed_night)\n",
    "\n",
    "true_positions_day = np.where(cor_values_day > 0.6)\n",
    "shape_row_day = kremling_expression_v5_day_cpm_filtered_cv_filtered.shape[0]\n",
    "true_positions_night = np.where(cor_values_night > 0.6)\n",
    "shape_row_night = kremling_expression_v5_night_cpm_filtered_cv_filtered.shape[0]\n",
    "\n",
    "pairs_day_genecpm_oturelabund = []\n",
    "pairs_night_genecpm_oturelabund = []\n",
    "\n",
    "for i in range(len(true_positions_day[0])):\n",
    "    if (true_positions_day[1][i] > (shape_row_day - 1)) and (true_positions_day[0][i] < shape_row_day):\n",
    "        pairs_day_genecpm_oturelabund.append((str(cor_values_day.columns[true_positions_day[1][i]]),\n",
    "              str(cor_values_day.index[true_positions_day[0][i]])))\n",
    "\n",
    "for i in range(len(true_positions_night[0])):\n",
    "    if (true_positions_night[1][i] > (shape_row_night - 1)) and (true_positions_night[0][i] < shape_row_night):\n",
    "        pairs_night_genecpm_oturelabund.append((str(cor_values_night.columns[true_positions_night[1][i]]),\n",
    "              str(cor_values_night.index[true_positions_night[0][i]])))"
   ]
  },
  {
   "cell_type": "code",
   "execution_count": null,
   "metadata": {},
   "outputs": [],
   "source": [
    "print(len(pairs_day_genecpm_oturelabund))\n",
    "print(len(pairs_night_genecpm_oturelabund))"
   ]
  },
  {
   "cell_type": "markdown",
   "metadata": {},
   "source": [
    "### OTU (relative abundances) - Gene (RPKM)"
   ]
  },
  {
   "cell_type": "code",
   "execution_count": null,
   "metadata": {},
   "outputs": [],
   "source": [
    "concat_df_night = pd.concat([kremling_expression_v5_night_rpkm_filtered_cv_filtered, otu_table_merged_night_relative_abund_filtered_cv_filtered], axis=0)\n",
    "concat_df_day = pd.concat([kremling_expression_v5_day_rpkm_filtered_cv_filtered, otu_table_merged_day_relative_abund_filtered_cv_filtered], axis=0)\n",
    "\n",
    "concatenated_transposed_day = concat_df_day.transpose()\n",
    "concatenated_transposed_night = concat_df_night.transpose()\n",
    "\n",
    "cor_values_day = cor_full(concatenated_transposed_day)\n",
    "cor_values_night = cor_full(concatenated_transposed_night)\n",
    "\n",
    "true_positions_day = np.where(cor_values_day > 0.6)\n",
    "shape_row_day = kremling_expression_v5_day_rpkm_filtered_cv_filtered.shape[0]\n",
    "true_positions_night = np.where(cor_values_night > 0.6)\n",
    "shape_row_night = kremling_expression_v5_night_rpkm_filtered_cv_filtered.shape[0]\n",
    "\n",
    "pairs_day_generpkm_oturelabund = []\n",
    "pairs_night_generpkm_oturelabund = []\n",
    "\n",
    "for i in range(len(true_positions_day[0])):\n",
    "    if (true_positions_day[1][i] > (shape_row_day - 1)) and (true_positions_day[0][i] < shape_row_day):\n",
    "        pairs_day_generpkm_oturelabund.append((str(cor_values_day.columns[true_positions_day[1][i]]),\n",
    "              str(cor_values_day.index[true_positions_day[0][i]])))\n",
    "\n",
    "for i in range(len(true_positions_night[0])):\n",
    "    if (true_positions_night[1][i] > (shape_row_night - 1)) and (true_positions_night[0][i] < shape_row_night):\n",
    "        pairs_night_generpkm_oturelabund.append((str(cor_values_night.columns[true_positions_night[1][i]]),\n",
    "              str(cor_values_night.index[true_positions_night[0][i]])))"
   ]
  },
  {
   "cell_type": "code",
   "execution_count": null,
   "metadata": {},
   "outputs": [],
   "source": [
    "print(len(pairs_day_generpkm_oturelabund))\n",
    "print(len(pairs_night_generpkm_oturelabund))"
   ]
  },
  {
   "cell_type": "markdown",
   "metadata": {},
   "source": [
    "### OTU (relative abundances) - Gene (TPM)"
   ]
  },
  {
   "cell_type": "code",
   "execution_count": null,
   "metadata": {},
   "outputs": [],
   "source": [
    "concat_df_night = pd.concat([kremling_expression_v5_night_tpm_filtered_cv_filtered, otu_table_merged_night_relative_abund_filtered_cv_filtered], axis=0)\n",
    "concat_df_day = pd.concat([kremling_expression_v5_day_tpm_filtered_cv_filtered, otu_table_merged_day_relative_abund_filtered_cv_filtered], axis=0)\n",
    "\n",
    "concatenated_transposed_day = concat_df_day.transpose()\n",
    "concatenated_transposed_night = concat_df_night.transpose()\n",
    "\n",
    "cor_values_day = cor_full(concatenated_transposed_day)\n",
    "cor_values_night = cor_full(concatenated_transposed_night)\n",
    "\n",
    "true_positions_day = np.where(cor_values_day > 0.6)\n",
    "shape_row_day = kremling_expression_v5_day_tpm_filtered_cv_filtered.shape[0]\n",
    "true_positions_night = np.where(cor_values_night > 0.6)\n",
    "shape_row_night = kremling_expression_v5_night_tpm_filtered_cv_filtered.shape[0]\n",
    "\n",
    "pairs_day_genetpm_oturelabund = []\n",
    "pairs_night_genetpm_oturelabund = []\n",
    "\n",
    "for i in range(len(true_positions_day[0])):\n",
    "    if (true_positions_day[1][i] > (shape_row_day - 1)) and (true_positions_day[0][i] < shape_row_day):\n",
    "        pairs_day_genetpm_oturelabund.append((str(cor_values_day.columns[true_positions_day[1][i]]),\n",
    "              str(cor_values_day.index[true_positions_day[0][i]])))\n",
    "\n",
    "for i in range(len(true_positions_night[0])):\n",
    "    if (true_positions_night[1][i] > (shape_row_night - 1)) and (true_positions_night[0][i] < shape_row_night):\n",
    "        pairs_night_genetpm_oturelabund.append((str(cor_values_night.columns[true_positions_night[1][i]]),\n",
    "              str(cor_values_night.index[true_positions_night[0][i]])))"
   ]
  },
  {
   "cell_type": "code",
   "execution_count": null,
   "metadata": {},
   "outputs": [],
   "source": [
    "print(len(pairs_day_genetpm_oturelabund))\n",
    "print(len(pairs_night_genetpm_oturelabund))"
   ]
  },
  {
   "cell_type": "markdown",
   "metadata": {},
   "source": [
    "### OTU (relative abundances) - Gene (TMM)"
   ]
  },
  {
   "cell_type": "code",
   "execution_count": null,
   "metadata": {},
   "outputs": [],
   "source": [
    "concat_df_night = pd.concat([kremling_expression_v5_night_tmm_filtered_cv_filtered, otu_table_merged_night_relative_abund_filtered_cv_filtered], axis=0)\n",
    "concat_df_day = pd.concat([kremling_expression_v5_day_tmm_filtered_cv_filtered, otu_table_merged_day_relative_abund_filtered_cv_filtered], axis=0)\n",
    "\n",
    "concatenated_transposed_day = concat_df_day.transpose()\n",
    "concatenated_transposed_night = concat_df_night.transpose()\n",
    "\n",
    "cor_values_day = cor_full(concatenated_transposed_day)\n",
    "cor_values_night = cor_full(concatenated_transposed_night)\n",
    "\n",
    "true_positions_day = np.where(cor_values_day > 0.6)\n",
    "shape_row_day = kremling_expression_v5_day_tmm_filtered_cv_filtered.shape[0]\n",
    "true_positions_night = np.where(cor_values_night > 0.6)\n",
    "shape_row_night = kremling_expression_v5_night_tmm_filtered_cv_filtered.shape[0]\n",
    "\n",
    "pairs_day_genetmm_oturelabund = []\n",
    "pairs_night_genetmm_oturelabund = []\n",
    "\n",
    "for i in range(len(true_positions_day[0])):\n",
    "    if (true_positions_day[1][i] > (shape_row_day - 1)) and (true_positions_day[0][i] < shape_row_day):\n",
    "        pairs_day_genetmm_oturelabund.append((str(cor_values_day.columns[true_positions_day[1][i]]),\n",
    "              str(cor_values_day.index[true_positions_day[0][i]])))\n",
    "\n",
    "for i in range(len(true_positions_night[0])):\n",
    "    if (true_positions_night[1][i] > (shape_row_night - 1)) and (true_positions_night[0][i] < shape_row_night):\n",
    "        pairs_night_genetmm_oturelabund.append((str(cor_values_night.columns[true_positions_night[1][i]]),\n",
    "              str(cor_values_night.index[true_positions_night[0][i]])))"
   ]
  },
  {
   "cell_type": "code",
   "execution_count": null,
   "metadata": {},
   "outputs": [],
   "source": [
    "print(len(pairs_day_genetmm_oturelabund))\n",
    "print(len(pairs_night_genetmm_oturelabund))"
   ]
  },
  {
   "cell_type": "markdown",
   "metadata": {},
   "source": [
    "### OTU (relative abundances) - Gene (UQ)"
   ]
  },
  {
   "cell_type": "code",
   "execution_count": null,
   "metadata": {},
   "outputs": [],
   "source": [
    "concat_df_night = pd.concat([kremling_expression_v5_night_uq_filtered_cv_filtered, otu_table_merged_night_relative_abund_filtered_cv_filtered], axis=0)\n",
    "concat_df_day = pd.concat([kremling_expression_v5_day_uq_filtered_cv_filtered, otu_table_merged_day_relative_abund_filtered_cv_filtered], axis=0)\n",
    "\n",
    "concatenated_transposed_day = concat_df_day.transpose()\n",
    "concatenated_transposed_night = concat_df_night.transpose()\n",
    "\n",
    "cor_values_day = cor_full(concatenated_transposed_day)\n",
    "cor_values_night = cor_full(concatenated_transposed_night)\n",
    "\n",
    "true_positions_day = np.where(cor_values_day > 0.6)\n",
    "shape_row_day = kremling_expression_v5_day_uq_filtered_cv_filtered.shape[0]\n",
    "true_positions_night = np.where(cor_values_night > 0.6)\n",
    "shape_row_night = kremling_expression_v5_night_uq_filtered_cv_filtered.shape[0]\n",
    "\n",
    "pairs_day_geneuq_oturelabund = []\n",
    "pairs_night_geneuq_oturelabund = []\n",
    "\n",
    "for i in range(len(true_positions_day[0])):\n",
    "    if (true_positions_day[1][i] > (shape_row_day - 1)) and (true_positions_day[0][i] < shape_row_day):\n",
    "        pairs_day_geneuq_oturelabund.append((str(cor_values_day.columns[true_positions_day[1][i]]),\n",
    "              str(cor_values_day.index[true_positions_day[0][i]])))\n",
    "\n",
    "for i in range(len(true_positions_night[0])):\n",
    "    if (true_positions_night[1][i] > (shape_row_night - 1)) and (true_positions_night[0][i] < shape_row_night):\n",
    "        pairs_night_geneuq_oturelabund.append((str(cor_values_night.columns[true_positions_night[1][i]]),\n",
    "              str(cor_values_night.index[true_positions_night[0][i]])))"
   ]
  },
  {
   "cell_type": "code",
   "execution_count": null,
   "metadata": {},
   "outputs": [],
   "source": [
    "print(len(pairs_day_geneuq_oturelabund))\n",
    "print(len(pairs_night_geneuq_oturelabund))"
   ]
  },
  {
   "cell_type": "markdown",
   "metadata": {},
   "source": [
    "### OTU (relative abundances) - Gene (CTF)"
   ]
  },
  {
   "cell_type": "code",
   "execution_count": null,
   "metadata": {},
   "outputs": [],
   "source": [
    "concat_df_night = pd.concat([kremling_expression_v5_night_ctf_filtered_cv_filtered, otu_table_merged_night_relative_abund_filtered_cv_filtered], axis=0)\n",
    "concat_df_day = pd.concat([kremling_expression_v5_day_ctf_filtered_cv_filtered, otu_table_merged_day_relative_abund_filtered_cv_filtered], axis=0)\n",
    "\n",
    "concatenated_transposed_day = concat_df_day.transpose()\n",
    "concatenated_transposed_night = concat_df_night.transpose()\n",
    "\n",
    "cor_values_day = cor_full(concatenated_transposed_day)\n",
    "cor_values_night = cor_full(concatenated_transposed_night)\n",
    "\n",
    "true_positions_day = np.where(cor_values_day > 0.6)\n",
    "shape_row_day = kremling_expression_v5_day_ctf_filtered_cv_filtered.shape[0]\n",
    "true_positions_night = np.where(cor_values_night > 0.6)\n",
    "shape_row_night = kremling_expression_v5_night_ctf_filtered_cv_filtered.shape[0]\n",
    "\n",
    "pairs_day_genectf_oturelabund = []\n",
    "pairs_night_genectf_oturelabund = []\n",
    "\n",
    "for i in range(len(true_positions_day[0])):\n",
    "    if (true_positions_day[1][i] > (shape_row_day - 1)) and (true_positions_day[0][i] < shape_row_day):\n",
    "        pairs_day_genectf_oturelabund.append((str(cor_values_day.columns[true_positions_day[1][i]]),\n",
    "              str(cor_values_day.index[true_positions_day[0][i]])))\n",
    "\n",
    "for i in range(len(true_positions_night[0])):\n",
    "    if (true_positions_night[1][i] > (shape_row_night - 1)) and (true_positions_night[0][i] < shape_row_night):\n",
    "        pairs_night_genectf_oturelabund.append((str(cor_values_night.columns[true_positions_night[1][i]]),\n",
    "              str(cor_values_night.index[true_positions_night[0][i]])))"
   ]
  },
  {
   "cell_type": "code",
   "execution_count": null,
   "metadata": {},
   "outputs": [],
   "source": [
    "print(len(pairs_day_genectf_oturelabund))\n",
    "print(len(pairs_night_genectf_oturelabund))"
   ]
  },
  {
   "cell_type": "markdown",
   "metadata": {},
   "source": [
    "### OTU (relative abundances) - Gene (CUF)"
   ]
  },
  {
   "cell_type": "code",
   "execution_count": null,
   "metadata": {},
   "outputs": [],
   "source": [
    "concat_df_night = pd.concat([kremling_expression_v5_night_cuf_filtered_cv_filtered, otu_table_merged_night_relative_abund_filtered_cv_filtered], axis=0)\n",
    "concat_df_day = pd.concat([kremling_expression_v5_day_cuf_filtered_cv_filtered, otu_table_merged_day_relative_abund_filtered_cv_filtered], axis=0)\n",
    "\n",
    "concatenated_transposed_day = concat_df_day.transpose()\n",
    "concatenated_transposed_night = concat_df_night.transpose()\n",
    "\n",
    "cor_values_day = cor_full(concatenated_transposed_day)\n",
    "cor_values_night = cor_full(concatenated_transposed_night)\n",
    "\n",
    "true_positions_day = np.where(cor_values_day > 0.6)\n",
    "shape_row_day = kremling_expression_v5_day_cuf_filtered_cv_filtered.shape[0]\n",
    "true_positions_night = np.where(cor_values_night > 0.6)\n",
    "shape_row_night = kremling_expression_v5_night_cuf_filtered_cv_filtered.shape[0]\n",
    "\n",
    "pairs_day_genecuf_oturelabund = []\n",
    "pairs_night_genecuf_oturelabund = []\n",
    "\n",
    "for i in range(len(true_positions_day[0])):\n",
    "    if (true_positions_day[1][i] > (shape_row_day - 1)) and (true_positions_day[0][i] < shape_row_day):\n",
    "        pairs_day_genecuf_oturelabund.append((str(cor_values_day.columns[true_positions_day[1][i]]),\n",
    "              str(cor_values_day.index[true_positions_day[0][i]])))\n",
    "\n",
    "for i in range(len(true_positions_night[0])):\n",
    "    if (true_positions_night[1][i] > (shape_row_night - 1)) and (true_positions_night[0][i] < shape_row_night):\n",
    "        pairs_night_genecuf_oturelabund.append((str(cor_values_night.columns[true_positions_night[1][i]]),\n",
    "              str(cor_values_night.index[true_positions_night[0][i]])))"
   ]
  },
  {
   "cell_type": "code",
   "execution_count": null,
   "metadata": {},
   "outputs": [],
   "source": [
    "print(len(pairs_day_genecuf_oturelabund))\n",
    "print(len(pairs_night_genecuf_oturelabund))"
   ]
  }
 ],
 "metadata": {
  "kernelspec": {
   "display_name": ".venv",
   "language": "python",
   "name": "python3"
  },
  "language_info": {
   "codemirror_mode": {
    "name": "ipython",
    "version": 3
   },
   "file_extension": ".py",
   "mimetype": "text/x-python",
   "name": "python",
   "nbconvert_exporter": "python",
   "pygments_lexer": "ipython3",
   "version": "3.10.12"
  }
 },
 "nbformat": 4,
 "nbformat_minor": 2
}
