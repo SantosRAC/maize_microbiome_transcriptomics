{
 "cells": [
  {
   "cell_type": "markdown",
   "metadata": {},
   "source": [
    "# Correlations between transcriptome and microbiome\n",
    "\n"
   ]
  },
  {
   "cell_type": "markdown",
   "metadata": {},
   "source": [
    "## Datasets\n",
    "\n",
    " * RNAseq matrix with TPM values\n",
    " * Feature table with ASV counts\n",
    "\n",
    "### Associations between RNAseq and 16S data\n",
    "\n",
    "For the correlations between Kremling and Wallace papers, information about the day and time of sampling and genotype must match in order to do any correlations.\n",
    "\n",
    " * Run information for [16S data]()\n",
    " * Run information for [RNAseq data]()\n",
    "\n",
    "Such information can be easily extracted for the RNAseq data based on field `LibraryName`\n",
    "\n",
    "For Dr. Wallace manuscript, a file is available on [FigShare](https://doi.org/10.6084/m9.figshare.5886769.v2) that can connect plots (therefore genotypes) and sequencing runs\n",
    "\n",
    " * 0_plate_key.txt has associations between genotypes and plots (NCBI run metadata have plots as part of the identifier)"
   ]
  },
  {
   "cell_type": "code",
   "execution_count": null,
   "metadata": {},
   "outputs": [],
   "source": []
  },
  {
   "cell_type": "markdown",
   "metadata": {},
   "source": [
    "## Actual computation of correlations\n",
    "\n",
    "At the time of writing, there are at least two interesting approaches:\n",
    "\n",
    " * Deep Graph\n",
    " * CorALS"
   ]
  },
  {
   "cell_type": "code",
   "execution_count": 4,
   "metadata": {},
   "outputs": [],
   "source": [
    "from corals.threads import set_threads_for_external_libraries\n",
    "set_threads_for_external_libraries(n_threads=1)"
   ]
  },
  {
   "cell_type": "code",
   "execution_count": 5,
   "metadata": {},
   "outputs": [],
   "source": [
    "import numpy as np"
   ]
  },
  {
   "cell_type": "code",
   "execution_count": 6,
   "metadata": {},
   "outputs": [],
   "source": [
    "n_features = 20000\n",
    "n_samples = 50\n",
    "X = np.random.random((n_samples, n_features))"
   ]
  },
  {
   "cell_type": "code",
   "execution_count": 10,
   "metadata": {},
   "outputs": [
    {
     "data": {
      "text/plain": [
       "(50, 20000)"
      ]
     },
     "execution_count": 10,
     "metadata": {},
     "output_type": "execute_result"
    }
   ],
   "source": [
    "X.shape"
   ]
  },
  {
   "cell_type": "code",
   "execution_count": 11,
   "metadata": {},
   "outputs": [],
   "source": [
    "# runtime: ~2 sec\n",
    "from corals.correlation.full.default import cor_full\n",
    "cor_values = cor_full(X)"
   ]
  },
  {
   "cell_type": "code",
   "execution_count": 13,
   "metadata": {},
   "outputs": [
    {
     "data": {
      "text/plain": [
       "(20000, 20000)"
      ]
     },
     "execution_count": 13,
     "metadata": {},
     "output_type": "execute_result"
    }
   ],
   "source": [
    "cor_values.shape"
   ]
  },
  {
   "cell_type": "code",
   "execution_count": null,
   "metadata": {},
   "outputs": [],
   "source": []
  }
 ],
 "metadata": {
  "kernelspec": {
   "display_name": "Python 3",
   "language": "python",
   "name": "python3"
  },
  "language_info": {
   "codemirror_mode": {
    "name": "ipython",
    "version": 3
   },
   "file_extension": ".py",
   "mimetype": "text/x-python",
   "name": "python",
   "nbconvert_exporter": "python",
   "pygments_lexer": "ipython3",
   "version": "3.10.12"
  }
 },
 "nbformat": 4,
 "nbformat_minor": 2
}
