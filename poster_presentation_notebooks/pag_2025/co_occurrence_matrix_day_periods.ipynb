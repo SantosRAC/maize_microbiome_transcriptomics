{
 "cells": [
  {
   "cell_type": "markdown",
   "metadata": {},
   "source": [
    "# Co-occurrence networks of different day periods\n",
    "\n",
    "Instead of analyzing the networks of different maize subpopulations (which is complex and involves not very clear separation between the distinct groups), it makes more sense to analyze the differences between day and night samples. We hypothesize that day samples do not differ significantly from night samples, therefore networks should be very similar.\n",
    "\n",
    "In this notebook, I (RACS) will filter from the original OTU table all the day and night samples, regardless of having or not a transcriptome pair. The idea is to compare day and night networks to see how similar they are."
   ]
  },
  {
   "cell_type": "code",
   "execution_count": 1,
   "metadata": {},
   "outputs": [
    {
     "data": {
      "text/html": [
       "<div>\n",
       "<style scoped>\n",
       "    .dataframe tbody tr th:only-of-type {\n",
       "        vertical-align: middle;\n",
       "    }\n",
       "\n",
       "    .dataframe tbody tr th {\n",
       "        vertical-align: top;\n",
       "    }\n",
       "\n",
       "    .dataframe thead th {\n",
       "        text-align: right;\n",
       "    }\n",
       "</style>\n",
       "<table border=\"1\" class=\"dataframe\">\n",
       "  <thead>\n",
       "    <tr style=\"text-align: right;\">\n",
       "      <th></th>\n",
       "      <th>LMAN.8.14A0051</th>\n",
       "      <th>LMAN.8.14A0304</th>\n",
       "      <th>LMAD.8.14A0247</th>\n",
       "      <th>LMAN.8.14A0159</th>\n",
       "      <th>LMAD.8.14A0051</th>\n",
       "      <th>LMAD.26.14A0381</th>\n",
       "      <th>LMAD.26.14A0533</th>\n",
       "      <th>LMAD.8.14A0281</th>\n",
       "      <th>LMAD.8.14A0295</th>\n",
       "      <th>LMAN.26.14A0319</th>\n",
       "      <th>...</th>\n",
       "      <th>LMAN.26.14A0303</th>\n",
       "      <th>LMAN.8.14A0011</th>\n",
       "      <th>LMAD.26.14A0137</th>\n",
       "      <th>LMAN.26.14A0327</th>\n",
       "      <th>LMAN.8.14A0205</th>\n",
       "      <th>LMAD.8.14A0265</th>\n",
       "      <th>LMAD.26.14A0155</th>\n",
       "      <th>LMAD.26.14A0167</th>\n",
       "      <th>LMAD.26.14A0481</th>\n",
       "      <th>LMAN.26.14A0329</th>\n",
       "    </tr>\n",
       "    <tr>\n",
       "      <th>OTU_ID</th>\n",
       "      <th></th>\n",
       "      <th></th>\n",
       "      <th></th>\n",
       "      <th></th>\n",
       "      <th></th>\n",
       "      <th></th>\n",
       "      <th></th>\n",
       "      <th></th>\n",
       "      <th></th>\n",
       "      <th></th>\n",
       "      <th></th>\n",
       "      <th></th>\n",
       "      <th></th>\n",
       "      <th></th>\n",
       "      <th></th>\n",
       "      <th></th>\n",
       "      <th></th>\n",
       "      <th></th>\n",
       "      <th></th>\n",
       "      <th></th>\n",
       "      <th></th>\n",
       "    </tr>\n",
       "  </thead>\n",
       "  <tbody>\n",
       "    <tr>\n",
       "      <th>4479944</th>\n",
       "      <td>1.0</td>\n",
       "      <td>2.0</td>\n",
       "      <td>1.0</td>\n",
       "      <td>1.0</td>\n",
       "      <td>1.0</td>\n",
       "      <td>3.0</td>\n",
       "      <td>1.0</td>\n",
       "      <td>0.0</td>\n",
       "      <td>0.0</td>\n",
       "      <td>0.0</td>\n",
       "      <td>...</td>\n",
       "      <td>0.0</td>\n",
       "      <td>0.0</td>\n",
       "      <td>0.0</td>\n",
       "      <td>0.0</td>\n",
       "      <td>0.0</td>\n",
       "      <td>0.0</td>\n",
       "      <td>0.0</td>\n",
       "      <td>0.0</td>\n",
       "      <td>0.0</td>\n",
       "      <td>0.0</td>\n",
       "    </tr>\n",
       "    <tr>\n",
       "      <th>995900</th>\n",
       "      <td>0.0</td>\n",
       "      <td>1.0</td>\n",
       "      <td>0.0</td>\n",
       "      <td>0.0</td>\n",
       "      <td>0.0</td>\n",
       "      <td>0.0</td>\n",
       "      <td>0.0</td>\n",
       "      <td>5.0</td>\n",
       "      <td>8.0</td>\n",
       "      <td>15.0</td>\n",
       "      <td>...</td>\n",
       "      <td>0.0</td>\n",
       "      <td>0.0</td>\n",
       "      <td>0.0</td>\n",
       "      <td>0.0</td>\n",
       "      <td>0.0</td>\n",
       "      <td>0.0</td>\n",
       "      <td>0.0</td>\n",
       "      <td>0.0</td>\n",
       "      <td>0.0</td>\n",
       "      <td>0.0</td>\n",
       "    </tr>\n",
       "    <tr>\n",
       "      <th>1124709</th>\n",
       "      <td>0.0</td>\n",
       "      <td>0.0</td>\n",
       "      <td>0.0</td>\n",
       "      <td>0.0</td>\n",
       "      <td>0.0</td>\n",
       "      <td>0.0</td>\n",
       "      <td>0.0</td>\n",
       "      <td>0.0</td>\n",
       "      <td>0.0</td>\n",
       "      <td>0.0</td>\n",
       "      <td>...</td>\n",
       "      <td>0.0</td>\n",
       "      <td>0.0</td>\n",
       "      <td>0.0</td>\n",
       "      <td>0.0</td>\n",
       "      <td>0.0</td>\n",
       "      <td>0.0</td>\n",
       "      <td>0.0</td>\n",
       "      <td>0.0</td>\n",
       "      <td>0.0</td>\n",
       "      <td>0.0</td>\n",
       "    </tr>\n",
       "    <tr>\n",
       "      <th>541139</th>\n",
       "      <td>0.0</td>\n",
       "      <td>0.0</td>\n",
       "      <td>0.0</td>\n",
       "      <td>0.0</td>\n",
       "      <td>0.0</td>\n",
       "      <td>0.0</td>\n",
       "      <td>0.0</td>\n",
       "      <td>0.0</td>\n",
       "      <td>0.0</td>\n",
       "      <td>0.0</td>\n",
       "      <td>...</td>\n",
       "      <td>0.0</td>\n",
       "      <td>0.0</td>\n",
       "      <td>0.0</td>\n",
       "      <td>0.0</td>\n",
       "      <td>0.0</td>\n",
       "      <td>0.0</td>\n",
       "      <td>0.0</td>\n",
       "      <td>0.0</td>\n",
       "      <td>0.0</td>\n",
       "      <td>0.0</td>\n",
       "    </tr>\n",
       "    <tr>\n",
       "      <th>533625</th>\n",
       "      <td>1.0</td>\n",
       "      <td>36.0</td>\n",
       "      <td>0.0</td>\n",
       "      <td>0.0</td>\n",
       "      <td>0.0</td>\n",
       "      <td>2.0</td>\n",
       "      <td>0.0</td>\n",
       "      <td>0.0</td>\n",
       "      <td>0.0</td>\n",
       "      <td>12.0</td>\n",
       "      <td>...</td>\n",
       "      <td>0.0</td>\n",
       "      <td>0.0</td>\n",
       "      <td>0.0</td>\n",
       "      <td>0.0</td>\n",
       "      <td>0.0</td>\n",
       "      <td>0.0</td>\n",
       "      <td>0.0</td>\n",
       "      <td>0.0</td>\n",
       "      <td>0.0</td>\n",
       "      <td>0.0</td>\n",
       "    </tr>\n",
       "  </tbody>\n",
       "</table>\n",
       "<p>5 rows × 540 columns</p>\n",
       "</div>"
      ],
      "text/plain": [
       "         LMAN.8.14A0051  LMAN.8.14A0304  LMAD.8.14A0247  LMAN.8.14A0159  \\\n",
       "OTU_ID                                                                    \n",
       "4479944             1.0             2.0             1.0             1.0   \n",
       "995900              0.0             1.0             0.0             0.0   \n",
       "1124709             0.0             0.0             0.0             0.0   \n",
       "541139              0.0             0.0             0.0             0.0   \n",
       "533625              1.0            36.0             0.0             0.0   \n",
       "\n",
       "         LMAD.8.14A0051  LMAD.26.14A0381  LMAD.26.14A0533  LMAD.8.14A0281  \\\n",
       "OTU_ID                                                                      \n",
       "4479944             1.0              3.0              1.0             0.0   \n",
       "995900              0.0              0.0              0.0             5.0   \n",
       "1124709             0.0              0.0              0.0             0.0   \n",
       "541139              0.0              0.0              0.0             0.0   \n",
       "533625              0.0              2.0              0.0             0.0   \n",
       "\n",
       "         LMAD.8.14A0295  LMAN.26.14A0319  ...  LMAN.26.14A0303  \\\n",
       "OTU_ID                                    ...                    \n",
       "4479944             0.0              0.0  ...              0.0   \n",
       "995900              8.0             15.0  ...              0.0   \n",
       "1124709             0.0              0.0  ...              0.0   \n",
       "541139              0.0              0.0  ...              0.0   \n",
       "533625              0.0             12.0  ...              0.0   \n",
       "\n",
       "         LMAN.8.14A0011  LMAD.26.14A0137  LMAN.26.14A0327  LMAN.8.14A0205  \\\n",
       "OTU_ID                                                                      \n",
       "4479944             0.0              0.0              0.0             0.0   \n",
       "995900              0.0              0.0              0.0             0.0   \n",
       "1124709             0.0              0.0              0.0             0.0   \n",
       "541139              0.0              0.0              0.0             0.0   \n",
       "533625              0.0              0.0              0.0             0.0   \n",
       "\n",
       "         LMAD.8.14A0265  LMAD.26.14A0155  LMAD.26.14A0167  LMAD.26.14A0481  \\\n",
       "OTU_ID                                                                       \n",
       "4479944             0.0              0.0              0.0              0.0   \n",
       "995900              0.0              0.0              0.0              0.0   \n",
       "1124709             0.0              0.0              0.0              0.0   \n",
       "541139              0.0              0.0              0.0              0.0   \n",
       "533625              0.0              0.0              0.0              0.0   \n",
       "\n",
       "         LMAN.26.14A0329  \n",
       "OTU_ID                    \n",
       "4479944              0.0  \n",
       "995900               0.0  \n",
       "1124709              0.0  \n",
       "541139               0.0  \n",
       "533625               0.0  \n",
       "\n",
       "[5 rows x 540 columns]"
      ]
     },
     "execution_count": 1,
     "metadata": {},
     "output_type": "execute_result"
    }
   ],
   "source": [
    "import pandas as pd\n",
    "\n",
    "original_otu_df = pd.read_csv(\"/media/rsantos/4TB_drive/Projects/UGA_RACS/16S/Wallace_et_al_2018_1/Workflow/2_QiimeOtus/2f_otu_table.sample_filtered.no_mitochondria_chloroplast.tsv\",\n",
    "#original_otu_df = pd.read_csv(\"/home/santosrac/Projects/UGA_RACS/16S/otu_matrices/original_counts/2f_otu_table.sample_filtered.no_mitochondria_chloroplast.tsv\",\n",
    "            sep='\\t', index_col=0, dtype={'OTU_ID': str})\n",
    "original_otu_df.head()"
   ]
  },
  {
   "cell_type": "code",
   "execution_count": 2,
   "metadata": {},
   "outputs": [],
   "source": [
    "from bioinfokit.analys import norm\n",
    "\n",
    "# Normalize the data (CPM)\n",
    "nm = norm()\n",
    "nm.cpm(df=original_otu_df)\n",
    "otu_cpm_df = nm.cpm_norm\n",
    "\n",
    "# Normalize the data (relative abundance)\n",
    "otu_relabund_df = original_otu_df.divide(original_otu_df.sum())\n",
    "otu_relabund_df = otu_relabund_df * 100"
   ]
  },
  {
   "cell_type": "code",
   "execution_count": 3,
   "metadata": {},
   "outputs": [],
   "source": [
    "otus_tokeep = otu_relabund_df[(otu_relabund_df > 0.001).sum(axis=1) >= (otu_relabund_df.shape[1] * 0.5)].index"
   ]
  },
  {
   "cell_type": "code",
   "execution_count": 4,
   "metadata": {},
   "outputs": [
    {
     "data": {
      "text/plain": [
       "(356, 540)"
      ]
     },
     "execution_count": 4,
     "metadata": {},
     "output_type": "execute_result"
    }
   ],
   "source": [
    "original_otu_filtered_df = original_otu_df[original_otu_df.index.isin(otus_tokeep)]\n",
    "original_otu_filtered_df.shape"
   ]
  },
  {
   "cell_type": "code",
   "execution_count": 5,
   "metadata": {},
   "outputs": [
    {
     "data": {
      "text/plain": [
       "(356, 280)"
      ]
     },
     "execution_count": 5,
     "metadata": {},
     "output_type": "execute_result"
    }
   ],
   "source": [
    "original_otu_filtered_night_df = original_otu_filtered_df.filter(like='LMAN')\n",
    "original_otu_filtered_night_df.shape"
   ]
  },
  {
   "cell_type": "code",
   "execution_count": 6,
   "metadata": {},
   "outputs": [
    {
     "data": {
      "text/plain": [
       "(356, 260)"
      ]
     },
     "execution_count": 6,
     "metadata": {},
     "output_type": "execute_result"
    }
   ],
   "source": [
    "original_otu_filtered_day_df = original_otu_filtered_df.filter(like='LMAD')\n",
    "original_otu_filtered_day_df.shape"
   ]
  },
  {
   "cell_type": "markdown",
   "metadata": {},
   "source": [
    "Exporting the tables of filtered day and night samples (counts). Note that I (RACS) filtered only based on the relative abundance, not caring about the coeff. of variation (as in previous analyses)."
   ]
  },
  {
   "cell_type": "code",
   "execution_count": 7,
   "metadata": {},
   "outputs": [],
   "source": [
    "original_otu_filtered_day_df.to_csv(\"/home/rsantos/Repositories/maize_microbiome_transcriptomics/poster_presentation_notebooks/pag_2025/original_otu_filtered_day.tsv\",\n",
    "#original_otu_filtered_day_df.to_csv(\"/home/santosrac/Repositories/maize_microbiome_transcriptomics/poster_presentation_notebooks/pag_2025/original_otu_filtered_day.tsv\",\n",
    "                                    sep='\\t')\n",
    "original_otu_filtered_night_df.to_csv(\"/home/rsantos/Repositories/maize_microbiome_transcriptomics/poster_presentation_notebooks/pag_2025/original_otu_filtered_night.tsv\",\n",
    "#original_otu_filtered_night_df.to_csv(\"/home/santosrac/Repositories/maize_microbiome_transcriptomics/poster_presentation_notebooks/pag_2025/original_otu_filtered_night.tsv\",\n",
    "                                    sep='\\t')"
   ]
  }
 ],
 "metadata": {
  "kernelspec": {
   "display_name": ".venv",
   "language": "python",
   "name": "python3"
  },
  "language_info": {
   "codemirror_mode": {
    "name": "ipython",
    "version": 3
   },
   "file_extension": ".py",
   "mimetype": "text/x-python",
   "name": "python",
   "nbconvert_exporter": "python",
   "pygments_lexer": "ipython3",
   "version": "3.10.12"
  }
 },
 "nbformat": 4,
 "nbformat_minor": 2
}
