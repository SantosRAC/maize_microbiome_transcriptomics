{
 "cells": [
  {
   "cell_type": "markdown",
   "metadata": {},
   "source": [
    "# Co-occurrence networks of different day periods\n",
    "\n",
    "Instead of analyzing the networks of different maize subpopulations (which is complex and involves not very clear separation between the distinct groups), it makes more sense to analyze the differences between day and night samples. We hypothesize that day samples do not differ significantly from night samples, therefore networks should be very similar.\n",
    "\n",
    "In our work, we have different datasets derived from the same original OTU table:\n",
    " * OTU table with merged day and night samples, and only those samples that have a pair with the RNA-Seq\n",
    " * OTU table with merged day and night samples, and only those samples that have a pair with the RNA-Seq (filtered by relative abundance)\n",
    "\n",
    "In this notebook, I (RACS) will filter from the original OTU table all the day and night samples, regardless of having or not a transcriptome pair."
   ]
  },
  {
   "cell_type": "code",
   "execution_count": null,
   "metadata": {},
   "outputs": [],
   "source": [
    "import pandas as pd\n",
    "\n",
    "original_otu_df = pd.read_csv(\"/home/santosrac/Projects/UGA_RACS/16S/otu_matrices/original_counts/2f_otu_table.sample_filtered.no_mitochondria_chloroplast.tsv\",\n",
    "            sep='\\t', index_col=0, dtype={'OTU_ID': str})\n",
    "original_otu_df.head()"
   ]
  },
  {
   "cell_type": "code",
   "execution_count": 12,
   "metadata": {},
   "outputs": [],
   "source": [
    "from bioinfokit.analys import norm\n",
    "\n",
    "# Normalize the data (CPM)\n",
    "nm = norm()\n",
    "nm.cpm(df=original_otu_df)\n",
    "otu_cpm_df = nm.cpm_norm\n",
    "\n",
    "# Normalize the data (relative abundance)\n",
    "otu_relabund_df = original_otu_df.divide(original_otu_df.sum())\n",
    "otu_relabund_df = otu_relabund_df * 100"
   ]
  },
  {
   "cell_type": "code",
   "execution_count": 15,
   "metadata": {},
   "outputs": [],
   "source": [
    "otus_tokeep = otu_relabund_df[(otu_relabund_df > 0.001).sum(axis=1) >= (otu_relabund_df.shape[1] * 0.5)].index"
   ]
  },
  {
   "cell_type": "code",
   "execution_count": 19,
   "metadata": {},
   "outputs": [
    {
     "data": {
      "text/plain": [
       "(356, 540)"
      ]
     },
     "execution_count": 19,
     "metadata": {},
     "output_type": "execute_result"
    }
   ],
   "source": [
    "original_otu_filtered_df = original_otu_df[original_otu_df.index.isin(otus_tokeep)]\n",
    "original_otu_filtered_df.shape"
   ]
  },
  {
   "cell_type": "code",
   "execution_count": 20,
   "metadata": {},
   "outputs": [
    {
     "data": {
      "text/plain": [
       "(356, 280)"
      ]
     },
     "execution_count": 20,
     "metadata": {},
     "output_type": "execute_result"
    }
   ],
   "source": [
    "original_otu_filtered_night_df = original_otu_filtered_df.filter(like='LMAN')\n",
    "original_otu_filtered_night_df.shape"
   ]
  },
  {
   "cell_type": "code",
   "execution_count": 21,
   "metadata": {},
   "outputs": [
    {
     "data": {
      "text/plain": [
       "(356, 260)"
      ]
     },
     "execution_count": 21,
     "metadata": {},
     "output_type": "execute_result"
    }
   ],
   "source": [
    "original_otu_filtered_day_df = original_otu_filtered_df.filter(like='LMAD')\n",
    "original_otu_filtered_day_df.shape"
   ]
  },
  {
   "cell_type": "markdown",
   "metadata": {},
   "source": [
    "Exporting the tables of filtered day and night samples (counts). Note that I (RACS) filtered only based on the relative abundance, not caring about the coeff. of variation (as in previous analyses)."
   ]
  },
  {
   "cell_type": "code",
   "execution_count": 22,
   "metadata": {},
   "outputs": [],
   "source": [
    "original_otu_filtered_day_df.to_csv(\"/home/santosrac/Repositories/maize_microbiome_transcriptomics/poster_presentation_notebooks/pag_2025/original_otu_filtered_day.tsv\",\n",
    "                                    sep='\\t')\n",
    "original_otu_filtered_night_df.to_csv(\"/home/santosrac/Repositories/maize_microbiome_transcriptomics/poster_presentation_notebooks/pag_2025/original_otu_filtered_night.tsv\",\n",
    "                                    sep='\\t')"
   ]
  }
 ],
 "metadata": {
  "kernelspec": {
   "display_name": ".venv",
   "language": "python",
   "name": "python3"
  },
  "language_info": {
   "codemirror_mode": {
    "name": "ipython",
    "version": 3
   },
   "file_extension": ".py",
   "mimetype": "text/x-python",
   "name": "python",
   "nbconvert_exporter": "python",
   "pygments_lexer": "ipython3",
   "version": "3.10.12"
  }
 },
 "nbformat": 4,
 "nbformat_minor": 2
}
