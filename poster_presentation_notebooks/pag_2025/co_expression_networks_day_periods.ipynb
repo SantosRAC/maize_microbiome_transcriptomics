{
 "cells": [
  {
   "cell_type": "markdown",
   "metadata": {},
   "source": [
    "# Co-expression networks for day and night periods\n",
    "\n"
   ]
  },
  {
   "cell_type": "markdown",
   "metadata": {},
   "source": [
    "Co-expression networks will be reconstructed for day and night samples.\n",
    "\n",
    "I (RACS) will use the subset of genes filtered for the cross-correlation analyses (SparXCC), which was based on a filter of expression and coefficient of variation."
   ]
  },
  {
   "cell_type": "markdown",
   "metadata": {},
   "source": [
    "## Analysis with all maize genes (~7K)"
   ]
  },
  {
   "cell_type": "code",
   "execution_count": 20,
   "metadata": {},
   "outputs": [
    {
     "name": "stderr",
     "output_type": "stream",
     "text": [
      "/home/rsantos/Repositories/maize_microbiome_transcriptomics/.venv/lib/python3.10/site-packages/corals/threads.py:48: UserWarning: This function should be called before `numpy` or similar modules are imported.\n",
      "  warnings.warn(\"This function should be called before `numpy` or similar modules are imported.\")\n"
     ]
    }
   ],
   "source": [
    "import pandas as pd\n",
    "from corals.threads import set_threads_for_external_libraries\n",
    "set_threads_for_external_libraries(n_threads=1)\n",
    "import numpy as np\n",
    "from corals.correlation.full.default import cor_full\n",
    "from corals.correlation.utils import derive_pvalues, multiple_test_correction"
   ]
  },
  {
   "cell_type": "code",
   "execution_count": null,
   "metadata": {},
   "outputs": [],
   "source": [
    "#import pandas as pd\n",
    "expression_kremling_tpm_filtered = pd.read_csv(\"/home/rsantos/Repositories/maize_microbiome_transcriptomics/poster_presentation_notebooks/plant_center_retreat_2024/kremling_expression_v5_tpm_filtered_cv_filtered.tsv\",\n",
    "                                      sep=\"\\t\", index_col=0)"
   ]
  },
  {
   "cell_type": "code",
   "execution_count": 2,
   "metadata": {},
   "outputs": [],
   "source": [
    "expression_kremling_tpm_filtered_day = expression_kremling_tpm_filtered.filter(like='exp_day')\n",
    "expression_kremling_tpm_filtered_night = expression_kremling_tpm_filtered.filter(like='exp_night')"
   ]
  },
  {
   "cell_type": "code",
   "execution_count": 3,
   "metadata": {},
   "outputs": [
    {
     "name": "stdout",
     "output_type": "stream",
     "text": [
      "(7201, 176)\n",
      "(7201, 228)\n"
     ]
    }
   ],
   "source": [
    "print(expression_kremling_tpm_filtered_day.shape)\n",
    "print(expression_kremling_tpm_filtered_night.shape)"
   ]
  },
  {
   "cell_type": "code",
   "execution_count": 4,
   "metadata": {},
   "outputs": [],
   "source": [
    "expression_kremling_tpm_filtered_day.to_csv(\"expression_kremling_tpm_filtered_day.tsv\", sep=\"\\t\")\n",
    "expression_kremling_tpm_filtered_night.to_csv(\"expression_kremling_tpm_filtered_night.tsv\", sep=\"\\t\")"
   ]
  },
  {
   "cell_type": "code",
   "execution_count": 24,
   "metadata": {},
   "outputs": [],
   "source": [
    "expression_kremling_day_transposed = expression_kremling_tpm_filtered_day.transpose()\n",
    "expression_kremling_night_transposed = expression_kremling_tpm_filtered_night.transpose()"
   ]
  },
  {
   "cell_type": "code",
   "execution_count": 25,
   "metadata": {},
   "outputs": [],
   "source": [
    "day_pearson_cor_result = cor_full(expression_kremling_day_transposed, correlation_type=\"pearson\")\n",
    "night_pearson_cor_result = cor_full(expression_kremling_night_transposed, correlation_type=\"pearson\")"
   ]
  },
  {
   "cell_type": "code",
   "execution_count": 26,
   "metadata": {},
   "outputs": [],
   "source": [
    "day_n_samples = expression_kremling_day_transposed.shape[0]\n",
    "day_n_features = expression_kremling_day_transposed.shape[1]\n",
    "night_n_samples = expression_kremling_night_transposed.shape[0]\n",
    "night_n_features = expression_kremling_night_transposed.shape[1]"
   ]
  },
  {
   "cell_type": "code",
   "execution_count": 27,
   "metadata": {},
   "outputs": [
    {
     "name": "stderr",
     "output_type": "stream",
     "text": [
      "/home/rsantos/Repositories/maize_microbiome_transcriptomics/.venv/lib/python3.10/site-packages/corals/correlation/utils.py:227: RuntimeWarning: divide by zero encountered in divide\n",
      "  ts = rf * rf * (df / (1 - rf * rf))\n"
     ]
    }
   ],
   "source": [
    "day_pvalues = derive_pvalues(day_pearson_cor_result, day_n_samples)\n",
    "day_pvalues_corrected = multiple_test_correction(day_pvalues, day_n_features, method=\"bonferroni\")\n",
    "night_pvalues = derive_pvalues(night_pearson_cor_result, night_n_samples)\n",
    "night_pvalues_corrected = multiple_test_correction(night_pvalues, night_n_features, method=\"bonferroni\")"
   ]
  },
  {
   "cell_type": "code",
   "execution_count": 29,
   "metadata": {},
   "outputs": [],
   "source": [
    "day_pearson_cor_result.to_csv(\"co_exp_day_pearson_correlation.tsv\", sep=\"\\t\")\n",
    "night_pearson_cor_result.to_csv(\"co_exp_night_pearson_correlation.tsv\", sep=\"\\t\")"
   ]
  }
 ],
 "metadata": {
  "kernelspec": {
   "display_name": ".venv",
   "language": "python",
   "name": "python3"
  },
  "language_info": {
   "codemirror_mode": {
    "name": "ipython",
    "version": 3
   },
   "file_extension": ".py",
   "mimetype": "text/x-python",
   "name": "python",
   "nbconvert_exporter": "python",
   "pygments_lexer": "ipython3",
   "version": "3.10.12"
  }
 },
 "nbformat": 4,
 "nbformat_minor": 2
}
