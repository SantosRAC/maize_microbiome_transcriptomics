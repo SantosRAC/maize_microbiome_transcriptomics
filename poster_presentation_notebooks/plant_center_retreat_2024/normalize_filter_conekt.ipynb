{
 "cells": [
  {
   "cell_type": "markdown",
   "metadata": {},
   "source": [
    "# Description"
   ]
  },
  {
   "cell_type": "markdown",
   "metadata": {},
   "source": [
    "## Experimental groups\n",
    "\n",
    "* Whole study (all samples considered)\n",
    "* Day period: Day and night (correlations are calculated for each period)\n",
    "* Maize subpopulation (correlations are computed for each subpopulation)"
   ]
  },
  {
   "cell_type": "code",
   "execution_count": 23,
   "metadata": {},
   "outputs": [
    {
     "data": {
      "text/html": [
       "<div>\n",
       "<style scoped>\n",
       "    .dataframe tbody tr th:only-of-type {\n",
       "        vertical-align: middle;\n",
       "    }\n",
       "\n",
       "    .dataframe tbody tr th {\n",
       "        vertical-align: top;\n",
       "    }\n",
       "\n",
       "    .dataframe thead th {\n",
       "        text-align: right;\n",
       "    }\n",
       "</style>\n",
       "<table border=\"1\" class=\"dataframe\">\n",
       "  <thead>\n",
       "    <tr style=\"text-align: right;\">\n",
       "      <th></th>\n",
       "      <th>Genotype</th>\n",
       "      <th>State/Country</th>\n",
       "      <th>Pedigree</th>\n",
       "      <th>NSS</th>\n",
       "      <th>SS</th>\n",
       "      <th>TS</th>\n",
       "      <th>Pop A</th>\n",
       "      <th>Sweet A</th>\n",
       "      <th>Subpopulation</th>\n",
       "    </tr>\n",
       "    <tr>\n",
       "      <th>Plot_Day</th>\n",
       "      <th></th>\n",
       "      <th></th>\n",
       "      <th></th>\n",
       "      <th></th>\n",
       "      <th></th>\n",
       "      <th></th>\n",
       "      <th></th>\n",
       "      <th></th>\n",
       "      <th></th>\n",
       "    </tr>\n",
       "  </thead>\n",
       "  <tbody>\n",
       "    <tr>\n",
       "      <th>14A0309_26</th>\n",
       "      <td>33-16</td>\n",
       "      <td>Indiana</td>\n",
       "      <td>Lux Johnson Country white</td>\n",
       "      <td>0.972</td>\n",
       "      <td>0.014</td>\n",
       "      <td>0.014</td>\n",
       "      <td>0.0</td>\n",
       "      <td>0.0</td>\n",
       "      <td>nss</td>\n",
       "    </tr>\n",
       "    <tr>\n",
       "      <th>14A0233_8</th>\n",
       "      <td>38-11</td>\n",
       "      <td>Indiana</td>\n",
       "      <td>Outcross in line from 176A</td>\n",
       "      <td>0.993</td>\n",
       "      <td>0.003</td>\n",
       "      <td>0.004</td>\n",
       "      <td>0.0</td>\n",
       "      <td>0.0</td>\n",
       "      <td>nss</td>\n",
       "    </tr>\n",
       "    <tr>\n",
       "      <th>14A0079_26</th>\n",
       "      <td>4226</td>\n",
       "      <td>Illinois</td>\n",
       "      <td>Funk 90 Day</td>\n",
       "      <td>0.917</td>\n",
       "      <td>0.071</td>\n",
       "      <td>0.012</td>\n",
       "      <td>0.0</td>\n",
       "      <td>0.0</td>\n",
       "      <td>nss</td>\n",
       "    </tr>\n",
       "    <tr>\n",
       "      <th>14A0311_8</th>\n",
       "      <td>4722</td>\n",
       "      <td>Indiana</td>\n",
       "      <td>SA x Ohio yel.</td>\n",
       "      <td>0.000</td>\n",
       "      <td>0.000</td>\n",
       "      <td>0.000</td>\n",
       "      <td>1.0</td>\n",
       "      <td>0.0</td>\n",
       "      <td>popcorn</td>\n",
       "    </tr>\n",
       "    <tr>\n",
       "      <th>14A0021_8</th>\n",
       "      <td>A188</td>\n",
       "      <td>Minnesota</td>\n",
       "      <td>[(4-29*64)4-29(4)]</td>\n",
       "      <td>0.982</td>\n",
       "      <td>0.013</td>\n",
       "      <td>0.006</td>\n",
       "      <td>0.0</td>\n",
       "      <td>0.0</td>\n",
       "      <td>nss</td>\n",
       "    </tr>\n",
       "  </tbody>\n",
       "</table>\n",
       "</div>"
      ],
      "text/plain": [
       "           Genotype State/Country                    Pedigree    NSS     SS  \\\n",
       "Plot_Day                                                                      \n",
       "14A0309_26    33-16       Indiana   Lux Johnson Country white  0.972  0.014   \n",
       "14A0233_8     38-11       Indiana  Outcross in line from 176A  0.993  0.003   \n",
       "14A0079_26     4226      Illinois                 Funk 90 Day  0.917  0.071   \n",
       "14A0311_8      4722       Indiana              SA x Ohio yel.  0.000  0.000   \n",
       "14A0021_8      A188     Minnesota          [(4-29*64)4-29(4)]  0.982  0.013   \n",
       "\n",
       "               TS  Pop A  Sweet A Subpopulation  \n",
       "Plot_Day                                         \n",
       "14A0309_26  0.014    0.0      0.0           nss  \n",
       "14A0233_8   0.004    0.0      0.0           nss  \n",
       "14A0079_26  0.012    0.0      0.0           nss  \n",
       "14A0311_8   0.000    1.0      0.0       popcorn  \n",
       "14A0021_8   0.006    0.0      0.0           nss  "
      ]
     },
     "execution_count": 23,
     "metadata": {},
     "output_type": "execute_result"
    }
   ],
   "source": [
    "import pandas as pd\n",
    "\n",
    "\n",
    "group_assignments_wallace2018 = pd.read_csv(\"/home/rsantos/Repositories/maize_microbiome_transcriptomics/poster_presentation_notebooks/plant_center_retreat_2024/flint_garcia_group_assignments_wallace2018.tsv\",\n",
    "                                            sep=\"\\t\")\n",
    "group_assignments_wallace2018.set_index(\"Plot_Day\", inplace=True)\n",
    "#Replacing X added in R (R does not allow column names to start with numbers)\n",
    "group_assignments_wallace2018 = group_assignments_wallace2018.rename(index=lambda x: x.replace('X', ''))\n",
    "group_assignments_wallace2018.head()"
   ]
  },
  {
   "cell_type": "markdown",
   "metadata": {},
   "source": [
    "# Pre-processing steps"
   ]
  },
  {
   "cell_type": "markdown",
   "metadata": {},
   "source": [
    "## Importing tables"
   ]
  },
  {
   "cell_type": "markdown",
   "metadata": {},
   "source": [
    "### Generating/importing OTU counts with day and night samples"
   ]
  },
  {
   "cell_type": "markdown",
   "metadata": {},
   "source": [
    "Warning!!!!\n",
    "\n",
    "The steps to generate the OTU table were carried out previously, but they will no longer work, because the input tables were deleted from repo. Consider using only the exported table by importing it instead.\n",
    "\n",
    "In this work, we merged run counts of day and night samples for the microbiome."
   ]
  },
  {
   "cell_type": "code",
   "execution_count": null,
   "metadata": {},
   "outputs": [],
   "source": [
    "\"\"\"\n",
    "import pandas as pd\n",
    "\n",
    "summed_otu_counts = pd.read_csv(\"/home/rsantos/Repositories/maize_microbiome_transcriptomics/16S_wallace2018/combine_day_night_samples/summed_day_night_otu_counts.tsv\",\n",
    "                                sep=\"\\t\")\n",
    "summed_otu_counts.set_index(\"OTU ID\", inplace=True)\n",
    "summed_otu_counts.head()\n",
    "\"\"\""
   ]
  },
  {
   "cell_type": "markdown",
   "metadata": {},
   "source": [
    "Getting run names for day and night samples:"
   ]
  },
  {
   "cell_type": "code",
   "execution_count": null,
   "metadata": {},
   "outputs": [],
   "source": [
    "\"\"\"\n",
    "run_info_day = pd.read_csv(\"/home/rsantos/Repositories/maize_microbiome_transcriptomics/sample_run_information/exp_runs_day_annotation.txt\",\n",
    "                            sep=\"\\t\")\n",
    "run_info_day.set_index(\"RunID\", inplace=True)\n",
    "run_info_night = pd.read_csv(\"/home/rsantos/Repositories/maize_microbiome_transcriptomics/sample_run_information/exp_runs_night_annotation.txt\",\n",
    "                            sep=\"\\t\")\n",
    "run_info_night.set_index(\"RunID\", inplace=True)\n",
    "day_runs = run_info_day['SampleID'].str.replace('_d','').to_list()\n",
    "night_runs = run_info_night['SampleID'].str.replace('_n','').to_list()\n",
    "\"\"\""
   ]
  },
  {
   "cell_type": "code",
   "execution_count": 3,
   "metadata": {},
   "outputs": [],
   "source": [
    "\"\"\"\n",
    "# Filter columns of dataframe based on list\n",
    "summed_otu_counts_day = summed_otu_counts[day_runs]\n",
    "summed_otu_counts_night = summed_otu_counts[night_runs]\n",
    "summed_otu_counts_day.columns = summed_otu_counts_day.columns.str.replace('^','microbiome_day_', regex=True)\n",
    "summed_otu_counts_night.columns = summed_otu_counts_night.columns.str.replace('^','microbiome_night_', regex=True)\n",
    "\"\"\""
   ]
  },
  {
   "cell_type": "markdown",
   "metadata": {},
   "source": [
    "Importing the matrix with microbiome runs with identifiers used in CoNekT Grasses (exporting is no longer done):"
   ]
  },
  {
   "cell_type": "code",
   "execution_count": 31,
   "metadata": {},
   "outputs": [
    {
     "name": "stderr",
     "output_type": "stream",
     "text": [
      "/tmp/ipykernel_120581/2456355149.py:4: DtypeWarning: Columns (0) have mixed types. Specify dtype option on import or set low_memory=False.\n",
      "  summed_otu_counts_separate_day_night = pd.read_csv(\"/home/rsantos/Repositories/maize_microbiome_transcriptomics/16S_wallace2018/combine_day_night_samples/summed_day_night_otu_counts_conekt.tsv\",\n"
     ]
    },
    {
     "data": {
      "text/html": [
       "<div>\n",
       "<style scoped>\n",
       "    .dataframe tbody tr th:only-of-type {\n",
       "        vertical-align: middle;\n",
       "    }\n",
       "\n",
       "    .dataframe tbody tr th {\n",
       "        vertical-align: top;\n",
       "    }\n",
       "\n",
       "    .dataframe thead th {\n",
       "        text-align: right;\n",
       "    }\n",
       "</style>\n",
       "<table border=\"1\" class=\"dataframe\">\n",
       "  <thead>\n",
       "    <tr style=\"text-align: right;\">\n",
       "      <th></th>\n",
       "      <th>microbiome_day_14A0253_26</th>\n",
       "      <th>microbiome_day_14A0171_26</th>\n",
       "      <th>microbiome_day_14A0045_8</th>\n",
       "      <th>microbiome_day_14A0085_8</th>\n",
       "      <th>microbiome_day_14A0079_26</th>\n",
       "      <th>microbiome_day_14A0467_26</th>\n",
       "      <th>microbiome_day_14A0039_8</th>\n",
       "      <th>microbiome_day_14A0403_26</th>\n",
       "      <th>microbiome_day_14A0063_8</th>\n",
       "      <th>microbiome_day_14A0513_26</th>\n",
       "      <th>...</th>\n",
       "      <th>microbiome_night_14A0519_26</th>\n",
       "      <th>microbiome_night_14A0005_8</th>\n",
       "      <th>microbiome_night_14A0027_8</th>\n",
       "      <th>microbiome_night_14A0533_26</th>\n",
       "      <th>microbiome_night_14A0333_26</th>\n",
       "      <th>microbiome_night_14A0473_26</th>\n",
       "      <th>microbiome_night_14A0047_8</th>\n",
       "      <th>microbiome_night_14A0453_26</th>\n",
       "      <th>microbiome_night_14A0345_8</th>\n",
       "      <th>microbiome_night_14A0343_8</th>\n",
       "    </tr>\n",
       "    <tr>\n",
       "      <th>OTU ID</th>\n",
       "      <th></th>\n",
       "      <th></th>\n",
       "      <th></th>\n",
       "      <th></th>\n",
       "      <th></th>\n",
       "      <th></th>\n",
       "      <th></th>\n",
       "      <th></th>\n",
       "      <th></th>\n",
       "      <th></th>\n",
       "      <th></th>\n",
       "      <th></th>\n",
       "      <th></th>\n",
       "      <th></th>\n",
       "      <th></th>\n",
       "      <th></th>\n",
       "      <th></th>\n",
       "      <th></th>\n",
       "      <th></th>\n",
       "      <th></th>\n",
       "      <th></th>\n",
       "    </tr>\n",
       "  </thead>\n",
       "  <tbody>\n",
       "    <tr>\n",
       "      <th>4479944</th>\n",
       "      <td>0.0</td>\n",
       "      <td>0.0</td>\n",
       "      <td>0.0</td>\n",
       "      <td>0.0</td>\n",
       "      <td>0.0</td>\n",
       "      <td>0.0</td>\n",
       "      <td>0.0</td>\n",
       "      <td>0.0</td>\n",
       "      <td>0.0</td>\n",
       "      <td>0.0</td>\n",
       "      <td>...</td>\n",
       "      <td>0.0</td>\n",
       "      <td>0.0</td>\n",
       "      <td>0.0</td>\n",
       "      <td>1.0</td>\n",
       "      <td>0.0</td>\n",
       "      <td>0.0</td>\n",
       "      <td>0.0</td>\n",
       "      <td>0.0</td>\n",
       "      <td>0.0</td>\n",
       "      <td>0.0</td>\n",
       "    </tr>\n",
       "    <tr>\n",
       "      <th>995900</th>\n",
       "      <td>0.0</td>\n",
       "      <td>0.0</td>\n",
       "      <td>0.0</td>\n",
       "      <td>0.0</td>\n",
       "      <td>0.0</td>\n",
       "      <td>0.0</td>\n",
       "      <td>0.0</td>\n",
       "      <td>0.0</td>\n",
       "      <td>0.0</td>\n",
       "      <td>0.0</td>\n",
       "      <td>...</td>\n",
       "      <td>0.0</td>\n",
       "      <td>0.0</td>\n",
       "      <td>0.0</td>\n",
       "      <td>0.0</td>\n",
       "      <td>0.0</td>\n",
       "      <td>0.0</td>\n",
       "      <td>0.0</td>\n",
       "      <td>0.0</td>\n",
       "      <td>0.0</td>\n",
       "      <td>1.0</td>\n",
       "    </tr>\n",
       "    <tr>\n",
       "      <th>1124709</th>\n",
       "      <td>0.0</td>\n",
       "      <td>0.0</td>\n",
       "      <td>0.0</td>\n",
       "      <td>0.0</td>\n",
       "      <td>0.0</td>\n",
       "      <td>0.0</td>\n",
       "      <td>0.0</td>\n",
       "      <td>0.0</td>\n",
       "      <td>0.0</td>\n",
       "      <td>0.0</td>\n",
       "      <td>...</td>\n",
       "      <td>0.0</td>\n",
       "      <td>0.0</td>\n",
       "      <td>0.0</td>\n",
       "      <td>0.0</td>\n",
       "      <td>0.0</td>\n",
       "      <td>0.0</td>\n",
       "      <td>0.0</td>\n",
       "      <td>0.0</td>\n",
       "      <td>0.0</td>\n",
       "      <td>0.0</td>\n",
       "    </tr>\n",
       "    <tr>\n",
       "      <th>541139</th>\n",
       "      <td>0.0</td>\n",
       "      <td>0.0</td>\n",
       "      <td>0.0</td>\n",
       "      <td>0.0</td>\n",
       "      <td>0.0</td>\n",
       "      <td>0.0</td>\n",
       "      <td>0.0</td>\n",
       "      <td>0.0</td>\n",
       "      <td>0.0</td>\n",
       "      <td>0.0</td>\n",
       "      <td>...</td>\n",
       "      <td>0.0</td>\n",
       "      <td>0.0</td>\n",
       "      <td>0.0</td>\n",
       "      <td>0.0</td>\n",
       "      <td>0.0</td>\n",
       "      <td>0.0</td>\n",
       "      <td>0.0</td>\n",
       "      <td>0.0</td>\n",
       "      <td>0.0</td>\n",
       "      <td>0.0</td>\n",
       "    </tr>\n",
       "    <tr>\n",
       "      <th>533625</th>\n",
       "      <td>5.0</td>\n",
       "      <td>3.0</td>\n",
       "      <td>0.0</td>\n",
       "      <td>0.0</td>\n",
       "      <td>0.0</td>\n",
       "      <td>0.0</td>\n",
       "      <td>0.0</td>\n",
       "      <td>8.0</td>\n",
       "      <td>0.0</td>\n",
       "      <td>0.0</td>\n",
       "      <td>...</td>\n",
       "      <td>61.0</td>\n",
       "      <td>0.0</td>\n",
       "      <td>0.0</td>\n",
       "      <td>0.0</td>\n",
       "      <td>4.0</td>\n",
       "      <td>20.0</td>\n",
       "      <td>0.0</td>\n",
       "      <td>10.0</td>\n",
       "      <td>0.0</td>\n",
       "      <td>0.0</td>\n",
       "    </tr>\n",
       "  </tbody>\n",
       "</table>\n",
       "<p>5 rows × 404 columns</p>\n",
       "</div>"
      ],
      "text/plain": [
       "         microbiome_day_14A0253_26  microbiome_day_14A0171_26  \\\n",
       "OTU ID                                                          \n",
       "4479944                        0.0                        0.0   \n",
       "995900                         0.0                        0.0   \n",
       "1124709                        0.0                        0.0   \n",
       "541139                         0.0                        0.0   \n",
       "533625                         5.0                        3.0   \n",
       "\n",
       "         microbiome_day_14A0045_8  microbiome_day_14A0085_8  \\\n",
       "OTU ID                                                        \n",
       "4479944                       0.0                       0.0   \n",
       "995900                        0.0                       0.0   \n",
       "1124709                       0.0                       0.0   \n",
       "541139                        0.0                       0.0   \n",
       "533625                        0.0                       0.0   \n",
       "\n",
       "         microbiome_day_14A0079_26  microbiome_day_14A0467_26  \\\n",
       "OTU ID                                                          \n",
       "4479944                        0.0                        0.0   \n",
       "995900                         0.0                        0.0   \n",
       "1124709                        0.0                        0.0   \n",
       "541139                         0.0                        0.0   \n",
       "533625                         0.0                        0.0   \n",
       "\n",
       "         microbiome_day_14A0039_8  microbiome_day_14A0403_26  \\\n",
       "OTU ID                                                         \n",
       "4479944                       0.0                        0.0   \n",
       "995900                        0.0                        0.0   \n",
       "1124709                       0.0                        0.0   \n",
       "541139                        0.0                        0.0   \n",
       "533625                        0.0                        8.0   \n",
       "\n",
       "         microbiome_day_14A0063_8  microbiome_day_14A0513_26  ...  \\\n",
       "OTU ID                                                        ...   \n",
       "4479944                       0.0                        0.0  ...   \n",
       "995900                        0.0                        0.0  ...   \n",
       "1124709                       0.0                        0.0  ...   \n",
       "541139                        0.0                        0.0  ...   \n",
       "533625                        0.0                        0.0  ...   \n",
       "\n",
       "         microbiome_night_14A0519_26  microbiome_night_14A0005_8  \\\n",
       "OTU ID                                                             \n",
       "4479944                          0.0                         0.0   \n",
       "995900                           0.0                         0.0   \n",
       "1124709                          0.0                         0.0   \n",
       "541139                           0.0                         0.0   \n",
       "533625                          61.0                         0.0   \n",
       "\n",
       "         microbiome_night_14A0027_8  microbiome_night_14A0533_26  \\\n",
       "OTU ID                                                             \n",
       "4479944                         0.0                          1.0   \n",
       "995900                          0.0                          0.0   \n",
       "1124709                         0.0                          0.0   \n",
       "541139                          0.0                          0.0   \n",
       "533625                          0.0                          0.0   \n",
       "\n",
       "         microbiome_night_14A0333_26  microbiome_night_14A0473_26  \\\n",
       "OTU ID                                                              \n",
       "4479944                          0.0                          0.0   \n",
       "995900                           0.0                          0.0   \n",
       "1124709                          0.0                          0.0   \n",
       "541139                           0.0                          0.0   \n",
       "533625                           4.0                         20.0   \n",
       "\n",
       "         microbiome_night_14A0047_8  microbiome_night_14A0453_26  \\\n",
       "OTU ID                                                             \n",
       "4479944                         0.0                          0.0   \n",
       "995900                          0.0                          0.0   \n",
       "1124709                         0.0                          0.0   \n",
       "541139                          0.0                          0.0   \n",
       "533625                          0.0                         10.0   \n",
       "\n",
       "         microbiome_night_14A0345_8  microbiome_night_14A0343_8  \n",
       "OTU ID                                                           \n",
       "4479944                         0.0                         0.0  \n",
       "995900                          0.0                         1.0  \n",
       "1124709                         0.0                         0.0  \n",
       "541139                          0.0                         0.0  \n",
       "533625                          0.0                         0.0  \n",
       "\n",
       "[5 rows x 404 columns]"
      ]
     },
     "execution_count": 31,
     "metadata": {},
     "output_type": "execute_result"
    }
   ],
   "source": [
    "#summed_otu_counts_separate_day_night = pd.concat([summed_otu_counts_day, summed_otu_counts_night], axis=1)\n",
    "#summed_otu_counts_separate_day_night.to_csv(\"/home/rsantos/Repositories/maize_microbiome_transcriptomics/16S_wallace2018/combine_day_night_samples/summed_day_night_otu_counts_conekt.tsv\",\n",
    "#                                            sep=\"\\t\")\n",
    "summed_otu_counts_separate_day_night = pd.read_csv(\"/home/rsantos/Repositories/maize_microbiome_transcriptomics/16S_wallace2018/combine_day_night_samples/summed_day_night_otu_counts_conekt.tsv\",\n",
    "                                                   sep=\"\\t\")\n",
    "summed_otu_counts_separate_day_night.set_index(\"OTU ID\", inplace=True)\n",
    "summed_otu_counts_separate_day_night.head()"
   ]
  },
  {
   "cell_type": "markdown",
   "metadata": {},
   "source": [
    "### Importing expression counts with day and night samples\n",
    "\n"
   ]
  },
  {
   "cell_type": "code",
   "execution_count": 2,
   "metadata": {},
   "outputs": [],
   "source": [
    "import pandas as pd\n",
    "\n",
    "expression_counts_day = pd.read_csv(\"/home/rsantos/Repositories/maize_microbiome_transcriptomics/correlations_rnaseq_metataxonomics/kremling_expression_v5_day.tsv\",\n",
    "                                    sep=\"\\t\")\n",
    "expression_counts_day.set_index(\"Name\", inplace=True)\n",
    "expression_counts_day.columns = expression_counts_day.columns.str.replace('^','exp_day_', regex=True)\n",
    "expression_counts_night = pd.read_csv(\"/home/rsantos/Repositories/maize_microbiome_transcriptomics/correlations_rnaseq_metataxonomics/kremling_expression_v5_night.tsv\",\n",
    "                                    sep=\"\\t\")\n",
    "expression_counts_night.set_index(\"Name\", inplace=True)\n",
    "expression_counts_night.columns = expression_counts_night.columns.str.replace('^','exp_night_', regex=True)"
   ]
  },
  {
   "cell_type": "code",
   "execution_count": 3,
   "metadata": {},
   "outputs": [
    {
     "data": {
      "text/html": [
       "<div>\n",
       "<style scoped>\n",
       "    .dataframe tbody tr th:only-of-type {\n",
       "        vertical-align: middle;\n",
       "    }\n",
       "\n",
       "    .dataframe tbody tr th {\n",
       "        vertical-align: top;\n",
       "    }\n",
       "\n",
       "    .dataframe thead th {\n",
       "        text-align: right;\n",
       "    }\n",
       "</style>\n",
       "<table border=\"1\" class=\"dataframe\">\n",
       "  <thead>\n",
       "    <tr style=\"text-align: right;\">\n",
       "      <th></th>\n",
       "      <th>exp_day_14A0253_26</th>\n",
       "      <th>exp_day_14A0171_26</th>\n",
       "      <th>exp_day_14A0045_8</th>\n",
       "      <th>exp_day_14A0085_8</th>\n",
       "      <th>exp_day_14A0079_26</th>\n",
       "      <th>exp_day_14A0467_26</th>\n",
       "      <th>exp_day_14A0039_8</th>\n",
       "      <th>exp_day_14A0403_26</th>\n",
       "      <th>exp_day_14A0063_8</th>\n",
       "      <th>exp_day_14A0513_26</th>\n",
       "      <th>...</th>\n",
       "      <th>exp_night_14A0519_26</th>\n",
       "      <th>exp_night_14A0005_8</th>\n",
       "      <th>exp_night_14A0027_8</th>\n",
       "      <th>exp_night_14A0533_26</th>\n",
       "      <th>exp_night_14A0333_26</th>\n",
       "      <th>exp_night_14A0473_26</th>\n",
       "      <th>exp_night_14A0047_8</th>\n",
       "      <th>exp_night_14A0453_26</th>\n",
       "      <th>exp_night_14A0345_8</th>\n",
       "      <th>exp_night_14A0343_8</th>\n",
       "    </tr>\n",
       "    <tr>\n",
       "      <th>Name</th>\n",
       "      <th></th>\n",
       "      <th></th>\n",
       "      <th></th>\n",
       "      <th></th>\n",
       "      <th></th>\n",
       "      <th></th>\n",
       "      <th></th>\n",
       "      <th></th>\n",
       "      <th></th>\n",
       "      <th></th>\n",
       "      <th></th>\n",
       "      <th></th>\n",
       "      <th></th>\n",
       "      <th></th>\n",
       "      <th></th>\n",
       "      <th></th>\n",
       "      <th></th>\n",
       "      <th></th>\n",
       "      <th></th>\n",
       "      <th></th>\n",
       "      <th></th>\n",
       "    </tr>\n",
       "  </thead>\n",
       "  <tbody>\n",
       "    <tr>\n",
       "      <th>Zm00001eb371370_T002</th>\n",
       "      <td>2</td>\n",
       "      <td>3</td>\n",
       "      <td>7</td>\n",
       "      <td>7</td>\n",
       "      <td>1</td>\n",
       "      <td>8</td>\n",
       "      <td>7</td>\n",
       "      <td>24</td>\n",
       "      <td>20</td>\n",
       "      <td>4</td>\n",
       "      <td>...</td>\n",
       "      <td>1</td>\n",
       "      <td>0</td>\n",
       "      <td>0</td>\n",
       "      <td>3</td>\n",
       "      <td>1</td>\n",
       "      <td>1</td>\n",
       "      <td>0</td>\n",
       "      <td>0</td>\n",
       "      <td>0</td>\n",
       "      <td>0</td>\n",
       "    </tr>\n",
       "    <tr>\n",
       "      <th>Zm00001eb371350_T001</th>\n",
       "      <td>0</td>\n",
       "      <td>0</td>\n",
       "      <td>0</td>\n",
       "      <td>0</td>\n",
       "      <td>0</td>\n",
       "      <td>0</td>\n",
       "      <td>0</td>\n",
       "      <td>0</td>\n",
       "      <td>0</td>\n",
       "      <td>0</td>\n",
       "      <td>...</td>\n",
       "      <td>0</td>\n",
       "      <td>0</td>\n",
       "      <td>0</td>\n",
       "      <td>0</td>\n",
       "      <td>0</td>\n",
       "      <td>0</td>\n",
       "      <td>0</td>\n",
       "      <td>0</td>\n",
       "      <td>0</td>\n",
       "      <td>0</td>\n",
       "    </tr>\n",
       "    <tr>\n",
       "      <th>Zm00001eb371330_T001</th>\n",
       "      <td>0</td>\n",
       "      <td>0</td>\n",
       "      <td>0</td>\n",
       "      <td>0</td>\n",
       "      <td>0</td>\n",
       "      <td>0</td>\n",
       "      <td>0</td>\n",
       "      <td>0</td>\n",
       "      <td>0</td>\n",
       "      <td>0</td>\n",
       "      <td>...</td>\n",
       "      <td>0</td>\n",
       "      <td>0</td>\n",
       "      <td>0</td>\n",
       "      <td>0</td>\n",
       "      <td>0</td>\n",
       "      <td>0</td>\n",
       "      <td>0</td>\n",
       "      <td>0</td>\n",
       "      <td>0</td>\n",
       "      <td>0</td>\n",
       "    </tr>\n",
       "    <tr>\n",
       "      <th>Zm00001eb371310_T001</th>\n",
       "      <td>0</td>\n",
       "      <td>0</td>\n",
       "      <td>0</td>\n",
       "      <td>0</td>\n",
       "      <td>0</td>\n",
       "      <td>0</td>\n",
       "      <td>0</td>\n",
       "      <td>0</td>\n",
       "      <td>0</td>\n",
       "      <td>0</td>\n",
       "      <td>...</td>\n",
       "      <td>0</td>\n",
       "      <td>0</td>\n",
       "      <td>0</td>\n",
       "      <td>0</td>\n",
       "      <td>0</td>\n",
       "      <td>0</td>\n",
       "      <td>0</td>\n",
       "      <td>0</td>\n",
       "      <td>0</td>\n",
       "      <td>0</td>\n",
       "    </tr>\n",
       "    <tr>\n",
       "      <th>Zm00001eb371280_T001</th>\n",
       "      <td>3</td>\n",
       "      <td>0</td>\n",
       "      <td>6</td>\n",
       "      <td>22</td>\n",
       "      <td>3</td>\n",
       "      <td>9</td>\n",
       "      <td>10</td>\n",
       "      <td>5</td>\n",
       "      <td>8</td>\n",
       "      <td>4</td>\n",
       "      <td>...</td>\n",
       "      <td>3</td>\n",
       "      <td>0</td>\n",
       "      <td>6</td>\n",
       "      <td>0</td>\n",
       "      <td>4</td>\n",
       "      <td>1</td>\n",
       "      <td>4</td>\n",
       "      <td>0</td>\n",
       "      <td>9</td>\n",
       "      <td>4</td>\n",
       "    </tr>\n",
       "  </tbody>\n",
       "</table>\n",
       "<p>5 rows × 404 columns</p>\n",
       "</div>"
      ],
      "text/plain": [
       "                      exp_day_14A0253_26  exp_day_14A0171_26  \\\n",
       "Name                                                           \n",
       "Zm00001eb371370_T002                   2                   3   \n",
       "Zm00001eb371350_T001                   0                   0   \n",
       "Zm00001eb371330_T001                   0                   0   \n",
       "Zm00001eb371310_T001                   0                   0   \n",
       "Zm00001eb371280_T001                   3                   0   \n",
       "\n",
       "                      exp_day_14A0045_8  exp_day_14A0085_8  \\\n",
       "Name                                                         \n",
       "Zm00001eb371370_T002                  7                  7   \n",
       "Zm00001eb371350_T001                  0                  0   \n",
       "Zm00001eb371330_T001                  0                  0   \n",
       "Zm00001eb371310_T001                  0                  0   \n",
       "Zm00001eb371280_T001                  6                 22   \n",
       "\n",
       "                      exp_day_14A0079_26  exp_day_14A0467_26  \\\n",
       "Name                                                           \n",
       "Zm00001eb371370_T002                   1                   8   \n",
       "Zm00001eb371350_T001                   0                   0   \n",
       "Zm00001eb371330_T001                   0                   0   \n",
       "Zm00001eb371310_T001                   0                   0   \n",
       "Zm00001eb371280_T001                   3                   9   \n",
       "\n",
       "                      exp_day_14A0039_8  exp_day_14A0403_26  \\\n",
       "Name                                                          \n",
       "Zm00001eb371370_T002                  7                  24   \n",
       "Zm00001eb371350_T001                  0                   0   \n",
       "Zm00001eb371330_T001                  0                   0   \n",
       "Zm00001eb371310_T001                  0                   0   \n",
       "Zm00001eb371280_T001                 10                   5   \n",
       "\n",
       "                      exp_day_14A0063_8  exp_day_14A0513_26  ...  \\\n",
       "Name                                                         ...   \n",
       "Zm00001eb371370_T002                 20                   4  ...   \n",
       "Zm00001eb371350_T001                  0                   0  ...   \n",
       "Zm00001eb371330_T001                  0                   0  ...   \n",
       "Zm00001eb371310_T001                  0                   0  ...   \n",
       "Zm00001eb371280_T001                  8                   4  ...   \n",
       "\n",
       "                      exp_night_14A0519_26  exp_night_14A0005_8  \\\n",
       "Name                                                              \n",
       "Zm00001eb371370_T002                     1                    0   \n",
       "Zm00001eb371350_T001                     0                    0   \n",
       "Zm00001eb371330_T001                     0                    0   \n",
       "Zm00001eb371310_T001                     0                    0   \n",
       "Zm00001eb371280_T001                     3                    0   \n",
       "\n",
       "                      exp_night_14A0027_8  exp_night_14A0533_26  \\\n",
       "Name                                                              \n",
       "Zm00001eb371370_T002                    0                     3   \n",
       "Zm00001eb371350_T001                    0                     0   \n",
       "Zm00001eb371330_T001                    0                     0   \n",
       "Zm00001eb371310_T001                    0                     0   \n",
       "Zm00001eb371280_T001                    6                     0   \n",
       "\n",
       "                      exp_night_14A0333_26  exp_night_14A0473_26  \\\n",
       "Name                                                               \n",
       "Zm00001eb371370_T002                     1                     1   \n",
       "Zm00001eb371350_T001                     0                     0   \n",
       "Zm00001eb371330_T001                     0                     0   \n",
       "Zm00001eb371310_T001                     0                     0   \n",
       "Zm00001eb371280_T001                     4                     1   \n",
       "\n",
       "                      exp_night_14A0047_8  exp_night_14A0453_26  \\\n",
       "Name                                                              \n",
       "Zm00001eb371370_T002                    0                     0   \n",
       "Zm00001eb371350_T001                    0                     0   \n",
       "Zm00001eb371330_T001                    0                     0   \n",
       "Zm00001eb371310_T001                    0                     0   \n",
       "Zm00001eb371280_T001                    4                     0   \n",
       "\n",
       "                      exp_night_14A0345_8  exp_night_14A0343_8  \n",
       "Name                                                            \n",
       "Zm00001eb371370_T002                    0                    0  \n",
       "Zm00001eb371350_T001                    0                    0  \n",
       "Zm00001eb371330_T001                    0                    0  \n",
       "Zm00001eb371310_T001                    0                    0  \n",
       "Zm00001eb371280_T001                    9                    4  \n",
       "\n",
       "[5 rows x 404 columns]"
      ]
     },
     "execution_count": 3,
     "metadata": {},
     "output_type": "execute_result"
    }
   ],
   "source": [
    "expression_counts_day_night = pd.concat([expression_counts_day,\n",
    "                                         expression_counts_night], axis=1)\n",
    "expression_counts_day_night.head()"
   ]
  },
  {
   "cell_type": "markdown",
   "metadata": {},
   "source": [
    "Exporting the matrix of day and night samples:"
   ]
  },
  {
   "cell_type": "code",
   "execution_count": 4,
   "metadata": {},
   "outputs": [],
   "source": [
    "expression_counts_day_night.to_csv(\"/home/rsantos/Repositories/maize_microbiome_transcriptomics/poster_presentation_notebooks/plant_center_retreat_2024/expression_counts_day_night.tsv\",\n",
    "                                   sep=\"\\t\")"
   ]
  },
  {
   "cell_type": "markdown",
   "metadata": {},
   "source": [
    "## Normalizing data - transcript expression"
   ]
  },
  {
   "cell_type": "markdown",
   "metadata": {},
   "source": [
    "Importing transcript lenghts required in RPKM and TPM normalization methods:"
   ]
  },
  {
   "cell_type": "code",
   "execution_count": 34,
   "metadata": {},
   "outputs": [],
   "source": [
    "gene_length_table = pd.read_csv('/home/rsantos/Repositories/maize_microbiome_transcriptomics/correlations_rnaseq_metataxonomics/Zmays_Zm_B73_REFERENCE_NAM_5_0_55_transcripts_PrimaryTranscriptOnly_length.txt',\n",
    "                               sep=\"\\t\")\n",
    "gene_length_table.set_index('Name', inplace=True)"
   ]
  },
  {
   "cell_type": "markdown",
   "metadata": {},
   "source": [
    "### CPM"
   ]
  },
  {
   "cell_type": "code",
   "execution_count": 35,
   "metadata": {},
   "outputs": [],
   "source": [
    "from bioinfokit.analys import norm\n",
    "\n",
    "# CPM (or RPM, reads per million) normalization\n",
    "# Following Renesh Bedre's blog:\n",
    "# https://www.reneshbedre.com/blog/expression_units.html#rpm-or-cpm-reads-per-million-mapped-reads-or-counts-per-million-mapped-reads-\n",
    "nm = norm()\n",
    "nm.cpm(df=expression_counts_day_night)\n",
    "kremling_expression_v5_cpm = nm.cpm_norm"
   ]
  },
  {
   "cell_type": "markdown",
   "metadata": {},
   "source": [
    "### RPKM"
   ]
  },
  {
   "cell_type": "code",
   "execution_count": 36,
   "metadata": {},
   "outputs": [],
   "source": [
    "from bioinfokit.analys import norm\n",
    "\n",
    "kremling_raw_expression_v5_gene_length = pd.merge(expression_counts_day_night, gene_length_table, on=\"Name\")\n",
    "nm = norm()\n",
    "nm.rpkm(df=kremling_raw_expression_v5_gene_length, gl='Length')\n",
    "kremling_expression_v5_rpkm = nm.rpkm_norm"
   ]
  },
  {
   "cell_type": "markdown",
   "metadata": {},
   "source": [
    "### TPM"
   ]
  },
  {
   "cell_type": "code",
   "execution_count": 37,
   "metadata": {},
   "outputs": [],
   "source": [
    "from bioinfokit.analys import norm\n",
    "\n",
    "nm = norm()\n",
    "nm.tpm(df=kremling_raw_expression_v5_gene_length, gl='Length')\n",
    "kremling_expression_v5_tpm = nm.tpm_norm"
   ]
  },
  {
   "cell_type": "code",
   "execution_count": 38,
   "metadata": {},
   "outputs": [],
   "source": [
    "kremling_expression_v5_tpm.to_csv(\"/home/rsantos/Repositories/maize_microbiome_transcriptomics/poster_presentation_notebooks/plant_center_retreat_2024/kremling_expression_v5_tpm.tsv\",\n",
    "                                                        sep=\"\\t\")"
   ]
  },
  {
   "cell_type": "markdown",
   "metadata": {},
   "source": [
    "## Normalizing data - OTU abundance"
   ]
  },
  {
   "cell_type": "markdown",
   "metadata": {},
   "source": [
    "### CPM"
   ]
  },
  {
   "cell_type": "code",
   "execution_count": 39,
   "metadata": {},
   "outputs": [],
   "source": [
    "from bioinfokit.analys import norm\n",
    "\n",
    "nm = norm()\n",
    "nm.cpm(df=summed_otu_counts_separate_day_night)\n",
    "summed_otu_separate_day_night_cpm = nm.cpm_norm"
   ]
  },
  {
   "cell_type": "code",
   "execution_count": 40,
   "metadata": {},
   "outputs": [],
   "source": [
    "summed_otu_separate_day_night_cpm.to_csv(\"/home/rsantos/Repositories/maize_microbiome_transcriptomics/poster_presentation_notebooks/plant_center_retreat_2024/summed_otu_separate_day_night_cpm.tsv\",\n",
    "                                                        sep=\"\\t\")"
   ]
  },
  {
   "cell_type": "markdown",
   "metadata": {},
   "source": [
    "### Relative abundance"
   ]
  },
  {
   "cell_type": "code",
   "execution_count": 41,
   "metadata": {},
   "outputs": [],
   "source": [
    "summed_otu_separate_day_night_rel_abund = summed_otu_counts_separate_day_night.divide(summed_otu_counts_separate_day_night.sum())\n",
    "summed_otu_separate_day_night_rel_abund = summed_otu_separate_day_night_rel_abund * 100"
   ]
  },
  {
   "cell_type": "markdown",
   "metadata": {},
   "source": [
    "## Filtering expression and OTU data (low abundance and coefficient of variation)"
   ]
  },
  {
   "cell_type": "markdown",
   "metadata": {},
   "source": [
    "### Transcript expression"
   ]
  },
  {
   "cell_type": "markdown",
   "metadata": {},
   "source": [
    "Filter genes based on RPKM values:"
   ]
  },
  {
   "cell_type": "code",
   "execution_count": 42,
   "metadata": {},
   "outputs": [],
   "source": [
    "genes_tokeep = kremling_expression_v5_rpkm[(kremling_expression_v5_rpkm > 3).sum(axis=1) >= (kremling_expression_v5_rpkm.shape[1] * 0.8)].index"
   ]
  },
  {
   "cell_type": "markdown",
   "metadata": {},
   "source": [
    "Filtering all matrices based on RPKM threshold above:"
   ]
  },
  {
   "cell_type": "code",
   "execution_count": 43,
   "metadata": {},
   "outputs": [],
   "source": [
    "expression_counts_day_night_filtered = expression_counts_day_night[expression_counts_day_night.index.isin(genes_tokeep)]\n",
    "kremling_expression_v5_cpm_filtered = kremling_expression_v5_cpm[kremling_expression_v5_cpm.index.isin(genes_tokeep)]\n",
    "kremling_expression_v5_rpkm_filtered = kremling_expression_v5_rpkm[kremling_expression_v5_rpkm.index.isin(genes_tokeep)]\n",
    "kremling_expression_v5_tpm_filtered = kremling_expression_v5_tpm[kremling_expression_v5_tpm.index.isin(genes_tokeep)]"
   ]
  },
  {
   "cell_type": "markdown",
   "metadata": {},
   "source": [
    "Filtering based on coefficient of variation:"
   ]
  },
  {
   "cell_type": "code",
   "execution_count": 44,
   "metadata": {},
   "outputs": [],
   "source": [
    "import numpy as np\n",
    "\n",
    "# Calculate the coefficient of variation for each row\n",
    "expression_counts_day_night_filtered_cv = expression_counts_day_night_filtered.apply(lambda row: np.std(row) / np.mean(row), axis=1)\n",
    "expression_counts_day_night_filtered_cv_filtered = expression_counts_day_night_filtered.loc[expression_counts_day_night_filtered_cv[expression_counts_day_night_filtered_cv > expression_counts_day_night_filtered_cv.quantile(q=0.25)].index]\n",
    "kremling_expression_v5_cpm_filtered_cv = kremling_expression_v5_cpm_filtered.apply(lambda row: np.std(row) / np.mean(row), axis=1)\n",
    "kremling_expression_v5_cpm_filtered_cv_filtered = kremling_expression_v5_cpm_filtered.loc[kremling_expression_v5_cpm_filtered_cv[kremling_expression_v5_cpm_filtered_cv > kremling_expression_v5_cpm_filtered_cv.quantile(q=0.25)].index]\n",
    "kremling_expression_v5_tpm_filtered_cv = kremling_expression_v5_tpm_filtered.apply(lambda row: np.std(row) / np.mean(row), axis=1)\n",
    "kremling_expression_v5_tpm_filtered_cv_filtered = kremling_expression_v5_tpm_filtered.loc[kremling_expression_v5_tpm_filtered_cv[kremling_expression_v5_tpm_filtered_cv > kremling_expression_v5_tpm_filtered_cv.quantile(q=0.25)].index]\n",
    "kremling_expression_v5_rpkm_filtered_cv = kremling_expression_v5_rpkm_filtered.apply(lambda row: np.std(row) / np.mean(row), axis=1)\n",
    "kremling_expression_v5_rpkm_filtered_cv_filtered = kremling_expression_v5_rpkm_filtered.loc[kremling_expression_v5_rpkm_filtered_cv[kremling_expression_v5_rpkm_filtered_cv > kremling_expression_v5_rpkm_filtered_cv.quantile(q=0.25)].index]"
   ]
  },
  {
   "cell_type": "code",
   "execution_count": 49,
   "metadata": {},
   "outputs": [
    {
     "name": "stdout",
     "output_type": "stream",
     "text": [
      "(7201, 404)\n",
      "(7201, 404)\n",
      "(7201, 404)\n",
      "(7201, 404)\n"
     ]
    }
   ],
   "source": [
    "print(expression_counts_day_night_filtered_cv_filtered.shape)\n",
    "print(kremling_expression_v5_cpm_filtered_cv_filtered.shape)\n",
    "print(kremling_expression_v5_tpm_filtered_cv_filtered.shape)\n",
    "print(kremling_expression_v5_rpkm_filtered_cv_filtered.shape)"
   ]
  },
  {
   "cell_type": "markdown",
   "metadata": {},
   "source": [
    "### OTU abundance"
   ]
  },
  {
   "cell_type": "code",
   "execution_count": 45,
   "metadata": {},
   "outputs": [],
   "source": [
    "otus_tokeep = summed_otu_separate_day_night_rel_abund[(summed_otu_separate_day_night_rel_abund > 0.001).sum(axis=1) >= (summed_otu_separate_day_night_rel_abund.shape[1] * 0.5)].index"
   ]
  },
  {
   "cell_type": "code",
   "execution_count": 46,
   "metadata": {},
   "outputs": [],
   "source": [
    "summed_otu_separate_day_night_cpm_filtered = summed_otu_separate_day_night_cpm[summed_otu_separate_day_night_cpm.index.isin(otus_tokeep)]\n",
    "summed_otu_counts_separate_day_night_filtered = summed_otu_counts_separate_day_night[summed_otu_counts_separate_day_night.index.isin(otus_tokeep)]"
   ]
  },
  {
   "cell_type": "code",
   "execution_count": 47,
   "metadata": {},
   "outputs": [],
   "source": [
    "summed_otu_separate_day_night_cpm_filtered_cv = summed_otu_separate_day_night_cpm_filtered.apply(lambda row: np.std(row) / np.mean(row), axis=1)\n",
    "summed_otu_separate_day_night_cpm_filtered_cv_filtered = summed_otu_separate_day_night_cpm_filtered.loc[summed_otu_separate_day_night_cpm_filtered_cv[summed_otu_separate_day_night_cpm_filtered_cv > summed_otu_separate_day_night_cpm_filtered_cv.quantile(q=0.25)].index]\n",
    "summed_otu_counts_separate_day_night_filtered_cv = summed_otu_counts_separate_day_night_filtered.apply(lambda row: np.std(row) / np.mean(row), axis=1)\n",
    "summed_otu_counts_separate_day_night_filtered_cv_filtered = summed_otu_counts_separate_day_night_filtered.loc[summed_otu_counts_separate_day_night_filtered_cv[summed_otu_counts_separate_day_night_filtered_cv > summed_otu_counts_separate_day_night_filtered_cv.quantile(q=0.25)].index]"
   ]
  },
  {
   "cell_type": "code",
   "execution_count": 48,
   "metadata": {},
   "outputs": [
    {
     "name": "stdout",
     "output_type": "stream",
     "text": [
      "(594, 404)\n",
      "(594, 404)\n"
     ]
    }
   ],
   "source": [
    "print(summed_otu_separate_day_night_cpm_filtered_cv_filtered.shape)\n",
    "print(summed_otu_counts_separate_day_night_filtered_cv_filtered.shape)"
   ]
  },
  {
   "cell_type": "markdown",
   "metadata": {},
   "source": [
    "# Exporting data for the Plant Center Retreat Poster"
   ]
  },
  {
   "cell_type": "markdown",
   "metadata": {},
   "source": [
    "## Exporting the whole filtered matrices\n",
    "\n",
    "* TPM and counts for expression\n",
    "* CPM and counts for OTU abundance\n",
    "\n",
    "Notes:\n",
    "\n",
    "* Day and night samples were extracted using R in the SparXCC submission script\n",
    "* Maize subpopulation samples were extracted as shown below"
   ]
  },
  {
   "cell_type": "code",
   "execution_count": 20,
   "metadata": {},
   "outputs": [],
   "source": [
    "kremling_expression_v5_tpm_filtered_cv_filtered.to_csv(\"/home/rsantos/Repositories/maize_microbiome_transcriptomics/poster_presentation_notebooks/plant_center_retreat_2024/kremling_expression_v5_tpm_filtered_cv_filtered.tsv\",\n",
    "                                                        sep=\"\\t\")\n",
    "expression_counts_day_night_filtered_cv_filtered.to_csv(\"/home/rsantos/Repositories/maize_microbiome_transcriptomics/poster_presentation_notebooks/plant_center_retreat_2024/expression_counts_day_night_filtered_cv_filtered.tsv\",\n",
    "                                                        sep=\"\\t\")\n",
    "summed_otu_separate_day_night_cpm_filtered_cv_filtered.to_csv(\"/home/rsantos/Repositories/maize_microbiome_transcriptomics/poster_presentation_notebooks/plant_center_retreat_2024/summed_otu_separate_day_night_cpm_filtered_cv_filtered.tsv\",\n",
    "                                                        sep=\"\\t\")\n",
    "summed_otu_counts_separate_day_night_filtered_cv_filtered.to_csv(\"/home/rsantos/Repositories/maize_microbiome_transcriptomics/poster_presentation_notebooks/plant_center_retreat_2024/summed_otu_counts_separate_day_night_filtered_cv_filtered.tsv\",\n",
    "                                                                 sep=\"\\t\")"
   ]
  },
  {
   "cell_type": "markdown",
   "metadata": {},
   "source": [
    "## Exporting the filtered matrices for maize subpopulations\n"
   ]
  },
  {
   "cell_type": "markdown",
   "metadata": {},
   "source": [
    "These are the frequencies of each maize subpopulation. I (RACS) will consider only groups with 40 or more samples, as they are closer to the minimum sample count used by Jensen in the SparXCC paper."
   ]
  },
  {
   "cell_type": "code",
   "execution_count": 50,
   "metadata": {},
   "outputs": [
    {
     "data": {
      "text/plain": [
       "Subpopulation\n",
       "nss             102\n",
       "mixed            58\n",
       "ts               49\n",
       "ss               40\n",
       "popcorn           9\n",
       "sweet             6\n",
       "landraces         1\n",
       "unclassified      1\n",
       "Name: count, dtype: int64"
      ]
     },
     "execution_count": 50,
     "metadata": {},
     "output_type": "execute_result"
    }
   ],
   "source": [
    "group_assignments_wallace2018['Subpopulation'].value_counts()"
   ]
  },
  {
   "cell_type": "code",
   "execution_count": 72,
   "metadata": {},
   "outputs": [
    {
     "data": {
      "text/plain": [
       "408"
      ]
     },
     "execution_count": 72,
     "metadata": {},
     "output_type": "execute_result"
    }
   ],
   "source": [
    "list_samples_nss = group_assignments_wallace2018[group_assignments_wallace2018[\"Subpopulation\"]==\"nss\"].index.str.replace('14A0','exp_day_14A0').to_list() +\\\n",
    "group_assignments_wallace2018[group_assignments_wallace2018[\"Subpopulation\"]==\"nss\"].index.str.replace('14A0','exp_night_14A0').to_list() +\\\n",
    "group_assignments_wallace2018[group_assignments_wallace2018[\"Subpopulation\"]==\"nss\"].index.str.replace('14A0','microbiome_day_14A0').to_list() +\\\n",
    "group_assignments_wallace2018[group_assignments_wallace2018[\"Subpopulation\"]==\"nss\"].index.str.replace('14A0','microbiome_night_14A0').to_list()\n",
    "len(list_samples_nss)"
   ]
  },
  {
   "cell_type": "code",
   "execution_count": 73,
   "metadata": {},
   "outputs": [
    {
     "data": {
      "text/plain": [
       "232"
      ]
     },
     "execution_count": 73,
     "metadata": {},
     "output_type": "execute_result"
    }
   ],
   "source": [
    "list_samples_mixed = group_assignments_wallace2018[group_assignments_wallace2018[\"Subpopulation\"]==\"mixed\"].index.str.replace('14A0','exp_day_14A0').to_list() +\\\n",
    "group_assignments_wallace2018[group_assignments_wallace2018[\"Subpopulation\"]==\"mixed\"].index.str.replace('14A0','exp_night_14A0').to_list() +\\\n",
    "group_assignments_wallace2018[group_assignments_wallace2018[\"Subpopulation\"]==\"mixed\"].index.str.replace('14A0','microbiome_day_14A0').to_list() +\\\n",
    "group_assignments_wallace2018[group_assignments_wallace2018[\"Subpopulation\"]==\"mixed\"].index.str.replace('14A0','microbiome_night_14A0').to_list()\n",
    "len(list_samples_mixed)"
   ]
  },
  {
   "cell_type": "code",
   "execution_count": 74,
   "metadata": {},
   "outputs": [
    {
     "data": {
      "text/plain": [
       "196"
      ]
     },
     "execution_count": 74,
     "metadata": {},
     "output_type": "execute_result"
    }
   ],
   "source": [
    "list_samples_ts = group_assignments_wallace2018[group_assignments_wallace2018[\"Subpopulation\"]==\"ts\"].index.str.replace('14A0','exp_day_14A0').to_list() +\\\n",
    "group_assignments_wallace2018[group_assignments_wallace2018[\"Subpopulation\"]==\"ts\"].index.str.replace('14A0','exp_night_14A0').to_list() +\\\n",
    "group_assignments_wallace2018[group_assignments_wallace2018[\"Subpopulation\"]==\"ts\"].index.str.replace('14A0','microbiome_day_14A0').to_list() +\\\n",
    "group_assignments_wallace2018[group_assignments_wallace2018[\"Subpopulation\"]==\"ts\"].index.str.replace('14A0','microbiome_night_14A0').to_list()\n",
    "len(list_samples_ts)"
   ]
  },
  {
   "cell_type": "code",
   "execution_count": 75,
   "metadata": {},
   "outputs": [
    {
     "data": {
      "text/plain": [
       "160"
      ]
     },
     "execution_count": 75,
     "metadata": {},
     "output_type": "execute_result"
    }
   ],
   "source": [
    "list_samples_ss = group_assignments_wallace2018[group_assignments_wallace2018[\"Subpopulation\"]==\"ss\"].index.str.replace('14A0','exp_day_14A0').to_list() +\\\n",
    "group_assignments_wallace2018[group_assignments_wallace2018[\"Subpopulation\"]==\"ss\"].index.str.replace('14A0','exp_night_14A0').to_list() +\\\n",
    "group_assignments_wallace2018[group_assignments_wallace2018[\"Subpopulation\"]==\"ss\"].index.str.replace('14A0','microbiome_day_14A0').to_list() +\\\n",
    "group_assignments_wallace2018[group_assignments_wallace2018[\"Subpopulation\"]==\"ss\"].index.str.replace('14A0','microbiome_night_14A0').to_list()\n",
    "len(list_samples_ss)"
   ]
  },
  {
   "cell_type": "markdown",
   "metadata": {},
   "source": [
    "Extracting samples of each maize subpopulation from expression counts and OTU counts dataframe:"
   ]
  },
  {
   "cell_type": "code",
   "execution_count": 80,
   "metadata": {},
   "outputs": [
    {
     "name": "stdout",
     "output_type": "stream",
     "text": [
      "(7201, 145)\n",
      "(7201, 47)\n",
      "(7201, 84)\n",
      "(7201, 89)\n"
     ]
    }
   ],
   "source": [
    "expression_counts_day_night_filtered_cv_filtered_nss = expression_counts_day_night_filtered_cv_filtered.loc[:, list(set(list_samples_nss).intersection(expression_counts_day_night_filtered_cv_filtered.columns))]\n",
    "expression_counts_day_night_filtered_cv_filtered_ss = expression_counts_day_night_filtered_cv_filtered.loc[:, list(set(list_samples_ss).intersection(expression_counts_day_night_filtered_cv_filtered.columns))]\n",
    "expression_counts_day_night_filtered_cv_filtered_ts = expression_counts_day_night_filtered_cv_filtered.loc[:, list(set(list_samples_ts).intersection(expression_counts_day_night_filtered_cv_filtered.columns))]\n",
    "expression_counts_day_night_filtered_cv_filtered_mixed = expression_counts_day_night_filtered_cv_filtered.loc[:, list(set(list_samples_mixed).intersection(expression_counts_day_night_filtered_cv_filtered.columns))]\n",
    "\n",
    "print(expression_counts_day_night_filtered_cv_filtered_nss.shape)\n",
    "print(expression_counts_day_night_filtered_cv_filtered_ss.shape)\n",
    "print(expression_counts_day_night_filtered_cv_filtered_ts.shape)\n",
    "print(expression_counts_day_night_filtered_cv_filtered_mixed.shape)"
   ]
  },
  {
   "cell_type": "code",
   "execution_count": 81,
   "metadata": {},
   "outputs": [
    {
     "name": "stdout",
     "output_type": "stream",
     "text": [
      "(594, 145)\n",
      "(594, 47)\n",
      "(594, 84)\n",
      "(594, 89)\n"
     ]
    }
   ],
   "source": [
    "summed_otu_counts_separate_day_night_filtered_cv_filtered_nss = summed_otu_counts_separate_day_night_filtered_cv_filtered.loc[:, list(set(list_samples_nss).intersection(summed_otu_counts_separate_day_night_filtered_cv_filtered.columns))]\n",
    "summed_otu_counts_separate_day_night_filtered_cv_filtered_ss = summed_otu_counts_separate_day_night_filtered_cv_filtered.loc[:, list(set(list_samples_ss).intersection(summed_otu_counts_separate_day_night_filtered_cv_filtered.columns))]\n",
    "summed_otu_counts_separate_day_night_filtered_cv_filtered_ts = summed_otu_counts_separate_day_night_filtered_cv_filtered.loc[:, list(set(list_samples_ts).intersection(summed_otu_counts_separate_day_night_filtered_cv_filtered.columns))]\n",
    "summed_otu_counts_separate_day_night_filtered_cv_filtered_mixed = summed_otu_counts_separate_day_night_filtered_cv_filtered.loc[:, list(set(list_samples_mixed).intersection(summed_otu_counts_separate_day_night_filtered_cv_filtered.columns))]\n",
    "\n",
    "print(summed_otu_counts_separate_day_night_filtered_cv_filtered_nss.shape)\n",
    "print(summed_otu_counts_separate_day_night_filtered_cv_filtered_ss.shape)\n",
    "print(summed_otu_counts_separate_day_night_filtered_cv_filtered_ts.shape)\n",
    "print(summed_otu_counts_separate_day_night_filtered_cv_filtered_mixed.shape)"
   ]
  },
  {
   "cell_type": "markdown",
   "metadata": {},
   "source": [
    "Exporting the filtered matrices (need to change column names prior to correlations to make columns match between OTU and expression tables):"
   ]
  },
  {
   "cell_type": "code",
   "execution_count": 83,
   "metadata": {},
   "outputs": [],
   "source": [
    "expression_counts_day_night_filtered_cv_filtered_nss.to_csv(\"/home/rsantos/Repositories/maize_microbiome_transcriptomics/poster_presentation_notebooks/plant_center_retreat_2024/expression_counts_day_night_filtered_cv_filtered_nss.tsv\",\n",
    "                                                        sep=\"\\t\")\n",
    "expression_counts_day_night_filtered_cv_filtered_ss.to_csv(\"/home/rsantos/Repositories/maize_microbiome_transcriptomics/poster_presentation_notebooks/plant_center_retreat_2024/expression_counts_day_night_filtered_cv_filtered_ss.tsv\",\n",
    "                                                        sep=\"\\t\")\n",
    "expression_counts_day_night_filtered_cv_filtered_ts.to_csv(\"/home/rsantos/Repositories/maize_microbiome_transcriptomics/poster_presentation_notebooks/plant_center_retreat_2024/expression_counts_day_night_filtered_cv_filtered_ts.tsv\",\n",
    "                                                        sep=\"\\t\")\n",
    "expression_counts_day_night_filtered_cv_filtered_mixed.to_csv(\"/home/rsantos/Repositories/maize_microbiome_transcriptomics/poster_presentation_notebooks/plant_center_retreat_2024/expression_counts_day_night_filtered_cv_filtered_mixed.tsv\",\n",
    "                                                        sep=\"\\t\")\n",
    "\n",
    "summed_otu_counts_separate_day_night_filtered_cv_filtered_nss.to_csv(\"/home/rsantos/Repositories/maize_microbiome_transcriptomics/poster_presentation_notebooks/plant_center_retreat_2024/summed_otu_counts_separate_day_night_filtered_cv_filtered_nss.tsv\",\n",
    "                                                        sep=\"\\t\")\n",
    "summed_otu_counts_separate_day_night_filtered_cv_filtered_ss.to_csv(\"/home/rsantos/Repositories/maize_microbiome_transcriptomics/poster_presentation_notebooks/plant_center_retreat_2024/summed_otu_counts_separate_day_night_filtered_cv_filtered_ss.tsv\",\n",
    "                                                        sep=\"\\t\")\n",
    "summed_otu_counts_separate_day_night_filtered_cv_filtered_ts.to_csv(\"/home/rsantos/Repositories/maize_microbiome_transcriptomics/poster_presentation_notebooks/plant_center_retreat_2024/summed_otu_counts_separate_day_night_filtered_cv_filtered_ts.tsv\",\n",
    "                                                        sep=\"\\t\")\n",
    "summed_otu_counts_separate_day_night_filtered_cv_filtered_mixed.to_csv(\"/home/rsantos/Repositories/maize_microbiome_transcriptomics/poster_presentation_notebooks/plant_center_retreat_2024/summed_otu_counts_separate_day_night_filtered_cv_filtered_mixed.tsv\",\n",
    "                                                        sep=\"\\t\")"
   ]
  }
 ],
 "metadata": {
  "kernelspec": {
   "display_name": ".venv",
   "language": "python",
   "name": "python3"
  },
  "language_info": {
   "codemirror_mode": {
    "name": "ipython",
    "version": 3
   },
   "file_extension": ".py",
   "mimetype": "text/x-python",
   "name": "python",
   "nbconvert_exporter": "python",
   "pygments_lexer": "ipython3",
   "version": "3.10.12"
  }
 },
 "nbformat": 4,
 "nbformat_minor": 2
}
