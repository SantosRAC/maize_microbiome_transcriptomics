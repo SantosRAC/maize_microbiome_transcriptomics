{
 "cells": [
  {
   "cell_type": "markdown",
   "metadata": {},
   "source": [
    "# Description"
   ]
  },
  {
   "cell_type": "markdown",
   "metadata": {},
   "source": [
    "# Pre-processing steps"
   ]
  },
  {
   "cell_type": "markdown",
   "metadata": {},
   "source": [
    "## Importing tables"
   ]
  },
  {
   "cell_type": "markdown",
   "metadata": {},
   "source": [
    "Importing OTU table with day and night runs:"
   ]
  },
  {
   "cell_type": "code",
   "execution_count": 1,
   "metadata": {},
   "outputs": [
    {
     "data": {
      "text/html": [
       "<div>\n",
       "<style scoped>\n",
       "    .dataframe tbody tr th:only-of-type {\n",
       "        vertical-align: middle;\n",
       "    }\n",
       "\n",
       "    .dataframe tbody tr th {\n",
       "        vertical-align: top;\n",
       "    }\n",
       "\n",
       "    .dataframe thead th {\n",
       "        text-align: right;\n",
       "    }\n",
       "</style>\n",
       "<table border=\"1\" class=\"dataframe\">\n",
       "  <thead>\n",
       "    <tr style=\"text-align: right;\">\n",
       "      <th></th>\n",
       "      <th>14A0247_8</th>\n",
       "      <th>14A0051_8</th>\n",
       "      <th>14A0381_26</th>\n",
       "      <th>14A0533_26</th>\n",
       "      <th>14A0281_8</th>\n",
       "      <th>14A0295_8</th>\n",
       "      <th>14A0169_26</th>\n",
       "      <th>14A0069_8</th>\n",
       "      <th>14A0497_26</th>\n",
       "      <th>14A0023_8</th>\n",
       "      <th>...</th>\n",
       "      <th>14A0345_8</th>\n",
       "      <th>14A0267_8</th>\n",
       "      <th>14A0009_8</th>\n",
       "      <th>14A0007_8</th>\n",
       "      <th>14A0093_26</th>\n",
       "      <th>14A0137_26</th>\n",
       "      <th>14A0265_8</th>\n",
       "      <th>14A0155_26</th>\n",
       "      <th>14A0167_26</th>\n",
       "      <th>14A0481_26</th>\n",
       "    </tr>\n",
       "    <tr>\n",
       "      <th>OTU ID</th>\n",
       "      <th></th>\n",
       "      <th></th>\n",
       "      <th></th>\n",
       "      <th></th>\n",
       "      <th></th>\n",
       "      <th></th>\n",
       "      <th></th>\n",
       "      <th></th>\n",
       "      <th></th>\n",
       "      <th></th>\n",
       "      <th></th>\n",
       "      <th></th>\n",
       "      <th></th>\n",
       "      <th></th>\n",
       "      <th></th>\n",
       "      <th></th>\n",
       "      <th></th>\n",
       "      <th></th>\n",
       "      <th></th>\n",
       "      <th></th>\n",
       "      <th></th>\n",
       "    </tr>\n",
       "  </thead>\n",
       "  <tbody>\n",
       "    <tr>\n",
       "      <th>4479944</th>\n",
       "      <td>1.0</td>\n",
       "      <td>2.0</td>\n",
       "      <td>3.0</td>\n",
       "      <td>1.0</td>\n",
       "      <td>0.0</td>\n",
       "      <td>0.0</td>\n",
       "      <td>0.0</td>\n",
       "      <td>0.0</td>\n",
       "      <td>0.0</td>\n",
       "      <td>0.0</td>\n",
       "      <td>...</td>\n",
       "      <td>0.0</td>\n",
       "      <td>0.0</td>\n",
       "      <td>0.0</td>\n",
       "      <td>0.0</td>\n",
       "      <td>0.0</td>\n",
       "      <td>0.0</td>\n",
       "      <td>0.0</td>\n",
       "      <td>0.0</td>\n",
       "      <td>0.0</td>\n",
       "      <td>0.0</td>\n",
       "    </tr>\n",
       "    <tr>\n",
       "      <th>995900</th>\n",
       "      <td>0.0</td>\n",
       "      <td>0.0</td>\n",
       "      <td>0.0</td>\n",
       "      <td>0.0</td>\n",
       "      <td>5.0</td>\n",
       "      <td>8.0</td>\n",
       "      <td>6.0</td>\n",
       "      <td>1.0</td>\n",
       "      <td>1.0</td>\n",
       "      <td>1.0</td>\n",
       "      <td>...</td>\n",
       "      <td>0.0</td>\n",
       "      <td>0.0</td>\n",
       "      <td>0.0</td>\n",
       "      <td>0.0</td>\n",
       "      <td>0.0</td>\n",
       "      <td>0.0</td>\n",
       "      <td>0.0</td>\n",
       "      <td>0.0</td>\n",
       "      <td>0.0</td>\n",
       "      <td>0.0</td>\n",
       "    </tr>\n",
       "    <tr>\n",
       "      <th>1124709</th>\n",
       "      <td>0.0</td>\n",
       "      <td>0.0</td>\n",
       "      <td>0.0</td>\n",
       "      <td>0.0</td>\n",
       "      <td>0.0</td>\n",
       "      <td>0.0</td>\n",
       "      <td>0.0</td>\n",
       "      <td>0.0</td>\n",
       "      <td>0.0</td>\n",
       "      <td>0.0</td>\n",
       "      <td>...</td>\n",
       "      <td>0.0</td>\n",
       "      <td>0.0</td>\n",
       "      <td>0.0</td>\n",
       "      <td>0.0</td>\n",
       "      <td>0.0</td>\n",
       "      <td>0.0</td>\n",
       "      <td>0.0</td>\n",
       "      <td>0.0</td>\n",
       "      <td>0.0</td>\n",
       "      <td>0.0</td>\n",
       "    </tr>\n",
       "    <tr>\n",
       "      <th>541139</th>\n",
       "      <td>0.0</td>\n",
       "      <td>0.0</td>\n",
       "      <td>0.0</td>\n",
       "      <td>0.0</td>\n",
       "      <td>0.0</td>\n",
       "      <td>0.0</td>\n",
       "      <td>0.0</td>\n",
       "      <td>0.0</td>\n",
       "      <td>0.0</td>\n",
       "      <td>0.0</td>\n",
       "      <td>...</td>\n",
       "      <td>0.0</td>\n",
       "      <td>0.0</td>\n",
       "      <td>0.0</td>\n",
       "      <td>0.0</td>\n",
       "      <td>0.0</td>\n",
       "      <td>0.0</td>\n",
       "      <td>0.0</td>\n",
       "      <td>0.0</td>\n",
       "      <td>0.0</td>\n",
       "      <td>0.0</td>\n",
       "    </tr>\n",
       "    <tr>\n",
       "      <th>533625</th>\n",
       "      <td>0.0</td>\n",
       "      <td>1.0</td>\n",
       "      <td>2.0</td>\n",
       "      <td>0.0</td>\n",
       "      <td>0.0</td>\n",
       "      <td>0.0</td>\n",
       "      <td>0.0</td>\n",
       "      <td>0.0</td>\n",
       "      <td>40.0</td>\n",
       "      <td>1.0</td>\n",
       "      <td>...</td>\n",
       "      <td>0.0</td>\n",
       "      <td>0.0</td>\n",
       "      <td>0.0</td>\n",
       "      <td>1.0</td>\n",
       "      <td>0.0</td>\n",
       "      <td>0.0</td>\n",
       "      <td>0.0</td>\n",
       "      <td>2.0</td>\n",
       "      <td>0.0</td>\n",
       "      <td>2.0</td>\n",
       "    </tr>\n",
       "  </tbody>\n",
       "</table>\n",
       "<p>5 rows × 249 columns</p>\n",
       "</div>"
      ],
      "text/plain": [
       "         14A0247_8  14A0051_8  14A0381_26  14A0533_26  14A0281_8  14A0295_8  \\\n",
       "OTU ID                                                                        \n",
       "4479944        1.0        2.0         3.0         1.0        0.0        0.0   \n",
       "995900         0.0        0.0         0.0         0.0        5.0        8.0   \n",
       "1124709        0.0        0.0         0.0         0.0        0.0        0.0   \n",
       "541139         0.0        0.0         0.0         0.0        0.0        0.0   \n",
       "533625         0.0        1.0         2.0         0.0        0.0        0.0   \n",
       "\n",
       "         14A0169_26  14A0069_8  14A0497_26  14A0023_8  ...  14A0345_8  \\\n",
       "OTU ID                                                 ...              \n",
       "4479944         0.0        0.0         0.0        0.0  ...        0.0   \n",
       "995900          6.0        1.0         1.0        1.0  ...        0.0   \n",
       "1124709         0.0        0.0         0.0        0.0  ...        0.0   \n",
       "541139          0.0        0.0         0.0        0.0  ...        0.0   \n",
       "533625          0.0        0.0        40.0        1.0  ...        0.0   \n",
       "\n",
       "         14A0267_8  14A0009_8  14A0007_8  14A0093_26  14A0137_26  14A0265_8  \\\n",
       "OTU ID                                                                        \n",
       "4479944        0.0        0.0        0.0         0.0         0.0        0.0   \n",
       "995900         0.0        0.0        0.0         0.0         0.0        0.0   \n",
       "1124709        0.0        0.0        0.0         0.0         0.0        0.0   \n",
       "541139         0.0        0.0        0.0         0.0         0.0        0.0   \n",
       "533625         0.0        0.0        1.0         0.0         0.0        0.0   \n",
       "\n",
       "         14A0155_26  14A0167_26  14A0481_26  \n",
       "OTU ID                                       \n",
       "4479944         0.0         0.0         0.0  \n",
       "995900          0.0         0.0         0.0  \n",
       "1124709         0.0         0.0         0.0  \n",
       "541139          0.0         0.0         0.0  \n",
       "533625          2.0         0.0         2.0  \n",
       "\n",
       "[5 rows x 249 columns]"
      ]
     },
     "execution_count": 1,
     "metadata": {},
     "output_type": "execute_result"
    }
   ],
   "source": [
    "import pandas as pd\n",
    "\n",
    "summed_otu_counts = pd.read_csv(\"/home/rsantos/Repositories/maize_microbiome_transcriptomics/16S_wallace2018/combine_day_night_samples/summed_day_night_otu_counts.tsv\",\n",
    "                                sep=\"\\t\")\n",
    "summed_otu_counts.set_index(\"OTU ID\", inplace=True)\n",
    "summed_otu_counts.head()"
   ]
  },
  {
   "cell_type": "markdown",
   "metadata": {},
   "source": [
    "Getting run names for day and night samples:"
   ]
  },
  {
   "cell_type": "code",
   "execution_count": 2,
   "metadata": {},
   "outputs": [],
   "source": [
    "run_info_day = pd.read_csv(\"/home/rsantos/Repositories/maize_microbiome_transcriptomics/sample_run_information/exp_runs_day_annotation.txt\",\n",
    "                            sep=\"\\t\")\n",
    "run_info_day.set_index(\"RunID\", inplace=True)\n",
    "run_info_night = pd.read_csv(\"/home/rsantos/Repositories/maize_microbiome_transcriptomics/sample_run_information/exp_runs_night_annotation.txt\",\n",
    "                            sep=\"\\t\")\n",
    "run_info_night.set_index(\"RunID\", inplace=True)\n",
    "day_runs = run_info_day['SampleID'].str.replace('_d','').to_list()\n",
    "night_runs = run_info_night['SampleID'].str.replace('_n','').to_list()"
   ]
  },
  {
   "cell_type": "code",
   "execution_count": 3,
   "metadata": {},
   "outputs": [],
   "source": [
    "# Filter columns of dataframe based on list\n",
    "summed_otu_counts_day = summed_otu_counts[day_runs]\n",
    "summed_otu_counts_night = summed_otu_counts[night_runs]\n",
    "summed_otu_counts_day.columns = summed_otu_counts_day.columns.str.replace('^','microbiome_day_', regex=True)\n",
    "summed_otu_counts_night.columns = summed_otu_counts_night.columns.str.replace('^','microbiome_night_', regex=True)"
   ]
  },
  {
   "cell_type": "markdown",
   "metadata": {},
   "source": [
    "Exporting the matrix with microbiome runs with identifiers used in CoNekT Grasses:"
   ]
  },
  {
   "cell_type": "code",
   "execution_count": 4,
   "metadata": {},
   "outputs": [],
   "source": [
    "summed_otu_counts_separate_day_night = pd.concat([summed_otu_counts_day, summed_otu_counts_night], axis=1)\n",
    "summed_otu_counts_separate_day_night.to_csv(\"/home/rsantos/Repositories/maize_microbiome_transcriptomics/16S_wallace2018/combine_day_night_samples/summed_day_night_otu_counts_conekt.tsv\",\n",
    "                                            sep=\"\\t\")"
   ]
  },
  {
   "cell_type": "markdown",
   "metadata": {},
   "source": [
    "Importing expression count tables for day and night samples:"
   ]
  },
  {
   "cell_type": "code",
   "execution_count": 5,
   "metadata": {},
   "outputs": [],
   "source": [
    "expression_counts_day = pd.read_csv(\"/home/rsantos/Repositories/maize_microbiome_transcriptomics/correlations_rnaseq_metataxonomics/kremling_expression_v5_day.tsv\",\n",
    "                                    sep=\"\\t\")\n",
    "expression_counts_day.set_index(\"Name\", inplace=True)\n",
    "expression_counts_day.columns = expression_counts_day.columns.str.replace('^','exp_day_', regex=True)\n",
    "expression_counts_night = pd.read_csv(\"/home/rsantos/Repositories/maize_microbiome_transcriptomics/correlations_rnaseq_metataxonomics/kremling_expression_v5_night.tsv\",\n",
    "                                    sep=\"\\t\")\n",
    "expression_counts_night.set_index(\"Name\", inplace=True)\n",
    "expression_counts_night.columns = expression_counts_night.columns.str.replace('^','exp_night_', regex=True)"
   ]
  },
  {
   "cell_type": "code",
   "execution_count": 6,
   "metadata": {},
   "outputs": [
    {
     "data": {
      "text/html": [
       "<div>\n",
       "<style scoped>\n",
       "    .dataframe tbody tr th:only-of-type {\n",
       "        vertical-align: middle;\n",
       "    }\n",
       "\n",
       "    .dataframe tbody tr th {\n",
       "        vertical-align: top;\n",
       "    }\n",
       "\n",
       "    .dataframe thead th {\n",
       "        text-align: right;\n",
       "    }\n",
       "</style>\n",
       "<table border=\"1\" class=\"dataframe\">\n",
       "  <thead>\n",
       "    <tr style=\"text-align: right;\">\n",
       "      <th></th>\n",
       "      <th>exp_day_14A0253_26</th>\n",
       "      <th>exp_day_14A0171_26</th>\n",
       "      <th>exp_day_14A0045_8</th>\n",
       "      <th>exp_day_14A0085_8</th>\n",
       "      <th>exp_day_14A0079_26</th>\n",
       "      <th>exp_day_14A0467_26</th>\n",
       "      <th>exp_day_14A0039_8</th>\n",
       "      <th>exp_day_14A0403_26</th>\n",
       "      <th>exp_day_14A0063_8</th>\n",
       "      <th>exp_day_14A0513_26</th>\n",
       "      <th>...</th>\n",
       "      <th>exp_night_14A0519_26</th>\n",
       "      <th>exp_night_14A0005_8</th>\n",
       "      <th>exp_night_14A0027_8</th>\n",
       "      <th>exp_night_14A0533_26</th>\n",
       "      <th>exp_night_14A0333_26</th>\n",
       "      <th>exp_night_14A0473_26</th>\n",
       "      <th>exp_night_14A0047_8</th>\n",
       "      <th>exp_night_14A0453_26</th>\n",
       "      <th>exp_night_14A0345_8</th>\n",
       "      <th>exp_night_14A0343_8</th>\n",
       "    </tr>\n",
       "    <tr>\n",
       "      <th>Name</th>\n",
       "      <th></th>\n",
       "      <th></th>\n",
       "      <th></th>\n",
       "      <th></th>\n",
       "      <th></th>\n",
       "      <th></th>\n",
       "      <th></th>\n",
       "      <th></th>\n",
       "      <th></th>\n",
       "      <th></th>\n",
       "      <th></th>\n",
       "      <th></th>\n",
       "      <th></th>\n",
       "      <th></th>\n",
       "      <th></th>\n",
       "      <th></th>\n",
       "      <th></th>\n",
       "      <th></th>\n",
       "      <th></th>\n",
       "      <th></th>\n",
       "      <th></th>\n",
       "    </tr>\n",
       "  </thead>\n",
       "  <tbody>\n",
       "    <tr>\n",
       "      <th>Zm00001eb371370_T002</th>\n",
       "      <td>2</td>\n",
       "      <td>3</td>\n",
       "      <td>7</td>\n",
       "      <td>7</td>\n",
       "      <td>1</td>\n",
       "      <td>8</td>\n",
       "      <td>7</td>\n",
       "      <td>24</td>\n",
       "      <td>20</td>\n",
       "      <td>4</td>\n",
       "      <td>...</td>\n",
       "      <td>1</td>\n",
       "      <td>0</td>\n",
       "      <td>0</td>\n",
       "      <td>3</td>\n",
       "      <td>1</td>\n",
       "      <td>1</td>\n",
       "      <td>0</td>\n",
       "      <td>0</td>\n",
       "      <td>0</td>\n",
       "      <td>0</td>\n",
       "    </tr>\n",
       "    <tr>\n",
       "      <th>Zm00001eb371350_T001</th>\n",
       "      <td>0</td>\n",
       "      <td>0</td>\n",
       "      <td>0</td>\n",
       "      <td>0</td>\n",
       "      <td>0</td>\n",
       "      <td>0</td>\n",
       "      <td>0</td>\n",
       "      <td>0</td>\n",
       "      <td>0</td>\n",
       "      <td>0</td>\n",
       "      <td>...</td>\n",
       "      <td>0</td>\n",
       "      <td>0</td>\n",
       "      <td>0</td>\n",
       "      <td>0</td>\n",
       "      <td>0</td>\n",
       "      <td>0</td>\n",
       "      <td>0</td>\n",
       "      <td>0</td>\n",
       "      <td>0</td>\n",
       "      <td>0</td>\n",
       "    </tr>\n",
       "    <tr>\n",
       "      <th>Zm00001eb371330_T001</th>\n",
       "      <td>0</td>\n",
       "      <td>0</td>\n",
       "      <td>0</td>\n",
       "      <td>0</td>\n",
       "      <td>0</td>\n",
       "      <td>0</td>\n",
       "      <td>0</td>\n",
       "      <td>0</td>\n",
       "      <td>0</td>\n",
       "      <td>0</td>\n",
       "      <td>...</td>\n",
       "      <td>0</td>\n",
       "      <td>0</td>\n",
       "      <td>0</td>\n",
       "      <td>0</td>\n",
       "      <td>0</td>\n",
       "      <td>0</td>\n",
       "      <td>0</td>\n",
       "      <td>0</td>\n",
       "      <td>0</td>\n",
       "      <td>0</td>\n",
       "    </tr>\n",
       "    <tr>\n",
       "      <th>Zm00001eb371310_T001</th>\n",
       "      <td>0</td>\n",
       "      <td>0</td>\n",
       "      <td>0</td>\n",
       "      <td>0</td>\n",
       "      <td>0</td>\n",
       "      <td>0</td>\n",
       "      <td>0</td>\n",
       "      <td>0</td>\n",
       "      <td>0</td>\n",
       "      <td>0</td>\n",
       "      <td>...</td>\n",
       "      <td>0</td>\n",
       "      <td>0</td>\n",
       "      <td>0</td>\n",
       "      <td>0</td>\n",
       "      <td>0</td>\n",
       "      <td>0</td>\n",
       "      <td>0</td>\n",
       "      <td>0</td>\n",
       "      <td>0</td>\n",
       "      <td>0</td>\n",
       "    </tr>\n",
       "    <tr>\n",
       "      <th>Zm00001eb371280_T001</th>\n",
       "      <td>3</td>\n",
       "      <td>0</td>\n",
       "      <td>6</td>\n",
       "      <td>22</td>\n",
       "      <td>3</td>\n",
       "      <td>9</td>\n",
       "      <td>10</td>\n",
       "      <td>5</td>\n",
       "      <td>8</td>\n",
       "      <td>4</td>\n",
       "      <td>...</td>\n",
       "      <td>3</td>\n",
       "      <td>0</td>\n",
       "      <td>6</td>\n",
       "      <td>0</td>\n",
       "      <td>4</td>\n",
       "      <td>1</td>\n",
       "      <td>4</td>\n",
       "      <td>0</td>\n",
       "      <td>9</td>\n",
       "      <td>4</td>\n",
       "    </tr>\n",
       "  </tbody>\n",
       "</table>\n",
       "<p>5 rows × 404 columns</p>\n",
       "</div>"
      ],
      "text/plain": [
       "                      exp_day_14A0253_26  exp_day_14A0171_26  \\\n",
       "Name                                                           \n",
       "Zm00001eb371370_T002                   2                   3   \n",
       "Zm00001eb371350_T001                   0                   0   \n",
       "Zm00001eb371330_T001                   0                   0   \n",
       "Zm00001eb371310_T001                   0                   0   \n",
       "Zm00001eb371280_T001                   3                   0   \n",
       "\n",
       "                      exp_day_14A0045_8  exp_day_14A0085_8  \\\n",
       "Name                                                         \n",
       "Zm00001eb371370_T002                  7                  7   \n",
       "Zm00001eb371350_T001                  0                  0   \n",
       "Zm00001eb371330_T001                  0                  0   \n",
       "Zm00001eb371310_T001                  0                  0   \n",
       "Zm00001eb371280_T001                  6                 22   \n",
       "\n",
       "                      exp_day_14A0079_26  exp_day_14A0467_26  \\\n",
       "Name                                                           \n",
       "Zm00001eb371370_T002                   1                   8   \n",
       "Zm00001eb371350_T001                   0                   0   \n",
       "Zm00001eb371330_T001                   0                   0   \n",
       "Zm00001eb371310_T001                   0                   0   \n",
       "Zm00001eb371280_T001                   3                   9   \n",
       "\n",
       "                      exp_day_14A0039_8  exp_day_14A0403_26  \\\n",
       "Name                                                          \n",
       "Zm00001eb371370_T002                  7                  24   \n",
       "Zm00001eb371350_T001                  0                   0   \n",
       "Zm00001eb371330_T001                  0                   0   \n",
       "Zm00001eb371310_T001                  0                   0   \n",
       "Zm00001eb371280_T001                 10                   5   \n",
       "\n",
       "                      exp_day_14A0063_8  exp_day_14A0513_26  ...  \\\n",
       "Name                                                         ...   \n",
       "Zm00001eb371370_T002                 20                   4  ...   \n",
       "Zm00001eb371350_T001                  0                   0  ...   \n",
       "Zm00001eb371330_T001                  0                   0  ...   \n",
       "Zm00001eb371310_T001                  0                   0  ...   \n",
       "Zm00001eb371280_T001                  8                   4  ...   \n",
       "\n",
       "                      exp_night_14A0519_26  exp_night_14A0005_8  \\\n",
       "Name                                                              \n",
       "Zm00001eb371370_T002                     1                    0   \n",
       "Zm00001eb371350_T001                     0                    0   \n",
       "Zm00001eb371330_T001                     0                    0   \n",
       "Zm00001eb371310_T001                     0                    0   \n",
       "Zm00001eb371280_T001                     3                    0   \n",
       "\n",
       "                      exp_night_14A0027_8  exp_night_14A0533_26  \\\n",
       "Name                                                              \n",
       "Zm00001eb371370_T002                    0                     3   \n",
       "Zm00001eb371350_T001                    0                     0   \n",
       "Zm00001eb371330_T001                    0                     0   \n",
       "Zm00001eb371310_T001                    0                     0   \n",
       "Zm00001eb371280_T001                    6                     0   \n",
       "\n",
       "                      exp_night_14A0333_26  exp_night_14A0473_26  \\\n",
       "Name                                                               \n",
       "Zm00001eb371370_T002                     1                     1   \n",
       "Zm00001eb371350_T001                     0                     0   \n",
       "Zm00001eb371330_T001                     0                     0   \n",
       "Zm00001eb371310_T001                     0                     0   \n",
       "Zm00001eb371280_T001                     4                     1   \n",
       "\n",
       "                      exp_night_14A0047_8  exp_night_14A0453_26  \\\n",
       "Name                                                              \n",
       "Zm00001eb371370_T002                    0                     0   \n",
       "Zm00001eb371350_T001                    0                     0   \n",
       "Zm00001eb371330_T001                    0                     0   \n",
       "Zm00001eb371310_T001                    0                     0   \n",
       "Zm00001eb371280_T001                    4                     0   \n",
       "\n",
       "                      exp_night_14A0345_8  exp_night_14A0343_8  \n",
       "Name                                                            \n",
       "Zm00001eb371370_T002                    0                    0  \n",
       "Zm00001eb371350_T001                    0                    0  \n",
       "Zm00001eb371330_T001                    0                    0  \n",
       "Zm00001eb371310_T001                    0                    0  \n",
       "Zm00001eb371280_T001                    9                    4  \n",
       "\n",
       "[5 rows x 404 columns]"
      ]
     },
     "execution_count": 6,
     "metadata": {},
     "output_type": "execute_result"
    }
   ],
   "source": [
    "expression_counts_day_night = pd.concat([expression_counts_day,\n",
    "                                         expression_counts_night], axis=1)\n",
    "expression_counts_day_night.head()"
   ]
  },
  {
   "cell_type": "markdown",
   "metadata": {},
   "source": [
    "## Normalizing data - transcript expression"
   ]
  },
  {
   "cell_type": "markdown",
   "metadata": {},
   "source": [
    "Importing transcript lenghts required in RPKM and TPM normalization methods:"
   ]
  },
  {
   "cell_type": "code",
   "execution_count": 7,
   "metadata": {},
   "outputs": [],
   "source": [
    "gene_length_table = pd.read_csv('/home/rsantos/Repositories/maize_microbiome_transcriptomics/correlations_rnaseq_metataxonomics/Zmays_Zm_B73_REFERENCE_NAM_5_0_55_transcripts_PrimaryTranscriptOnly_length.txt',\n",
    "                               sep=\"\\t\")\n",
    "gene_length_table.set_index('Name', inplace=True)"
   ]
  },
  {
   "cell_type": "markdown",
   "metadata": {},
   "source": [
    "### CPM"
   ]
  },
  {
   "cell_type": "code",
   "execution_count": 8,
   "metadata": {},
   "outputs": [],
   "source": [
    "from bioinfokit.analys import norm\n",
    "\n",
    "# CPM (or RPM, reads per million) normalization\n",
    "# Following Renesh Bedre's blog:\n",
    "# https://www.reneshbedre.com/blog/expression_units.html#rpm-or-cpm-reads-per-million-mapped-reads-or-counts-per-million-mapped-reads-\n",
    "nm = norm()\n",
    "nm.cpm(df=expression_counts_day_night)\n",
    "kremling_expression_v5_cpm = nm.cpm_norm"
   ]
  },
  {
   "cell_type": "markdown",
   "metadata": {},
   "source": [
    "### RPKM"
   ]
  },
  {
   "cell_type": "code",
   "execution_count": 9,
   "metadata": {},
   "outputs": [],
   "source": [
    "kremling_raw_expression_v5_gene_length = pd.merge(expression_counts_day_night, gene_length_table, on=\"Name\")\n",
    "nm = norm()\n",
    "nm.rpkm(df=kremling_raw_expression_v5_gene_length, gl='Length')\n",
    "kremling_expression_v5_rpkm = nm.rpkm_norm"
   ]
  },
  {
   "cell_type": "markdown",
   "metadata": {},
   "source": [
    "### TPM"
   ]
  },
  {
   "cell_type": "code",
   "execution_count": 10,
   "metadata": {},
   "outputs": [],
   "source": [
    "nm = norm()\n",
    "nm.tpm(df=kremling_raw_expression_v5_gene_length, gl='Length')\n",
    "kremling_expression_v5_tpm = nm.tpm_norm"
   ]
  },
  {
   "cell_type": "markdown",
   "metadata": {},
   "source": [
    "## Normalizing data - OTU abundance"
   ]
  },
  {
   "cell_type": "markdown",
   "metadata": {},
   "source": [
    "### CPM"
   ]
  },
  {
   "cell_type": "code",
   "execution_count": 11,
   "metadata": {},
   "outputs": [],
   "source": [
    "nm = norm()\n",
    "nm.cpm(df=summed_otu_counts_separate_day_night)\n",
    "summed_otu_separate_day_night_cpm = nm.cpm_norm"
   ]
  },
  {
   "cell_type": "markdown",
   "metadata": {},
   "source": [
    "### Relative abundance"
   ]
  },
  {
   "cell_type": "code",
   "execution_count": 12,
   "metadata": {},
   "outputs": [],
   "source": [
    "summed_otu_separate_day_night_rel_abund = summed_otu_counts_separate_day_night.divide(summed_otu_counts_separate_day_night.sum())\n",
    "summed_otu_separate_day_night_rel_abund = summed_otu_separate_day_night_rel_abund * 100"
   ]
  },
  {
   "cell_type": "markdown",
   "metadata": {},
   "source": [
    "## Filtering expression and OTU data (low abundance and coefficient of variation)"
   ]
  },
  {
   "cell_type": "markdown",
   "metadata": {},
   "source": [
    "### Transcript expression"
   ]
  },
  {
   "cell_type": "markdown",
   "metadata": {},
   "source": [
    "Filter genes based on RPKM values:"
   ]
  },
  {
   "cell_type": "code",
   "execution_count": 13,
   "metadata": {},
   "outputs": [],
   "source": [
    "genes_tokeep = kremling_expression_v5_rpkm[(kremling_expression_v5_rpkm > 3).sum(axis=1) >= (kremling_expression_v5_rpkm.shape[1] * 0.8)].index"
   ]
  },
  {
   "cell_type": "markdown",
   "metadata": {},
   "source": [
    "Filtering all matrices based on RPKM threshold above:"
   ]
  },
  {
   "cell_type": "code",
   "execution_count": 14,
   "metadata": {},
   "outputs": [],
   "source": [
    "expression_counts_day_night_filtered = expression_counts_day_night[expression_counts_day_night.index.isin(genes_tokeep)]\n",
    "kremling_expression_v5_cpm_filtered = kremling_expression_v5_cpm[kremling_expression_v5_cpm.index.isin(genes_tokeep)]\n",
    "kremling_expression_v5_rpkm_filtered = kremling_expression_v5_rpkm[kremling_expression_v5_rpkm.index.isin(genes_tokeep)]\n",
    "kremling_expression_v5_tpm_filtered = kremling_expression_v5_tpm[kremling_expression_v5_tpm.index.isin(genes_tokeep)]"
   ]
  },
  {
   "cell_type": "markdown",
   "metadata": {},
   "source": [
    "Filtering based on coefficient of variation:"
   ]
  },
  {
   "cell_type": "code",
   "execution_count": 15,
   "metadata": {},
   "outputs": [],
   "source": [
    "import numpy as np\n",
    "\n",
    "# Calculate the coefficient of variation for each row\n",
    "expression_counts_day_night_filtered_cv = expression_counts_day_night_filtered.apply(lambda row: np.std(row) / np.mean(row), axis=1)\n",
    "expression_counts_day_night_filtered_cv_filtered = expression_counts_day_night_filtered.loc[expression_counts_day_night_filtered_cv[expression_counts_day_night_filtered_cv > expression_counts_day_night_filtered_cv.quantile(q=0.25)].index]\n",
    "kremling_expression_v5_cpm_filtered_cv = kremling_expression_v5_cpm_filtered.apply(lambda row: np.std(row) / np.mean(row), axis=1)\n",
    "kremling_expression_v5_cpm_filtered_cv_filtered = kremling_expression_v5_cpm_filtered.loc[kremling_expression_v5_cpm_filtered_cv[kremling_expression_v5_cpm_filtered_cv > kremling_expression_v5_cpm_filtered_cv.quantile(q=0.25)].index]\n",
    "kremling_expression_v5_tpm_filtered_cv = kremling_expression_v5_tpm_filtered.apply(lambda row: np.std(row) / np.mean(row), axis=1)\n",
    "kremling_expression_v5_tpm_filtered_cv_filtered = kremling_expression_v5_tpm_filtered.loc[kremling_expression_v5_tpm_filtered_cv[kremling_expression_v5_tpm_filtered_cv > kremling_expression_v5_tpm_filtered_cv.quantile(q=0.25)].index]\n",
    "kremling_expression_v5_rpkm_filtered_cv = kremling_expression_v5_rpkm_filtered.apply(lambda row: np.std(row) / np.mean(row), axis=1)\n",
    "kremling_expression_v5_rpkm_filtered_cv_filtered = kremling_expression_v5_rpkm_filtered.loc[kremling_expression_v5_rpkm_filtered_cv[kremling_expression_v5_rpkm_filtered_cv > kremling_expression_v5_rpkm_filtered_cv.quantile(q=0.25)].index]"
   ]
  },
  {
   "cell_type": "markdown",
   "metadata": {},
   "source": [
    "### OTU abundance"
   ]
  },
  {
   "cell_type": "code",
   "execution_count": 16,
   "metadata": {},
   "outputs": [],
   "source": [
    "otus_tokeep = summed_otu_separate_day_night_rel_abund[(summed_otu_separate_day_night_rel_abund > 0.001).sum(axis=1) >= (summed_otu_separate_day_night_rel_abund.shape[1] * 0.5)].index"
   ]
  },
  {
   "cell_type": "code",
   "execution_count": 17,
   "metadata": {},
   "outputs": [],
   "source": [
    "summed_otu_separate_day_night_cpm_filtered = summed_otu_separate_day_night_cpm[summed_otu_separate_day_night_cpm.index.isin(otus_tokeep)]\n",
    "summed_otu_counts_separate_day_night_filtered = summed_otu_counts_separate_day_night[summed_otu_counts_separate_day_night.index.isin(otus_tokeep)]"
   ]
  },
  {
   "cell_type": "code",
   "execution_count": 18,
   "metadata": {},
   "outputs": [],
   "source": [
    "summed_otu_separate_day_night_cpm_filtered_cv = summed_otu_separate_day_night_cpm_filtered.apply(lambda row: np.std(row) / np.mean(row), axis=1)\n",
    "summed_otu_separate_day_night_cpm_filtered_cv_filtered = summed_otu_separate_day_night_cpm_filtered.loc[summed_otu_separate_day_night_cpm_filtered_cv[summed_otu_separate_day_night_cpm_filtered_cv > summed_otu_separate_day_night_cpm_filtered_cv.quantile(q=0.25)].index]\n",
    "summed_otu_counts_separate_day_night_filtered_cv = summed_otu_counts_separate_day_night_filtered.apply(lambda row: np.std(row) / np.mean(row), axis=1)\n",
    "summed_otu_counts_separate_day_night_filtered_cv_filtered = summed_otu_counts_separate_day_night_filtered.loc[summed_otu_counts_separate_day_night_filtered_cv[summed_otu_counts_separate_day_night_filtered_cv > summed_otu_counts_separate_day_night_filtered_cv.quantile(q=0.25)].index]"
   ]
  },
  {
   "cell_type": "code",
   "execution_count": 19,
   "metadata": {},
   "outputs": [
    {
     "name": "stdout",
     "output_type": "stream",
     "text": [
      "(594, 404)\n",
      "(594, 404)\n"
     ]
    }
   ],
   "source": [
    "print(summed_otu_separate_day_night_cpm_filtered_cv_filtered.shape)\n",
    "print(summed_otu_counts_separate_day_night_filtered_cv_filtered.shape)"
   ]
  },
  {
   "cell_type": "markdown",
   "metadata": {},
   "source": [
    "# Exporting data for the Plant Center Retreat Poster"
   ]
  },
  {
   "cell_type": "code",
   "execution_count": 20,
   "metadata": {},
   "outputs": [],
   "source": [
    "expression_counts_day_night_filtered_cv_filtered.to_csv(\"/home/rsantos/Repositories/maize_microbiome_transcriptomics/poster_presentation_notebooks/plant_center_retreat_2024/expression_counts_day_night_filtered_cv_filtered.tsv\",\n",
    "                                                        sep=\"\\t\")\n",
    "summed_otu_counts_separate_day_night_filtered_cv_filtered.to_csv(\"/home/rsantos/Repositories/maize_microbiome_transcriptomics/poster_presentation_notebooks/plant_center_retreat_2024/summed_otu_counts_separate_day_night_filtered_cv_filtered.tsv\",\n",
    "                                                                 sep=\"\\t\")"
   ]
  }
 ],
 "metadata": {
  "kernelspec": {
   "display_name": ".venv",
   "language": "python",
   "name": "python3"
  },
  "language_info": {
   "codemirror_mode": {
    "name": "ipython",
    "version": 3
   },
   "file_extension": ".py",
   "mimetype": "text/x-python",
   "name": "python",
   "nbconvert_exporter": "python",
   "pygments_lexer": "ipython3",
   "version": "3.10.12"
  }
 },
 "nbformat": 4,
 "nbformat_minor": 2
}
