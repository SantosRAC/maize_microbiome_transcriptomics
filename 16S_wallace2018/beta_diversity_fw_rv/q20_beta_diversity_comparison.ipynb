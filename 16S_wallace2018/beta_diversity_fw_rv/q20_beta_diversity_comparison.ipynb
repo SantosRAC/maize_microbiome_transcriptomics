{
 "cells": [
  {
   "cell_type": "markdown",
   "metadata": {},
   "source": [
    "# Calculating correlations between distance matrices"
   ]
  },
  {
   "cell_type": "code",
   "execution_count": 8,
   "metadata": {},
   "outputs": [],
   "source": [
    "import pandas as pd\n",
    "import mantel"
   ]
  },
  {
   "cell_type": "code",
   "execution_count": 9,
   "metadata": {},
   "outputs": [],
   "source": [
    "fw_weighted_unifrac_matrix_df = pd.read_csv('/media/rsantos/4TB_drive/Projects/UGA_RACS/16S/Qiime2/dada2/as_single_q20/core-metrics-results_q20_fw/weighted_unifrac_distance_matrix/distance-matrix.tsv',\n",
    "sep='\\t', index_col=0)\n",
    "rv_weighted_unifrac_matrix_df = pd.read_csv('/media/rsantos/4TB_drive/Projects/UGA_RACS/16S/Qiime2/dada2/as_single_q20/core-metrics-results_q20_rv/weighted_unifrac_distance_matrix/distance-matrix.tsv',\n",
    "sep='\\t', index_col=0)\n",
    "fw_unweighted_unifrac_matrix_df = pd.read_csv('/media/rsantos/4TB_drive/Projects/UGA_RACS/16S/Qiime2/dada2/as_single_q20/core-metrics-results_q20_fw/unweighted_unifrac_distance_matrix/distance-matrix.tsv',\n",
    "sep='\\t', index_col=0)\n",
    "rv_unweighted_unifrac_matrix_df = pd.read_csv('/media/rsantos/4TB_drive/Projects/UGA_RACS/16S/Qiime2/dada2/as_single_q20/core-metrics-results_q20_rv/unweighted_unifrac_distance_matrix/distance-matrix.tsv',\n",
    "sep='\\t', index_col=0)\n",
    "fw_braycurtis_matrix_df = pd.read_csv('/media/rsantos/4TB_drive/Projects/UGA_RACS/16S/Qiime2/dada2/as_single_q20/core-metrics-results_q20_fw/bray_curtis_distance_matrix/distance-matrix.tsv',\n",
    "sep='\\t', index_col=0)\n",
    "rv_braycurtis_matrix_df = pd.read_csv('/media/rsantos/4TB_drive/Projects/UGA_RACS/16S/Qiime2/dada2/as_single_q20/core-metrics-results_q20_rv/bray_curtis_distance_matrix/distance-matrix.tsv',\n",
    "sep='\\t', index_col=0)"
   ]
  },
  {
   "cell_type": "code",
   "execution_count": 10,
   "metadata": {},
   "outputs": [
    {
     "data": {
      "text/plain": [
       "(465, 465)"
      ]
     },
     "execution_count": 10,
     "metadata": {},
     "output_type": "execute_result"
    }
   ],
   "source": [
    "fw_weighted_unifrac_matrix_df.shape"
   ]
  },
  {
   "cell_type": "code",
   "execution_count": 11,
   "metadata": {},
   "outputs": [
    {
     "data": {
      "text/plain": [
       "(467, 467)"
      ]
     },
     "execution_count": 11,
     "metadata": {},
     "output_type": "execute_result"
    }
   ],
   "source": [
    "rv_weighted_unifrac_matrix_df.shape"
   ]
  },
  {
   "cell_type": "code",
   "execution_count": 12,
   "metadata": {},
   "outputs": [],
   "source": [
    "fw_wunifrac_filtered = fw_weighted_unifrac_matrix_df.loc[list(set(rv_weighted_unifrac_matrix_df.index).intersection(fw_weighted_unifrac_matrix_df.index)),\n",
    "list(set(rv_weighted_unifrac_matrix_df.columns).intersection(fw_weighted_unifrac_matrix_df.columns))]"
   ]
  },
  {
   "cell_type": "code",
   "execution_count": 13,
   "metadata": {},
   "outputs": [],
   "source": [
    "rv_wunifrac_filtered = rv_weighted_unifrac_matrix_df.loc[list(set(rv_weighted_unifrac_matrix_df.index).intersection(fw_weighted_unifrac_matrix_df.index)),\n",
    "list(set(rv_weighted_unifrac_matrix_df.columns).intersection(fw_weighted_unifrac_matrix_df.columns))]"
   ]
  },
  {
   "cell_type": "code",
   "execution_count": 14,
   "metadata": {},
   "outputs": [],
   "source": [
    "result_wunifrac = mantel.test(fw_wunifrac_filtered, rv_wunifrac_filtered, perms=10000,\n",
    "            method='pearson')"
   ]
  },
  {
   "cell_type": "code",
   "execution_count": 15,
   "metadata": {},
   "outputs": [
    {
     "name": "stdout",
     "output_type": "stream",
     "text": [
      "0.9965813231053018\n",
      "0.0001\n",
      "[ 9.96581323e-01 -3.27934858e-03  4.96921913e-03 ...  1.62354883e-03\n",
      " -2.47645583e-03 -4.98269916e-04]\n"
     ]
    }
   ],
   "source": [
    "# Veridical correlation, which is high\n",
    "print(result_wunifrac.r)\n",
    "# Empirical p-value, which is pretty low\n",
    "print(result_wunifrac.p)\n",
    "#Sample correlations\n",
    "print(result_wunifrac.correlations)"
   ]
  },
  {
   "cell_type": "code",
   "execution_count": 16,
   "metadata": {},
   "outputs": [],
   "source": [
    "fw_unwunifrac_filtered = fw_unweighted_unifrac_matrix_df.loc[list(set(rv_unweighted_unifrac_matrix_df.index).intersection(fw_unweighted_unifrac_matrix_df.index)),\n",
    "list(set(rv_unweighted_unifrac_matrix_df.columns).intersection(fw_unweighted_unifrac_matrix_df.columns))]"
   ]
  },
  {
   "cell_type": "code",
   "execution_count": 17,
   "metadata": {},
   "outputs": [],
   "source": [
    "rv_unwunifrac_filtered = rv_unweighted_unifrac_matrix_df.loc[list(set(rv_unweighted_unifrac_matrix_df.index).intersection(fw_unweighted_unifrac_matrix_df.index)),\n",
    "list(set(rv_unweighted_unifrac_matrix_df.columns).intersection(fw_unweighted_unifrac_matrix_df.columns))]"
   ]
  },
  {
   "cell_type": "code",
   "execution_count": 18,
   "metadata": {},
   "outputs": [],
   "source": [
    "result_unwunifrac = mantel.test(fw_unwunifrac_filtered, rv_unwunifrac_filtered, perms=10000,\n",
    "            method='pearson')"
   ]
  },
  {
   "cell_type": "code",
   "execution_count": 19,
   "metadata": {},
   "outputs": [
    {
     "name": "stdout",
     "output_type": "stream",
     "text": [
      "0.6529935799665553\n",
      "0.0001\n",
      "[ 0.65299358 -0.01564511  0.0019162  ...  0.0045681  -0.01070388\n",
      " -0.02420872]\n"
     ]
    }
   ],
   "source": [
    "# Veridical correlation\n",
    "print(result_unwunifrac.r)\n",
    "# Empirical p-value, which is pretty low\n",
    "print(result_unwunifrac.p)\n",
    "#Sample correlations\n",
    "print(result_unwunifrac.correlations)"
   ]
  },
  {
   "cell_type": "code",
   "execution_count": 20,
   "metadata": {},
   "outputs": [],
   "source": [
    "fw_braycurtis_filtered = fw_braycurtis_matrix_df.loc[list(set(rv_braycurtis_matrix_df.index).intersection(fw_braycurtis_matrix_df.index)),\n",
    "list(set(rv_braycurtis_matrix_df.columns).intersection(fw_braycurtis_matrix_df.columns))]"
   ]
  },
  {
   "cell_type": "code",
   "execution_count": 21,
   "metadata": {},
   "outputs": [],
   "source": [
    "rv_braycurtis_filtered = rv_braycurtis_matrix_df.loc[list(set(rv_braycurtis_matrix_df.index).intersection(fw_braycurtis_matrix_df.index)),\n",
    "list(set(rv_braycurtis_matrix_df.columns).intersection(fw_braycurtis_matrix_df.columns))]"
   ]
  },
  {
   "cell_type": "code",
   "execution_count": 22,
   "metadata": {},
   "outputs": [],
   "source": [
    "result_braycurtis = mantel.test(fw_braycurtis_filtered, rv_braycurtis_filtered, perms=10000,\n",
    "            method='pearson')"
   ]
  },
  {
   "cell_type": "code",
   "execution_count": 23,
   "metadata": {},
   "outputs": [
    {
     "name": "stdout",
     "output_type": "stream",
     "text": [
      "0.5073601422379391\n",
      "0.0001\n",
      "[ 0.50736014  0.01968578  0.00066998 ... -0.00409366  0.01320371\n",
      " -0.01224979]\n"
     ]
    }
   ],
   "source": [
    "# Veridical correlation\n",
    "print(result_braycurtis.r)\n",
    "# Empirical p-value, which is pretty low\n",
    "print(result_braycurtis.p)\n",
    "#Sample correlations\n",
    "print(result_braycurtis.correlations)"
   ]
  },
  {
   "cell_type": "code",
   "execution_count": null,
   "metadata": {},
   "outputs": [],
   "source": []
  }
 ],
 "metadata": {
  "kernelspec": {
   "display_name": ".venv",
   "language": "python",
   "name": "python3"
  },
  "language_info": {
   "codemirror_mode": {
    "name": "ipython",
    "version": 3
   },
   "file_extension": ".py",
   "mimetype": "text/x-python",
   "name": "python",
   "nbconvert_exporter": "python",
   "pygments_lexer": "ipython3",
   "version": "3.10.12"
  }
 },
 "nbformat": 4,
 "nbformat_minor": 2
}
