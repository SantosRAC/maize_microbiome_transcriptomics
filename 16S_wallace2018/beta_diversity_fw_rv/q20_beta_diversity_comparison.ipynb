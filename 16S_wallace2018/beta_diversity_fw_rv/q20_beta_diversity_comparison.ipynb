{
 "cells": [
  {
   "cell_type": "markdown",
   "metadata": {},
   "source": [
    "# Calculating correlations between weighted and unweighted Unifrac"
   ]
  },
  {
   "cell_type": "code",
   "execution_count": 53,
   "metadata": {},
   "outputs": [],
   "source": [
    "import pandas as pd\n",
    "import mantel"
   ]
  },
  {
   "cell_type": "code",
   "execution_count": 54,
   "metadata": {},
   "outputs": [],
   "source": [
    "fw_weighted_unifrac_matrix_df = pd.read_csv('/media/rsantos/4TB_drive/Projects/UGA_RACS/16S/Qiime2/dada2/as_single_q20/core-metrics-results_q20_fw/weighted_unifrac_distance_matrix/distance-matrix.tsv',\n",
    "sep='\\t', index_col=0)\n",
    "rv_weighted_unifrac_matrix_df = pd.read_csv('/media/rsantos/4TB_drive/Projects/UGA_RACS/16S/Qiime2/dada2/as_single_q20/core-metrics-results_q20_rv/weighted_unifrac_distance_matrix/distance-matrix.tsv',\n",
    "sep='\\t', index_col=0)\n",
    "fw_unweighted_unifrac_matrix_df = pd.read_csv('/media/rsantos/4TB_drive/Projects/UGA_RACS/16S/Qiime2/dada2/as_single_q20/core-metrics-results_q20_fw/unweighted_unifrac_distance_matrix/distance-matrix.tsv',\n",
    "sep='\\t', index_col=0)\n",
    "rv_unweighted_unifrac_matrix_df = pd.read_csv('/media/rsantos/4TB_drive/Projects/UGA_RACS/16S/Qiime2/dada2/as_single_q20/core-metrics-results_q20_rv/unweighted_unifrac_distance_matrix/distance-matrix.tsv',\n",
    "sep='\\t', index_col=0)"
   ]
  },
  {
   "cell_type": "code",
   "execution_count": 55,
   "metadata": {},
   "outputs": [
    {
     "data": {
      "text/plain": [
       "(465, 465)"
      ]
     },
     "execution_count": 55,
     "metadata": {},
     "output_type": "execute_result"
    }
   ],
   "source": [
    "fw_weighted_unifrac_matrix_df.shape"
   ]
  },
  {
   "cell_type": "code",
   "execution_count": 56,
   "metadata": {},
   "outputs": [
    {
     "data": {
      "text/plain": [
       "(467, 467)"
      ]
     },
     "execution_count": 56,
     "metadata": {},
     "output_type": "execute_result"
    }
   ],
   "source": [
    "rv_weighted_unifrac_matrix_df.shape"
   ]
  },
  {
   "cell_type": "code",
   "execution_count": 57,
   "metadata": {},
   "outputs": [],
   "source": [
    "fw_wunifrac_filtered = fw_weighted_unifrac_matrix_df.loc[list(set(rv_weighted_unifrac_matrix_df.index).intersection(fw_weighted_unifrac_matrix_df.index)),\n",
    "list(set(rv_weighted_unifrac_matrix_df.columns).intersection(fw_weighted_unifrac_matrix_df.columns))]"
   ]
  },
  {
   "cell_type": "code",
   "execution_count": 58,
   "metadata": {},
   "outputs": [],
   "source": [
    "rv_wunifrac_filtered = rv_weighted_unifrac_matrix_df.loc[list(set(rv_weighted_unifrac_matrix_df.index).intersection(fw_weighted_unifrac_matrix_df.index)),\n",
    "list(set(rv_weighted_unifrac_matrix_df.columns).intersection(fw_weighted_unifrac_matrix_df.columns))]"
   ]
  },
  {
   "cell_type": "code",
   "execution_count": 59,
   "metadata": {},
   "outputs": [],
   "source": [
    "result_wunifrac = mantel.test(fw_wunifrac_filtered, rv_wunifrac_filtered, perms=10000,\n",
    "            method='pearson')"
   ]
  },
  {
   "cell_type": "code",
   "execution_count": 60,
   "metadata": {},
   "outputs": [
    {
     "name": "stdout",
     "output_type": "stream",
     "text": [
      "0.9965813231053123\n",
      "0.0001\n",
      "[ 0.99658132 -0.00121326 -0.00271346 ...  0.00447571 -0.00307521\n",
      " -0.00228431]\n"
     ]
    }
   ],
   "source": [
    "# Veridical correlation, which is high\n",
    "print(result_wunifrac.r)\n",
    "# Empirical p-value, which is pretty low\n",
    "print(result_wunifrac.p)\n",
    "#Sample correlations\n",
    "print(result_wunifrac.correlations)"
   ]
  },
  {
   "cell_type": "code",
   "execution_count": 61,
   "metadata": {},
   "outputs": [],
   "source": [
    "fw_unwunifrac_filtered = fw_unweighted_unifrac_matrix_df.loc[list(set(rv_unweighted_unifrac_matrix_df.index).intersection(fw_unweighted_unifrac_matrix_df.index)),\n",
    "list(set(rv_unweighted_unifrac_matrix_df.columns).intersection(fw_unweighted_unifrac_matrix_df.columns))]"
   ]
  },
  {
   "cell_type": "code",
   "execution_count": 62,
   "metadata": {},
   "outputs": [],
   "source": [
    "rv_unwunifrac_filtered = rv_unweighted_unifrac_matrix_df.loc[list(set(rv_unweighted_unifrac_matrix_df.index).intersection(fw_unweighted_unifrac_matrix_df.index)),\n",
    "list(set(rv_unweighted_unifrac_matrix_df.columns).intersection(fw_unweighted_unifrac_matrix_df.columns))]"
   ]
  },
  {
   "cell_type": "code",
   "execution_count": 63,
   "metadata": {},
   "outputs": [],
   "source": [
    "result_unwunifrac = mantel.test(fw_unwunifrac_filtered, rv_unwunifrac_filtered, perms=10000,\n",
    "            method='pearson')"
   ]
  },
  {
   "cell_type": "code",
   "execution_count": 64,
   "metadata": {},
   "outputs": [
    {
     "name": "stdout",
     "output_type": "stream",
     "text": [
      "0.652993579966565\n",
      "0.0001\n",
      "[ 0.65299358 -0.00688944  0.00337053 ... -0.02446502 -0.00452229\n",
      "  0.02042145]\n"
     ]
    }
   ],
   "source": [
    "# Veridical correlation, which is high\n",
    "print(result_unwunifrac.r)\n",
    "# Empirical p-value, which is pretty low\n",
    "print(result_unwunifrac.p)\n",
    "#Sample correlations\n",
    "print(result_unwunifrac.correlations)"
   ]
  }
 ],
 "metadata": {
  "kernelspec": {
   "display_name": ".venv",
   "language": "python",
   "name": "python3"
  },
  "language_info": {
   "codemirror_mode": {
    "name": "ipython",
    "version": 3
   },
   "file_extension": ".py",
   "mimetype": "text/x-python",
   "name": "python",
   "nbconvert_exporter": "python",
   "pygments_lexer": "ipython3",
   "version": "3.10.12"
  }
 },
 "nbformat": 4,
 "nbformat_minor": 2
}
