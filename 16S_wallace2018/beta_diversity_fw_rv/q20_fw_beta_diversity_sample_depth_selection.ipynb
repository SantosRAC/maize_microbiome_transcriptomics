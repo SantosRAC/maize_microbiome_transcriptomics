{
 "cells": [
  {
   "cell_type": "markdown",
   "metadata": {},
   "source": [
    "# Beta-diversity analyses of FW and RV\n",
    "\n",
    "I (RACS) will use beta-diversity analysis to check the differences in community dissimilarity between feature tables generated with forward and reverse reads. \n",
    "\n",
    "Files `q20_fw_feature-table.tsv` and `q20_rv_feature-table.tsv` represent feature tables from the two analyses, using minimum quality of 20 in cutadapt and minimum read lengh of 50bp.\n",
    "\n",
    "## Choosing value for sampling depth\n",
    "\n",
    "Before running the actual diversity metrics computation, a sampling depth must be chosen. I (RACS) followed the guidelines on the Qiime2 [Moving Pictures tutorial](https://docs.qiime2.org/2024.2/tutorials/moving-pictures/)."
   ]
  },
  {
   "cell_type": "code",
   "execution_count": 11,
   "metadata": {},
   "outputs": [
    {
     "data": {
      "text/html": [
       "<div>\n",
       "<style scoped>\n",
       "    .dataframe tbody tr th:only-of-type {\n",
       "        vertical-align: middle;\n",
       "    }\n",
       "\n",
       "    .dataframe tbody tr th {\n",
       "        vertical-align: top;\n",
       "    }\n",
       "\n",
       "    .dataframe thead th {\n",
       "        text-align: right;\n",
       "    }\n",
       "</style>\n",
       "<table border=\"1\" class=\"dataframe\">\n",
       "  <thead>\n",
       "    <tr style=\"text-align: right;\">\n",
       "      <th></th>\n",
       "      <th>SRR6665476</th>\n",
       "      <th>SRR6665477</th>\n",
       "      <th>SRR6665478</th>\n",
       "      <th>SRR6665479</th>\n",
       "      <th>SRR6665480</th>\n",
       "      <th>SRR6665481</th>\n",
       "      <th>SRR6665482</th>\n",
       "      <th>SRR6665483</th>\n",
       "      <th>SRR6665484</th>\n",
       "      <th>SRR6665485</th>\n",
       "      <th>...</th>\n",
       "      <th>SRR6666058</th>\n",
       "      <th>SRR6666059</th>\n",
       "      <th>SRR6666060</th>\n",
       "      <th>SRR6666061</th>\n",
       "      <th>SRR6666062</th>\n",
       "      <th>SRR6666063</th>\n",
       "      <th>SRR6666064</th>\n",
       "      <th>SRR6666065</th>\n",
       "      <th>SRR6666066</th>\n",
       "      <th>SRR6666067</th>\n",
       "    </tr>\n",
       "    <tr>\n",
       "      <th>ASV</th>\n",
       "      <th></th>\n",
       "      <th></th>\n",
       "      <th></th>\n",
       "      <th></th>\n",
       "      <th></th>\n",
       "      <th></th>\n",
       "      <th></th>\n",
       "      <th></th>\n",
       "      <th></th>\n",
       "      <th></th>\n",
       "      <th></th>\n",
       "      <th></th>\n",
       "      <th></th>\n",
       "      <th></th>\n",
       "      <th></th>\n",
       "      <th></th>\n",
       "      <th></th>\n",
       "      <th></th>\n",
       "      <th></th>\n",
       "      <th></th>\n",
       "      <th></th>\n",
       "    </tr>\n",
       "  </thead>\n",
       "  <tbody>\n",
       "    <tr>\n",
       "      <th>bc664ea528899e36452dd37c1f55a48a</th>\n",
       "      <td>47869.0</td>\n",
       "      <td>0.0</td>\n",
       "      <td>0.0</td>\n",
       "      <td>0.0</td>\n",
       "      <td>0.0</td>\n",
       "      <td>0.0</td>\n",
       "      <td>0.0</td>\n",
       "      <td>0.0</td>\n",
       "      <td>0.0</td>\n",
       "      <td>0.0</td>\n",
       "      <td>...</td>\n",
       "      <td>0.0</td>\n",
       "      <td>78028.0</td>\n",
       "      <td>0.0</td>\n",
       "      <td>0.0</td>\n",
       "      <td>0.0</td>\n",
       "      <td>0.0</td>\n",
       "      <td>0.0</td>\n",
       "      <td>58946.0</td>\n",
       "      <td>3868.0</td>\n",
       "      <td>0.0</td>\n",
       "    </tr>\n",
       "    <tr>\n",
       "      <th>232ad9e267688a5d573112b4855bac96</th>\n",
       "      <td>0.0</td>\n",
       "      <td>2727.0</td>\n",
       "      <td>4065.0</td>\n",
       "      <td>27528.0</td>\n",
       "      <td>7244.0</td>\n",
       "      <td>3035.0</td>\n",
       "      <td>2433.0</td>\n",
       "      <td>847.0</td>\n",
       "      <td>2351.0</td>\n",
       "      <td>830.0</td>\n",
       "      <td>...</td>\n",
       "      <td>18215.0</td>\n",
       "      <td>0.0</td>\n",
       "      <td>9866.0</td>\n",
       "      <td>13921.0</td>\n",
       "      <td>29850.0</td>\n",
       "      <td>1713.0</td>\n",
       "      <td>11708.0</td>\n",
       "      <td>0.0</td>\n",
       "      <td>0.0</td>\n",
       "      <td>3469.0</td>\n",
       "    </tr>\n",
       "    <tr>\n",
       "      <th>6967c9a10eff11f751218e759df28ab7</th>\n",
       "      <td>0.0</td>\n",
       "      <td>610.0</td>\n",
       "      <td>4147.0</td>\n",
       "      <td>267.0</td>\n",
       "      <td>6479.0</td>\n",
       "      <td>7206.0</td>\n",
       "      <td>6862.0</td>\n",
       "      <td>7565.0</td>\n",
       "      <td>12271.0</td>\n",
       "      <td>1298.0</td>\n",
       "      <td>...</td>\n",
       "      <td>742.0</td>\n",
       "      <td>0.0</td>\n",
       "      <td>12448.0</td>\n",
       "      <td>225.0</td>\n",
       "      <td>7830.0</td>\n",
       "      <td>47503.0</td>\n",
       "      <td>1241.0</td>\n",
       "      <td>0.0</td>\n",
       "      <td>0.0</td>\n",
       "      <td>920.0</td>\n",
       "    </tr>\n",
       "    <tr>\n",
       "      <th>fa79d5937f424b58a27843dfff8bdcd4</th>\n",
       "      <td>0.0</td>\n",
       "      <td>1837.0</td>\n",
       "      <td>2993.0</td>\n",
       "      <td>18227.0</td>\n",
       "      <td>4525.0</td>\n",
       "      <td>1975.0</td>\n",
       "      <td>1701.0</td>\n",
       "      <td>545.0</td>\n",
       "      <td>1492.0</td>\n",
       "      <td>567.0</td>\n",
       "      <td>...</td>\n",
       "      <td>12277.0</td>\n",
       "      <td>0.0</td>\n",
       "      <td>6519.0</td>\n",
       "      <td>8965.0</td>\n",
       "      <td>22337.0</td>\n",
       "      <td>1113.0</td>\n",
       "      <td>7897.0</td>\n",
       "      <td>0.0</td>\n",
       "      <td>0.0</td>\n",
       "      <td>2223.0</td>\n",
       "    </tr>\n",
       "    <tr>\n",
       "      <th>e6b96dce8fbd261b8836b93b9a1d5e07</th>\n",
       "      <td>0.0</td>\n",
       "      <td>1767.0</td>\n",
       "      <td>3093.0</td>\n",
       "      <td>19988.0</td>\n",
       "      <td>5185.0</td>\n",
       "      <td>2100.0</td>\n",
       "      <td>1768.0</td>\n",
       "      <td>542.0</td>\n",
       "      <td>1485.0</td>\n",
       "      <td>603.0</td>\n",
       "      <td>...</td>\n",
       "      <td>11994.0</td>\n",
       "      <td>0.0</td>\n",
       "      <td>6479.0</td>\n",
       "      <td>9388.0</td>\n",
       "      <td>25538.0</td>\n",
       "      <td>1041.0</td>\n",
       "      <td>7923.0</td>\n",
       "      <td>0.0</td>\n",
       "      <td>0.0</td>\n",
       "      <td>2095.0</td>\n",
       "    </tr>\n",
       "  </tbody>\n",
       "</table>\n",
       "<p>5 rows × 592 columns</p>\n",
       "</div>"
      ],
      "text/plain": [
       "                                  SRR6665476  SRR6665477  SRR6665478  \\\n",
       "ASV                                                                    \n",
       "bc664ea528899e36452dd37c1f55a48a     47869.0         0.0         0.0   \n",
       "232ad9e267688a5d573112b4855bac96         0.0      2727.0      4065.0   \n",
       "6967c9a10eff11f751218e759df28ab7         0.0       610.0      4147.0   \n",
       "fa79d5937f424b58a27843dfff8bdcd4         0.0      1837.0      2993.0   \n",
       "e6b96dce8fbd261b8836b93b9a1d5e07         0.0      1767.0      3093.0   \n",
       "\n",
       "                                  SRR6665479  SRR6665480  SRR6665481  \\\n",
       "ASV                                                                    \n",
       "bc664ea528899e36452dd37c1f55a48a         0.0         0.0         0.0   \n",
       "232ad9e267688a5d573112b4855bac96     27528.0      7244.0      3035.0   \n",
       "6967c9a10eff11f751218e759df28ab7       267.0      6479.0      7206.0   \n",
       "fa79d5937f424b58a27843dfff8bdcd4     18227.0      4525.0      1975.0   \n",
       "e6b96dce8fbd261b8836b93b9a1d5e07     19988.0      5185.0      2100.0   \n",
       "\n",
       "                                  SRR6665482  SRR6665483  SRR6665484  \\\n",
       "ASV                                                                    \n",
       "bc664ea528899e36452dd37c1f55a48a         0.0         0.0         0.0   \n",
       "232ad9e267688a5d573112b4855bac96      2433.0       847.0      2351.0   \n",
       "6967c9a10eff11f751218e759df28ab7      6862.0      7565.0     12271.0   \n",
       "fa79d5937f424b58a27843dfff8bdcd4      1701.0       545.0      1492.0   \n",
       "e6b96dce8fbd261b8836b93b9a1d5e07      1768.0       542.0      1485.0   \n",
       "\n",
       "                                  SRR6665485  ...  SRR6666058  SRR6666059  \\\n",
       "ASV                                           ...                           \n",
       "bc664ea528899e36452dd37c1f55a48a         0.0  ...         0.0     78028.0   \n",
       "232ad9e267688a5d573112b4855bac96       830.0  ...     18215.0         0.0   \n",
       "6967c9a10eff11f751218e759df28ab7      1298.0  ...       742.0         0.0   \n",
       "fa79d5937f424b58a27843dfff8bdcd4       567.0  ...     12277.0         0.0   \n",
       "e6b96dce8fbd261b8836b93b9a1d5e07       603.0  ...     11994.0         0.0   \n",
       "\n",
       "                                  SRR6666060  SRR6666061  SRR6666062  \\\n",
       "ASV                                                                    \n",
       "bc664ea528899e36452dd37c1f55a48a         0.0         0.0         0.0   \n",
       "232ad9e267688a5d573112b4855bac96      9866.0     13921.0     29850.0   \n",
       "6967c9a10eff11f751218e759df28ab7     12448.0       225.0      7830.0   \n",
       "fa79d5937f424b58a27843dfff8bdcd4      6519.0      8965.0     22337.0   \n",
       "e6b96dce8fbd261b8836b93b9a1d5e07      6479.0      9388.0     25538.0   \n",
       "\n",
       "                                  SRR6666063  SRR6666064  SRR6666065  \\\n",
       "ASV                                                                    \n",
       "bc664ea528899e36452dd37c1f55a48a         0.0         0.0     58946.0   \n",
       "232ad9e267688a5d573112b4855bac96      1713.0     11708.0         0.0   \n",
       "6967c9a10eff11f751218e759df28ab7     47503.0      1241.0         0.0   \n",
       "fa79d5937f424b58a27843dfff8bdcd4      1113.0      7897.0         0.0   \n",
       "e6b96dce8fbd261b8836b93b9a1d5e07      1041.0      7923.0         0.0   \n",
       "\n",
       "                                  SRR6666066  SRR6666067  \n",
       "ASV                                                       \n",
       "bc664ea528899e36452dd37c1f55a48a      3868.0         0.0  \n",
       "232ad9e267688a5d573112b4855bac96         0.0      3469.0  \n",
       "6967c9a10eff11f751218e759df28ab7         0.0       920.0  \n",
       "fa79d5937f424b58a27843dfff8bdcd4         0.0      2223.0  \n",
       "e6b96dce8fbd261b8836b93b9a1d5e07         0.0      2095.0  \n",
       "\n",
       "[5 rows x 592 columns]"
      ]
     },
     "execution_count": 11,
     "metadata": {},
     "output_type": "execute_result"
    }
   ],
   "source": [
    "import pandas as pd\n",
    "import matplotlib\n",
    "\n",
    "# Read the table into a dataframe\n",
    "feature_table_fw_df = pd.read_table('q20_fw_feature-table.tsv')\n",
    "\n",
    "# Set the ASV column as the index\n",
    "feature_table_fw_df.set_index('ASV', inplace=True)\n",
    "\n",
    "# Display the dataframe\n",
    "feature_table_fw_df.head()"
   ]
  },
  {
   "cell_type": "code",
   "execution_count": 24,
   "metadata": {},
   "outputs": [
    {
     "data": {
      "text/plain": [
       "SRR6665637    5973582.0\n",
       "SRR6665949    4524392.0\n",
       "SRR6665953    4029447.0\n",
       "SRR6665784    1765712.0\n",
       "SRR6665640    1737741.0\n",
       "SRR6665862    1693573.0\n",
       "SRR6665979    1433476.0\n",
       "SRR6665833    1368391.0\n",
       "SRR6665980    1351522.0\n",
       "SRR6665916    1121746.0\n",
       "SRR6665713    1088866.0\n",
       "SRR6665587    1061684.0\n",
       "SRR6665915    1052466.0\n",
       "SRR6665586     817022.0\n",
       "SRR6665863     768725.0\n",
       "SRR6665708     718285.0\n",
       "SRR6665618     691513.0\n",
       "SRR6665650     676114.0\n",
       "SRR6665613     661171.0\n",
       "SRR6666015     656762.0\n",
       "dtype: float64"
      ]
     },
     "execution_count": 24,
     "metadata": {},
     "output_type": "execute_result"
    }
   ],
   "source": [
    "feature_table_fw_df.sum().sort_values(ascending=False).head(20)"
   ]
  },
  {
   "cell_type": "code",
   "execution_count": 25,
   "metadata": {},
   "outputs": [
    {
     "data": {
      "text/plain": [
       "<Axes: >"
      ]
     },
     "execution_count": 25,
     "metadata": {},
     "output_type": "execute_result"
    },
    {
     "data": {
      "image/png": "[encoded data removed]",
      "text/plain": [
       "<Figure size 500x1500 with 1 Axes>"
      ]
     },
     "metadata": {},
     "output_type": "display_data"
    }
   ],
   "source": [
    "feature_table_fw_df.sum().plot(kind='box', figsize=(5, 15))"
   ]
  },
  {
   "cell_type": "code",
   "execution_count": 44,
   "metadata": {},
   "outputs": [
    {
     "data": {
      "text/plain": [
       "<Axes: >"
      ]
     },
     "execution_count": 44,
     "metadata": {},
     "output_type": "execute_result"
    },
    {
     "data": {
      "image/png": "[encoded data removed]",
      "text/plain": [
       "<Figure size 1000x500 with 1 Axes>"
      ]
     },
     "metadata": {},
     "output_type": "display_data"
    }
   ],
   "source": [
    "feature_table_fw_df.sum().sort_values(ascending=False)[85:].plot(kind='box', figsize=(10, 5))"
   ]
  },
  {
   "cell_type": "code",
   "execution_count": 54,
   "metadata": {},
   "outputs": [],
   "source": [
    "sample_sizes_fw_no_outliers = feature_table_fw_df.sum().sort_values(ascending=False)[85:]"
   ]
  },
  {
   "cell_type": "code",
   "execution_count": 55,
   "metadata": {},
   "outputs": [
    {
     "data": {
      "text/plain": [
       "(507,)"
      ]
     },
     "execution_count": 55,
     "metadata": {},
     "output_type": "execute_result"
    }
   ],
   "source": [
    "sample_sizes_fw_no_outliers.shape"
   ]
  },
  {
   "cell_type": "code",
   "execution_count": 58,
   "metadata": {},
   "outputs": [
    {
     "data": {
      "text/plain": [
       "507"
      ]
     },
     "execution_count": 58,
     "metadata": {},
     "output_type": "execute_result"
    }
   ],
   "source": [
    "len(sample_sizes_fw_no_outliers)"
   ]
  },
  {
   "cell_type": "code",
   "execution_count": 57,
   "metadata": {},
   "outputs": [
    {
     "data": {
      "text/plain": [
       "SRR6665563    232643.0\n",
       "SRR6665736    231455.0\n",
       "SRR6665627    230874.0\n",
       "SRR6665607    228743.0\n",
       "SRR6665925    227618.0\n",
       "dtype: float64"
      ]
     },
     "execution_count": 57,
     "metadata": {},
     "output_type": "execute_result"
    }
   ],
   "source": [
    "sample_sizes_fw_no_outliers.head()"
   ]
  },
  {
   "cell_type": "code",
   "execution_count": 61,
   "metadata": {},
   "outputs": [
    {
     "data": {
      "text/plain": [
       "203.0"
      ]
     },
     "execution_count": 61,
     "metadata": {},
     "output_type": "execute_result"
    }
   ],
   "source": [
    "sample_sizes_fw_no_outliers.iloc[506]\n"
   ]
  },
  {
   "cell_type": "code",
   "execution_count": 71,
   "metadata": {},
   "outputs": [
    {
     "data": {
      "text/plain": [
       "['', '', 0]"
      ]
     },
     "execution_count": 71,
     "metadata": {},
     "output_type": "execute_result"
    }
   ],
   "source": [
    "largest_diff_list = ['','',0]\n",
    "largest_diff_list"
   ]
  },
  {
   "cell_type": "code",
   "execution_count": 79,
   "metadata": {},
   "outputs": [
    {
     "name": "stdout",
     "output_type": "stream",
     "text": [
      "['SRR6665751', 'SRR6665700', 5475.0, 20]\n"
     ]
    }
   ],
   "source": [
    "largest_diff_list = ['','',0,0]\n",
    "\n",
    "for index in range(len(sample_sizes_fw_no_outliers)-1):\n",
    "    if (sample_sizes_fw_no_outliers.iloc[index] - sample_sizes_fw_no_outliers.iloc[index+1]) > largest_diff_list[2]:\n",
    "        largest_diff_list = [sample_sizes_fw_no_outliers.index[index], sample_sizes_fw_no_outliers.index[index+1], sample_sizes_fw_no_outliers.iloc[index] - sample_sizes_fw_no_outliers.iloc[index+1], index]\n",
    "\n",
    "print(largest_diff_list)"
   ]
  },
  {
   "cell_type": "code",
   "execution_count": 80,
   "metadata": {},
   "outputs": [],
   "source": [
    "differences_list = []\n",
    "\n",
    "for index in range(len(sample_sizes_fw_no_outliers)-1):\n",
    "    differences_list.append(sample_sizes_fw_no_outliers.iloc[index] - sample_sizes_fw_no_outliers.iloc[index+1])"
   ]
  },
  {
   "cell_type": "code",
   "execution_count": 77,
   "metadata": {},
   "outputs": [
    {
     "data": {
      "text/plain": [
       "205382.0"
      ]
     },
     "execution_count": 77,
     "metadata": {},
     "output_type": "execute_result"
    }
   ],
   "source": [
    "sample_sizes_fw_no_outliers['SRR6665751'] "
   ]
  },
  {
   "cell_type": "code",
   "execution_count": 78,
   "metadata": {},
   "outputs": [
    {
     "data": {
      "text/plain": [
       "199907.0"
      ]
     },
     "execution_count": 78,
     "metadata": {},
     "output_type": "execute_result"
    }
   ],
   "source": [
    "sample_sizes_fw_no_outliers['SRR6665700']"
   ]
  },
  {
   "cell_type": "code",
   "execution_count": 81,
   "metadata": {},
   "outputs": [
    {
     "data": {
      "image/png": "[encoded data removed]",
      "text/plain": [
       "<Figure size 640x480 with 1 Axes>"
      ]
     },
     "metadata": {},
     "output_type": "display_data"
    }
   ],
   "source": [
    "import matplotlib.pyplot as plt\n",
    "\n",
    "plt.hist(differences_list, bins=10)\n",
    "plt.xlabel('Difference')\n",
    "plt.ylabel('Frequency')\n",
    "plt.title('Histogram of Differences')\n",
    "plt.show()"
   ]
  },
  {
   "cell_type": "code",
   "execution_count": 88,
   "metadata": {},
   "outputs": [
    {
     "name": "stdout",
     "output_type": "stream",
     "text": [
      "['SRR6665584', 'SRR6666024', 4967.0, 71]\n"
     ]
    }
   ],
   "source": [
    "largest_diff_list = ['','',0,0]\n",
    "\n",
    "for index in range(len(sample_sizes_fw_no_outliers)-1):\n",
    "    if (sample_sizes_fw_no_outliers.iloc[index] - sample_sizes_fw_no_outliers.iloc[index+1]) > largest_diff_list[2] and\\\n",
    "        (sample_sizes_fw_no_outliers.iloc[index] - sample_sizes_fw_no_outliers.iloc[index+1]) < 5000:\n",
    "        largest_diff_list = [sample_sizes_fw_no_outliers.index[index], sample_sizes_fw_no_outliers.index[index+1], sample_sizes_fw_no_outliers.iloc[index] - sample_sizes_fw_no_outliers.iloc[index+1], index]\n",
    "\n",
    "print(largest_diff_list)"
   ]
  },
  {
   "cell_type": "code",
   "execution_count": 90,
   "metadata": {},
   "outputs": [
    {
     "data": {
      "text/plain": [
       "15496.0"
      ]
     },
     "execution_count": 90,
     "metadata": {},
     "output_type": "execute_result"
    }
   ],
   "source": [
    "lower_quartile = sample_sizes_fw_no_outliers.quantile(0.25)\n",
    "lower_quartile"
   ]
  },
  {
   "cell_type": "code",
   "execution_count": 93,
   "metadata": {},
   "outputs": [],
   "source": [
    "filtered_series = sample_sizes_fw_no_outliers[sample_sizes_fw_no_outliers > 15496.0]\n"
   ]
  },
  {
   "cell_type": "code",
   "execution_count": 97,
   "metadata": {},
   "outputs": [
    {
     "data": {
      "image/png": "[encoded data removed]",
      "text/plain": [
       "<Figure size 640x480 with 1 Axes>"
      ]
     },
     "metadata": {},
     "output_type": "display_data"
    }
   ],
   "source": [
    "import matplotlib.pyplot as plt\n",
    "\n",
    "plt.hist(sample_sizes_fw_no_outliers, bins=100)\n",
    "plt.xlabel('Difference')\n",
    "plt.ylabel('Frequency')\n",
    "plt.title('Histogram of Differences')\n",
    "plt.show()"
   ]
  },
  {
   "cell_type": "code",
   "execution_count": 94,
   "metadata": {},
   "outputs": [
    {
     "data": {
      "text/plain": [
       "380"
      ]
     },
     "execution_count": 94,
     "metadata": {},
     "output_type": "execute_result"
    }
   ],
   "source": [
    "len(filtered_series)"
   ]
  },
  {
   "cell_type": "code",
   "execution_count": 98,
   "metadata": {},
   "outputs": [
    {
     "data": {
      "image/png": "[encoded data removed]",
      "text/plain": [
       "<Figure size 640x480 with 1 Axes>"
      ]
     },
     "metadata": {},
     "output_type": "display_data"
    }
   ],
   "source": [
    "import matplotlib.pyplot as plt\n",
    "\n",
    "plt.hist(filtered_series, bins=100)\n",
    "plt.xlabel('Difference')\n",
    "plt.ylabel('Frequency')\n",
    "plt.title('Histogram of Differences')\n",
    "plt.show()"
   ]
  },
  {
   "cell_type": "markdown",
   "metadata": {},
   "source": [
    "Based on this initial data analysis, I (RACS) will use 15496 (lower quartile after filtering out outliers - samples with very high size) as the sampling depth."
   ]
  }
 ],
 "metadata": {
  "kernelspec": {
   "display_name": ".venv",
   "language": "python",
   "name": "python3"
  },
  "language_info": {
   "codemirror_mode": {
    "name": "ipython",
    "version": 3
   },
   "file_extension": ".py",
   "mimetype": "text/x-python",
   "name": "python",
   "nbconvert_exporter": "python",
   "pygments_lexer": "ipython3",
   "version": "3.10.12"
  }
 },
 "nbformat": 4,
 "nbformat_minor": 2
}
